{
 "cells": [
  {
   "cell_type": "code",
   "execution_count": 23,
   "id": "7b2eb9d7",
   "metadata": {
    "ExecuteTime": {
     "end_time": "2022-06-08T17:46:52.184356Z",
     "start_time": "2022-06-08T17:46:52.163871Z"
    }
   },
   "outputs": [],
   "source": [
    "import pandas as pnd  \n",
    "import numpy as nmp  \n",
    "import pickle as pkl  \n",
    "import streamlit as smt\n",
    "from PIL import Image as img  "
   ]
  },
  {
   "cell_type": "code",
   "execution_count": 24,
   "id": "3fdf6ec0",
   "metadata": {
    "ExecuteTime": {
     "end_time": "2022-06-08T17:46:52.364956Z",
     "start_time": "2022-06-08T17:46:52.348386Z"
    }
   },
   "outputs": [],
   "source": [
    "pickle_in = open('pipe.pkl', 'rb')\n",
    "classifier = pkl.load(pickle_in)"
   ]
  },
  {
   "cell_type": "code",
   "execution_count": 32,
   "id": "94c3320e",
   "metadata": {
    "ExecuteTime": {
     "end_time": "2022-06-08T17:58:57.996330Z",
     "start_time": "2022-06-08T17:58:57.952107Z"
    }
   },
   "outputs": [],
   "source": [
    "def welcome():  \n",
    "    return 'welcome you all'  \n",
    "    \n",
    "\n",
    "def prediction(Gender,Age,EstimatedSalary):    \n",
    "     \n",
    "    prediction = classifier.predict(  \n",
    "        [[Gender,Age,EstimatedSalary]])  \n",
    "    print(prediction)  \n",
    "    return prediction  \n",
    "        \n",
    "    \n",
    "def main():  \n",
    " \n",
    "    smt.title(\"Product Purchase Prediction\")  \n",
    "        \n",
    "    html_temp = \"\"\"  \n",
    "    <div style = \"background-colour: #FFFF00; padding: 16px\">  \n",
    "    <h1 style = \"color: #000000; text-align: centre; \"> Streamlit Iris Flower Classifier ML App   \n",
    "     </h1>  \n",
    "    </div>  \n",
    "    \"\"\"  \n",
    "        \n",
    "    smt.markdown(html_temp, unsafe_allow_html = True)  \n",
    "    Gender = smt.selectbox(\"Gender\", ['Male','Female'], index= 0)\n",
    "    Age = smt.text_input(\"Age\")\n",
    "    EstimatedSalary = smt.text_input(\"Salary\")\n",
    "    result = \" \"  \n",
    "    \n",
    "\n",
    "    if smt.button(\"Predict\"): \n",
    "        if prediction(Gender,Age,EstimatedSalary) == 0:\n",
    "            smt.success('Will not Purchase')\n",
    "        else:\n",
    "            smt.success('Will Purchase')\n",
    "            \n",
    "    \n",
    "    \n",
    "if __name__== '__main__':  \n",
    "    main()  "
   ]
  },
  {
   "cell_type": "code",
   "execution_count": null,
   "id": "6447580b",
   "metadata": {},
   "outputs": [],
   "source": []
  },
  {
   "cell_type": "code",
   "execution_count": null,
   "id": "b1446514",
   "metadata": {},
   "outputs": [],
   "source": []
  },
  {
   "cell_type": "code",
   "execution_count": null,
   "id": "d2b77008",
   "metadata": {},
   "outputs": [],
   "source": []
  }
 ],
 "metadata": {
  "kernelspec": {
   "display_name": "Python 3 (ipykernel)",
   "language": "python",
   "name": "python3"
  },
  "language_info": {
   "codemirror_mode": {
    "name": "ipython",
    "version": 3
   },
   "file_extension": ".py",
   "mimetype": "text/x-python",
   "name": "python",
   "nbconvert_exporter": "python",
   "pygments_lexer": "ipython3",
   "version": "3.8.10"
  },
  "toc": {
   "base_numbering": 1,
   "nav_menu": {},
   "number_sections": true,
   "sideBar": true,
   "skip_h1_title": false,
   "title_cell": "Table of Contents",
   "title_sidebar": "Contents",
   "toc_cell": false,
   "toc_position": {},
   "toc_section_display": true,
   "toc_window_display": false
  }
 },
 "nbformat": 4,
 "nbformat_minor": 5
}
