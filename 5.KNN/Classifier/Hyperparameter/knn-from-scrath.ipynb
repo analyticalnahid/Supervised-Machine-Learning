{
 "cells": [
  {
   "cell_type": "code",
   "execution_count": 1,
   "id": "fa82433c",
   "metadata": {
    "ExecuteTime": {
     "end_time": "2022-06-09T14:21:25.424166Z",
     "start_time": "2022-06-09T14:21:24.402976Z"
    }
   },
   "outputs": [],
   "source": [
    "import pandas as pd\n",
    "import numpy as np\n",
    "import matplotlib.pyplot as plt\n",
    "import operator\n",
    "from collections import Counter"
   ]
  },
  {
   "cell_type": "code",
   "execution_count": 2,
   "id": "c0be3df9",
   "metadata": {
    "ExecuteTime": {
     "end_time": "2022-06-09T14:21:25.433517Z",
     "start_time": "2022-06-09T14:21:25.426356Z"
    }
   },
   "outputs": [],
   "source": [
    "df = pd.read_csv('Social_Network_Ads.csv')"
   ]
  },
  {
   "cell_type": "code",
   "execution_count": 3,
   "id": "eaf29b47",
   "metadata": {
    "ExecuteTime": {
     "end_time": "2022-06-09T14:21:25.440765Z",
     "start_time": "2022-06-09T14:21:25.435830Z"
    }
   },
   "outputs": [],
   "source": [
    "X = df.iloc[:,2:4]\n",
    "y = df.iloc[:,-1]"
   ]
  },
  {
   "cell_type": "code",
   "execution_count": 4,
   "id": "0f092edc",
   "metadata": {
    "ExecuteTime": {
     "end_time": "2022-06-09T14:21:26.346352Z",
     "start_time": "2022-06-09T14:21:25.918320Z"
    }
   },
   "outputs": [],
   "source": [
    "from sklearn.model_selection import train_test_split\n",
    "X_train,X_test,y_train,y_test = train_test_split(X,y, test_size=0.2)"
   ]
  },
  {
   "cell_type": "code",
   "execution_count": 5,
   "id": "f18d8913",
   "metadata": {
    "ExecuteTime": {
     "end_time": "2022-06-09T14:21:26.357603Z",
     "start_time": "2022-06-09T14:21:26.348723Z"
    }
   },
   "outputs": [],
   "source": [
    "from sklearn.preprocessing import StandardScaler\n",
    "scaler = StandardScaler()\n",
    "\n",
    "X_train = scaler.fit_transform(X_train)\n",
    "X_test = scaler.transform(X_test)"
   ]
  },
  {
   "cell_type": "code",
   "execution_count": 6,
   "id": "71b07722",
   "metadata": {
    "ExecuteTime": {
     "end_time": "2022-06-09T14:21:26.389817Z",
     "start_time": "2022-06-09T14:21:26.381183Z"
    }
   },
   "outputs": [],
   "source": [
    "### KNN Class From Scratch\n",
    "class KNN:\n",
    "    def __init__(self,k):\n",
    "        self.k= k\n",
    "        \n",
    "    def fit(self,X_train,y_train):\n",
    "        self.X_train= X_train\n",
    "        self.y_train= y_train\n",
    "        print(\"Training Done\")\n",
    "        \n",
    "    def predict(self,X_test):\n",
    "        \n",
    "        distance={}\n",
    "        counter=1\n",
    "        \n",
    "        for i in self.X_train:\n",
    "            distance[counter] = ((X_test[0][0]-i[0])**2 + (X_test[0][1]-i[1])**2)**1/2\n",
    "            counter = counter + 1                     \n",
    "                                 \n",
    "        distance = sorted(distance.items(), key = operator.itemgetter(1))   \n",
    "        self.classify(distance= distance[:self.k])                         \n",
    "                                 \n",
    "    \n",
    "    def classify(self,distance):\n",
    "        \n",
    "        label = []\n",
    "                                 \n",
    "        for i in distance:\n",
    "            label.append(self.y_train[i[0]])     \n",
    "                                 \n",
    "        return Counter(label).most_common()[0][0]                      \n",
    "                                 "
   ]
  },
  {
   "cell_type": "code",
   "execution_count": 7,
   "id": "34e7ddd9",
   "metadata": {
    "ExecuteTime": {
     "end_time": "2022-06-09T14:21:27.101999Z",
     "start_time": "2022-06-09T14:21:27.092505Z"
    }
   },
   "outputs": [
    {
     "name": "stdout",
     "output_type": "stream",
     "text": [
      "Training Done\n"
     ]
    }
   ],
   "source": [
    "knn = KNN(k=3)\n",
    "knn.fit(X_train,y_train)"
   ]
  },
  {
   "cell_type": "code",
   "execution_count": 8,
   "id": "eecdd337",
   "metadata": {
    "ExecuteTime": {
     "end_time": "2022-06-09T14:21:27.683935Z",
     "start_time": "2022-06-09T14:21:27.660840Z"
    }
   },
   "outputs": [],
   "source": [
    "## Prediciting The Result\n",
    "\n",
    "def predict_new():\n",
    "    age = int(input(\"Enter Your Age: \"))\n",
    "    salary = int(input(\"Enter Your Salary: \"))\n",
    "    \n",
    "    X_new = np.array([[age],[salary]]).reshape(1,2)\n",
    "    X_new = scaler.transform(X_new)\n",
    "    \n",
    "    result = knn.predict(X_new)\n",
    "    \n",
    "    if result==0:\n",
    "        print(\"Will not purchase\")\n",
    "    else:\n",
    "        print(\"Will purchase\")\n",
    "              "
   ]
  },
  {
   "cell_type": "code",
   "execution_count": 9,
   "id": "03e2cc00",
   "metadata": {
    "ExecuteTime": {
     "end_time": "2022-06-09T14:21:34.487546Z",
     "start_time": "2022-06-09T14:21:28.407796Z"
    }
   },
   "outputs": [
    {
     "name": "stdout",
     "output_type": "stream",
     "text": [
      "Enter Your Age: 34\n",
      "Enter Your Salary: 567336547\n",
      "Will purchase\n"
     ]
    },
    {
     "name": "stderr",
     "output_type": "stream",
     "text": [
      "/usr/local/lib/python3.8/dist-packages/sklearn/base.py:450: UserWarning: X does not have valid feature names, but StandardScaler was fitted with feature names\n",
      "  warnings.warn(\n"
     ]
    }
   ],
   "source": [
    "predict_new()"
   ]
  },
  {
   "cell_type": "code",
   "execution_count": null,
   "id": "accf82fe",
   "metadata": {},
   "outputs": [],
   "source": []
  }
 ],
 "metadata": {
  "kernelspec": {
   "display_name": "Python 3 (ipykernel)",
   "language": "python",
   "name": "python3"
  },
  "language_info": {
   "codemirror_mode": {
    "name": "ipython",
    "version": 3
   },
   "file_extension": ".py",
   "mimetype": "text/x-python",
   "name": "python",
   "nbconvert_exporter": "python",
   "pygments_lexer": "ipython3",
   "version": "3.8.10"
  },
  "toc": {
   "base_numbering": 1,
   "nav_menu": {},
   "number_sections": true,
   "sideBar": true,
   "skip_h1_title": false,
   "title_cell": "Table of Contents",
   "title_sidebar": "Contents",
   "toc_cell": false,
   "toc_position": {},
   "toc_section_display": true,
   "toc_window_display": false
  }
 },
 "nbformat": 4,
 "nbformat_minor": 5
}
