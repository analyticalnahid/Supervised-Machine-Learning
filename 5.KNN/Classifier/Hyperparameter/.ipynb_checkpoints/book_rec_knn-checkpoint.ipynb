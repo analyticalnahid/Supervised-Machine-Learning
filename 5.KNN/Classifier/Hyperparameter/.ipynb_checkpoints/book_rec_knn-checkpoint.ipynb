{
 "cells": [
  {
   "cell_type": "code",
   "execution_count": 1,
   "metadata": {
    "ExecuteTime": {
     "end_time": "2022-06-09T13:48:02.751899Z",
     "start_time": "2022-06-09T13:48:02.206950Z"
    },
    "collapsed": true
   },
   "outputs": [
    {
     "ename": "FileNotFoundError",
     "evalue": "[Errno 2] No such file or directory: 'books_recommendation_data.csv'",
     "output_type": "error",
     "traceback": [
      "\u001b[0;31m---------------------------------------------------------------------------\u001b[0m",
      "\u001b[0;31mFileNotFoundError\u001b[0m                         Traceback (most recent call last)",
      "Input \u001b[0;32mIn [1]\u001b[0m, in \u001b[0;36m<cell line: 60>\u001b[0;34m()\u001b[0m\n\u001b[1;32m     61\u001b[0m the_post \u001b[38;5;241m=\u001b[39m [\u001b[38;5;241m6.5\u001b[39m, \u001b[38;5;241m0\u001b[39m, \u001b[38;5;241m1\u001b[39m, \u001b[38;5;241m0\u001b[39m, \u001b[38;5;241m1\u001b[39m, \u001b[38;5;241m0\u001b[39m, \u001b[38;5;241m0\u001b[39m, \u001b[38;5;241m0\u001b[39m, \u001b[38;5;241m0\u001b[39m] \u001b[38;5;66;03m# feature vector for The Post\u001b[39;00m\n\u001b[1;32m     62\u001b[0m \u001b[38;5;66;03m# Rating,Biography,Drama,Thriller,Comedy,Crime,Mystery,History,Label\u001b[39;00m\n\u001b[0;32m---> 63\u001b[0m recommended_books \u001b[38;5;241m=\u001b[39m \u001b[43mrecommend_books\u001b[49m\u001b[43m(\u001b[49m\u001b[43mbook_query\u001b[49m\u001b[38;5;241;43m=\u001b[39;49m\u001b[43mthe_post\u001b[49m\u001b[43m,\u001b[49m\u001b[43m \u001b[49m\u001b[43mk_recommendations\u001b[49m\u001b[38;5;241;43m=\u001b[39;49m\u001b[38;5;241;43m3\u001b[39;49m\u001b[43m)\u001b[49m\n\u001b[1;32m     65\u001b[0m \u001b[38;5;66;03m# Print recommended book titles\u001b[39;00m\n\u001b[1;32m     66\u001b[0m \u001b[38;5;28;01mfor\u001b[39;00m recommendation \u001b[38;5;129;01min\u001b[39;00m recommended_books:\n",
      "Input \u001b[0;32mIn [1]\u001b[0m, in \u001b[0;36mrecommend_books\u001b[0;34m(book_query, k_recommendations)\u001b[0m\n\u001b[1;32m     32\u001b[0m \u001b[38;5;28;01mdef\u001b[39;00m \u001b[38;5;21mrecommend_books\u001b[39m(book_query, k_recommendations):\n\u001b[1;32m     33\u001b[0m     raw_books_data \u001b[38;5;241m=\u001b[39m []\n\u001b[0;32m---> 34\u001b[0m     \u001b[38;5;28;01mwith\u001b[39;00m \u001b[38;5;28;43mopen\u001b[39;49m\u001b[43m(\u001b[49m\u001b[38;5;124;43m'\u001b[39;49m\u001b[38;5;124;43mbooks_recommendation_data.csv\u001b[39;49m\u001b[38;5;124;43m'\u001b[39;49m\u001b[43m,\u001b[49m\u001b[43m \u001b[49m\u001b[38;5;124;43m'\u001b[39;49m\u001b[38;5;124;43mr\u001b[39;49m\u001b[38;5;124;43m'\u001b[39;49m\u001b[43m)\u001b[49m \u001b[38;5;28;01mas\u001b[39;00m md:\n\u001b[1;32m     36\u001b[0m         \u001b[38;5;28mnext\u001b[39m(md)\n\u001b[1;32m     39\u001b[0m         \u001b[38;5;28;01mfor\u001b[39;00m line \u001b[38;5;129;01min\u001b[39;00m md\u001b[38;5;241m.\u001b[39mreadlines():\n",
      "\u001b[0;31mFileNotFoundError\u001b[0m: [Errno 2] No such file or directory: 'books_recommendation_data.csv'"
     ]
    }
   ],
   "source": [
    "from collections import Counter\n",
    "import math\n",
    "\n",
    "def knn(data, query, k, choice_fn):\n",
    "    neighbor_distances_and_indices = []\n",
    "   \n",
    "    for index, example in enumerate(data):\n",
    "       \n",
    "        distance = euclidean_distance(example[:-1], query)\n",
    " \n",
    "        neighbor_distances_and_indices.append((distance, index))\n",
    "   \n",
    "    sorted_neighbor_distances_and_indices = sorted(neighbor_distances_and_indices)\n",
    "   \n",
    "    k_nearest_distances_and_indices = sorted_neighbor_distances_and_indices[:k]\n",
    "   \n",
    "    k_nearest_labels = [data[i][1] for distance, i in k_nearest_distances_and_indices]\n",
    "\n",
    "    return k_nearest_distances_and_indices , choice_fn(k_nearest_labels)\n",
    "\n",
    "def mean(labels):\n",
    "    return sum(labels) / len(labels)\n",
    "\n",
    "def mode(labels):\n",
    "    return Counter(labels).most_common(1)[0][0]\n",
    "\n",
    "def euclidean_distance(point1, point2):\n",
    "    sum_squared_distance = 0\n",
    "    for i in range(len(point1)):\n",
    "        sum_squared_distance += math.pow(point1[i] - point2[i], 2)\n",
    "    return math.sqrt(sum_squared_distance)\n",
    "def recommend_books(book_query, k_recommendations):\n",
    "    raw_books_data = []\n",
    "    with open('books_recommendation_data.csv', 'r') as md:\n",
    "       \n",
    "        next(md)\n",
    "\n",
    "       \n",
    "        for line in md.readlines():\n",
    "            data_row = line.strip().split(',')\n",
    "            raw_books_data.append(data_row)\n",
    "\n",
    "   \n",
    "    books_recommendation_data = []\n",
    "    for row in raw_books_data:\n",
    "        data_row = list(map(float, row[2:]))\n",
    "        books_recommendation_data.append(data_row)\n",
    "\n",
    "\n",
    "    recommendation_indices, _ = knn(\n",
    "        books_recommendation_data, book_query, k=k_recommendations, choice_fn=lambda x: None\n",
    "    )\n",
    "\n",
    "    book_recommendations = []\n",
    "    for _, index in recommendation_indices:\n",
    "        book_recommendations.append(raw_books_data[index])\n",
    "\n",
    "    return book_recommendations\n",
    "\n",
    "if __name__ == '__main__':\n",
    "    the_post = [6.5, 0, 1, 0, 1, 0, 0, 0, 0] # feature vector for The Post\n",
    "    # Rating,Biography,Drama,Thriller,Comedy,Crime,Mystery,History,Label\n",
    "    recommended_books = recommend_books(book_query=the_post, k_recommendations=3)\n",
    "\n",
    "    # Print recommended book titles\n",
    "    for recommendation in recommended_books:\n",
    "        print(recommendation[1])\n"
   ]
  },
  {
   "cell_type": "code",
   "execution_count": null,
   "metadata": {},
   "outputs": [],
   "source": []
  }
 ],
 "metadata": {
  "kernelspec": {
   "display_name": "Python 3 (ipykernel)",
   "language": "python",
   "name": "python3"
  },
  "language_info": {
   "codemirror_mode": {
    "name": "ipython",
    "version": 3
   },
   "file_extension": ".py",
   "mimetype": "text/x-python",
   "name": "python",
   "nbconvert_exporter": "python",
   "pygments_lexer": "ipython3",
   "version": "3.8.10"
  },
  "toc": {
   "base_numbering": 1,
   "nav_menu": {},
   "number_sections": true,
   "sideBar": true,
   "skip_h1_title": false,
   "title_cell": "Table of Contents",
   "title_sidebar": "Contents",
   "toc_cell": false,
   "toc_position": {},
   "toc_section_display": true,
   "toc_window_display": false
  }
 },
 "nbformat": 4,
 "nbformat_minor": 2
}
