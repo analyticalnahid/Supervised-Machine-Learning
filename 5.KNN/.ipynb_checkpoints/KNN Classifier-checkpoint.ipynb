{
 "cells": [
  {
   "cell_type": "code",
   "execution_count": 143,
   "id": "8bfdca15",
   "metadata": {
    "ExecuteTime": {
     "end_time": "2022-06-08T17:18:59.556983Z",
     "start_time": "2022-06-08T17:18:59.536177Z"
    }
   },
   "outputs": [],
   "source": [
    "import pandas as pd\n",
    "import numpy as np\n",
    "import matplotlib.pyplot as plt\n",
    "from sklearn.preprocessing import OneHotEncoder\n",
    "from sklearn.compose import ColumnTransformer\n",
    "from sklearn.preprocessing import MinMaxScaler, PowerTransformer, StandardScaler"
   ]
  },
  {
   "cell_type": "code",
   "execution_count": 144,
   "id": "20c15ed8",
   "metadata": {
    "ExecuteTime": {
     "end_time": "2022-06-08T17:18:59.766321Z",
     "start_time": "2022-06-08T17:18:59.743272Z"
    }
   },
   "outputs": [
    {
     "data": {
      "text/html": [
       "<div>\n",
       "<style scoped>\n",
       "    .dataframe tbody tr th:only-of-type {\n",
       "        vertical-align: middle;\n",
       "    }\n",
       "\n",
       "    .dataframe tbody tr th {\n",
       "        vertical-align: top;\n",
       "    }\n",
       "\n",
       "    .dataframe thead th {\n",
       "        text-align: right;\n",
       "    }\n",
       "</style>\n",
       "<table border=\"1\" class=\"dataframe\">\n",
       "  <thead>\n",
       "    <tr style=\"text-align: right;\">\n",
       "      <th></th>\n",
       "      <th>Gender</th>\n",
       "      <th>Age</th>\n",
       "      <th>EstimatedSalary</th>\n",
       "      <th>Purchased</th>\n",
       "    </tr>\n",
       "  </thead>\n",
       "  <tbody>\n",
       "    <tr>\n",
       "      <th>0</th>\n",
       "      <td>Male</td>\n",
       "      <td>19</td>\n",
       "      <td>19000</td>\n",
       "      <td>0</td>\n",
       "    </tr>\n",
       "    <tr>\n",
       "      <th>1</th>\n",
       "      <td>Male</td>\n",
       "      <td>35</td>\n",
       "      <td>20000</td>\n",
       "      <td>0</td>\n",
       "    </tr>\n",
       "    <tr>\n",
       "      <th>2</th>\n",
       "      <td>Female</td>\n",
       "      <td>26</td>\n",
       "      <td>43000</td>\n",
       "      <td>0</td>\n",
       "    </tr>\n",
       "    <tr>\n",
       "      <th>3</th>\n",
       "      <td>Female</td>\n",
       "      <td>27</td>\n",
       "      <td>57000</td>\n",
       "      <td>0</td>\n",
       "    </tr>\n",
       "    <tr>\n",
       "      <th>4</th>\n",
       "      <td>Male</td>\n",
       "      <td>19</td>\n",
       "      <td>76000</td>\n",
       "      <td>0</td>\n",
       "    </tr>\n",
       "  </tbody>\n",
       "</table>\n",
       "</div>"
      ],
      "text/plain": [
       "   Gender  Age  EstimatedSalary  Purchased\n",
       "0    Male   19            19000          0\n",
       "1    Male   35            20000          0\n",
       "2  Female   26            43000          0\n",
       "3  Female   27            57000          0\n",
       "4    Male   19            76000          0"
      ]
     },
     "execution_count": 144,
     "metadata": {},
     "output_type": "execute_result"
    }
   ],
   "source": [
    "df = pd.read_csv('Social_Network_Ads.csv')\n",
    "df.drop(columns='User ID', inplace=True)\n",
    "df.head()"
   ]
  },
  {
   "cell_type": "code",
   "execution_count": 145,
   "id": "3246dadb",
   "metadata": {
    "ExecuteTime": {
     "end_time": "2022-06-08T17:18:59.919022Z",
     "start_time": "2022-06-08T17:18:59.909464Z"
    }
   },
   "outputs": [],
   "source": [
    "X = df.drop(columns='Purchased')\n",
    "y = df['Purchased']"
   ]
  },
  {
   "cell_type": "code",
   "execution_count": 146,
   "id": "e9571781",
   "metadata": {
    "ExecuteTime": {
     "end_time": "2022-06-08T17:19:00.181608Z",
     "start_time": "2022-06-08T17:19:00.146963Z"
    }
   },
   "outputs": [
    {
     "data": {
      "text/html": [
       "<div>\n",
       "<style scoped>\n",
       "    .dataframe tbody tr th:only-of-type {\n",
       "        vertical-align: middle;\n",
       "    }\n",
       "\n",
       "    .dataframe tbody tr th {\n",
       "        vertical-align: top;\n",
       "    }\n",
       "\n",
       "    .dataframe thead th {\n",
       "        text-align: right;\n",
       "    }\n",
       "</style>\n",
       "<table border=\"1\" class=\"dataframe\">\n",
       "  <thead>\n",
       "    <tr style=\"text-align: right;\">\n",
       "      <th></th>\n",
       "      <th>Gender</th>\n",
       "      <th>Age</th>\n",
       "      <th>EstimatedSalary</th>\n",
       "    </tr>\n",
       "  </thead>\n",
       "  <tbody>\n",
       "    <tr>\n",
       "      <th>0</th>\n",
       "      <td>Male</td>\n",
       "      <td>19</td>\n",
       "      <td>19000</td>\n",
       "    </tr>\n",
       "    <tr>\n",
       "      <th>1</th>\n",
       "      <td>Male</td>\n",
       "      <td>35</td>\n",
       "      <td>20000</td>\n",
       "    </tr>\n",
       "    <tr>\n",
       "      <th>2</th>\n",
       "      <td>Female</td>\n",
       "      <td>26</td>\n",
       "      <td>43000</td>\n",
       "    </tr>\n",
       "    <tr>\n",
       "      <th>3</th>\n",
       "      <td>Female</td>\n",
       "      <td>27</td>\n",
       "      <td>57000</td>\n",
       "    </tr>\n",
       "    <tr>\n",
       "      <th>4</th>\n",
       "      <td>Male</td>\n",
       "      <td>19</td>\n",
       "      <td>76000</td>\n",
       "    </tr>\n",
       "  </tbody>\n",
       "</table>\n",
       "</div>"
      ],
      "text/plain": [
       "   Gender  Age  EstimatedSalary\n",
       "0    Male   19            19000\n",
       "1    Male   35            20000\n",
       "2  Female   26            43000\n",
       "3  Female   27            57000\n",
       "4    Male   19            76000"
      ]
     },
     "execution_count": 146,
     "metadata": {},
     "output_type": "execute_result"
    }
   ],
   "source": [
    "X.head()"
   ]
  },
  {
   "cell_type": "code",
   "execution_count": 147,
   "id": "57d8e3f7",
   "metadata": {
    "ExecuteTime": {
     "end_time": "2022-06-08T17:19:00.541709Z",
     "start_time": "2022-06-08T17:19:00.525013Z"
    }
   },
   "outputs": [],
   "source": [
    "from sklearn.model_selection import train_test_split,cross_val_score\n",
    "\n",
    "X_train,X_test,y_train,y_test = train_test_split(X,y,test_size=0.3)"
   ]
  },
  {
   "cell_type": "code",
   "execution_count": 148,
   "id": "8ffcd820",
   "metadata": {
    "ExecuteTime": {
     "end_time": "2022-06-08T17:19:01.226620Z",
     "start_time": "2022-06-08T17:19:01.181955Z"
    }
   },
   "outputs": [],
   "source": [
    "## encoding categorical variable\n",
    "\n",
    "tnf1 = ColumnTransformer(transformers=[\n",
    "    ('tnf1', OneHotEncoder(sparse=False,drop='first',dtype=np.int64),[0])\n",
    "],remainder='passthrough')\n",
    "\n",
    "\n",
    "X_train = tnf1.fit_transform(X_train)\n",
    "\n",
    "X_test = tnf1.transform(X_test)"
   ]
  },
  {
   "cell_type": "code",
   "execution_count": 150,
   "id": "176baff6",
   "metadata": {
    "ExecuteTime": {
     "end_time": "2022-06-08T17:19:14.989598Z",
     "start_time": "2022-06-08T17:19:14.956880Z"
    }
   },
   "outputs": [],
   "source": [
    "## scaling variable\n",
    "\n",
    "tnf2 = ColumnTransformer(transformers=[\n",
    "    ('scale', StandardScaler(),[0,1,2])\n",
    "], remainder='passthrough')\n",
    "\n",
    "\n",
    "X_train = tnf2.fit_transform(X_train)\n",
    "X_test = tnf2.transform(X_test)"
   ]
  },
  {
   "cell_type": "code",
   "execution_count": 162,
   "id": "59b7f295",
   "metadata": {
    "ExecuteTime": {
     "end_time": "2022-06-08T17:21:52.157218Z",
     "start_time": "2022-06-08T17:21:52.138245Z"
    }
   },
   "outputs": [],
   "source": [
    "from sklearn.neighbors import KNeighborsClassifier\n",
    "\n",
    "tnf3 = KNeighborsClassifier(n_neighbors=8)"
   ]
  },
  {
   "cell_type": "code",
   "execution_count": 163,
   "id": "556f0f0f",
   "metadata": {
    "ExecuteTime": {
     "end_time": "2022-06-08T17:21:52.896162Z",
     "start_time": "2022-06-08T17:21:52.716353Z"
    }
   },
   "outputs": [
    {
     "data": {
      "text/plain": [
       "0.9035714285714285"
      ]
     },
     "execution_count": 163,
     "metadata": {},
     "output_type": "execute_result"
    }
   ],
   "source": [
    "tnf3.fit(X_train,y_train)\n",
    "\n",
    "y_pred = tnf3.predict(X_test)\n",
    "cross_val_score(estimator=tnf3,X=X_train,y=y_train, scoring='accuracy',cv=10, n_jobs=-1).mean()"
   ]
  },
  {
   "cell_type": "code",
   "execution_count": 159,
   "id": "8efddcf6",
   "metadata": {
    "ExecuteTime": {
     "end_time": "2022-06-08T17:19:59.139064Z",
     "start_time": "2022-06-08T17:19:58.719658Z"
    }
   },
   "outputs": [],
   "source": [
    "accuarcy = []\n",
    "\n",
    "for i in range(1,50):\n",
    "    algo = KNeighborsClassifier(n_neighbors=i)\n",
    "    algo.fit(X_train,y_train)\n",
    "    y_pred = algo.predict(X_test)\n",
    "    result = accuracy_score(y_test,y_pred)\n",
    "    accuarcy.append(result)"
   ]
  },
  {
   "cell_type": "code",
   "execution_count": 161,
   "id": "9def8715",
   "metadata": {
    "ExecuteTime": {
     "end_time": "2022-06-08T17:21:09.872143Z",
     "start_time": "2022-06-08T17:21:09.473056Z"
    }
   },
   "outputs": [
    {
     "data": {
      "text/plain": [
       "[<matplotlib.lines.Line2D at 0x7fb973f9c610>]"
      ]
     },
     "execution_count": 161,
     "metadata": {},
     "output_type": "execute_result"
    },
    {
     "data": {
      "image/png": "[encoded data removed]",
      "text/plain": [
       "<Figure size 432x288 with 1 Axes>"
      ]
     },
     "metadata": {
      "needs_background": "light"
     },
     "output_type": "display_data"
    }
   ],
   "source": [
    "plt.plot(range(1,50),accuarcy)"
   ]
  }
 ],
 "metadata": {
  "kernelspec": {
   "display_name": "Python 3 (ipykernel)",
   "language": "python",
   "name": "python3"
  },
  "language_info": {
   "codemirror_mode": {
    "name": "ipython",
    "version": 3
   },
   "file_extension": ".py",
   "mimetype": "text/x-python",
   "name": "python",
   "nbconvert_exporter": "python",
   "pygments_lexer": "ipython3",
   "version": "3.8.10"
  },
  "toc": {
   "base_numbering": 1,
   "nav_menu": {},
   "number_sections": true,
   "sideBar": true,
   "skip_h1_title": false,
   "title_cell": "Table of Contents",
   "title_sidebar": "Contents",
   "toc_cell": false,
   "toc_position": {},
   "toc_section_display": true,
   "toc_window_display": false
  }
 },
 "nbformat": 4,
 "nbformat_minor": 5
}
