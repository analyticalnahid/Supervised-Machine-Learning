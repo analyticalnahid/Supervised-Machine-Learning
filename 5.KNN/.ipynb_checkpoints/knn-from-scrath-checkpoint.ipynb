{
 "cells": [
  {
   "cell_type": "code",
   "execution_count": 37,
   "id": "fa82433c",
   "metadata": {},
   "outputs": [],
   "source": [
    "import pandas as pd\n",
    "import numpy as np\n",
    "import matplotlib.pyplot as plt\n",
    "import operator\n",
    "from collections import Counter"
   ]
  },
  {
   "cell_type": "code",
   "execution_count": 38,
   "id": "c0be3df9",
   "metadata": {},
   "outputs": [],
   "source": [
    "df = pd.read_csv('Social_Network_Ads.csv')"
   ]
  },
  {
   "cell_type": "code",
   "execution_count": 39,
   "id": "eaf29b47",
   "metadata": {},
   "outputs": [],
   "source": [
    "X = df.iloc[:,2:4]\n",
    "y = df.iloc[:,-1]"
   ]
  },
  {
   "cell_type": "code",
   "execution_count": 40,
   "id": "0f092edc",
   "metadata": {},
   "outputs": [],
   "source": [
    "from sklearn.model_selection import train_test_split\n",
    "X_train,X_test,y_train,y_test = train_test_split(X,y, test_size=0.2)"
   ]
  },
  {
   "cell_type": "code",
   "execution_count": 41,
   "id": "f18d8913",
   "metadata": {},
   "outputs": [],
   "source": [
    "from sklearn.preprocessing import StandardScaler\n",
    "scaler = StandardScaler()\n",
    "\n",
    "X_train = scaler.fit_transform(X_train)\n",
    "X_test = scaler.transform(X_test)"
   ]
  },
  {
   "cell_type": "code",
   "execution_count": 48,
   "id": "71b07722",
   "metadata": {},
   "outputs": [],
   "source": [
    "### KNN Class From Scratch\n",
    "class KNN:\n",
    "    def __init__(self,k):\n",
    "        self.k= k\n",
    "        \n",
    "    def fit(self,X_train,y_train):\n",
    "        self.X_train= X_train\n",
    "        self.y_train= y_train\n",
    "        print(\"Training Done\")\n",
    "        \n",
    "    def predict(self,X_test):\n",
    "        \n",
    "        distance={}\n",
    "        counter=1\n",
    "        \n",
    "        for i in self.X_train:\n",
    "            distance[counter] = ((X_test[0][0]-i[0])**2 + (X_test[0][1]-i[1])**2)**1/2\n",
    "            counter = counter + 1                     \n",
    "                                 \n",
    "        distance = sorted(distance.items(), key = operator.itemgetter(1))   \n",
    "        self.classify(distance= distance[:self.k])                         \n",
    "                                 \n",
    "    \n",
    "    def classify(self,distance):\n",
    "        \n",
    "        label = []\n",
    "                                 \n",
    "        for i in distance:\n",
    "            label.append(self.y_train[i[0]])     \n",
    "                                 \n",
    "        return Counter(label).most_common()[0][0]                      \n",
    "                                 "
   ]
  },
  {
   "cell_type": "code",
   "execution_count": 49,
   "id": "34e7ddd9",
   "metadata": {},
   "outputs": [
    {
     "name": "stdout",
     "output_type": "stream",
     "text": [
      "Training Done\n"
     ]
    }
   ],
   "source": [
    "knn = KNN(k=3)\n",
    "knn.fit(X_train,y_train)"
   ]
  },
  {
   "cell_type": "code",
   "execution_count": 50,
   "id": "eecdd337",
   "metadata": {},
   "outputs": [],
   "source": [
    "## Prediciting The Result\n",
    "\n",
    "def predict_new():\n",
    "    age = int(input(\"Enter Your Age: \"))\n",
    "    salary = int(input(\"Enter Your Salary: \"))\n",
    "    \n",
    "    X_new = np.array([[age],[salary]]).reshape(1,2)\n",
    "    X_new = scaler.transform(X_new)\n",
    "    \n",
    "    result = knn.predict(X_new)\n",
    "    \n",
    "    if result==0:\n",
    "        print(\"Will not purchase\")\n",
    "    else:\n",
    "        print(\"Will purchase\")\n",
    "              "
   ]
  },
  {
   "cell_type": "code",
   "execution_count": 51,
   "id": "03e2cc00",
   "metadata": {},
   "outputs": [
    {
     "name": "stdout",
     "output_type": "stream",
     "text": [
      "Enter Your Age: 30\n",
      "Enter Your Salary: 2938784\n",
      "Will purchase\n"
     ]
    }
   ],
   "source": [
    "predict_new()"
   ]
  },
  {
   "cell_type": "code",
   "execution_count": null,
   "id": "accf82fe",
   "metadata": {},
   "outputs": [],
   "source": []
  }
 ],
 "metadata": {
  "kernelspec": {
   "display_name": "Python 3 (ipykernel)",
   "language": "python",
   "name": "python3"
  },
  "language_info": {
   "codemirror_mode": {
    "name": "ipython",
    "version": 3
   },
   "file_extension": ".py",
   "mimetype": "text/x-python",
   "name": "python",
   "nbconvert_exporter": "python",
   "pygments_lexer": "ipython3",
   "version": "3.9.7"
  }
 },
 "nbformat": 4,
 "nbformat_minor": 5
}
