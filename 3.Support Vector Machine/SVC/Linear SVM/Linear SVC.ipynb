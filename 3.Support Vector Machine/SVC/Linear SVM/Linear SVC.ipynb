{
 "cells": [
  {
   "cell_type": "code",
   "execution_count": 1,
   "id": "2a9fc61b",
   "metadata": {
    "ExecuteTime": {
     "end_time": "2022-06-06T16:43:53.545613Z",
     "start_time": "2022-06-06T16:43:52.288986Z"
    }
   },
   "outputs": [],
   "source": [
    "import pandas as pd\n",
    "import numpy as np"
   ]
  },
  {
   "cell_type": "code",
   "execution_count": 2,
   "id": "87860e8b",
   "metadata": {
    "ExecuteTime": {
     "end_time": "2022-06-06T16:44:13.880599Z",
     "start_time": "2022-06-06T16:44:13.748458Z"
    }
   },
   "outputs": [
    {
     "data": {
      "text/html": [
       "<div>\n",
       "<style scoped>\n",
       "    .dataframe tbody tr th:only-of-type {\n",
       "        vertical-align: middle;\n",
       "    }\n",
       "\n",
       "    .dataframe tbody tr th {\n",
       "        vertical-align: top;\n",
       "    }\n",
       "\n",
       "    .dataframe thead th {\n",
       "        text-align: right;\n",
       "    }\n",
       "</style>\n",
       "<table border=\"1\" class=\"dataframe\">\n",
       "  <thead>\n",
       "    <tr style=\"text-align: right;\">\n",
       "      <th></th>\n",
       "      <th>sepal.length</th>\n",
       "      <th>sepal.width</th>\n",
       "      <th>petal.length</th>\n",
       "      <th>petal.width</th>\n",
       "      <th>variety</th>\n",
       "    </tr>\n",
       "  </thead>\n",
       "  <tbody>\n",
       "    <tr>\n",
       "      <th>0</th>\n",
       "      <td>5.1</td>\n",
       "      <td>3.5</td>\n",
       "      <td>1.4</td>\n",
       "      <td>0.2</td>\n",
       "      <td>Setosa</td>\n",
       "    </tr>\n",
       "    <tr>\n",
       "      <th>1</th>\n",
       "      <td>4.9</td>\n",
       "      <td>3.0</td>\n",
       "      <td>1.4</td>\n",
       "      <td>0.2</td>\n",
       "      <td>Setosa</td>\n",
       "    </tr>\n",
       "    <tr>\n",
       "      <th>2</th>\n",
       "      <td>4.7</td>\n",
       "      <td>3.2</td>\n",
       "      <td>1.3</td>\n",
       "      <td>0.2</td>\n",
       "      <td>Setosa</td>\n",
       "    </tr>\n",
       "    <tr>\n",
       "      <th>3</th>\n",
       "      <td>4.6</td>\n",
       "      <td>3.1</td>\n",
       "      <td>1.5</td>\n",
       "      <td>0.2</td>\n",
       "      <td>Setosa</td>\n",
       "    </tr>\n",
       "    <tr>\n",
       "      <th>4</th>\n",
       "      <td>5.0</td>\n",
       "      <td>3.6</td>\n",
       "      <td>1.4</td>\n",
       "      <td>0.2</td>\n",
       "      <td>Setosa</td>\n",
       "    </tr>\n",
       "  </tbody>\n",
       "</table>\n",
       "</div>"
      ],
      "text/plain": [
       "   sepal.length  sepal.width  petal.length  petal.width variety\n",
       "0           5.1          3.5           1.4          0.2  Setosa\n",
       "1           4.9          3.0           1.4          0.2  Setosa\n",
       "2           4.7          3.2           1.3          0.2  Setosa\n",
       "3           4.6          3.1           1.5          0.2  Setosa\n",
       "4           5.0          3.6           1.4          0.2  Setosa"
      ]
     },
     "execution_count": 2,
     "metadata": {},
     "output_type": "execute_result"
    }
   ],
   "source": [
    "df = pd.read_csv('iris.csv')\n",
    "df.head()"
   ]
  },
  {
   "cell_type": "code",
   "execution_count": 4,
   "id": "b381bcdb",
   "metadata": {
    "ExecuteTime": {
     "end_time": "2022-06-06T16:45:19.111181Z",
     "start_time": "2022-06-06T16:45:19.091302Z"
    }
   },
   "outputs": [],
   "source": [
    "X= df.drop(columns=['variety'])\n",
    "y = df['variety']"
   ]
  },
  {
   "cell_type": "code",
   "execution_count": 7,
   "id": "71924644",
   "metadata": {
    "ExecuteTime": {
     "end_time": "2022-06-06T16:46:18.854722Z",
     "start_time": "2022-06-06T16:46:18.838277Z"
    }
   },
   "outputs": [],
   "source": [
    "from sklearn.preprocessing import LabelEncoder\n",
    "\n",
    "encode = LabelEncoder()\n",
    "y = encode.fit_transform(y)"
   ]
  },
  {
   "cell_type": "code",
   "execution_count": 12,
   "id": "44264f39",
   "metadata": {
    "ExecuteTime": {
     "end_time": "2022-06-06T16:47:24.350336Z",
     "start_time": "2022-06-06T16:47:24.332938Z"
    }
   },
   "outputs": [],
   "source": [
    "from sklearn.model_selection import train_test_split\n",
    "\n",
    "X_train,X_test,y_train,y_test = train_test_split(X,y,test_size=0.3)"
   ]
  },
  {
   "cell_type": "code",
   "execution_count": 17,
   "id": "47babea0",
   "metadata": {
    "ExecuteTime": {
     "end_time": "2022-06-06T16:49:21.410342Z",
     "start_time": "2022-06-06T16:49:21.366625Z"
    }
   },
   "outputs": [],
   "source": [
    "from sklearn.preprocessing import MinMaxScaler\n",
    "\n",
    "scale = MinMaxScaler()\n",
    "X_train_scale = scale.fit_transform(X_train,y_train)\n",
    "X_test_scale = scale.transform(X_test)"
   ]
  },
  {
   "cell_type": "code",
   "execution_count": 32,
   "id": "efe068c1",
   "metadata": {
    "ExecuteTime": {
     "end_time": "2022-06-06T17:01:58.185689Z",
     "start_time": "2022-06-06T17:01:58.173508Z"
    }
   },
   "outputs": [],
   "source": [
    "from sklearn.svm import LinearSVC,SVC\n",
    "from sklearn.linear_model import SGDClassifier\n",
    "from sklearn.metrics import accuracy_score\n",
    "from sklearn.model_selection import cross_val_score"
   ]
  },
  {
   "cell_type": "code",
   "execution_count": 47,
   "id": "e31f739f",
   "metadata": {
    "ExecuteTime": {
     "end_time": "2022-06-06T17:19:32.603834Z",
     "start_time": "2022-06-06T17:19:32.569314Z"
    },
    "code_folding": []
   },
   "outputs": [],
   "source": [
    "lnsvc = LinearSVC()\n",
    "svc = SVC(kernel='linear')\n",
    "gdsvc = SGDClassifier()\n",
    "\n",
    "\n",
    "def pedict():\n",
    "    algo = [lnsvc, svc, gdsvc]\n",
    "    score = []\n",
    "    cross_score = []\n",
    "    \n",
    "    for i in algo:\n",
    "        i.fit(X_train_scale,y_train)\n",
    "        y_pred = i.predict(X_test_scale)\n",
    "        result = accuracy_score(y_test,y_pred)\n",
    "        cross = cross_val_score(i, X,y,scoring='accuracy',cv=10,n_jobs=-1).mean()\n",
    "        score.append(\"Accurcy of {} is {}\".format(i,result))\n",
    "        cross_score.append(\"Cross Score of {} is {}\".format(i,cross))\n",
    "    return score,cross_score    "
   ]
  },
  {
   "cell_type": "code",
   "execution_count": 48,
   "id": "8ad38e26",
   "metadata": {
    "ExecuteTime": {
     "end_time": "2022-06-06T17:19:34.913733Z",
     "start_time": "2022-06-06T17:19:33.358966Z"
    }
   },
   "outputs": [
    {
     "data": {
      "text/plain": [
       "(['Accurcy of LinearSVC() is 0.8888888888888888',\n",
       "  \"Accurcy of SVC(kernel='linear') is 0.9111111111111111\",\n",
       "  'Accurcy of SGDClassifier() is 0.8888888888888888'],\n",
       " ['Cross Score of LinearSVC() is 0.9666666666666668',\n",
       "  \"Cross Score of SVC(kernel='linear') is 0.9733333333333334\",\n",
       "  'Cross Score of SGDClassifier() is 0.8600000000000001'])"
      ]
     },
     "execution_count": 48,
     "metadata": {},
     "output_type": "execute_result"
    }
   ],
   "source": [
    "pedict()"
   ]
  },
  {
   "cell_type": "code",
   "execution_count": null,
   "id": "37022ffd",
   "metadata": {},
   "outputs": [],
   "source": []
  }
 ],
 "metadata": {
  "kernelspec": {
   "display_name": "Python 3 (ipykernel)",
   "language": "python",
   "name": "python3"
  },
  "language_info": {
   "codemirror_mode": {
    "name": "ipython",
    "version": 3
   },
   "file_extension": ".py",
   "mimetype": "text/x-python",
   "name": "python",
   "nbconvert_exporter": "python",
   "pygments_lexer": "ipython3",
   "version": "3.8.10"
  },
  "toc": {
   "base_numbering": 1,
   "nav_menu": {},
   "number_sections": true,
   "sideBar": true,
   "skip_h1_title": false,
   "title_cell": "Table of Contents",
   "title_sidebar": "Contents",
   "toc_cell": false,
   "toc_position": {},
   "toc_section_display": true,
   "toc_window_display": false
  }
 },
 "nbformat": 4,
 "nbformat_minor": 5
}
