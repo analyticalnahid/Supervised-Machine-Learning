{
 "cells": [
  {
   "cell_type": "markdown",
   "execution_count": null,
   "metadata": {
    "papermill": {
     "duration": 0.008804,
     "end_time": "2020-08-29T13:24:50.121510",
     "exception": false,
     "start_time": "2020-08-29T13:24:50.112706",
     "status": "completed"
    },
    "tags": []
   },
   "source": [
    "![svm](https://i.ibb.co/T8wFPdH/svm-kaggle.png)\n",
    "\n",
    "- **ML Part 1** - Logistic Regression\n",
    "- **ML Part 2** - K-Nearest Neighbors (KNN)\n",
    "- **ML Part 3 - Support Vector Machine (SVM)**\n",
    "- **ML Part 4** - Artificial Neural Network (NN)\n",
    "- **ML Part 5** - Classification and Regression Tree (CART)\n",
    "- **ML Part 6** - Random Forests\n",
    "- **ML Part 7** - Gradient Boosting Machines (GBM)\n",
    "- **ML Part 8** - XGBoost\n",
    "- **ML Part 9** - LightGBM\n",
    "- **ML Part 10** - CatBoost\n",
    "\n",
    "\n",
    "The Support Vector machine is a type of ML technique that can be used for both classification and regression. There are two main types to support linear and nonlinear problems. Linear SVM has no kernel and finds linear solution to the problem with minimal margin. Core SVM is used when the solution is not linearly separable.\n",
    "\n",
    "\n",
    "## Basic Theory\n",
    "Support Vector Machine, text classification, image classification, bioinformatics etc. It is a supervised learning technique widely used in the fields.\n",
    "A hyperplane is derived by the model that maximizes the classification margin. If N features are present, the hyperplane will be an N-1 dimensional subspace. Boundary nodes in feature space are called support vectors. Based on their relative position, the maximum margin is derived and an optimal hyperplane is drawn at the midpoint.\n",
    "\n",
    "![](https://static.javatpoint.com/tutorial/machine-learning/images/support-vector-machine-algorithm.png)\n",
    "\n",
    "The value of the margin (m), || w || will be inversely proportional to; where w is the set of weight matrices. To maximize the margin, || w || We'll have to minimize. Optimization problem,\n",
    "\n",
    "![](https://i.ibb.co/TgrvCft/optimizasyon.jpg)\n",
    "\n",
    "The above optimization works well for fully linear separable solutions. To handle outliers, we need a loose term as below. The second term uses hinge loss to get slack variable.\n",
    "\n",
    "![](https://i.ibb.co/ZKmqy58/hinge.jpg)\n",
    "\n",
    "C is the regularity parameter that balances the missed penalty and margin width. Since the mathematical explanations are far beyond the scope of this story, I will not explain them in depth.\n",
    "\n",
    "\n",
    "The basic logic is that in order to minimize the cost function, w is forced to adjust with maximum margin between classes. The value of C will decide the level of regularity applied on the data sets. It decides the level (soft / hard) margin to be applied on the data sets. In short, C is the level of ignorance towards outliers.\n",
    "\n",
    "N linear SVM when the dataset is not linearly separable. A kernel function is used to derive a new subplane for all training data. The distribution of the tags in the new sub plane will be such that the training data is linearly separable. Next, a linear curve will classify the labels on the lower plane. When the classification results are reflected back to the feature space, we get a nonlinear solution.\n",
    "\n",
    "![](https://i.ibb.co/n3NbrxR/Ek-A-klama-2020-08-29-113927.jpg)\n",
    "\n",
    "The only change in the equation here is to describe a new kernel function. The new equation will look like this:\n",
    "\n",
    "![](https://i.ibb.co/X28y1vG/Ek-A-klama-2020-08-29-114044.jpg)\n",
    "\n",
    "Xi will be replaced by ϕ (xi), which will transform the data set into the new hyperplane."
   ]
  },
  {
   "cell_type": "markdown",
   "execution_count": null,
   "metadata": {
    "papermill": {
     "duration": 0.00696,
     "end_time": "2020-08-29T13:24:50.136319",
     "exception": false,
     "start_time": "2020-08-29T13:24:50.129359",
     "status": "completed"
    },
    "tags": []
   },
   "source": [
    "## Loss Function\n",
    "\n",
    "The loss function in Eq. 1 can be divided into two parts as follows:\n",
    "\n",
    "![](https://i.ibb.co/xS7bKJ6/Ek-A-klama-2020-08-29-114318.jpg)\n",
    "\n",
    "The first term tries to minimize w parameters and get high margin. The second term refers to loss of hinge. Calculates the slack variable for each data set. If any data set comes between the margin or the wrong side, the hinge loss will be penalized.\n",
    "\n",
    "The reduction of the first term causes the broadening of the margin to decrease and widen. Minimizing the second term results in shortening of the margin to reduce hinge loss. Based on the value of C, we finally set a fixed margin. The value of C determines a soft / hard margin on the curve.\n",
    "\n",
    "![](https://i.ibb.co/y86PbbY/Ek-A-klama-2020-08-29-114457.jpg)\n",
    "\n",
    "In the above diagram, he is clear about the effects of C in deriving margin.\n",
    "Gaussian kernel, polynomial kernel, Sigmoid kernel, Laplace RBF kernel etc. in nonlinear kernels. We can use.\n",
    "\n",
    "\n",
    "## Advantages\n",
    "- SVM uses kernel number to solve complex solutions.\n",
    "- SVM uses a convex optimization function whose global minimum is always achievable.\n",
    "- Hinge (hinge) loss provides higher accuracy.\n",
    "- Outliers can be handled well using the soft margin constant C.\n",
    "\n",
    "\n",
    "## Disadvantages\n",
    "- Loss of hinge (hinge) leads to sparseness.\n",
    "- Hyper parameters and cores must be carefully tuned for adequate accuracy.\n",
    "- Longer training time for larger data sets.\n",
    "\n",
    "\n",
    "## Hyperparameters\n",
    "- **Soft Margin Constant (C):**\n",
    "    - It is a hyperparameter that decides the level of penalty on outliers. It is the reverse of the regularization parameter. When C is large, Outliers will be given a high penalty and a stiff margin will be created. When C is small, outliers are neglected and the margin is large.\n",
    "- **The degree of the polynomial in the Polynomial Kernel (d):**\n",
    "    - When d = 1, it is equivalent to a linear core. When D is higher, the core is flexible enough to distinguish complex patterns by projecting them onto a new hyperplane.\n",
    "\n",
    "- **Width Parameter (γ) in Gaussian Kernel:**\n",
    "    - Gamma decides the width of the Gaussian curve. The width increases with the increase of gamma."
   ]
  },
  {
   "cell_type": "markdown",
   "execution_count": null,
   "metadata": {
    "papermill": {
     "duration": 0.006841,
     "end_time": "2020-08-29T13:24:50.150329",
     "exception": false,
     "start_time": "2020-08-29T13:24:50.143488",
     "status": "completed"
    },
    "tags": []
   },
   "source": [
    "## Comparison with Other Models\n",
    "\n",
    "### SVM vs Decision Trees\n",
    "- While Random Forest supports multi-class classification, SVM needs more than one model for this.\n",
    "- Random Forest may give a probability on the forecast whereas SVM cannot.\n",
    "- Random Forest handles categorical data better than SVM.\n",
    "\n",
    "### SVM vs Naive Bayes\n",
    "- Both perform better with little training data and large features.\n",
    "- SVM outperforms Naive Bayes if features are mutually dependent.\n",
    "- SVM is a distinctive model while NB is a productive model.\n",
    "\n",
    "### SVM vs Artificial Neural Networks (NN)\n",
    "- SVM has a convex optimization function whereas NN can hang at the local minimum.\n",
    "- SVM can outperform NN when there is limited training data and many features. NN needs large training data for sufficient accuracy.\n",
    "- Multi-class classification requires multiple models for SVM, while NN can do this with a single model."
   ]
  },
  {
   "cell_type": "markdown",
   "execution_count": null,
   "metadata": {
    "papermill": {
     "duration": 0.006765,
     "end_time": "2020-08-29T13:24:50.166031",
     "exception": false,
     "start_time": "2020-08-29T13:24:50.159266",
     "status": "completed"
    },
    "tags": []
   },
   "source": [
    "## Coding Time\n",
    "\n",
    "![](https://ac-cdn.azureedge.net/infusionnewssiteimages/agingcare/21e637ea-aa74-4ae2-b278-181d2cded7a3.jpg)"
   ]
  },
  {
   "cell_type": "code",
   "execution_count": 1,
   "metadata": {
    "_cell_guid": "b1076dfc-b9ad-4769-8c92-a6c4dae69d19",
    "_uuid": "8f2839f25d086af736a60e9eeb907d3b93b6e0e5",
    "execution": {
     "iopub.execute_input": "2020-08-29T13:24:50.194887Z",
     "iopub.status.busy": "2020-08-29T13:24:50.189262Z",
     "iopub.status.idle": "2020-08-29T13:24:52.718626Z",
     "shell.execute_reply": "2020-08-29T13:24:52.717733Z"
    },
    "papermill": {
     "duration": 2.545629,
     "end_time": "2020-08-29T13:24:52.718776",
     "exception": false,
     "start_time": "2020-08-29T13:24:50.173147",
     "status": "completed"
    },
    "tags": []
   },
   "outputs": [],
   "source": [
    "# Import the necessary packages\n",
    "\n",
    "import numpy as np\n",
    "import pandas as pd\n",
    "\n",
    "import seaborn as sns\n",
    "import plotly.express as px\n",
    "import matplotlib.pyplot as plt\n",
    "%matplotlib inline\n",
    "\n",
    "import sklearn\n",
    "from sklearn.metrics import accuracy_score\n",
    "from sklearn.preprocessing import StandardScaler\n",
    "from sklearn.metrics import plot_confusion_matrix\n",
    "from sklearn.model_selection import train_test_split, GridSearchCV, cross_val_score\n",
    "from sklearn.metrics import f1_score, recall_score, precision_score, confusion_matrix\n",
    "from sklearn.metrics import r2_score, roc_auc_score, roc_curve, classification_report\n",
    "from sklearn.svm import SVC \n",
    "\n",
    "import warnings\n",
    "warnings.filterwarnings('ignore')"
   ]
  },
  {
   "cell_type": "code",
   "execution_count": 2,
   "metadata": {
    "_cell_guid": "79c7e3d0-c299-4dcb-8224-4455121ee9b0",
    "_uuid": "d629ff2d2480ee46fbb7e2d37f6b5fab8052498a",
    "execution": {
     "iopub.execute_input": "2020-08-29T13:24:52.746502Z",
     "iopub.status.busy": "2020-08-29T13:24:52.745719Z",
     "iopub.status.idle": "2020-08-29T13:24:52.792111Z",
     "shell.execute_reply": "2020-08-29T13:24:52.792719Z"
    },
    "papermill": {
     "duration": 0.066399,
     "end_time": "2020-08-29T13:24:52.792883",
     "exception": false,
     "start_time": "2020-08-29T13:24:52.726484",
     "status": "completed"
    },
    "tags": []
   },
   "outputs": [
    {
     "data": {
      "text/html": [
       "<div>\n",
       "<style scoped>\n",
       "    .dataframe tbody tr th:only-of-type {\n",
       "        vertical-align: middle;\n",
       "    }\n",
       "\n",
       "    .dataframe tbody tr th {\n",
       "        vertical-align: top;\n",
       "    }\n",
       "\n",
       "    .dataframe thead th {\n",
       "        text-align: right;\n",
       "    }\n",
       "</style>\n",
       "<table border=\"1\" class=\"dataframe\">\n",
       "  <thead>\n",
       "    <tr style=\"text-align: right;\">\n",
       "      <th></th>\n",
       "      <th>age</th>\n",
       "      <th>anaemia</th>\n",
       "      <th>creatinine_phosphokinase</th>\n",
       "      <th>diabetes</th>\n",
       "      <th>ejection_fraction</th>\n",
       "      <th>high_blood_pressure</th>\n",
       "      <th>platelets</th>\n",
       "      <th>serum_creatinine</th>\n",
       "      <th>serum_sodium</th>\n",
       "      <th>sex</th>\n",
       "      <th>smoking</th>\n",
       "      <th>time</th>\n",
       "      <th>DEATH_EVENT</th>\n",
       "    </tr>\n",
       "  </thead>\n",
       "  <tbody>\n",
       "    <tr>\n",
       "      <th>0</th>\n",
       "      <td>75.0</td>\n",
       "      <td>0</td>\n",
       "      <td>582</td>\n",
       "      <td>0</td>\n",
       "      <td>20</td>\n",
       "      <td>1</td>\n",
       "      <td>265000.00</td>\n",
       "      <td>1.9</td>\n",
       "      <td>130</td>\n",
       "      <td>1</td>\n",
       "      <td>0</td>\n",
       "      <td>4</td>\n",
       "      <td>1</td>\n",
       "    </tr>\n",
       "    <tr>\n",
       "      <th>1</th>\n",
       "      <td>55.0</td>\n",
       "      <td>0</td>\n",
       "      <td>7861</td>\n",
       "      <td>0</td>\n",
       "      <td>38</td>\n",
       "      <td>0</td>\n",
       "      <td>263358.03</td>\n",
       "      <td>1.1</td>\n",
       "      <td>136</td>\n",
       "      <td>1</td>\n",
       "      <td>0</td>\n",
       "      <td>6</td>\n",
       "      <td>1</td>\n",
       "    </tr>\n",
       "    <tr>\n",
       "      <th>2</th>\n",
       "      <td>65.0</td>\n",
       "      <td>0</td>\n",
       "      <td>146</td>\n",
       "      <td>0</td>\n",
       "      <td>20</td>\n",
       "      <td>0</td>\n",
       "      <td>162000.00</td>\n",
       "      <td>1.3</td>\n",
       "      <td>129</td>\n",
       "      <td>1</td>\n",
       "      <td>1</td>\n",
       "      <td>7</td>\n",
       "      <td>1</td>\n",
       "    </tr>\n",
       "    <tr>\n",
       "      <th>3</th>\n",
       "      <td>50.0</td>\n",
       "      <td>1</td>\n",
       "      <td>111</td>\n",
       "      <td>0</td>\n",
       "      <td>20</td>\n",
       "      <td>0</td>\n",
       "      <td>210000.00</td>\n",
       "      <td>1.9</td>\n",
       "      <td>137</td>\n",
       "      <td>1</td>\n",
       "      <td>0</td>\n",
       "      <td>7</td>\n",
       "      <td>1</td>\n",
       "    </tr>\n",
       "    <tr>\n",
       "      <th>4</th>\n",
       "      <td>65.0</td>\n",
       "      <td>1</td>\n",
       "      <td>160</td>\n",
       "      <td>1</td>\n",
       "      <td>20</td>\n",
       "      <td>0</td>\n",
       "      <td>327000.00</td>\n",
       "      <td>2.7</td>\n",
       "      <td>116</td>\n",
       "      <td>0</td>\n",
       "      <td>0</td>\n",
       "      <td>8</td>\n",
       "      <td>1</td>\n",
       "    </tr>\n",
       "    <tr>\n",
       "      <th>5</th>\n",
       "      <td>90.0</td>\n",
       "      <td>1</td>\n",
       "      <td>47</td>\n",
       "      <td>0</td>\n",
       "      <td>40</td>\n",
       "      <td>1</td>\n",
       "      <td>204000.00</td>\n",
       "      <td>2.1</td>\n",
       "      <td>132</td>\n",
       "      <td>1</td>\n",
       "      <td>1</td>\n",
       "      <td>8</td>\n",
       "      <td>1</td>\n",
       "    </tr>\n",
       "    <tr>\n",
       "      <th>6</th>\n",
       "      <td>75.0</td>\n",
       "      <td>1</td>\n",
       "      <td>246</td>\n",
       "      <td>0</td>\n",
       "      <td>15</td>\n",
       "      <td>0</td>\n",
       "      <td>127000.00</td>\n",
       "      <td>1.2</td>\n",
       "      <td>137</td>\n",
       "      <td>1</td>\n",
       "      <td>0</td>\n",
       "      <td>10</td>\n",
       "      <td>1</td>\n",
       "    </tr>\n",
       "    <tr>\n",
       "      <th>7</th>\n",
       "      <td>60.0</td>\n",
       "      <td>1</td>\n",
       "      <td>315</td>\n",
       "      <td>1</td>\n",
       "      <td>60</td>\n",
       "      <td>0</td>\n",
       "      <td>454000.00</td>\n",
       "      <td>1.1</td>\n",
       "      <td>131</td>\n",
       "      <td>1</td>\n",
       "      <td>1</td>\n",
       "      <td>10</td>\n",
       "      <td>1</td>\n",
       "    </tr>\n",
       "    <tr>\n",
       "      <th>8</th>\n",
       "      <td>65.0</td>\n",
       "      <td>0</td>\n",
       "      <td>157</td>\n",
       "      <td>0</td>\n",
       "      <td>65</td>\n",
       "      <td>0</td>\n",
       "      <td>263358.03</td>\n",
       "      <td>1.5</td>\n",
       "      <td>138</td>\n",
       "      <td>0</td>\n",
       "      <td>0</td>\n",
       "      <td>10</td>\n",
       "      <td>1</td>\n",
       "    </tr>\n",
       "    <tr>\n",
       "      <th>9</th>\n",
       "      <td>80.0</td>\n",
       "      <td>1</td>\n",
       "      <td>123</td>\n",
       "      <td>0</td>\n",
       "      <td>35</td>\n",
       "      <td>1</td>\n",
       "      <td>388000.00</td>\n",
       "      <td>9.4</td>\n",
       "      <td>133</td>\n",
       "      <td>1</td>\n",
       "      <td>1</td>\n",
       "      <td>10</td>\n",
       "      <td>1</td>\n",
       "    </tr>\n",
       "  </tbody>\n",
       "</table>\n",
       "</div>"
      ],
      "text/plain": [
       "    age  anaemia  creatinine_phosphokinase  diabetes  ejection_fraction  \\\n",
       "0  75.0        0                       582         0                 20   \n",
       "1  55.0        0                      7861         0                 38   \n",
       "2  65.0        0                       146         0                 20   \n",
       "3  50.0        1                       111         0                 20   \n",
       "4  65.0        1                       160         1                 20   \n",
       "5  90.0        1                        47         0                 40   \n",
       "6  75.0        1                       246         0                 15   \n",
       "7  60.0        1                       315         1                 60   \n",
       "8  65.0        0                       157         0                 65   \n",
       "9  80.0        1                       123         0                 35   \n",
       "\n",
       "   high_blood_pressure  platelets  serum_creatinine  serum_sodium  sex  \\\n",
       "0                    1  265000.00               1.9           130    1   \n",
       "1                    0  263358.03               1.1           136    1   \n",
       "2                    0  162000.00               1.3           129    1   \n",
       "3                    0  210000.00               1.9           137    1   \n",
       "4                    0  327000.00               2.7           116    0   \n",
       "5                    1  204000.00               2.1           132    1   \n",
       "6                    0  127000.00               1.2           137    1   \n",
       "7                    0  454000.00               1.1           131    1   \n",
       "8                    0  263358.03               1.5           138    0   \n",
       "9                    1  388000.00               9.4           133    1   \n",
       "\n",
       "   smoking  time  DEATH_EVENT  \n",
       "0        0     4            1  \n",
       "1        0     6            1  \n",
       "2        1     7            1  \n",
       "3        0     7            1  \n",
       "4        0     8            1  \n",
       "5        1     8            1  \n",
       "6        0    10            1  \n",
       "7        1    10            1  \n",
       "8        0    10            1  \n",
       "9        1    10            1  "
      ]
     },
     "execution_count": 2,
     "metadata": {},
     "output_type": "execute_result"
    }
   ],
   "source": [
    "# Import and read dataset\n",
    "\n",
    "input_ = \"../input/heart-failure-clinical-data/heart_failure_clinical_records_dataset.csv\"\n",
    "data = pd.read_csv(input_)\n",
    "df = data.copy()\n",
    "\n",
    "data.head(10)"
   ]
  },
  {
   "cell_type": "code",
   "execution_count": 3,
   "metadata": {
    "execution": {
     "iopub.execute_input": "2020-08-29T13:24:52.824724Z",
     "iopub.status.busy": "2020-08-29T13:24:52.823850Z",
     "iopub.status.idle": "2020-08-29T13:24:52.875538Z",
     "shell.execute_reply": "2020-08-29T13:24:52.874923Z"
    },
    "papermill": {
     "duration": 0.074627,
     "end_time": "2020-08-29T13:24:52.875676",
     "exception": false,
     "start_time": "2020-08-29T13:24:52.801049",
     "status": "completed"
    },
    "tags": []
   },
   "outputs": [
    {
     "data": {
      "text/html": [
       "<div>\n",
       "<style scoped>\n",
       "    .dataframe tbody tr th:only-of-type {\n",
       "        vertical-align: middle;\n",
       "    }\n",
       "\n",
       "    .dataframe tbody tr th {\n",
       "        vertical-align: top;\n",
       "    }\n",
       "\n",
       "    .dataframe thead th {\n",
       "        text-align: right;\n",
       "    }\n",
       "</style>\n",
       "<table border=\"1\" class=\"dataframe\">\n",
       "  <thead>\n",
       "    <tr style=\"text-align: right;\">\n",
       "      <th></th>\n",
       "      <th>age</th>\n",
       "      <th>anaemia</th>\n",
       "      <th>creatinine_phosphokinase</th>\n",
       "      <th>diabetes</th>\n",
       "      <th>ejection_fraction</th>\n",
       "      <th>high_blood_pressure</th>\n",
       "      <th>platelets</th>\n",
       "      <th>serum_creatinine</th>\n",
       "      <th>serum_sodium</th>\n",
       "      <th>sex</th>\n",
       "      <th>smoking</th>\n",
       "      <th>time</th>\n",
       "      <th>DEATH_EVENT</th>\n",
       "    </tr>\n",
       "  </thead>\n",
       "  <tbody>\n",
       "    <tr>\n",
       "      <th>count</th>\n",
       "      <td>299.000000</td>\n",
       "      <td>299.000000</td>\n",
       "      <td>299.000000</td>\n",
       "      <td>299.000000</td>\n",
       "      <td>299.000000</td>\n",
       "      <td>299.000000</td>\n",
       "      <td>299.000000</td>\n",
       "      <td>299.00000</td>\n",
       "      <td>299.000000</td>\n",
       "      <td>299.000000</td>\n",
       "      <td>299.00000</td>\n",
       "      <td>299.000000</td>\n",
       "      <td>299.00000</td>\n",
       "    </tr>\n",
       "    <tr>\n",
       "      <th>mean</th>\n",
       "      <td>60.833893</td>\n",
       "      <td>0.431438</td>\n",
       "      <td>581.839465</td>\n",
       "      <td>0.418060</td>\n",
       "      <td>38.083612</td>\n",
       "      <td>0.351171</td>\n",
       "      <td>263358.029264</td>\n",
       "      <td>1.39388</td>\n",
       "      <td>136.625418</td>\n",
       "      <td>0.648829</td>\n",
       "      <td>0.32107</td>\n",
       "      <td>130.260870</td>\n",
       "      <td>0.32107</td>\n",
       "    </tr>\n",
       "    <tr>\n",
       "      <th>std</th>\n",
       "      <td>11.894809</td>\n",
       "      <td>0.496107</td>\n",
       "      <td>970.287881</td>\n",
       "      <td>0.494067</td>\n",
       "      <td>11.834841</td>\n",
       "      <td>0.478136</td>\n",
       "      <td>97804.236869</td>\n",
       "      <td>1.03451</td>\n",
       "      <td>4.412477</td>\n",
       "      <td>0.478136</td>\n",
       "      <td>0.46767</td>\n",
       "      <td>77.614208</td>\n",
       "      <td>0.46767</td>\n",
       "    </tr>\n",
       "    <tr>\n",
       "      <th>min</th>\n",
       "      <td>40.000000</td>\n",
       "      <td>0.000000</td>\n",
       "      <td>23.000000</td>\n",
       "      <td>0.000000</td>\n",
       "      <td>14.000000</td>\n",
       "      <td>0.000000</td>\n",
       "      <td>25100.000000</td>\n",
       "      <td>0.50000</td>\n",
       "      <td>113.000000</td>\n",
       "      <td>0.000000</td>\n",
       "      <td>0.00000</td>\n",
       "      <td>4.000000</td>\n",
       "      <td>0.00000</td>\n",
       "    </tr>\n",
       "    <tr>\n",
       "      <th>25%</th>\n",
       "      <td>51.000000</td>\n",
       "      <td>0.000000</td>\n",
       "      <td>116.500000</td>\n",
       "      <td>0.000000</td>\n",
       "      <td>30.000000</td>\n",
       "      <td>0.000000</td>\n",
       "      <td>212500.000000</td>\n",
       "      <td>0.90000</td>\n",
       "      <td>134.000000</td>\n",
       "      <td>0.000000</td>\n",
       "      <td>0.00000</td>\n",
       "      <td>73.000000</td>\n",
       "      <td>0.00000</td>\n",
       "    </tr>\n",
       "    <tr>\n",
       "      <th>50%</th>\n",
       "      <td>60.000000</td>\n",
       "      <td>0.000000</td>\n",
       "      <td>250.000000</td>\n",
       "      <td>0.000000</td>\n",
       "      <td>38.000000</td>\n",
       "      <td>0.000000</td>\n",
       "      <td>262000.000000</td>\n",
       "      <td>1.10000</td>\n",
       "      <td>137.000000</td>\n",
       "      <td>1.000000</td>\n",
       "      <td>0.00000</td>\n",
       "      <td>115.000000</td>\n",
       "      <td>0.00000</td>\n",
       "    </tr>\n",
       "    <tr>\n",
       "      <th>75%</th>\n",
       "      <td>70.000000</td>\n",
       "      <td>1.000000</td>\n",
       "      <td>582.000000</td>\n",
       "      <td>1.000000</td>\n",
       "      <td>45.000000</td>\n",
       "      <td>1.000000</td>\n",
       "      <td>303500.000000</td>\n",
       "      <td>1.40000</td>\n",
       "      <td>140.000000</td>\n",
       "      <td>1.000000</td>\n",
       "      <td>1.00000</td>\n",
       "      <td>203.000000</td>\n",
       "      <td>1.00000</td>\n",
       "    </tr>\n",
       "    <tr>\n",
       "      <th>max</th>\n",
       "      <td>95.000000</td>\n",
       "      <td>1.000000</td>\n",
       "      <td>7861.000000</td>\n",
       "      <td>1.000000</td>\n",
       "      <td>80.000000</td>\n",
       "      <td>1.000000</td>\n",
       "      <td>850000.000000</td>\n",
       "      <td>9.40000</td>\n",
       "      <td>148.000000</td>\n",
       "      <td>1.000000</td>\n",
       "      <td>1.00000</td>\n",
       "      <td>285.000000</td>\n",
       "      <td>1.00000</td>\n",
       "    </tr>\n",
       "  </tbody>\n",
       "</table>\n",
       "</div>"
      ],
      "text/plain": [
       "              age     anaemia  creatinine_phosphokinase    diabetes  \\\n",
       "count  299.000000  299.000000                299.000000  299.000000   \n",
       "mean    60.833893    0.431438                581.839465    0.418060   \n",
       "std     11.894809    0.496107                970.287881    0.494067   \n",
       "min     40.000000    0.000000                 23.000000    0.000000   \n",
       "25%     51.000000    0.000000                116.500000    0.000000   \n",
       "50%     60.000000    0.000000                250.000000    0.000000   \n",
       "75%     70.000000    1.000000                582.000000    1.000000   \n",
       "max     95.000000    1.000000               7861.000000    1.000000   \n",
       "\n",
       "       ejection_fraction  high_blood_pressure      platelets  \\\n",
       "count         299.000000           299.000000     299.000000   \n",
       "mean           38.083612             0.351171  263358.029264   \n",
       "std            11.834841             0.478136   97804.236869   \n",
       "min            14.000000             0.000000   25100.000000   \n",
       "25%            30.000000             0.000000  212500.000000   \n",
       "50%            38.000000             0.000000  262000.000000   \n",
       "75%            45.000000             1.000000  303500.000000   \n",
       "max            80.000000             1.000000  850000.000000   \n",
       "\n",
       "       serum_creatinine  serum_sodium         sex    smoking        time  \\\n",
       "count         299.00000    299.000000  299.000000  299.00000  299.000000   \n",
       "mean            1.39388    136.625418    0.648829    0.32107  130.260870   \n",
       "std             1.03451      4.412477    0.478136    0.46767   77.614208   \n",
       "min             0.50000    113.000000    0.000000    0.00000    4.000000   \n",
       "25%             0.90000    134.000000    0.000000    0.00000   73.000000   \n",
       "50%             1.10000    137.000000    1.000000    0.00000  115.000000   \n",
       "75%             1.40000    140.000000    1.000000    1.00000  203.000000   \n",
       "max             9.40000    148.000000    1.000000    1.00000  285.000000   \n",
       "\n",
       "       DEATH_EVENT  \n",
       "count    299.00000  \n",
       "mean       0.32107  \n",
       "std        0.46767  \n",
       "min        0.00000  \n",
       "25%        0.00000  \n",
       "50%        0.00000  \n",
       "75%        1.00000  \n",
       "max        1.00000  "
      ]
     },
     "execution_count": 3,
     "metadata": {},
     "output_type": "execute_result"
    }
   ],
   "source": [
    "data.describe()"
   ]
  },
  {
   "cell_type": "code",
   "execution_count": 4,
   "metadata": {
    "execution": {
     "iopub.execute_input": "2020-08-29T13:24:52.907672Z",
     "iopub.status.busy": "2020-08-29T13:24:52.904447Z",
     "iopub.status.idle": "2020-08-29T13:24:52.913423Z",
     "shell.execute_reply": "2020-08-29T13:24:52.912657Z"
    },
    "papermill": {
     "duration": 0.02954,
     "end_time": "2020-08-29T13:24:52.913556",
     "exception": false,
     "start_time": "2020-08-29T13:24:52.884016",
     "status": "completed"
    },
    "tags": []
   },
   "outputs": [],
   "source": [
    "inp_data = data.drop(data[['DEATH_EVENT']], axis=1)\n",
    "out_data = data[['DEATH_EVENT']]\n",
    "\n",
    "scaler = StandardScaler()\n",
    "inp_data = scaler.fit_transform(inp_data)\n",
    "\n",
    "X_train, X_test, y_train, y_test = train_test_split(inp_data, out_data, test_size=0.2, random_state=42)"
   ]
  },
  {
   "cell_type": "code",
   "execution_count": 5,
   "metadata": {
    "execution": {
     "iopub.execute_input": "2020-08-29T13:24:52.945019Z",
     "iopub.status.busy": "2020-08-29T13:24:52.943833Z",
     "iopub.status.idle": "2020-08-29T13:24:52.949809Z",
     "shell.execute_reply": "2020-08-29T13:24:52.950529Z"
    },
    "papermill": {
     "duration": 0.02666,
     "end_time": "2020-08-29T13:24:52.950773",
     "exception": false,
     "start_time": "2020-08-29T13:24:52.924113",
     "status": "completed"
    },
    "tags": []
   },
   "outputs": [
    {
     "name": "stdout",
     "output_type": "stream",
     "text": [
      "X_train Shape :  (239, 12)\n",
      "X_test Shape  :  (60, 12)\n",
      "y_train Shape :  (239, 1)\n",
      "y_test Shape  :  (60, 1)\n"
     ]
    }
   ],
   "source": [
    "print(\"X_train Shape : \", X_train.shape)\n",
    "print(\"X_test Shape  : \", X_test.shape)\n",
    "print(\"y_train Shape : \", y_train.shape)\n",
    "print(\"y_test Shape  : \", y_test.shape)"
   ]
  },
  {
   "cell_type": "code",
   "execution_count": 6,
   "metadata": {
    "execution": {
     "iopub.execute_input": "2020-08-29T13:24:52.985480Z",
     "iopub.status.busy": "2020-08-29T13:24:52.984453Z",
     "iopub.status.idle": "2020-08-29T13:24:53.015130Z",
     "shell.execute_reply": "2020-08-29T13:24:53.014476Z"
    },
    "papermill": {
     "duration": 0.0517,
     "end_time": "2020-08-29T13:24:53.015319",
     "exception": false,
     "start_time": "2020-08-29T13:24:52.963619",
     "status": "completed"
    },
    "tags": []
   },
   "outputs": [
    {
     "name": "stdout",
     "output_type": "stream",
     "text": [
      "Accuracy Score: 0.7500\n",
      "SVC f1-score  : 0.6154\n",
      "SVC precision : 0.4800\n",
      "SVC recall    : 0.8571\n",
      "\n",
      "               precision    recall  f1-score   support\n",
      "\n",
      "           0       0.94      0.72      0.81        46\n",
      "           1       0.48      0.86      0.62        14\n",
      "\n",
      "    accuracy                           0.75        60\n",
      "   macro avg       0.71      0.79      0.72        60\n",
      "weighted avg       0.83      0.75      0.77        60\n",
      "\n"
     ]
    }
   ],
   "source": [
    "# basic method\n",
    "clf = SVC() \n",
    "clf.fit(X_train, y_train) \n",
    "\n",
    "y_pred = clf.predict(X_test)\n",
    "\n",
    "print('Accuracy Score: {:.4f}'.format(accuracy_score(y_test, y_pred)))\n",
    "print('SVC f1-score  : {:.4f}'.format(f1_score(y_pred, y_test)))\n",
    "print('SVC precision : {:.4f}'.format(precision_score(y_pred, y_test)))\n",
    "print('SVC recall    : {:.4f}'.format(recall_score(y_pred, y_test)))\n",
    "print(\"\\n\",classification_report(y_pred, y_test))"
   ]
  },
  {
   "cell_type": "code",
   "execution_count": 7,
   "metadata": {
    "execution": {
     "iopub.execute_input": "2020-08-29T13:24:53.050819Z",
     "iopub.status.busy": "2020-08-29T13:24:53.048076Z",
     "iopub.status.idle": "2020-08-29T13:28:29.890000Z",
     "shell.execute_reply": "2020-08-29T13:28:29.890629Z"
    },
    "papermill": {
     "duration": 216.865073,
     "end_time": "2020-08-29T13:28:29.890806",
     "exception": false,
     "start_time": "2020-08-29T13:24:53.025733",
     "status": "completed"
    },
    "tags": []
   },
   "outputs": [
    {
     "data": {
      "text/plain": [
       "{'C': 10, 'gamma': 0.1, 'kernel': 'linear'}"
      ]
     },
     "execution_count": 7,
     "metadata": {},
     "output_type": "execute_result"
    }
   ],
   "source": [
    "# find best parameters with SVC | Step 1\n",
    "kernels = list(['linear', 'rbf', 'poly', 'sigmoid'])\n",
    "c = list([0.00001, 0.0001, 0.001, 0.01, 0.1, 1, 10, 100, 1000, 10000])\n",
    "gammas = list([0.1, 1, 10, 100])\n",
    "\n",
    "clf = SVC()\n",
    "clf.fit(X_train, y_train) \n",
    "param_grid = dict(kernel=kernels, C=c, gamma=gammas)\n",
    "grid = GridSearchCV(clf, param_grid, cv=10, n_jobs=-1)\n",
    "grid.fit(X_train, y_train)\n",
    "grid.best_params_"
   ]
  },
  {
   "cell_type": "code",
   "execution_count": 8,
   "metadata": {
    "execution": {
     "iopub.execute_input": "2020-08-29T13:28:29.919221Z",
     "iopub.status.busy": "2020-08-29T13:28:29.918405Z",
     "iopub.status.idle": "2020-08-29T13:28:29.943769Z",
     "shell.execute_reply": "2020-08-29T13:28:29.942831Z"
    },
    "papermill": {
     "duration": 0.044077,
     "end_time": "2020-08-29T13:28:29.943943",
     "exception": false,
     "start_time": "2020-08-29T13:28:29.899866",
     "status": "completed"
    },
    "tags": []
   },
   "outputs": [
    {
     "name": "stdout",
     "output_type": "stream",
     "text": [
      "Accuracy Score: 0.8000\n",
      "SVC f1-score  : 0.7143\n",
      "SVC precision : 0.6000\n",
      "SVC recall    : 0.8824\n",
      "\n",
      "               precision    recall  f1-score   support\n",
      "\n",
      "           0       0.94      0.77      0.85        43\n",
      "           1       0.60      0.88      0.71        17\n",
      "\n",
      "    accuracy                           0.80        60\n",
      "   macro avg       0.77      0.82      0.78        60\n",
      "weighted avg       0.85      0.80      0.81        60\n",
      "\n"
     ]
    }
   ],
   "source": [
    "clf = SVC(C=10, gamma=0.1, kernel='linear') \n",
    "clf.fit(X_train, y_train) \n",
    "\n",
    "y_pred = clf.predict(X_test)\n",
    "\n",
    "print('Accuracy Score: {:.4f}'.format(accuracy_score(y_test, y_pred)))\n",
    "print('SVC f1-score  : {:.4f}'.format(f1_score(y_pred, y_test)))\n",
    "print('SVC precision : {:.4f}'.format(precision_score(y_pred, y_test)))\n",
    "print('SVC recall    : {:.4f}'.format(recall_score(y_pred, y_test)))\n",
    "print(\"\\n\",classification_report(y_pred, y_test))"
   ]
  },
  {
   "cell_type": "code",
   "execution_count": 9,
   "metadata": {
    "execution": {
     "iopub.execute_input": "2020-08-29T13:28:29.974389Z",
     "iopub.status.busy": "2020-08-29T13:28:29.973563Z",
     "iopub.status.idle": "2020-08-29T13:28:36.516846Z",
     "shell.execute_reply": "2020-08-29T13:28:36.516040Z"
    },
    "papermill": {
     "duration": 6.563149,
     "end_time": "2020-08-29T13:28:36.516978",
     "exception": false,
     "start_time": "2020-08-29T13:28:29.953829",
     "status": "completed"
    },
    "tags": []
   },
   "outputs": [
    {
     "data": {
      "text/plain": [
       "{'C': 5, 'gamma': 0.05, 'kernel': 'linear'}"
      ]
     },
     "execution_count": 9,
     "metadata": {},
     "output_type": "execute_result"
    }
   ],
   "source": [
    "# find best parameters with SVC | Step 2\n",
    "kernels = list(['linear'])\n",
    "c = list([5,10,15,20,25,30])\n",
    "gammas = list([0.05, 0.06, 0.07, 0.08, 0.09, 0.1, 0.2, 0.3, 0.4, 0.5, 0.6, 0.7, 0.8])\n",
    "\n",
    "clf = SVC()\n",
    "clf.fit(X_train, y_train) \n",
    "param_grid = dict(kernel=kernels, C=c, gamma=gammas)\n",
    "grid = GridSearchCV(clf, param_grid, cv=10, n_jobs=-1)\n",
    "grid.fit(X_train, y_train)\n",
    "grid.best_params_"
   ]
  },
  {
   "cell_type": "code",
   "execution_count": 10,
   "metadata": {
    "execution": {
     "iopub.execute_input": "2020-08-29T13:28:36.545255Z",
     "iopub.status.busy": "2020-08-29T13:28:36.544430Z",
     "iopub.status.idle": "2020-08-29T13:28:36.568974Z",
     "shell.execute_reply": "2020-08-29T13:28:36.568187Z"
    },
    "papermill": {
     "duration": 0.042838,
     "end_time": "2020-08-29T13:28:36.569120",
     "exception": false,
     "start_time": "2020-08-29T13:28:36.526282",
     "status": "completed"
    },
    "tags": []
   },
   "outputs": [
    {
     "name": "stdout",
     "output_type": "stream",
     "text": [
      "Accuracy Score: 0.8167\n",
      "SVC f1-score  : 0.7317\n",
      "SVC precision : 0.6000\n",
      "SVC recall    : 0.9375\n",
      "\n",
      "               precision    recall  f1-score   support\n",
      "\n",
      "           0       0.97      0.77      0.86        44\n",
      "           1       0.60      0.94      0.73        16\n",
      "\n",
      "    accuracy                           0.82        60\n",
      "   macro avg       0.79      0.86      0.80        60\n",
      "weighted avg       0.87      0.82      0.83        60\n",
      "\n"
     ]
    }
   ],
   "source": [
    "clf = SVC(C=5, gamma=0.05, kernel='linear') \n",
    "clf.fit(X_train, y_train) \n",
    "\n",
    "y_pred = clf.predict(X_test)\n",
    "\n",
    "print('Accuracy Score: {:.4f}'.format(accuracy_score(y_test, y_pred)))\n",
    "print('SVC f1-score  : {:.4f}'.format(f1_score(y_pred, y_test)))\n",
    "print('SVC precision : {:.4f}'.format(precision_score(y_pred, y_test)))\n",
    "print('SVC recall    : {:.4f}'.format(recall_score(y_pred, y_test)))\n",
    "print(\"\\n\",classification_report(y_pred, y_test))"
   ]
  },
  {
   "cell_type": "markdown",
   "execution_count": null,
   "metadata": {
    "papermill": {
     "duration": 0.008822,
     "end_time": "2020-08-29T13:28:36.587300",
     "exception": false,
     "start_time": "2020-08-29T13:28:36.578478",
     "status": "completed"
    },
    "tags": []
   },
   "source": [
    "## After the SMOTE process"
   ]
  },
  {
   "cell_type": "code",
   "execution_count": 11,
   "metadata": {
    "execution": {
     "iopub.execute_input": "2020-08-29T13:28:36.615072Z",
     "iopub.status.busy": "2020-08-29T13:28:36.614127Z",
     "iopub.status.idle": "2020-08-29T13:28:36.915441Z",
     "shell.execute_reply": "2020-08-29T13:28:36.914809Z"
    },
    "papermill": {
     "duration": 0.319105,
     "end_time": "2020-08-29T13:28:36.915577",
     "exception": false,
     "start_time": "2020-08-29T13:28:36.596472",
     "status": "completed"
    },
    "tags": []
   },
   "outputs": [
    {
     "name": "stdout",
     "output_type": "stream",
     "text": [
      "X_train Shape :  (324, 12)\n",
      "X_test Shape  :  (82, 12)\n",
      "y_train Shape :  (324, 1)\n",
      "y_test Shape  :  (82, 1)\n"
     ]
    }
   ],
   "source": [
    "from imblearn.over_sampling import SMOTE\n",
    "\n",
    "sms = SMOTE(random_state=12345)\n",
    "X_res, y_res = sms.fit_sample(inp_data, out_data)\n",
    "X_train, X_test, y_train, y_test = train_test_split(X_res, y_res, test_size=0.2, random_state=42)\n",
    "\n",
    "print(\"X_train Shape : \", X_train.shape)\n",
    "print(\"X_test Shape  : \", X_test.shape)\n",
    "print(\"y_train Shape : \", y_train.shape)\n",
    "print(\"y_test Shape  : \", y_test.shape)"
   ]
  },
  {
   "cell_type": "code",
   "execution_count": 12,
   "metadata": {
    "execution": {
     "iopub.execute_input": "2020-08-29T13:28:36.946701Z",
     "iopub.status.busy": "2020-08-29T13:28:36.945869Z",
     "iopub.status.idle": "2020-08-29T13:29:12.517828Z",
     "shell.execute_reply": "2020-08-29T13:29:12.518445Z"
    },
    "papermill": {
     "duration": 35.593306,
     "end_time": "2020-08-29T13:29:12.518607",
     "exception": false,
     "start_time": "2020-08-29T13:28:36.925301",
     "status": "completed"
    },
    "tags": []
   },
   "outputs": [
    {
     "data": {
      "text/plain": [
       "{'C': 30, 'gamma': 0.08, 'kernel': 'rbf'}"
      ]
     },
     "execution_count": 12,
     "metadata": {},
     "output_type": "execute_result"
    }
   ],
   "source": [
    "# find best parameters with SVC | Step 2\n",
    "kernels = list(['linear', 'rbf', 'poly', 'sigmoid'])\n",
    "c = list([20,25,30,35,40,45,50])\n",
    "gammas = list([0.05, 0.06, 0.07, 0.08, 0.09, 0.1, 0.2, 0.3, 0.4, 0.5, 0.6, 0.7, 0.8])\n",
    "\n",
    "clf = SVC()\n",
    "param_grid = dict(kernel=kernels, C=c, gamma=gammas)\n",
    "grid = GridSearchCV(clf, param_grid, cv=10, n_jobs=-1)\n",
    "grid.fit(X_train, y_train)\n",
    "grid.best_params_"
   ]
  },
  {
   "cell_type": "code",
   "execution_count": 13,
   "metadata": {
    "execution": {
     "iopub.execute_input": "2020-08-29T13:29:12.547740Z",
     "iopub.status.busy": "2020-08-29T13:29:12.546940Z",
     "iopub.status.idle": "2020-08-29T13:29:12.570860Z",
     "shell.execute_reply": "2020-08-29T13:29:12.571459Z"
    },
    "papermill": {
     "duration": 0.043616,
     "end_time": "2020-08-29T13:29:12.571637",
     "exception": false,
     "start_time": "2020-08-29T13:29:12.528021",
     "status": "completed"
    },
    "tags": []
   },
   "outputs": [
    {
     "name": "stdout",
     "output_type": "stream",
     "text": [
      "Accuracy Score: 0.8780\n",
      "SVC f1-score  : 0.8780\n",
      "SVC precision : 0.8780\n",
      "SVC recall    : 0.8780\n",
      "\n",
      "               precision    recall  f1-score   support\n",
      "\n",
      "           0       0.88      0.88      0.88        41\n",
      "           1       0.88      0.88      0.88        41\n",
      "\n",
      "    accuracy                           0.88        82\n",
      "   macro avg       0.88      0.88      0.88        82\n",
      "weighted avg       0.88      0.88      0.88        82\n",
      "\n"
     ]
    }
   ],
   "source": [
    "clf = SVC(C=30, gamma=0.08, kernel='rbf') \n",
    "clf.fit(X_train, y_train) \n",
    "\n",
    "y_pred = clf.predict(X_test)\n",
    "\n",
    "print('Accuracy Score: {:.4f}'.format(accuracy_score(y_test, y_pred)))\n",
    "print('SVC f1-score  : {:.4f}'.format(f1_score(y_pred, y_test)))\n",
    "print('SVC precision : {:.4f}'.format(precision_score(y_pred, y_test)))\n",
    "print('SVC recall    : {:.4f}'.format(recall_score(y_pred, y_test)))\n",
    "print(\"\\n\",classification_report(y_pred, y_test))"
   ]
  },
  {
   "cell_type": "code",
   "execution_count": 14,
   "metadata": {
    "execution": {
     "iopub.execute_input": "2020-08-29T13:29:12.598649Z",
     "iopub.status.busy": "2020-08-29T13:29:12.597800Z",
     "iopub.status.idle": "2020-08-29T13:29:12.875564Z",
     "shell.execute_reply": "2020-08-29T13:29:12.874775Z"
    },
    "papermill": {
     "duration": 0.294171,
     "end_time": "2020-08-29T13:29:12.875698",
     "exception": false,
     "start_time": "2020-08-29T13:29:12.581527",
     "status": "completed"
    },
    "tags": []
   },
   "outputs": [
    {
     "data": {
      "text/plain": [
       "<matplotlib.axes._subplots.AxesSubplot at 0x7fdf2160bf50>"
      ]
     },
     "execution_count": 14,
     "metadata": {},
     "output_type": "execute_result"
    },
    {
     "data": {
      "image/png": "[encoded data removed]",
      "text/plain": [
       "<Figure size 432x288 with 2 Axes>"
      ]
     },
     "metadata": {
      "needs_background": "light"
     },
     "output_type": "display_data"
    }
   ],
   "source": [
    "y_pred = clf.predict(X_test)\n",
    "\n",
    "cf_matrix = confusion_matrix(y_pred, y_test)\n",
    "sns.heatmap((cf_matrix / np.sum(cf_matrix)*100), annot = True, fmt=\".2f\", cmap=\"Blues\")"
   ]
  },
  {
   "cell_type": "markdown",
   "execution_count": null,
   "metadata": {
    "papermill": {
     "duration": 0.009672,
     "end_time": "2020-08-29T13:29:12.896038",
     "exception": false,
     "start_time": "2020-08-29T13:29:12.886366",
     "status": "completed"
    },
    "tags": []
   },
   "source": [
    "## Reporting\n",
    "\n",
    "I evaluated the results I found with Confusion Matrix, the results are as follows:\n",
    "\n",
    "**Correctly predicted -> %89.02 (361 of 406 predict are correct)**\n",
    "- True Negative -> %42.68 -> Those who were predicted not to die and who did not die\n",
    "- True Positive -> %46.34 -> Those who were predicted to die and who did die\n",
    "\n",
    "**Wrong predicted-> %10.98 (45 of 406 predict are wrong)**\n",
    "- False Positive -> %03.66 -> Those who were predicted to die but who did not die\n",
    "- False Negative -> %07.32 -> Those who were predicted to not die but who did die"
   ]
  },
  {
   "cell_type": "markdown",
   "execution_count": null,
   "metadata": {
    "papermill": {
     "duration": 0.009622,
     "end_time": "2020-08-29T13:29:12.915615",
     "exception": false,
     "start_time": "2020-08-29T13:29:12.905993",
     "status": "completed"
    },
    "tags": []
   },
   "source": [
    "As a sanity check, let’s do 500 rounds of random sampling and assess the stability of our model:"
   ]
  },
  {
   "cell_type": "code",
   "execution_count": 15,
   "metadata": {
    "execution": {
     "iopub.execute_input": "2020-08-29T13:29:12.947122Z",
     "iopub.status.busy": "2020-08-29T13:29:12.946101Z",
     "iopub.status.idle": "2020-08-29T13:29:16.986875Z",
     "shell.execute_reply": "2020-08-29T13:29:16.985989Z"
    },
    "papermill": {
     "duration": 4.061199,
     "end_time": "2020-08-29T13:29:16.987022",
     "exception": false,
     "start_time": "2020-08-29T13:29:12.925823",
     "status": "completed"
    },
    "tags": []
   },
   "outputs": [
    {
     "data": {
      "image/png": "[encoded data removed]",
      "text/plain": [
       "<Figure size 432x288 with 1 Axes>"
      ]
     },
     "metadata": {
      "needs_background": "light"
     },
     "output_type": "display_data"
    }
   ],
   "source": [
    "scores = [] \n",
    "for i in range(0,500): \n",
    "    X_train, X_test, y_train, y_test = train_test_split(X_res, y_res, test_size=0.2)\n",
    "    clf = SVC(kernel='rbf', C=30, gamma=0.08) \n",
    "    clf.fit(X_train, y_train)\n",
    "    scores.append(accuracy_score(clf.predict(X_test), y_test)) \n",
    "\n",
    "plt.hist(scores)\n",
    "plt.show()"
   ]
  }
 ],
 "metadata": {
  "kernelspec": {
   "display_name": "Python 3",
   "language": "python",
   "name": "python3"
  },
  "language_info": {
   "codemirror_mode": {
    "name": "ipython",
    "version": 3
   },
   "file_extension": ".py",
   "mimetype": "text/x-python",
   "name": "python",
   "nbconvert_exporter": "python",
   "pygments_lexer": "ipython3",
   "version": "3.7.6"
  },
  "papermill": {
   "duration": 273.207692,
   "end_time": "2020-08-29T13:29:18.072002",
   "environment_variables": {},
   "exception": null,
   "input_path": "__notebook__.ipynb",
   "output_path": "__notebook__.ipynb",
   "parameters": {},
   "start_time": "2020-08-29T13:24:44.864310",
   "version": "2.1.0"
  }
 },
 "nbformat": 4,
 "nbformat_minor": 4
}
