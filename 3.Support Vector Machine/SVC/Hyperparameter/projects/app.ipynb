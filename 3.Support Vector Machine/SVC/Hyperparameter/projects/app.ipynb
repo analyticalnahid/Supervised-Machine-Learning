{
 "cells": [
  {
   "cell_type": "code",
   "execution_count": 1,
   "id": "7fa6e326",
   "metadata": {
    "ExecuteTime": {
     "end_time": "2022-06-06T16:08:20.436133Z",
     "start_time": "2022-06-06T16:08:18.828646Z"
    }
   },
   "outputs": [],
   "source": [
    "import pandas as pnd  \n",
    "import numpy as nmp  \n",
    "import pickle as pkl  \n",
    "import streamlit as smt  \n",
    "from PIL import Image as img  "
   ]
  },
  {
   "cell_type": "code",
   "execution_count": 2,
   "id": "f97a5688",
   "metadata": {
    "ExecuteTime": {
     "end_time": "2022-06-06T16:08:20.861751Z",
     "start_time": "2022-06-06T16:08:20.438646Z"
    }
   },
   "outputs": [],
   "source": [
    "## loading the model\n",
    "pickle_in = open('pipe.pkl', 'rb')\n",
    "classifier = pkl.load(pickle_in)"
   ]
  },
  {
   "cell_type": "code",
   "execution_count": 3,
   "id": "fcf29d85",
   "metadata": {
    "ExecuteTime": {
     "end_time": "2022-06-06T16:08:21.019339Z",
     "start_time": "2022-06-06T16:08:20.863767Z"
    }
   },
   "outputs": [
    {
     "name": "stderr",
     "output_type": "stream",
     "text": [
      "2022-06-06 22:08:21.016 \n",
      "  \u001b[33m\u001b[1mWarning:\u001b[0m to view this Streamlit app on a browser, run it with the following\n",
      "  command:\n",
      "\n",
      "    streamlit run /usr/local/lib/python3.8/dist-packages/ipykernel_launcher.py [ARGUMENTS]\n"
     ]
    }
   ],
   "source": [
    "def welcome():  \n",
    "    return 'welcome you all'  \n",
    "    \n",
    "\n",
    "def prediction(age,sex,cp,trestbps,chol,fbs,restecg,thalach,exang,oldpeak,slope,ca,thal):    \n",
    "     \n",
    "    prediction = classifier.predict(  \n",
    "        [[age,sex,cp,trestbps,chol,fbs,restecg,thalach,exang,oldpeak,slope,ca,thal]])  \n",
    "    print(prediction)  \n",
    "    return prediction  \n",
    "        \n",
    "    \n",
    "def main():  \n",
    " \n",
    "    smt.title(\"Heart Disease Prediction\")  \n",
    "        \n",
    "    html_temp = \"\"\"  \n",
    "    <div style = \"background-colour: #FFFF00; padding: 16px\">  \n",
    "    <h1 style = \"color: #000000; text-align: centre; \"> Streamlit Iris Flower Classifier ML App   \n",
    "     </h1>  \n",
    "    </div>  \n",
    "    \"\"\"  \n",
    "        \n",
    "    smt.markdown(html_temp, unsafe_allow_html = True)  \n",
    "    age = smt.text_input(\"age \")\n",
    "    sex = smt.text_input(\"sex \")\n",
    "    cp = smt.text_input(\"cp \")\n",
    "    trestbps = smt.text_input(\" trestbps \")\n",
    "    chol = smt.text_input(\"chol \")\n",
    "    fbs = smt.text_input(\"fbs \")\n",
    "    restecg = smt.text_input(\"restecg \")\n",
    "    thalach = smt.text_input(\"thalach \")\n",
    "    exang = smt.text_input(\"exang \")\n",
    "    oldpeak = smt.text_input(\"oldpeak \")\n",
    "    slope = smt.text_input(\"slope \")\n",
    "    ca = smt.text_input(\"ca \")\n",
    "    thal = smt.text_input(\"thal \")\n",
    "    result = \" \"  \n",
    "        \n",
    "\n",
    "    if smt.button(\"Predict\"):  \n",
    "        result = prediction(age,sex,cp,trestbps,chol,fbs,restecg,thalach,exang,oldpeak,slope,ca,thal)  \n",
    "    smt.success ('The output of the above is {}'.format(result))  \n",
    "    \n",
    "    \n",
    "if __name__== '__main__':  \n",
    "    main()  "
   ]
  },
  {
   "cell_type": "code",
   "execution_count": null,
   "id": "d3ebc14a",
   "metadata": {},
   "outputs": [],
   "source": []
  },
  {
   "cell_type": "code",
   "execution_count": null,
   "id": "48cac27d",
   "metadata": {},
   "outputs": [],
   "source": []
  }
 ],
 "metadata": {
  "kernelspec": {
   "display_name": "Python 3 (ipykernel)",
   "language": "python",
   "name": "python3"
  },
  "language_info": {
   "codemirror_mode": {
    "name": "ipython",
    "version": 3
   },
   "file_extension": ".py",
   "mimetype": "text/x-python",
   "name": "python",
   "nbconvert_exporter": "python",
   "pygments_lexer": "ipython3",
   "version": "3.8.10"
  },
  "toc": {
   "base_numbering": 1,
   "nav_menu": {},
   "number_sections": true,
   "sideBar": true,
   "skip_h1_title": false,
   "title_cell": "Table of Contents",
   "title_sidebar": "Contents",
   "toc_cell": false,
   "toc_position": {},
   "toc_section_display": true,
   "toc_window_display": false
  }
 },
 "nbformat": 4,
 "nbformat_minor": 5
}
