{
 "cells": [
  {
   "cell_type": "code",
   "execution_count": 1,
   "id": "informal-university",
   "metadata": {
    "execution": {
     "iopub.execute_input": "2021-06-19T07:09:32.971315Z",
     "iopub.status.busy": "2021-06-19T07:09:32.970616Z",
     "iopub.status.idle": "2021-06-19T07:09:34.167089Z",
     "shell.execute_reply": "2021-06-19T07:09:34.166292Z",
     "shell.execute_reply.started": "2021-06-19T07:06:41.745475Z"
    },
    "papermill": {
     "duration": 1.231306,
     "end_time": "2021-06-19T07:09:34.167263",
     "exception": false,
     "start_time": "2021-06-19T07:09:32.935957",
     "status": "completed"
    },
    "tags": []
   },
   "outputs": [],
   "source": [
    "import pandas as pd\n",
    "from sklearn.preprocessing import StandardScaler\n",
    "sts=StandardScaler()\n",
    "from sklearn.svm import SVC"
   ]
  },
  {
   "cell_type": "code",
   "execution_count": 2,
   "id": "grateful-haven",
   "metadata": {
    "execution": {
     "iopub.execute_input": "2021-06-19T07:09:34.210688Z",
     "iopub.status.busy": "2021-06-19T07:09:34.210140Z",
     "iopub.status.idle": "2021-06-19T07:09:34.227291Z",
     "shell.execute_reply": "2021-06-19T07:09:34.227690Z",
     "shell.execute_reply.started": "2021-06-19T07:06:42.909664Z"
    },
    "papermill": {
     "duration": 0.041035,
     "end_time": "2021-06-19T07:09:34.227826",
     "exception": false,
     "start_time": "2021-06-19T07:09:34.186791",
     "status": "completed"
    },
    "tags": []
   },
   "outputs": [],
   "source": [
    "df1=pd.read_csv('../input/titanic/train.csv')"
   ]
  },
  {
   "cell_type": "code",
   "execution_count": 3,
   "id": "threaded-junior",
   "metadata": {
    "execution": {
     "iopub.execute_input": "2021-06-19T07:09:34.279126Z",
     "iopub.status.busy": "2021-06-19T07:09:34.277380Z",
     "iopub.status.idle": "2021-06-19T07:09:34.302580Z",
     "shell.execute_reply": "2021-06-19T07:09:34.302097Z",
     "shell.execute_reply.started": "2021-06-19T07:06:42.933686Z"
    },
    "papermill": {
     "duration": 0.05557,
     "end_time": "2021-06-19T07:09:34.302691",
     "exception": false,
     "start_time": "2021-06-19T07:09:34.247121",
     "status": "completed"
    },
    "tags": []
   },
   "outputs": [
    {
     "data": {
      "text/html": [
       "<div>\n",
       "<style scoped>\n",
       "    .dataframe tbody tr th:only-of-type {\n",
       "        vertical-align: middle;\n",
       "    }\n",
       "\n",
       "    .dataframe tbody tr th {\n",
       "        vertical-align: top;\n",
       "    }\n",
       "\n",
       "    .dataframe thead th {\n",
       "        text-align: right;\n",
       "    }\n",
       "</style>\n",
       "<table border=\"1\" class=\"dataframe\">\n",
       "  <thead>\n",
       "    <tr style=\"text-align: right;\">\n",
       "      <th></th>\n",
       "      <th>PassengerId</th>\n",
       "      <th>Survived</th>\n",
       "      <th>Pclass</th>\n",
       "      <th>Name</th>\n",
       "      <th>Sex</th>\n",
       "      <th>Age</th>\n",
       "      <th>SibSp</th>\n",
       "      <th>Parch</th>\n",
       "      <th>Ticket</th>\n",
       "      <th>Fare</th>\n",
       "      <th>Cabin</th>\n",
       "      <th>Embarked</th>\n",
       "    </tr>\n",
       "  </thead>\n",
       "  <tbody>\n",
       "    <tr>\n",
       "      <th>0</th>\n",
       "      <td>1</td>\n",
       "      <td>0</td>\n",
       "      <td>3</td>\n",
       "      <td>Braund, Mr. Owen Harris</td>\n",
       "      <td>male</td>\n",
       "      <td>22.0</td>\n",
       "      <td>1</td>\n",
       "      <td>0</td>\n",
       "      <td>A/5 21171</td>\n",
       "      <td>7.2500</td>\n",
       "      <td>NaN</td>\n",
       "      <td>S</td>\n",
       "    </tr>\n",
       "    <tr>\n",
       "      <th>1</th>\n",
       "      <td>2</td>\n",
       "      <td>1</td>\n",
       "      <td>1</td>\n",
       "      <td>Cumings, Mrs. John Bradley (Florence Briggs Th...</td>\n",
       "      <td>female</td>\n",
       "      <td>38.0</td>\n",
       "      <td>1</td>\n",
       "      <td>0</td>\n",
       "      <td>PC 17599</td>\n",
       "      <td>71.2833</td>\n",
       "      <td>C85</td>\n",
       "      <td>C</td>\n",
       "    </tr>\n",
       "    <tr>\n",
       "      <th>2</th>\n",
       "      <td>3</td>\n",
       "      <td>1</td>\n",
       "      <td>3</td>\n",
       "      <td>Heikkinen, Miss. Laina</td>\n",
       "      <td>female</td>\n",
       "      <td>26.0</td>\n",
       "      <td>0</td>\n",
       "      <td>0</td>\n",
       "      <td>STON/O2. 3101282</td>\n",
       "      <td>7.9250</td>\n",
       "      <td>NaN</td>\n",
       "      <td>S</td>\n",
       "    </tr>\n",
       "    <tr>\n",
       "      <th>3</th>\n",
       "      <td>4</td>\n",
       "      <td>1</td>\n",
       "      <td>1</td>\n",
       "      <td>Futrelle, Mrs. Jacques Heath (Lily May Peel)</td>\n",
       "      <td>female</td>\n",
       "      <td>35.0</td>\n",
       "      <td>1</td>\n",
       "      <td>0</td>\n",
       "      <td>113803</td>\n",
       "      <td>53.1000</td>\n",
       "      <td>C123</td>\n",
       "      <td>S</td>\n",
       "    </tr>\n",
       "    <tr>\n",
       "      <th>4</th>\n",
       "      <td>5</td>\n",
       "      <td>0</td>\n",
       "      <td>3</td>\n",
       "      <td>Allen, Mr. William Henry</td>\n",
       "      <td>male</td>\n",
       "      <td>35.0</td>\n",
       "      <td>0</td>\n",
       "      <td>0</td>\n",
       "      <td>373450</td>\n",
       "      <td>8.0500</td>\n",
       "      <td>NaN</td>\n",
       "      <td>S</td>\n",
       "    </tr>\n",
       "  </tbody>\n",
       "</table>\n",
       "</div>"
      ],
      "text/plain": [
       "   PassengerId  Survived  Pclass  \\\n",
       "0            1         0       3   \n",
       "1            2         1       1   \n",
       "2            3         1       3   \n",
       "3            4         1       1   \n",
       "4            5         0       3   \n",
       "\n",
       "                                                Name     Sex   Age  SibSp  \\\n",
       "0                            Braund, Mr. Owen Harris    male  22.0      1   \n",
       "1  Cumings, Mrs. John Bradley (Florence Briggs Th...  female  38.0      1   \n",
       "2                             Heikkinen, Miss. Laina  female  26.0      0   \n",
       "3       Futrelle, Mrs. Jacques Heath (Lily May Peel)  female  35.0      1   \n",
       "4                           Allen, Mr. William Henry    male  35.0      0   \n",
       "\n",
       "   Parch            Ticket     Fare Cabin Embarked  \n",
       "0      0         A/5 21171   7.2500   NaN        S  \n",
       "1      0          PC 17599  71.2833   C85        C  \n",
       "2      0  STON/O2. 3101282   7.9250   NaN        S  \n",
       "3      0            113803  53.1000  C123        S  \n",
       "4      0            373450   8.0500   NaN        S  "
      ]
     },
     "execution_count": 3,
     "metadata": {},
     "output_type": "execute_result"
    }
   ],
   "source": [
    "df1.head()"
   ]
  },
  {
   "cell_type": "code",
   "execution_count": 4,
   "id": "prompt-innocent",
   "metadata": {
    "execution": {
     "iopub.execute_input": "2021-06-19T07:09:34.346728Z",
     "iopub.status.busy": "2021-06-19T07:09:34.346049Z",
     "iopub.status.idle": "2021-06-19T07:09:34.351474Z",
     "shell.execute_reply": "2021-06-19T07:09:34.351828Z",
     "shell.execute_reply.started": "2021-06-19T07:06:42.971848Z"
    },
    "papermill": {
     "duration": 0.028073,
     "end_time": "2021-06-19T07:09:34.351976",
     "exception": false,
     "start_time": "2021-06-19T07:09:34.323903",
     "status": "completed"
    },
    "tags": []
   },
   "outputs": [],
   "source": [
    "df1.drop(['PassengerId','SibSp','Name','Parch','Embarked','Cabin','Ticket'],axis=1,inplace=True)"
   ]
  },
  {
   "cell_type": "code",
   "execution_count": 5,
   "id": "mighty-visit",
   "metadata": {
    "execution": {
     "iopub.execute_input": "2021-06-19T07:09:34.394595Z",
     "iopub.status.busy": "2021-06-19T07:09:34.393919Z",
     "iopub.status.idle": "2021-06-19T07:09:34.405621Z",
     "shell.execute_reply": "2021-06-19T07:09:34.406009Z",
     "shell.execute_reply.started": "2021-06-19T07:06:42.983223Z"
    },
    "papermill": {
     "duration": 0.034429,
     "end_time": "2021-06-19T07:09:34.406135",
     "exception": false,
     "start_time": "2021-06-19T07:09:34.371706",
     "status": "completed"
    },
    "tags": []
   },
   "outputs": [
    {
     "data": {
      "text/html": [
       "<div>\n",
       "<style scoped>\n",
       "    .dataframe tbody tr th:only-of-type {\n",
       "        vertical-align: middle;\n",
       "    }\n",
       "\n",
       "    .dataframe tbody tr th {\n",
       "        vertical-align: top;\n",
       "    }\n",
       "\n",
       "    .dataframe thead th {\n",
       "        text-align: right;\n",
       "    }\n",
       "</style>\n",
       "<table border=\"1\" class=\"dataframe\">\n",
       "  <thead>\n",
       "    <tr style=\"text-align: right;\">\n",
       "      <th></th>\n",
       "      <th>Survived</th>\n",
       "      <th>Pclass</th>\n",
       "      <th>Sex</th>\n",
       "      <th>Age</th>\n",
       "      <th>Fare</th>\n",
       "    </tr>\n",
       "  </thead>\n",
       "  <tbody>\n",
       "    <tr>\n",
       "      <th>0</th>\n",
       "      <td>0</td>\n",
       "      <td>3</td>\n",
       "      <td>male</td>\n",
       "      <td>22.0</td>\n",
       "      <td>7.2500</td>\n",
       "    </tr>\n",
       "    <tr>\n",
       "      <th>1</th>\n",
       "      <td>1</td>\n",
       "      <td>1</td>\n",
       "      <td>female</td>\n",
       "      <td>38.0</td>\n",
       "      <td>71.2833</td>\n",
       "    </tr>\n",
       "    <tr>\n",
       "      <th>2</th>\n",
       "      <td>1</td>\n",
       "      <td>3</td>\n",
       "      <td>female</td>\n",
       "      <td>26.0</td>\n",
       "      <td>7.9250</td>\n",
       "    </tr>\n",
       "    <tr>\n",
       "      <th>3</th>\n",
       "      <td>1</td>\n",
       "      <td>1</td>\n",
       "      <td>female</td>\n",
       "      <td>35.0</td>\n",
       "      <td>53.1000</td>\n",
       "    </tr>\n",
       "    <tr>\n",
       "      <th>4</th>\n",
       "      <td>0</td>\n",
       "      <td>3</td>\n",
       "      <td>male</td>\n",
       "      <td>35.0</td>\n",
       "      <td>8.0500</td>\n",
       "    </tr>\n",
       "  </tbody>\n",
       "</table>\n",
       "</div>"
      ],
      "text/plain": [
       "   Survived  Pclass     Sex   Age     Fare\n",
       "0         0       3    male  22.0   7.2500\n",
       "1         1       1  female  38.0  71.2833\n",
       "2         1       3  female  26.0   7.9250\n",
       "3         1       1  female  35.0  53.1000\n",
       "4         0       3    male  35.0   8.0500"
      ]
     },
     "execution_count": 5,
     "metadata": {},
     "output_type": "execute_result"
    }
   ],
   "source": [
    "df1.head()"
   ]
  },
  {
   "cell_type": "code",
   "execution_count": 6,
   "id": "opposed-matter",
   "metadata": {
    "execution": {
     "iopub.execute_input": "2021-06-19T07:09:34.449500Z",
     "iopub.status.busy": "2021-06-19T07:09:34.448776Z",
     "iopub.status.idle": "2021-06-19T07:09:34.458642Z",
     "shell.execute_reply": "2021-06-19T07:09:34.459015Z",
     "shell.execute_reply.started": "2021-06-19T07:06:43.003520Z"
    },
    "papermill": {
     "duration": 0.032755,
     "end_time": "2021-06-19T07:09:34.459162",
     "exception": false,
     "start_time": "2021-06-19T07:09:34.426407",
     "status": "completed"
    },
    "tags": []
   },
   "outputs": [
    {
     "data": {
      "text/plain": [
       "Survived      0\n",
       "Pclass        0\n",
       "Sex           0\n",
       "Age         177\n",
       "Fare          0\n",
       "dtype: int64"
      ]
     },
     "execution_count": 6,
     "metadata": {},
     "output_type": "execute_result"
    }
   ],
   "source": [
    "df1.isnull().sum()"
   ]
  },
  {
   "cell_type": "code",
   "execution_count": 7,
   "id": "economic-calcium",
   "metadata": {
    "execution": {
     "iopub.execute_input": "2021-06-19T07:09:34.505836Z",
     "iopub.status.busy": "2021-06-19T07:09:34.504016Z",
     "iopub.status.idle": "2021-06-19T07:09:34.516402Z",
     "shell.execute_reply": "2021-06-19T07:09:34.515919Z",
     "shell.execute_reply.started": "2021-06-19T07:06:43.016448Z"
    },
    "papermill": {
     "duration": 0.037061,
     "end_time": "2021-06-19T07:09:34.516512",
     "exception": false,
     "start_time": "2021-06-19T07:09:34.479451",
     "status": "completed"
    },
    "tags": []
   },
   "outputs": [
    {
     "data": {
      "text/plain": [
       "count    714.000000\n",
       "mean      29.699118\n",
       "std       14.526497\n",
       "min        0.420000\n",
       "25%       20.125000\n",
       "50%       28.000000\n",
       "75%       38.000000\n",
       "max       80.000000\n",
       "Name: Age, dtype: float64"
      ]
     },
     "execution_count": 7,
     "metadata": {},
     "output_type": "execute_result"
    }
   ],
   "source": [
    "df1['Age'].describe()"
   ]
  },
  {
   "cell_type": "code",
   "execution_count": 8,
   "id": "fourth-tampa",
   "metadata": {
    "execution": {
     "iopub.execute_input": "2021-06-19T07:09:34.561121Z",
     "iopub.status.busy": "2021-06-19T07:09:34.560642Z",
     "iopub.status.idle": "2021-06-19T07:09:34.564407Z",
     "shell.execute_reply": "2021-06-19T07:09:34.563840Z",
     "shell.execute_reply.started": "2021-06-19T07:06:43.036279Z"
    },
    "papermill": {
     "duration": 0.028148,
     "end_time": "2021-06-19T07:09:34.564521",
     "exception": false,
     "start_time": "2021-06-19T07:09:34.536373",
     "status": "completed"
    },
    "tags": []
   },
   "outputs": [],
   "source": [
    "df1['Age'].fillna(df1['Age'].mean(),inplace=True)"
   ]
  },
  {
   "cell_type": "code",
   "execution_count": 9,
   "id": "traditional-member",
   "metadata": {
    "execution": {
     "iopub.execute_input": "2021-06-19T07:09:34.611530Z",
     "iopub.status.busy": "2021-06-19T07:09:34.610859Z",
     "iopub.status.idle": "2021-06-19T07:09:34.615128Z",
     "shell.execute_reply": "2021-06-19T07:09:34.615520Z",
     "shell.execute_reply.started": "2021-06-19T07:06:43.044592Z"
    },
    "papermill": {
     "duration": 0.030762,
     "end_time": "2021-06-19T07:09:34.615699",
     "exception": false,
     "start_time": "2021-06-19T07:09:34.584937",
     "status": "completed"
    },
    "tags": []
   },
   "outputs": [
    {
     "data": {
      "text/plain": [
       "Survived    0\n",
       "Pclass      0\n",
       "Sex         0\n",
       "Age         0\n",
       "Fare        0\n",
       "dtype: int64"
      ]
     },
     "execution_count": 9,
     "metadata": {},
     "output_type": "execute_result"
    }
   ],
   "source": [
    "df1.isnull().sum()"
   ]
  },
  {
   "cell_type": "code",
   "execution_count": 10,
   "id": "foreign-heath",
   "metadata": {
    "execution": {
     "iopub.execute_input": "2021-06-19T07:09:34.663512Z",
     "iopub.status.busy": "2021-06-19T07:09:34.662907Z",
     "iopub.status.idle": "2021-06-19T07:09:34.668192Z",
     "shell.execute_reply": "2021-06-19T07:09:34.667770Z",
     "shell.execute_reply.started": "2021-06-19T07:06:43.058077Z"
    },
    "papermill": {
     "duration": 0.031927,
     "end_time": "2021-06-19T07:09:34.668348",
     "exception": false,
     "start_time": "2021-06-19T07:09:34.636421",
     "status": "completed"
    },
    "tags": []
   },
   "outputs": [],
   "source": [
    "l_sex_dummies=pd.get_dummies(df1['Sex'],drop_first=True)"
   ]
  },
  {
   "cell_type": "code",
   "execution_count": 11,
   "id": "biological-champion",
   "metadata": {
    "execution": {
     "iopub.execute_input": "2021-06-19T07:09:34.714120Z",
     "iopub.status.busy": "2021-06-19T07:09:34.713567Z",
     "iopub.status.idle": "2021-06-19T07:09:34.717675Z",
     "shell.execute_reply": "2021-06-19T07:09:34.717187Z",
     "shell.execute_reply.started": "2021-06-19T07:06:43.071219Z"
    },
    "papermill": {
     "duration": 0.029028,
     "end_time": "2021-06-19T07:09:34.717793",
     "exception": false,
     "start_time": "2021-06-19T07:09:34.688765",
     "status": "completed"
    },
    "tags": []
   },
   "outputs": [],
   "source": [
    "df1=pd.concat([df1,l_sex_dummies],axis=1)"
   ]
  },
  {
   "cell_type": "code",
   "execution_count": 12,
   "id": "interstate-success",
   "metadata": {
    "execution": {
     "iopub.execute_input": "2021-06-19T07:09:34.770176Z",
     "iopub.status.busy": "2021-06-19T07:09:34.769708Z",
     "iopub.status.idle": "2021-06-19T07:09:34.777071Z",
     "shell.execute_reply": "2021-06-19T07:09:34.775817Z",
     "shell.execute_reply.started": "2021-06-19T07:06:43.080145Z"
    },
    "papermill": {
     "duration": 0.037878,
     "end_time": "2021-06-19T07:09:34.777206",
     "exception": false,
     "start_time": "2021-06-19T07:09:34.739328",
     "status": "completed"
    },
    "tags": []
   },
   "outputs": [
    {
     "data": {
      "text/html": [
       "<div>\n",
       "<style scoped>\n",
       "    .dataframe tbody tr th:only-of-type {\n",
       "        vertical-align: middle;\n",
       "    }\n",
       "\n",
       "    .dataframe tbody tr th {\n",
       "        vertical-align: top;\n",
       "    }\n",
       "\n",
       "    .dataframe thead th {\n",
       "        text-align: right;\n",
       "    }\n",
       "</style>\n",
       "<table border=\"1\" class=\"dataframe\">\n",
       "  <thead>\n",
       "    <tr style=\"text-align: right;\">\n",
       "      <th></th>\n",
       "      <th>Survived</th>\n",
       "      <th>Pclass</th>\n",
       "      <th>Sex</th>\n",
       "      <th>Age</th>\n",
       "      <th>Fare</th>\n",
       "      <th>male</th>\n",
       "    </tr>\n",
       "  </thead>\n",
       "  <tbody>\n",
       "    <tr>\n",
       "      <th>0</th>\n",
       "      <td>0</td>\n",
       "      <td>3</td>\n",
       "      <td>male</td>\n",
       "      <td>22.0</td>\n",
       "      <td>7.2500</td>\n",
       "      <td>1</td>\n",
       "    </tr>\n",
       "    <tr>\n",
       "      <th>1</th>\n",
       "      <td>1</td>\n",
       "      <td>1</td>\n",
       "      <td>female</td>\n",
       "      <td>38.0</td>\n",
       "      <td>71.2833</td>\n",
       "      <td>0</td>\n",
       "    </tr>\n",
       "    <tr>\n",
       "      <th>2</th>\n",
       "      <td>1</td>\n",
       "      <td>3</td>\n",
       "      <td>female</td>\n",
       "      <td>26.0</td>\n",
       "      <td>7.9250</td>\n",
       "      <td>0</td>\n",
       "    </tr>\n",
       "    <tr>\n",
       "      <th>3</th>\n",
       "      <td>1</td>\n",
       "      <td>1</td>\n",
       "      <td>female</td>\n",
       "      <td>35.0</td>\n",
       "      <td>53.1000</td>\n",
       "      <td>0</td>\n",
       "    </tr>\n",
       "    <tr>\n",
       "      <th>4</th>\n",
       "      <td>0</td>\n",
       "      <td>3</td>\n",
       "      <td>male</td>\n",
       "      <td>35.0</td>\n",
       "      <td>8.0500</td>\n",
       "      <td>1</td>\n",
       "    </tr>\n",
       "  </tbody>\n",
       "</table>\n",
       "</div>"
      ],
      "text/plain": [
       "   Survived  Pclass     Sex   Age     Fare  male\n",
       "0         0       3    male  22.0   7.2500     1\n",
       "1         1       1  female  38.0  71.2833     0\n",
       "2         1       3  female  26.0   7.9250     0\n",
       "3         1       1  female  35.0  53.1000     0\n",
       "4         0       3    male  35.0   8.0500     1"
      ]
     },
     "execution_count": 12,
     "metadata": {},
     "output_type": "execute_result"
    }
   ],
   "source": [
    "df1.head()"
   ]
  },
  {
   "cell_type": "code",
   "execution_count": 13,
   "id": "noted-silver",
   "metadata": {
    "execution": {
     "iopub.execute_input": "2021-06-19T07:09:34.846188Z",
     "iopub.status.busy": "2021-06-19T07:09:34.845515Z",
     "iopub.status.idle": "2021-06-19T07:09:34.847947Z",
     "shell.execute_reply": "2021-06-19T07:09:34.848352Z",
     "shell.execute_reply.started": "2021-06-19T07:06:43.101262Z"
    },
    "papermill": {
     "duration": 0.039602,
     "end_time": "2021-06-19T07:09:34.848502",
     "exception": false,
     "start_time": "2021-06-19T07:09:34.808900",
     "status": "completed"
    },
    "tags": []
   },
   "outputs": [],
   "source": [
    "df1.drop(['Sex'],axis=1,inplace=True)"
   ]
  },
  {
   "cell_type": "code",
   "execution_count": 14,
   "id": "martial-filter",
   "metadata": {
    "execution": {
     "iopub.execute_input": "2021-06-19T07:09:34.899503Z",
     "iopub.status.busy": "2021-06-19T07:09:34.897258Z",
     "iopub.status.idle": "2021-06-19T07:09:34.903544Z",
     "shell.execute_reply": "2021-06-19T07:09:34.903929Z",
     "shell.execute_reply.started": "2021-06-19T07:06:43.113314Z"
    },
    "papermill": {
     "duration": 0.034678,
     "end_time": "2021-06-19T07:09:34.904073",
     "exception": false,
     "start_time": "2021-06-19T07:09:34.869395",
     "status": "completed"
    },
    "tags": []
   },
   "outputs": [],
   "source": [
    "feature_scale=['Age','Fare']\n",
    "df1[feature_scale]=sts.fit_transform(df1[feature_scale])"
   ]
  },
  {
   "cell_type": "code",
   "execution_count": 15,
   "id": "convertible-alarm",
   "metadata": {
    "execution": {
     "iopub.execute_input": "2021-06-19T07:09:34.955176Z",
     "iopub.status.busy": "2021-06-19T07:09:34.954415Z",
     "iopub.status.idle": "2021-06-19T07:09:34.961665Z",
     "shell.execute_reply": "2021-06-19T07:09:34.961080Z",
     "shell.execute_reply.started": "2021-06-19T07:06:43.132445Z"
    },
    "papermill": {
     "duration": 0.036399,
     "end_time": "2021-06-19T07:09:34.961802",
     "exception": false,
     "start_time": "2021-06-19T07:09:34.925403",
     "status": "completed"
    },
    "tags": []
   },
   "outputs": [
    {
     "data": {
      "text/html": [
       "<div>\n",
       "<style scoped>\n",
       "    .dataframe tbody tr th:only-of-type {\n",
       "        vertical-align: middle;\n",
       "    }\n",
       "\n",
       "    .dataframe tbody tr th {\n",
       "        vertical-align: top;\n",
       "    }\n",
       "\n",
       "    .dataframe thead th {\n",
       "        text-align: right;\n",
       "    }\n",
       "</style>\n",
       "<table border=\"1\" class=\"dataframe\">\n",
       "  <thead>\n",
       "    <tr style=\"text-align: right;\">\n",
       "      <th></th>\n",
       "      <th>Survived</th>\n",
       "      <th>Pclass</th>\n",
       "      <th>Age</th>\n",
       "      <th>Fare</th>\n",
       "      <th>male</th>\n",
       "    </tr>\n",
       "  </thead>\n",
       "  <tbody>\n",
       "    <tr>\n",
       "      <th>0</th>\n",
       "      <td>0</td>\n",
       "      <td>3</td>\n",
       "      <td>-0.592481</td>\n",
       "      <td>-0.502445</td>\n",
       "      <td>1</td>\n",
       "    </tr>\n",
       "    <tr>\n",
       "      <th>1</th>\n",
       "      <td>1</td>\n",
       "      <td>1</td>\n",
       "      <td>0.638789</td>\n",
       "      <td>0.786845</td>\n",
       "      <td>0</td>\n",
       "    </tr>\n",
       "    <tr>\n",
       "      <th>2</th>\n",
       "      <td>1</td>\n",
       "      <td>3</td>\n",
       "      <td>-0.284663</td>\n",
       "      <td>-0.488854</td>\n",
       "      <td>0</td>\n",
       "    </tr>\n",
       "    <tr>\n",
       "      <th>3</th>\n",
       "      <td>1</td>\n",
       "      <td>1</td>\n",
       "      <td>0.407926</td>\n",
       "      <td>0.420730</td>\n",
       "      <td>0</td>\n",
       "    </tr>\n",
       "    <tr>\n",
       "      <th>4</th>\n",
       "      <td>0</td>\n",
       "      <td>3</td>\n",
       "      <td>0.407926</td>\n",
       "      <td>-0.486337</td>\n",
       "      <td>1</td>\n",
       "    </tr>\n",
       "  </tbody>\n",
       "</table>\n",
       "</div>"
      ],
      "text/plain": [
       "   Survived  Pclass       Age      Fare  male\n",
       "0         0       3 -0.592481 -0.502445     1\n",
       "1         1       1  0.638789  0.786845     0\n",
       "2         1       3 -0.284663 -0.488854     0\n",
       "3         1       1  0.407926  0.420730     0\n",
       "4         0       3  0.407926 -0.486337     1"
      ]
     },
     "execution_count": 15,
     "metadata": {},
     "output_type": "execute_result"
    }
   ],
   "source": [
    "df1.head()"
   ]
  },
  {
   "cell_type": "code",
   "execution_count": 16,
   "id": "raising-separation",
   "metadata": {
    "execution": {
     "iopub.execute_input": "2021-06-19T07:09:35.042795Z",
     "iopub.status.busy": "2021-06-19T07:09:35.042303Z",
     "iopub.status.idle": "2021-06-19T07:09:35.044600Z",
     "shell.execute_reply": "2021-06-19T07:09:35.044947Z",
     "shell.execute_reply.started": "2021-06-19T07:06:43.150655Z"
    },
    "papermill": {
     "duration": 0.044346,
     "end_time": "2021-06-19T07:09:35.045089",
     "exception": false,
     "start_time": "2021-06-19T07:09:35.000743",
     "status": "completed"
    },
    "tags": []
   },
   "outputs": [],
   "source": [
    "x=df1.drop(['Survived'],axis=1)\n",
    "y=df1['Survived']"
   ]
  },
  {
   "cell_type": "code",
   "execution_count": 17,
   "id": "special-uganda",
   "metadata": {
    "execution": {
     "iopub.execute_input": "2021-06-19T07:09:35.090739Z",
     "iopub.status.busy": "2021-06-19T07:09:35.090173Z",
     "iopub.status.idle": "2021-06-19T07:09:35.095671Z",
     "shell.execute_reply": "2021-06-19T07:09:35.095026Z",
     "shell.execute_reply.started": "2021-06-19T07:06:43.160809Z"
    },
    "papermill": {
     "duration": 0.028908,
     "end_time": "2021-06-19T07:09:35.095792",
     "exception": false,
     "start_time": "2021-06-19T07:09:35.066884",
     "status": "completed"
    },
    "tags": []
   },
   "outputs": [],
   "source": [
    "model_svc=SVC(C=100,kernel='rbf')"
   ]
  },
  {
   "cell_type": "code",
   "execution_count": 18,
   "id": "difficult-tender",
   "metadata": {
    "execution": {
     "iopub.execute_input": "2021-06-19T07:09:35.144658Z",
     "iopub.status.busy": "2021-06-19T07:09:35.144147Z",
     "iopub.status.idle": "2021-06-19T07:09:35.193804Z",
     "shell.execute_reply": "2021-06-19T07:09:35.193243Z",
     "shell.execute_reply.started": "2021-06-19T07:06:43.170816Z"
    },
    "papermill": {
     "duration": 0.076638,
     "end_time": "2021-06-19T07:09:35.193939",
     "exception": false,
     "start_time": "2021-06-19T07:09:35.117301",
     "status": "completed"
    },
    "tags": []
   },
   "outputs": [
    {
     "data": {
      "text/plain": [
       "SVC(C=100)"
      ]
     },
     "execution_count": 18,
     "metadata": {},
     "output_type": "execute_result"
    }
   ],
   "source": [
    "model_svc.fit(x,y)"
   ]
  },
  {
   "cell_type": "code",
   "execution_count": 19,
   "id": "multiple-prize",
   "metadata": {
    "execution": {
     "iopub.execute_input": "2021-06-19T07:09:35.267167Z",
     "iopub.status.busy": "2021-06-19T07:09:35.266554Z",
     "iopub.status.idle": "2021-06-19T07:09:35.281659Z",
     "shell.execute_reply": "2021-06-19T07:09:35.281068Z",
     "shell.execute_reply.started": "2021-06-19T07:06:43.236791Z"
    },
    "papermill": {
     "duration": 0.052777,
     "end_time": "2021-06-19T07:09:35.281797",
     "exception": false,
     "start_time": "2021-06-19T07:09:35.229020",
     "status": "completed"
    },
    "tags": []
   },
   "outputs": [],
   "source": [
    "df2=pd.read_csv('../input/titanic/test.csv')"
   ]
  },
  {
   "cell_type": "code",
   "execution_count": 20,
   "id": "social-project",
   "metadata": {
    "execution": {
     "iopub.execute_input": "2021-06-19T07:09:35.361823Z",
     "iopub.status.busy": "2021-06-19T07:09:35.356478Z",
     "iopub.status.idle": "2021-06-19T07:09:35.366120Z",
     "shell.execute_reply": "2021-06-19T07:09:35.366500Z",
     "shell.execute_reply.started": "2021-06-19T07:06:43.254353Z"
    },
    "papermill": {
     "duration": 0.050444,
     "end_time": "2021-06-19T07:09:35.366642",
     "exception": false,
     "start_time": "2021-06-19T07:09:35.316198",
     "status": "completed"
    },
    "tags": []
   },
   "outputs": [
    {
     "data": {
      "text/html": [
       "<div>\n",
       "<style scoped>\n",
       "    .dataframe tbody tr th:only-of-type {\n",
       "        vertical-align: middle;\n",
       "    }\n",
       "\n",
       "    .dataframe tbody tr th {\n",
       "        vertical-align: top;\n",
       "    }\n",
       "\n",
       "    .dataframe thead th {\n",
       "        text-align: right;\n",
       "    }\n",
       "</style>\n",
       "<table border=\"1\" class=\"dataframe\">\n",
       "  <thead>\n",
       "    <tr style=\"text-align: right;\">\n",
       "      <th></th>\n",
       "      <th>PassengerId</th>\n",
       "      <th>Pclass</th>\n",
       "      <th>Name</th>\n",
       "      <th>Sex</th>\n",
       "      <th>Age</th>\n",
       "      <th>SibSp</th>\n",
       "      <th>Parch</th>\n",
       "      <th>Ticket</th>\n",
       "      <th>Fare</th>\n",
       "      <th>Cabin</th>\n",
       "      <th>Embarked</th>\n",
       "    </tr>\n",
       "  </thead>\n",
       "  <tbody>\n",
       "    <tr>\n",
       "      <th>0</th>\n",
       "      <td>892</td>\n",
       "      <td>3</td>\n",
       "      <td>Kelly, Mr. James</td>\n",
       "      <td>male</td>\n",
       "      <td>34.5</td>\n",
       "      <td>0</td>\n",
       "      <td>0</td>\n",
       "      <td>330911</td>\n",
       "      <td>7.8292</td>\n",
       "      <td>NaN</td>\n",
       "      <td>Q</td>\n",
       "    </tr>\n",
       "    <tr>\n",
       "      <th>1</th>\n",
       "      <td>893</td>\n",
       "      <td>3</td>\n",
       "      <td>Wilkes, Mrs. James (Ellen Needs)</td>\n",
       "      <td>female</td>\n",
       "      <td>47.0</td>\n",
       "      <td>1</td>\n",
       "      <td>0</td>\n",
       "      <td>363272</td>\n",
       "      <td>7.0000</td>\n",
       "      <td>NaN</td>\n",
       "      <td>S</td>\n",
       "    </tr>\n",
       "    <tr>\n",
       "      <th>2</th>\n",
       "      <td>894</td>\n",
       "      <td>2</td>\n",
       "      <td>Myles, Mr. Thomas Francis</td>\n",
       "      <td>male</td>\n",
       "      <td>62.0</td>\n",
       "      <td>0</td>\n",
       "      <td>0</td>\n",
       "      <td>240276</td>\n",
       "      <td>9.6875</td>\n",
       "      <td>NaN</td>\n",
       "      <td>Q</td>\n",
       "    </tr>\n",
       "    <tr>\n",
       "      <th>3</th>\n",
       "      <td>895</td>\n",
       "      <td>3</td>\n",
       "      <td>Wirz, Mr. Albert</td>\n",
       "      <td>male</td>\n",
       "      <td>27.0</td>\n",
       "      <td>0</td>\n",
       "      <td>0</td>\n",
       "      <td>315154</td>\n",
       "      <td>8.6625</td>\n",
       "      <td>NaN</td>\n",
       "      <td>S</td>\n",
       "    </tr>\n",
       "    <tr>\n",
       "      <th>4</th>\n",
       "      <td>896</td>\n",
       "      <td>3</td>\n",
       "      <td>Hirvonen, Mrs. Alexander (Helga E Lindqvist)</td>\n",
       "      <td>female</td>\n",
       "      <td>22.0</td>\n",
       "      <td>1</td>\n",
       "      <td>1</td>\n",
       "      <td>3101298</td>\n",
       "      <td>12.2875</td>\n",
       "      <td>NaN</td>\n",
       "      <td>S</td>\n",
       "    </tr>\n",
       "  </tbody>\n",
       "</table>\n",
       "</div>"
      ],
      "text/plain": [
       "   PassengerId  Pclass                                          Name     Sex  \\\n",
       "0          892       3                              Kelly, Mr. James    male   \n",
       "1          893       3              Wilkes, Mrs. James (Ellen Needs)  female   \n",
       "2          894       2                     Myles, Mr. Thomas Francis    male   \n",
       "3          895       3                              Wirz, Mr. Albert    male   \n",
       "4          896       3  Hirvonen, Mrs. Alexander (Helga E Lindqvist)  female   \n",
       "\n",
       "    Age  SibSp  Parch   Ticket     Fare Cabin Embarked  \n",
       "0  34.5      0      0   330911   7.8292   NaN        Q  \n",
       "1  47.0      1      0   363272   7.0000   NaN        S  \n",
       "2  62.0      0      0   240276   9.6875   NaN        Q  \n",
       "3  27.0      0      0   315154   8.6625   NaN        S  \n",
       "4  22.0      1      1  3101298  12.2875   NaN        S  "
      ]
     },
     "execution_count": 20,
     "metadata": {},
     "output_type": "execute_result"
    }
   ],
   "source": [
    "df2.head()"
   ]
  },
  {
   "cell_type": "code",
   "execution_count": 21,
   "id": "ultimate-tennis",
   "metadata": {
    "execution": {
     "iopub.execute_input": "2021-06-19T07:09:35.416468Z",
     "iopub.status.busy": "2021-06-19T07:09:35.415907Z",
     "iopub.status.idle": "2021-06-19T07:09:35.417237Z",
     "shell.execute_reply": "2021-06-19T07:09:35.417696Z",
     "shell.execute_reply.started": "2021-06-19T07:06:43.275228Z"
    },
    "papermill": {
     "duration": 0.028695,
     "end_time": "2021-06-19T07:09:35.417838",
     "exception": false,
     "start_time": "2021-06-19T07:09:35.389143",
     "status": "completed"
    },
    "tags": []
   },
   "outputs": [],
   "source": [
    "df3=df2.drop(['PassengerId','SibSp','Name','Parch','Embarked','Cabin','Ticket'],axis=1)"
   ]
  },
  {
   "cell_type": "code",
   "execution_count": 22,
   "id": "recorded-viewer",
   "metadata": {
    "execution": {
     "iopub.execute_input": "2021-06-19T07:09:35.465931Z",
     "iopub.status.busy": "2021-06-19T07:09:35.465429Z",
     "iopub.status.idle": "2021-06-19T07:09:35.471972Z",
     "shell.execute_reply": "2021-06-19T07:09:35.471535Z",
     "shell.execute_reply.started": "2021-06-19T07:06:43.283692Z"
    },
    "papermill": {
     "duration": 0.031929,
     "end_time": "2021-06-19T07:09:35.472081",
     "exception": false,
     "start_time": "2021-06-19T07:09:35.440152",
     "status": "completed"
    },
    "tags": []
   },
   "outputs": [
    {
     "data": {
      "text/plain": [
       "Pclass     0\n",
       "Sex        0\n",
       "Age       86\n",
       "Fare       1\n",
       "dtype: int64"
      ]
     },
     "execution_count": 22,
     "metadata": {},
     "output_type": "execute_result"
    }
   ],
   "source": [
    "df3.isnull().sum()"
   ]
  },
  {
   "cell_type": "code",
   "execution_count": 23,
   "id": "elementary-carol",
   "metadata": {
    "execution": {
     "iopub.execute_input": "2021-06-19T07:09:35.526727Z",
     "iopub.status.busy": "2021-06-19T07:09:35.526194Z",
     "iopub.status.idle": "2021-06-19T07:09:35.528797Z",
     "shell.execute_reply": "2021-06-19T07:09:35.528232Z",
     "shell.execute_reply.started": "2021-06-19T07:06:43.299094Z"
    },
    "papermill": {
     "duration": 0.034109,
     "end_time": "2021-06-19T07:09:35.528941",
     "exception": false,
     "start_time": "2021-06-19T07:09:35.494832",
     "status": "completed"
    },
    "tags": []
   },
   "outputs": [],
   "source": [
    "df3['Age'].fillna(df3['Age'].mean(),inplace=True)\n",
    "df3['Fare'].fillna(df3['Fare'].mean(),inplace=True)"
   ]
  },
  {
   "cell_type": "code",
   "execution_count": 24,
   "id": "valued-laugh",
   "metadata": {
    "execution": {
     "iopub.execute_input": "2021-06-19T07:09:35.578152Z",
     "iopub.status.busy": "2021-06-19T07:09:35.577645Z",
     "iopub.status.idle": "2021-06-19T07:09:35.584580Z",
     "shell.execute_reply": "2021-06-19T07:09:35.585026Z",
     "shell.execute_reply.started": "2021-06-19T07:06:43.311477Z"
    },
    "papermill": {
     "duration": 0.033436,
     "end_time": "2021-06-19T07:09:35.585162",
     "exception": false,
     "start_time": "2021-06-19T07:09:35.551726",
     "status": "completed"
    },
    "tags": []
   },
   "outputs": [],
   "source": [
    "l_sex_dummies=pd.get_dummies(df3['Sex'],drop_first=True)\n",
    "df3=pd.concat([df3,l_sex_dummies],axis=1)\n",
    "df3.drop(['Sex'],axis=1,inplace=True)"
   ]
  },
  {
   "cell_type": "code",
   "execution_count": 25,
   "id": "generous-soldier",
   "metadata": {
    "execution": {
     "iopub.execute_input": "2021-06-19T07:09:35.632121Z",
     "iopub.status.busy": "2021-06-19T07:09:35.631642Z",
     "iopub.status.idle": "2021-06-19T07:09:35.642351Z",
     "shell.execute_reply": "2021-06-19T07:09:35.641859Z",
     "shell.execute_reply.started": "2021-06-19T07:06:43.323980Z"
    },
    "papermill": {
     "duration": 0.035458,
     "end_time": "2021-06-19T07:09:35.642459",
     "exception": false,
     "start_time": "2021-06-19T07:09:35.607001",
     "status": "completed"
    },
    "tags": []
   },
   "outputs": [],
   "source": [
    "df3[feature_scale]=sts.fit_transform(df3[feature_scale])"
   ]
  },
  {
   "cell_type": "code",
   "execution_count": 26,
   "id": "assumed-utilization",
   "metadata": {
    "execution": {
     "iopub.execute_input": "2021-06-19T07:09:35.690050Z",
     "iopub.status.busy": "2021-06-19T07:09:35.689541Z",
     "iopub.status.idle": "2021-06-19T07:09:35.699507Z",
     "shell.execute_reply": "2021-06-19T07:09:35.699984Z",
     "shell.execute_reply.started": "2021-06-19T07:06:43.339202Z"
    },
    "papermill": {
     "duration": 0.035087,
     "end_time": "2021-06-19T07:09:35.700119",
     "exception": false,
     "start_time": "2021-06-19T07:09:35.665032",
     "status": "completed"
    },
    "tags": []
   },
   "outputs": [
    {
     "data": {
      "text/html": [
       "<div>\n",
       "<style scoped>\n",
       "    .dataframe tbody tr th:only-of-type {\n",
       "        vertical-align: middle;\n",
       "    }\n",
       "\n",
       "    .dataframe tbody tr th {\n",
       "        vertical-align: top;\n",
       "    }\n",
       "\n",
       "    .dataframe thead th {\n",
       "        text-align: right;\n",
       "    }\n",
       "</style>\n",
       "<table border=\"1\" class=\"dataframe\">\n",
       "  <thead>\n",
       "    <tr style=\"text-align: right;\">\n",
       "      <th></th>\n",
       "      <th>Pclass</th>\n",
       "      <th>Age</th>\n",
       "      <th>Fare</th>\n",
       "      <th>male</th>\n",
       "    </tr>\n",
       "  </thead>\n",
       "  <tbody>\n",
       "    <tr>\n",
       "      <th>0</th>\n",
       "      <td>3</td>\n",
       "      <td>0.334993</td>\n",
       "      <td>-0.498407</td>\n",
       "      <td>1</td>\n",
       "    </tr>\n",
       "    <tr>\n",
       "      <th>1</th>\n",
       "      <td>3</td>\n",
       "      <td>1.325530</td>\n",
       "      <td>-0.513274</td>\n",
       "      <td>0</td>\n",
       "    </tr>\n",
       "    <tr>\n",
       "      <th>2</th>\n",
       "      <td>2</td>\n",
       "      <td>2.514175</td>\n",
       "      <td>-0.465088</td>\n",
       "      <td>1</td>\n",
       "    </tr>\n",
       "    <tr>\n",
       "      <th>3</th>\n",
       "      <td>3</td>\n",
       "      <td>-0.259330</td>\n",
       "      <td>-0.483466</td>\n",
       "      <td>1</td>\n",
       "    </tr>\n",
       "    <tr>\n",
       "      <th>4</th>\n",
       "      <td>3</td>\n",
       "      <td>-0.655545</td>\n",
       "      <td>-0.418471</td>\n",
       "      <td>0</td>\n",
       "    </tr>\n",
       "  </tbody>\n",
       "</table>\n",
       "</div>"
      ],
      "text/plain": [
       "   Pclass       Age      Fare  male\n",
       "0       3  0.334993 -0.498407     1\n",
       "1       3  1.325530 -0.513274     0\n",
       "2       2  2.514175 -0.465088     1\n",
       "3       3 -0.259330 -0.483466     1\n",
       "4       3 -0.655545 -0.418471     0"
      ]
     },
     "execution_count": 26,
     "metadata": {},
     "output_type": "execute_result"
    }
   ],
   "source": [
    "df3.head()"
   ]
  },
  {
   "cell_type": "code",
   "execution_count": 27,
   "id": "strong-vintage",
   "metadata": {
    "execution": {
     "iopub.execute_input": "2021-06-19T07:09:35.747674Z",
     "iopub.status.busy": "2021-06-19T07:09:35.747155Z",
     "iopub.status.idle": "2021-06-19T07:09:35.773291Z",
     "shell.execute_reply": "2021-06-19T07:09:35.773690Z",
     "shell.execute_reply.started": "2021-06-19T07:06:43.355975Z"
    },
    "papermill": {
     "duration": 0.051555,
     "end_time": "2021-06-19T07:09:35.773830",
     "exception": false,
     "start_time": "2021-06-19T07:09:35.722275",
     "status": "completed"
    },
    "tags": []
   },
   "outputs": [],
   "source": [
    "y_predicted=model_svc.predict(df3)"
   ]
  },
  {
   "cell_type": "code",
   "execution_count": 28,
   "id": "utility-settlement",
   "metadata": {
    "execution": {
     "iopub.execute_input": "2021-06-19T07:09:35.821193Z",
     "iopub.status.busy": "2021-06-19T07:09:35.820723Z",
     "iopub.status.idle": "2021-06-19T07:09:35.831965Z",
     "shell.execute_reply": "2021-06-19T07:09:35.832442Z",
     "shell.execute_reply.started": "2021-06-19T07:06:43.372241Z"
    },
    "papermill": {
     "duration": 0.036189,
     "end_time": "2021-06-19T07:09:35.832583",
     "exception": false,
     "start_time": "2021-06-19T07:09:35.796394",
     "status": "completed"
    },
    "tags": []
   },
   "outputs": [
    {
     "data": {
      "text/html": [
       "<div>\n",
       "<style scoped>\n",
       "    .dataframe tbody tr th:only-of-type {\n",
       "        vertical-align: middle;\n",
       "    }\n",
       "\n",
       "    .dataframe tbody tr th {\n",
       "        vertical-align: top;\n",
       "    }\n",
       "\n",
       "    .dataframe thead th {\n",
       "        text-align: right;\n",
       "    }\n",
       "</style>\n",
       "<table border=\"1\" class=\"dataframe\">\n",
       "  <thead>\n",
       "    <tr style=\"text-align: right;\">\n",
       "      <th></th>\n",
       "      <th>PassengerId</th>\n",
       "      <th>Survived</th>\n",
       "    </tr>\n",
       "  </thead>\n",
       "  <tbody>\n",
       "    <tr>\n",
       "      <th>0</th>\n",
       "      <td>892</td>\n",
       "      <td>0</td>\n",
       "    </tr>\n",
       "    <tr>\n",
       "      <th>1</th>\n",
       "      <td>893</td>\n",
       "      <td>0</td>\n",
       "    </tr>\n",
       "    <tr>\n",
       "      <th>2</th>\n",
       "      <td>894</td>\n",
       "      <td>0</td>\n",
       "    </tr>\n",
       "    <tr>\n",
       "      <th>3</th>\n",
       "      <td>895</td>\n",
       "      <td>0</td>\n",
       "    </tr>\n",
       "    <tr>\n",
       "      <th>4</th>\n",
       "      <td>896</td>\n",
       "      <td>1</td>\n",
       "    </tr>\n",
       "    <tr>\n",
       "      <th>...</th>\n",
       "      <td>...</td>\n",
       "      <td>...</td>\n",
       "    </tr>\n",
       "    <tr>\n",
       "      <th>413</th>\n",
       "      <td>1305</td>\n",
       "      <td>0</td>\n",
       "    </tr>\n",
       "    <tr>\n",
       "      <th>414</th>\n",
       "      <td>1306</td>\n",
       "      <td>1</td>\n",
       "    </tr>\n",
       "    <tr>\n",
       "      <th>415</th>\n",
       "      <td>1307</td>\n",
       "      <td>0</td>\n",
       "    </tr>\n",
       "    <tr>\n",
       "      <th>416</th>\n",
       "      <td>1308</td>\n",
       "      <td>0</td>\n",
       "    </tr>\n",
       "    <tr>\n",
       "      <th>417</th>\n",
       "      <td>1309</td>\n",
       "      <td>0</td>\n",
       "    </tr>\n",
       "  </tbody>\n",
       "</table>\n",
       "<p>418 rows × 2 columns</p>\n",
       "</div>"
      ],
      "text/plain": [
       "     PassengerId  Survived\n",
       "0            892         0\n",
       "1            893         0\n",
       "2            894         0\n",
       "3            895         0\n",
       "4            896         1\n",
       "..           ...       ...\n",
       "413         1305         0\n",
       "414         1306         1\n",
       "415         1307         0\n",
       "416         1308         0\n",
       "417         1309         0\n",
       "\n",
       "[418 rows x 2 columns]"
      ]
     },
     "execution_count": 28,
     "metadata": {},
     "output_type": "execute_result"
    }
   ],
   "source": [
    "final=pd.DataFrame({'PassengerId':df2['PassengerId'],'Survived':y_predicted})\n",
    "final"
   ]
  },
  {
   "cell_type": "code",
   "execution_count": 29,
   "id": "recorded-implement",
   "metadata": {
    "execution": {
     "iopub.execute_input": "2021-06-19T07:09:35.881528Z",
     "iopub.status.busy": "2021-06-19T07:09:35.881043Z",
     "iopub.status.idle": "2021-06-19T07:09:35.890675Z",
     "shell.execute_reply": "2021-06-19T07:09:35.890248Z",
     "shell.execute_reply.started": "2021-06-19T07:06:43.386112Z"
    },
    "papermill": {
     "duration": 0.035217,
     "end_time": "2021-06-19T07:09:35.890791",
     "exception": false,
     "start_time": "2021-06-19T07:09:35.855574",
     "status": "completed"
    },
    "tags": []
   },
   "outputs": [],
   "source": [
    "final.to_csv('Titanic_prediction',index=False)"
   ]
  }
 ],
 "metadata": {
  "kernelspec": {
   "display_name": "Python 3",
   "language": "python",
   "name": "python3"
  },
  "language_info": {
   "codemirror_mode": {
    "name": "ipython",
    "version": 3
   },
   "file_extension": ".py",
   "mimetype": "text/x-python",
   "name": "python",
   "nbconvert_exporter": "python",
   "pygments_lexer": "ipython3",
   "version": "3.7.9"
  },
  "papermill": {
   "default_parameters": {},
   "duration": 9.097395,
   "end_time": "2021-06-19T07:09:36.522778",
   "environment_variables": {},
   "exception": null,
   "input_path": "__notebook__.ipynb",
   "output_path": "__notebook__.ipynb",
   "parameters": {},
   "start_time": "2021-06-19T07:09:27.425383",
   "version": "2.3.2"
  }
 },
 "nbformat": 4,
 "nbformat_minor": 5
}
