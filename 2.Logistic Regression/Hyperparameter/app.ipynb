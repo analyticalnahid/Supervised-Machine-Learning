{
 "cells": [
  {
   "cell_type": "code",
   "execution_count": 19,
   "id": "232aded8",
   "metadata": {
    "ExecuteTime": {
     "end_time": "2022-06-05T04:56:52.142572Z",
     "start_time": "2022-06-05T04:56:52.125927Z"
    }
   },
   "outputs": [],
   "source": [
    "import pandas as pnd  \n",
    "import numpy as nmp  \n",
    "import pickle as pkl  \n",
    "import streamlit as smt  \n",
    "from PIL import Image as img  "
   ]
  },
  {
   "cell_type": "code",
   "execution_count": 20,
   "id": "e72135dd",
   "metadata": {
    "ExecuteTime": {
     "end_time": "2022-06-05T04:56:52.449968Z",
     "start_time": "2022-06-05T04:56:52.438425Z"
    }
   },
   "outputs": [],
   "source": [
    "## loading the model\n",
    "pickle_in = open('pipe.pkl', 'rb')\n",
    "classifier = pkl.load(pickle_in)"
   ]
  },
  {
   "cell_type": "code",
   "execution_count": 27,
   "id": "052f0432",
   "metadata": {
    "ExecuteTime": {
     "end_time": "2022-06-05T05:18:59.438657Z",
     "start_time": "2022-06-05T05:18:59.410665Z"
    }
   },
   "outputs": [],
   "source": [
    "def welcome():  \n",
    "    return 'welcome you all'  \n",
    "    \n",
    "\n",
    "def prediction(SepalLength,SepalWidth,PetalLength,PetalWidth):    \n",
    "     \n",
    "    prediction = classifier.predict(  \n",
    "        [[SepalLength,SepalWidth,PetalLength,PetalWidth]])  \n",
    "    print(prediction)  \n",
    "    return prediction  \n",
    "        \n",
    "    \n",
    "def main():  \n",
    " \n",
    "    smt.title(\"Iris Flower Prediction\")  \n",
    "        \n",
    "    html_temp = \"\"\"  \n",
    "    <div style = \"background-colour: #FFFF00; padding: 16px\">  \n",
    "    <h1 style = \"color: #000000; text-align: centre; \"> Streamlit Iris Flower Classifier ML App   \n",
    "     </h1>  \n",
    "    </div>  \n",
    "    \"\"\"  \n",
    "        \n",
    "    smt.markdown(html_temp, unsafe_allow_html = True)  \n",
    "   \n",
    "    SepalLength = smt.text_input(\"Sepal Length \")  \n",
    "    SepalWidth = smt.text_input(\"Sepal Width \")  \n",
    "    PetalLength = smt.text_input(\"Petal Length \")  \n",
    "    PetalWidth = smt.text_input(\"Petal Width \")  \n",
    "    result = \" \"  \n",
    "        \n",
    "\n",
    "    if smt.button(\"Predict\"):  \n",
    "        result = prediction(SepalLength,SepalWidth,PetalLength,PetalWidth)  \n",
    "    smt.success ('The output of the above is {}'.format(result))  \n",
    "    \n",
    "    \n",
    "if __name__== '__main__':  \n",
    "    main()  "
   ]
  },
  {
   "cell_type": "code",
   "execution_count": null,
   "id": "6e264d84",
   "metadata": {},
   "outputs": [],
   "source": []
  }
 ],
 "metadata": {
  "kernelspec": {
   "display_name": "Python 3 (ipykernel)",
   "language": "python",
   "name": "python3"
  },
  "language_info": {
   "codemirror_mode": {
    "name": "ipython",
    "version": 3
   },
   "file_extension": ".py",
   "mimetype": "text/x-python",
   "name": "python",
   "nbconvert_exporter": "python",
   "pygments_lexer": "ipython3",
   "version": "3.8.10"
  },
  "toc": {
   "base_numbering": 1,
   "nav_menu": {},
   "number_sections": true,
   "sideBar": true,
   "skip_h1_title": false,
   "title_cell": "Table of Contents",
   "title_sidebar": "Contents",
   "toc_cell": false,
   "toc_position": {},
   "toc_section_display": true,
   "toc_window_display": false
  }
 },
 "nbformat": 4,
 "nbformat_minor": 5
}
