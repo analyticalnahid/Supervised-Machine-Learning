{
 "cells": [
  {
   "cell_type": "code",
   "execution_count": 1,
   "id": "ee6df7d3",
   "metadata": {
    "ExecuteTime": {
     "end_time": "2022-06-08T07:01:05.307806Z",
     "start_time": "2022-06-08T07:01:04.676262Z"
    }
   },
   "outputs": [],
   "source": [
    "import numpy as np\n",
    "from sklearn.naive_bayes import MultinomialNB\n",
    "from sklearn.feature_extraction.text import CountVectorizer\n",
    "# Create text\n",
    "text_data = np.array(['I love Brazil. Brazil!',\n",
    "'Brazil is best',\n",
    "'Germany beats both'])\n",
    "# Create bag of words\n",
    "count = CountVectorizer()\n",
    "bag_of_words = count.fit_transform(text_data)\n",
    "# Create feature matrix\n",
    "features = bag_of_words.toarray()\n",
    "# Create target vector\n",
    "target = np.array([0,0,1])"
   ]
  },
  {
   "cell_type": "code",
   "execution_count": 2,
   "id": "3590174a",
   "metadata": {
    "ExecuteTime": {
     "end_time": "2022-06-08T07:01:13.476306Z",
     "start_time": "2022-06-08T07:01:13.460956Z"
    }
   },
   "outputs": [],
   "source": [
    "classifer = MultinomialNB(class_prior=[0.25, 0.5])\n",
    "# Train model\n",
    "model = classifer.fit(features, target)"
   ]
  },
  {
   "cell_type": "code",
   "execution_count": null,
   "id": "e295b0d9",
   "metadata": {},
   "outputs": [],
   "source": []
  }
 ],
 "metadata": {
  "kernelspec": {
   "display_name": "Python 3 (ipykernel)",
   "language": "python",
   "name": "python3"
  },
  "language_info": {
   "codemirror_mode": {
    "name": "ipython",
    "version": 3
   },
   "file_extension": ".py",
   "mimetype": "text/x-python",
   "name": "python",
   "nbconvert_exporter": "python",
   "pygments_lexer": "ipython3",
   "version": "3.8.10"
  },
  "toc": {
   "base_numbering": 1,
   "nav_menu": {},
   "number_sections": true,
   "sideBar": true,
   "skip_h1_title": false,
   "title_cell": "Table of Contents",
   "title_sidebar": "Contents",
   "toc_cell": false,
   "toc_position": {},
   "toc_section_display": true,
   "toc_window_display": false
  }
 },
 "nbformat": 4,
 "nbformat_minor": 5
}
