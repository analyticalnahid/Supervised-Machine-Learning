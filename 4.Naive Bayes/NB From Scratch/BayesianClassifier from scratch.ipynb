{
 "cells": [
  {
   "cell_type": "code",
   "execution_count": 6,
   "metadata": {
    "ExecuteTime": {
     "end_time": "2022-06-07T16:48:51.895637Z",
     "start_time": "2022-06-07T16:48:51.848418Z"
    }
   },
   "outputs": [],
   "source": [
    "class MultinomialNB:\n",
    "    \n",
    "    def fit(self, X, y, ls=0.01):\n",
    "        self.ls = ls\n",
    "        self.y_classes, y_counts = np.unique(y, return_counts=True)\n",
    "        self.x_classes = [np.unique(x) for x in X.T]\n",
    "        self.phi_y = 1.0 * y_counts/y_counts.sum()\n",
    "        self.phi_x = self.mean_X(X, y)\n",
    "        self.c_x = self.count_x(X, y)\n",
    "        return self\n",
    "    \n",
    "    def mean_X(self, X, y):\n",
    "        return [[self.ls_mean_x(X, y, k, j) for j in range(len(self.x_classes))] for k in self.y_classes]\n",
    "    \n",
    "    def ls_mean_x(self, X, y, k, j):\n",
    "        x_data = (X[:,j][y==k].reshape(-1,1) == self.x_classes[j])\n",
    "        return (x_data.sum(axis=0) + self.ls ) / (len(x_data) + (len(self.x_classes) * self.ls))\n",
    "    \n",
    "    def get_mean_x(self, y, j):\n",
    "        return 1 + self.ls / (self.c_x[y][j] + (len(self.x_classes) * self.ls))\n",
    "        \n",
    "    def count_x(self, X, y):\n",
    "        return [[len(X[:,j][y==k].reshape(-1,1) == self.x_classes[j])\n",
    "                       for j in range(len(self.x_classes))]\n",
    "                      for k in self.y_classes]\n",
    "\n",
    "    def predict(self, X):\n",
    "        return np.apply_along_axis(lambda x: self.compute_probs(x), 1, X)\n",
    "    \n",
    "    def compute_probs(self, x):\n",
    "        probs = np.array([self.compute_prob(x, y) for y in range(len(self.y_classes))])\n",
    "        return self.y_classes[np.argmax(probs)]\n",
    "    \n",
    "    def compute_prob(self, x, y):\n",
    "        Pxy = 1\n",
    "        for j in range(len(x)):\n",
    "            x_clas = self.x_classes[j]\n",
    "            if x[j] in x_clas:\n",
    "                i = list(x_clas).index(x[j])\n",
    "                p_x_j_y = self.phi_x[y][j][i] # p(xj|y)\n",
    "                Pxy *= p_x_j_y\n",
    "            else:\n",
    "                Pxy *= get_mean_x(y, j)\n",
    "        return Pxy * self.phi_y[y]\n",
    "    \n",
    "    def evaluate(self, X, y):\n",
    "        return (self.predict(X) == y).mean()"
   ]
  },
  {
   "cell_type": "code",
   "execution_count": 5,
   "metadata": {
    "ExecuteTime": {
     "end_time": "2022-06-07T16:47:53.652477Z",
     "start_time": "2022-06-07T16:47:53.598633Z"
    }
   },
   "outputs": [],
   "source": [
    "import numpy as np   \n",
    "\n",
    "class GDAClassifier:\n",
    "    \n",
    "    def fit(self, X, y, epsilon = 1e-10):\n",
    "        self.y_classes, y_counts = np.unique(y, return_counts=True)\n",
    "        self.phi_y = 1.0 * y_counts/len(y)\n",
    "        self.u = np.array([ X[y==k].mean(axis=0) for k in self.y_classes])\n",
    "        self.E = self.compute_sigma(X, y)\n",
    "        self.E += np.ones_like(self.E) * epsilon # fix zero overflow\n",
    "        self.invE = np.linalg.pinv(self.E)\n",
    "        return self\n",
    "    \n",
    "    def compute_sigma(self,X, y):\n",
    "        X_u = X.copy().astype('float64')\n",
    "        for i in range(len(self.u)):\n",
    "            X_u[y==self.y_classes[i]] -= self.u[i]\n",
    "        return X_u.T.dot(X_u) / len(y)\n",
    "\n",
    "    def predict(self, X):\n",
    "        return np.apply_along_axis(self.get_prob, 1, X)\n",
    "    \n",
    "    def score(self, X, y):\n",
    "        return (self.predict(X) == y).mean()\n",
    "    \n",
    "    def get_prob(self, x):\n",
    "        p = np.exp(-0.5 * np.sum((x - self.u).dot(self.invE) * (x - self.u), axis =1)) * self.phi_y\n",
    "        print(p)\n",
    "        return np.argmax(p)"
   ]
  },
  {
   "cell_type": "code",
   "execution_count": 4,
   "metadata": {
    "ExecuteTime": {
     "end_time": "2022-06-07T16:46:23.286168Z",
     "start_time": "2022-06-07T16:46:23.254078Z"
    }
   },
   "outputs": [],
   "source": [
    "# %load gaussian_naive_bayes.py\n",
    "import numpy as np\n",
    "     \n",
    "class GaussianNB:\n",
    "    \n",
    "    def fit(self, X, y, epsilon = 1e-10):\n",
    "        self.y_classes, y_counts = np.unique(y, return_counts=True)\n",
    "        self.x_classes = np.array([np.unique(x) for x in X.T])\n",
    "        self.phi_y = 1.0 * y_counts/y_counts.sum()\n",
    "        self.u = np.array([X[y==k].mean(axis=0) for k in self.y_classes])\n",
    "        self.var_x = np.array([X[y==k].var(axis=0)  + epsilon for k in self.y_classes])\n",
    "        return self\n",
    "    \n",
    "    def predict(self, X):\n",
    "        return np.apply_along_axis(lambda x: self.compute_probs(x), 1, X)\n",
    "    \n",
    "    def compute_probs(self, x):\n",
    "        probs = np.array([self.compute_prob(x, y) for y in range(len(self.y_classes))])\n",
    "        return self.y_classes[np.argmax(probs)]\n",
    "    \n",
    "    def compute_prob(self, x, y):\n",
    "        c = 1.0 /np.sqrt(2.0 * np.pi * (self.var_x[y]))\n",
    "        return np.prod(c * np.exp(-1.0 * np.square(x - self.u[y]) / (2.0 * self.var_x[y])))\n",
    "    \n",
    "    def evaluate(self, X, y):\n",
    "        return (self.predict(X) == y).mean()"
   ]
  },
  {
   "cell_type": "code",
   "execution_count": 3,
   "metadata": {
    "ExecuteTime": {
     "end_time": "2022-06-07T16:45:40.058575Z",
     "start_time": "2022-06-07T16:45:40.048227Z"
    }
   },
   "outputs": [],
   "source": [
    "# %load gda.py\n",
    "import numpy as np\n",
    "\n",
    "class GDABinaryClassifier:\n",
    "    \n",
    "    def fit(self, X, y):\n",
    "        self.fi = y.mean()\n",
    "        self.u = np.array([ X[y==k].mean(axis=0) for k in [0,1]])\n",
    "        X_u = X.copy()\n",
    "        for k in [0,1]: X_u[y==k] -= self.u[k]\n",
    "        self.E = X_u.T.dot(X_u) / len(y)\n",
    "        self.invE = np.linalg.pinv(self.E)\n",
    "        return self\n",
    "    \n",
    "    def predict(self, X):\n",
    "        return np.argmax([self.compute_prob(X, i) for i in range(len(self.u))], axis=0)\n",
    "    \n",
    "    def compute_prob(self, X, i):\n",
    "        u, phi = self.u[i], ((self.fi)**i * (1 - self.fi)**(1 - i))\n",
    "        return np.exp(-1.0 * np.sum((X-u).dot(self.invE)*(X-u), axis=1)) * phi\n",
    "    \n",
    "    def score(self, X, y):\n",
    "        return (self.predict(X) == y).mean()"
   ]
  },
  {
   "cell_type": "code",
   "execution_count": 2,
   "metadata": {
    "ExecuteTime": {
     "end_time": "2022-06-07T16:43:51.222595Z",
     "start_time": "2022-06-07T16:43:51.207981Z"
    }
   },
   "outputs": [],
   "source": [
    "# %load naive_bayes.py\n",
    "import numpy as np\n",
    "\n",
    "class NaiveBayesBinaryClassifier:\n",
    "    \n",
    "    def fit(self, X, y):\n",
    "        self.y_classes, y_counts = np.unique(y, return_counts=True)\n",
    "        self.phi_y = 1.0 * y_counts/y_counts.sum()\n",
    "        self.phi_x = [1.0 * X[y==k].mean(axis=0) for k in self.y_classes]\n",
    "        return self\n",
    "    \n",
    "    def predict(self, X):\n",
    "        return np.apply_along_axis(lambda x: self.compute_probs(x), 1, X)\n",
    "    \n",
    "    def compute_probs(self, x):\n",
    "        probs = [self.compute_prob(x, y) for y in range(len(self.y_classes))]\n",
    "        return self.y_classes[np.argmax(probs)]\n",
    "    \n",
    "    def compute_prob(self, x, y):\n",
    "        res = 1\n",
    "        for j in range(len(x)):\n",
    "            Pxy = self.phi_x[y][j] # p(xj=1|y)\n",
    "            res *= (Pxy**x[j])*((1-Pxy)**(1-x[j])) # p(xj=0|y)\n",
    "        return res * self.phi_y[y]\n",
    "    \n",
    "    def score(self, X, y):\n",
    "        return (self.predict(X) == y).mean()"
   ]
  },
  {
   "cell_type": "code",
   "execution_count": 1,
   "metadata": {
    "ExecuteTime": {
     "end_time": "2022-06-07T16:42:39.386787Z",
     "start_time": "2022-06-07T16:42:37.034522Z"
    }
   },
   "outputs": [
    {
     "ename": "FileNotFoundError",
     "evalue": "[Errno 2] No such file or directory: 'new.csv'",
     "output_type": "error",
     "traceback": [
      "\u001b[0;31m---------------------------------------------------------------------------\u001b[0m",
      "\u001b[0;31mFileNotFoundError\u001b[0m                         Traceback (most recent call last)",
      "Input \u001b[0;32mIn [1]\u001b[0m, in \u001b[0;36m<cell line: 56>\u001b[0;34m()\u001b[0m\n\u001b[1;32m     52\u001b[0m             p[i] \u001b[38;5;241m=\u001b[39m p[i] \u001b[38;5;241m/\u001b[39m tot\n\u001b[1;32m     54\u001b[0m         \u001b[38;5;28;01mreturn\u001b[39;00m p\n\u001b[0;32m---> 56\u001b[0m b \u001b[38;5;241m=\u001b[39m \u001b[43mBayesianClassifier\u001b[49m\u001b[43m(\u001b[49m\u001b[38;5;124;43m\"\u001b[39;49m\u001b[38;5;124;43mnew.csv\u001b[39;49m\u001b[38;5;124;43m\"\u001b[39;49m\u001b[43m,\u001b[49m\u001b[43m \u001b[49m\u001b[38;5;124;43m\"\u001b[39;49m\u001b[38;5;124;43mWeather\u001b[39;49m\u001b[38;5;124;43m\"\u001b[39;49m\u001b[43m)\u001b[49m\n\u001b[1;32m     58\u001b[0m b\u001b[38;5;241m.\u001b[39mget_probability_table()\n\u001b[1;32m     59\u001b[0m \u001b[38;5;28mprint\u001b[39m(b\u001b[38;5;241m.\u001b[39mclassify({\u001b[38;5;124m\"\u001b[39m\u001b[38;5;124mTemp\u001b[39m\u001b[38;5;124m\"\u001b[39m: \u001b[38;5;124m'\u001b[39m\u001b[38;5;124mMild\u001b[39m\u001b[38;5;124m'\u001b[39m, \u001b[38;5;124m\"\u001b[39m\u001b[38;5;124mWindy\u001b[39m\u001b[38;5;124m\"\u001b[39m: \u001b[38;5;124m\"\u001b[39m\u001b[38;5;124mLow\u001b[39m\u001b[38;5;124m\"\u001b[39m, \u001b[38;5;124m\"\u001b[39m\u001b[38;5;124mHumidity\u001b[39m\u001b[38;5;124m\"\u001b[39m: \u001b[38;5;124m\"\u001b[39m\u001b[38;5;124mHigh\u001b[39m\u001b[38;5;124m\"\u001b[39m, \u001b[38;5;124m\"\u001b[39m\u001b[38;5;124mCloudy\u001b[39m\u001b[38;5;124m\"\u001b[39m: \u001b[38;5;124m\"\u001b[39m\u001b[38;5;124mYes\u001b[39m\u001b[38;5;124m\"\u001b[39m}))\n",
      "Input \u001b[0;32mIn [1]\u001b[0m, in \u001b[0;36mBayesianClassifier.__init__\u001b[0;34m(self, path, col)\u001b[0m\n\u001b[1;32m      7\u001b[0m \u001b[38;5;28mself\u001b[39m\u001b[38;5;241m.\u001b[39mop_cols \u001b[38;5;241m=\u001b[39m {}\n\u001b[1;32m      8\u001b[0m \u001b[38;5;28mself\u001b[39m\u001b[38;5;241m.\u001b[39mcol \u001b[38;5;241m=\u001b[39m col\n\u001b[0;32m----> 9\u001b[0m \u001b[38;5;28mself\u001b[39m\u001b[38;5;241m.\u001b[39mdata \u001b[38;5;241m=\u001b[39m \u001b[43mpd\u001b[49m\u001b[38;5;241;43m.\u001b[39;49m\u001b[43mread_csv\u001b[49m\u001b[43m(\u001b[49m\u001b[43mpath\u001b[49m\u001b[43m)\u001b[49m\n\u001b[1;32m     10\u001b[0m \u001b[38;5;28mself\u001b[39m\u001b[38;5;241m.\u001b[39mdataM \u001b[38;5;241m=\u001b[39m \u001b[38;5;28mself\u001b[39m\u001b[38;5;241m.\u001b[39mdata\n\u001b[1;32m     11\u001b[0m \u001b[38;5;28mself\u001b[39m\u001b[38;5;241m.\u001b[39mop \u001b[38;5;241m=\u001b[39m \u001b[38;5;28mself\u001b[39m\u001b[38;5;241m.\u001b[39mdata[col]\n",
      "File \u001b[0;32m~/.local/lib/python3.8/site-packages/pandas/util/_decorators.py:311\u001b[0m, in \u001b[0;36mdeprecate_nonkeyword_arguments.<locals>.decorate.<locals>.wrapper\u001b[0;34m(*args, **kwargs)\u001b[0m\n\u001b[1;32m    305\u001b[0m \u001b[38;5;28;01mif\u001b[39;00m \u001b[38;5;28mlen\u001b[39m(args) \u001b[38;5;241m>\u001b[39m num_allow_args:\n\u001b[1;32m    306\u001b[0m     warnings\u001b[38;5;241m.\u001b[39mwarn(\n\u001b[1;32m    307\u001b[0m         msg\u001b[38;5;241m.\u001b[39mformat(arguments\u001b[38;5;241m=\u001b[39marguments),\n\u001b[1;32m    308\u001b[0m         \u001b[38;5;167;01mFutureWarning\u001b[39;00m,\n\u001b[1;32m    309\u001b[0m         stacklevel\u001b[38;5;241m=\u001b[39mstacklevel,\n\u001b[1;32m    310\u001b[0m     )\n\u001b[0;32m--> 311\u001b[0m \u001b[38;5;28;01mreturn\u001b[39;00m \u001b[43mfunc\u001b[49m\u001b[43m(\u001b[49m\u001b[38;5;241;43m*\u001b[39;49m\u001b[43margs\u001b[49m\u001b[43m,\u001b[49m\u001b[43m \u001b[49m\u001b[38;5;241;43m*\u001b[39;49m\u001b[38;5;241;43m*\u001b[39;49m\u001b[43mkwargs\u001b[49m\u001b[43m)\u001b[49m\n",
      "File \u001b[0;32m~/.local/lib/python3.8/site-packages/pandas/io/parsers/readers.py:680\u001b[0m, in \u001b[0;36mread_csv\u001b[0;34m(filepath_or_buffer, sep, delimiter, header, names, index_col, usecols, squeeze, prefix, mangle_dupe_cols, dtype, engine, converters, true_values, false_values, skipinitialspace, skiprows, skipfooter, nrows, na_values, keep_default_na, na_filter, verbose, skip_blank_lines, parse_dates, infer_datetime_format, keep_date_col, date_parser, dayfirst, cache_dates, iterator, chunksize, compression, thousands, decimal, lineterminator, quotechar, quoting, doublequote, escapechar, comment, encoding, encoding_errors, dialect, error_bad_lines, warn_bad_lines, on_bad_lines, delim_whitespace, low_memory, memory_map, float_precision, storage_options)\u001b[0m\n\u001b[1;32m    665\u001b[0m kwds_defaults \u001b[38;5;241m=\u001b[39m _refine_defaults_read(\n\u001b[1;32m    666\u001b[0m     dialect,\n\u001b[1;32m    667\u001b[0m     delimiter,\n\u001b[0;32m   (...)\u001b[0m\n\u001b[1;32m    676\u001b[0m     defaults\u001b[38;5;241m=\u001b[39m{\u001b[38;5;124m\"\u001b[39m\u001b[38;5;124mdelimiter\u001b[39m\u001b[38;5;124m\"\u001b[39m: \u001b[38;5;124m\"\u001b[39m\u001b[38;5;124m,\u001b[39m\u001b[38;5;124m\"\u001b[39m},\n\u001b[1;32m    677\u001b[0m )\n\u001b[1;32m    678\u001b[0m kwds\u001b[38;5;241m.\u001b[39mupdate(kwds_defaults)\n\u001b[0;32m--> 680\u001b[0m \u001b[38;5;28;01mreturn\u001b[39;00m \u001b[43m_read\u001b[49m\u001b[43m(\u001b[49m\u001b[43mfilepath_or_buffer\u001b[49m\u001b[43m,\u001b[49m\u001b[43m \u001b[49m\u001b[43mkwds\u001b[49m\u001b[43m)\u001b[49m\n",
      "File \u001b[0;32m~/.local/lib/python3.8/site-packages/pandas/io/parsers/readers.py:575\u001b[0m, in \u001b[0;36m_read\u001b[0;34m(filepath_or_buffer, kwds)\u001b[0m\n\u001b[1;32m    572\u001b[0m _validate_names(kwds\u001b[38;5;241m.\u001b[39mget(\u001b[38;5;124m\"\u001b[39m\u001b[38;5;124mnames\u001b[39m\u001b[38;5;124m\"\u001b[39m, \u001b[38;5;28;01mNone\u001b[39;00m))\n\u001b[1;32m    574\u001b[0m \u001b[38;5;66;03m# Create the parser.\u001b[39;00m\n\u001b[0;32m--> 575\u001b[0m parser \u001b[38;5;241m=\u001b[39m \u001b[43mTextFileReader\u001b[49m\u001b[43m(\u001b[49m\u001b[43mfilepath_or_buffer\u001b[49m\u001b[43m,\u001b[49m\u001b[43m \u001b[49m\u001b[38;5;241;43m*\u001b[39;49m\u001b[38;5;241;43m*\u001b[39;49m\u001b[43mkwds\u001b[49m\u001b[43m)\u001b[49m\n\u001b[1;32m    577\u001b[0m \u001b[38;5;28;01mif\u001b[39;00m chunksize \u001b[38;5;129;01mor\u001b[39;00m iterator:\n\u001b[1;32m    578\u001b[0m     \u001b[38;5;28;01mreturn\u001b[39;00m parser\n",
      "File \u001b[0;32m~/.local/lib/python3.8/site-packages/pandas/io/parsers/readers.py:933\u001b[0m, in \u001b[0;36mTextFileReader.__init__\u001b[0;34m(self, f, engine, **kwds)\u001b[0m\n\u001b[1;32m    930\u001b[0m     \u001b[38;5;28mself\u001b[39m\u001b[38;5;241m.\u001b[39moptions[\u001b[38;5;124m\"\u001b[39m\u001b[38;5;124mhas_index_names\u001b[39m\u001b[38;5;124m\"\u001b[39m] \u001b[38;5;241m=\u001b[39m kwds[\u001b[38;5;124m\"\u001b[39m\u001b[38;5;124mhas_index_names\u001b[39m\u001b[38;5;124m\"\u001b[39m]\n\u001b[1;32m    932\u001b[0m \u001b[38;5;28mself\u001b[39m\u001b[38;5;241m.\u001b[39mhandles: IOHandles \u001b[38;5;241m|\u001b[39m \u001b[38;5;28;01mNone\u001b[39;00m \u001b[38;5;241m=\u001b[39m \u001b[38;5;28;01mNone\u001b[39;00m\n\u001b[0;32m--> 933\u001b[0m \u001b[38;5;28mself\u001b[39m\u001b[38;5;241m.\u001b[39m_engine \u001b[38;5;241m=\u001b[39m \u001b[38;5;28;43mself\u001b[39;49m\u001b[38;5;241;43m.\u001b[39;49m\u001b[43m_make_engine\u001b[49m\u001b[43m(\u001b[49m\u001b[43mf\u001b[49m\u001b[43m,\u001b[49m\u001b[43m \u001b[49m\u001b[38;5;28;43mself\u001b[39;49m\u001b[38;5;241;43m.\u001b[39;49m\u001b[43mengine\u001b[49m\u001b[43m)\u001b[49m\n",
      "File \u001b[0;32m~/.local/lib/python3.8/site-packages/pandas/io/parsers/readers.py:1217\u001b[0m, in \u001b[0;36mTextFileReader._make_engine\u001b[0;34m(self, f, engine)\u001b[0m\n\u001b[1;32m   1213\u001b[0m     mode \u001b[38;5;241m=\u001b[39m \u001b[38;5;124m\"\u001b[39m\u001b[38;5;124mrb\u001b[39m\u001b[38;5;124m\"\u001b[39m\n\u001b[1;32m   1214\u001b[0m \u001b[38;5;66;03m# error: No overload variant of \"get_handle\" matches argument types\u001b[39;00m\n\u001b[1;32m   1215\u001b[0m \u001b[38;5;66;03m# \"Union[str, PathLike[str], ReadCsvBuffer[bytes], ReadCsvBuffer[str]]\"\u001b[39;00m\n\u001b[1;32m   1216\u001b[0m \u001b[38;5;66;03m# , \"str\", \"bool\", \"Any\", \"Any\", \"Any\", \"Any\", \"Any\"\u001b[39;00m\n\u001b[0;32m-> 1217\u001b[0m \u001b[38;5;28mself\u001b[39m\u001b[38;5;241m.\u001b[39mhandles \u001b[38;5;241m=\u001b[39m \u001b[43mget_handle\u001b[49m\u001b[43m(\u001b[49m\u001b[43m  \u001b[49m\u001b[38;5;66;43;03m# type: ignore[call-overload]\u001b[39;49;00m\n\u001b[1;32m   1218\u001b[0m \u001b[43m    \u001b[49m\u001b[43mf\u001b[49m\u001b[43m,\u001b[49m\n\u001b[1;32m   1219\u001b[0m \u001b[43m    \u001b[49m\u001b[43mmode\u001b[49m\u001b[43m,\u001b[49m\n\u001b[1;32m   1220\u001b[0m \u001b[43m    \u001b[49m\u001b[43mencoding\u001b[49m\u001b[38;5;241;43m=\u001b[39;49m\u001b[38;5;28;43mself\u001b[39;49m\u001b[38;5;241;43m.\u001b[39;49m\u001b[43moptions\u001b[49m\u001b[38;5;241;43m.\u001b[39;49m\u001b[43mget\u001b[49m\u001b[43m(\u001b[49m\u001b[38;5;124;43m\"\u001b[39;49m\u001b[38;5;124;43mencoding\u001b[39;49m\u001b[38;5;124;43m\"\u001b[39;49m\u001b[43m,\u001b[49m\u001b[43m \u001b[49m\u001b[38;5;28;43;01mNone\u001b[39;49;00m\u001b[43m)\u001b[49m\u001b[43m,\u001b[49m\n\u001b[1;32m   1221\u001b[0m \u001b[43m    \u001b[49m\u001b[43mcompression\u001b[49m\u001b[38;5;241;43m=\u001b[39;49m\u001b[38;5;28;43mself\u001b[39;49m\u001b[38;5;241;43m.\u001b[39;49m\u001b[43moptions\u001b[49m\u001b[38;5;241;43m.\u001b[39;49m\u001b[43mget\u001b[49m\u001b[43m(\u001b[49m\u001b[38;5;124;43m\"\u001b[39;49m\u001b[38;5;124;43mcompression\u001b[39;49m\u001b[38;5;124;43m\"\u001b[39;49m\u001b[43m,\u001b[49m\u001b[43m \u001b[49m\u001b[38;5;28;43;01mNone\u001b[39;49;00m\u001b[43m)\u001b[49m\u001b[43m,\u001b[49m\n\u001b[1;32m   1222\u001b[0m \u001b[43m    \u001b[49m\u001b[43mmemory_map\u001b[49m\u001b[38;5;241;43m=\u001b[39;49m\u001b[38;5;28;43mself\u001b[39;49m\u001b[38;5;241;43m.\u001b[39;49m\u001b[43moptions\u001b[49m\u001b[38;5;241;43m.\u001b[39;49m\u001b[43mget\u001b[49m\u001b[43m(\u001b[49m\u001b[38;5;124;43m\"\u001b[39;49m\u001b[38;5;124;43mmemory_map\u001b[39;49m\u001b[38;5;124;43m\"\u001b[39;49m\u001b[43m,\u001b[49m\u001b[43m \u001b[49m\u001b[38;5;28;43;01mFalse\u001b[39;49;00m\u001b[43m)\u001b[49m\u001b[43m,\u001b[49m\n\u001b[1;32m   1223\u001b[0m \u001b[43m    \u001b[49m\u001b[43mis_text\u001b[49m\u001b[38;5;241;43m=\u001b[39;49m\u001b[43mis_text\u001b[49m\u001b[43m,\u001b[49m\n\u001b[1;32m   1224\u001b[0m \u001b[43m    \u001b[49m\u001b[43merrors\u001b[49m\u001b[38;5;241;43m=\u001b[39;49m\u001b[38;5;28;43mself\u001b[39;49m\u001b[38;5;241;43m.\u001b[39;49m\u001b[43moptions\u001b[49m\u001b[38;5;241;43m.\u001b[39;49m\u001b[43mget\u001b[49m\u001b[43m(\u001b[49m\u001b[38;5;124;43m\"\u001b[39;49m\u001b[38;5;124;43mencoding_errors\u001b[39;49m\u001b[38;5;124;43m\"\u001b[39;49m\u001b[43m,\u001b[49m\u001b[43m \u001b[49m\u001b[38;5;124;43m\"\u001b[39;49m\u001b[38;5;124;43mstrict\u001b[39;49m\u001b[38;5;124;43m\"\u001b[39;49m\u001b[43m)\u001b[49m\u001b[43m,\u001b[49m\n\u001b[1;32m   1225\u001b[0m \u001b[43m    \u001b[49m\u001b[43mstorage_options\u001b[49m\u001b[38;5;241;43m=\u001b[39;49m\u001b[38;5;28;43mself\u001b[39;49m\u001b[38;5;241;43m.\u001b[39;49m\u001b[43moptions\u001b[49m\u001b[38;5;241;43m.\u001b[39;49m\u001b[43mget\u001b[49m\u001b[43m(\u001b[49m\u001b[38;5;124;43m\"\u001b[39;49m\u001b[38;5;124;43mstorage_options\u001b[39;49m\u001b[38;5;124;43m\"\u001b[39;49m\u001b[43m,\u001b[49m\u001b[43m \u001b[49m\u001b[38;5;28;43;01mNone\u001b[39;49;00m\u001b[43m)\u001b[49m\u001b[43m,\u001b[49m\n\u001b[1;32m   1226\u001b[0m \u001b[43m\u001b[49m\u001b[43m)\u001b[49m\n\u001b[1;32m   1227\u001b[0m \u001b[38;5;28;01massert\u001b[39;00m \u001b[38;5;28mself\u001b[39m\u001b[38;5;241m.\u001b[39mhandles \u001b[38;5;129;01mis\u001b[39;00m \u001b[38;5;129;01mnot\u001b[39;00m \u001b[38;5;28;01mNone\u001b[39;00m\n\u001b[1;32m   1228\u001b[0m f \u001b[38;5;241m=\u001b[39m \u001b[38;5;28mself\u001b[39m\u001b[38;5;241m.\u001b[39mhandles\u001b[38;5;241m.\u001b[39mhandle\n",
      "File \u001b[0;32m~/.local/lib/python3.8/site-packages/pandas/io/common.py:789\u001b[0m, in \u001b[0;36mget_handle\u001b[0;34m(path_or_buf, mode, encoding, compression, memory_map, is_text, errors, storage_options)\u001b[0m\n\u001b[1;32m    784\u001b[0m \u001b[38;5;28;01melif\u001b[39;00m \u001b[38;5;28misinstance\u001b[39m(handle, \u001b[38;5;28mstr\u001b[39m):\n\u001b[1;32m    785\u001b[0m     \u001b[38;5;66;03m# Check whether the filename is to be opened in binary mode.\u001b[39;00m\n\u001b[1;32m    786\u001b[0m     \u001b[38;5;66;03m# Binary mode does not support 'encoding' and 'newline'.\u001b[39;00m\n\u001b[1;32m    787\u001b[0m     \u001b[38;5;28;01mif\u001b[39;00m ioargs\u001b[38;5;241m.\u001b[39mencoding \u001b[38;5;129;01mand\u001b[39;00m \u001b[38;5;124m\"\u001b[39m\u001b[38;5;124mb\u001b[39m\u001b[38;5;124m\"\u001b[39m \u001b[38;5;129;01mnot\u001b[39;00m \u001b[38;5;129;01min\u001b[39;00m ioargs\u001b[38;5;241m.\u001b[39mmode:\n\u001b[1;32m    788\u001b[0m         \u001b[38;5;66;03m# Encoding\u001b[39;00m\n\u001b[0;32m--> 789\u001b[0m         handle \u001b[38;5;241m=\u001b[39m \u001b[38;5;28;43mopen\u001b[39;49m\u001b[43m(\u001b[49m\n\u001b[1;32m    790\u001b[0m \u001b[43m            \u001b[49m\u001b[43mhandle\u001b[49m\u001b[43m,\u001b[49m\n\u001b[1;32m    791\u001b[0m \u001b[43m            \u001b[49m\u001b[43mioargs\u001b[49m\u001b[38;5;241;43m.\u001b[39;49m\u001b[43mmode\u001b[49m\u001b[43m,\u001b[49m\n\u001b[1;32m    792\u001b[0m \u001b[43m            \u001b[49m\u001b[43mencoding\u001b[49m\u001b[38;5;241;43m=\u001b[39;49m\u001b[43mioargs\u001b[49m\u001b[38;5;241;43m.\u001b[39;49m\u001b[43mencoding\u001b[49m\u001b[43m,\u001b[49m\n\u001b[1;32m    793\u001b[0m \u001b[43m            \u001b[49m\u001b[43merrors\u001b[49m\u001b[38;5;241;43m=\u001b[39;49m\u001b[43merrors\u001b[49m\u001b[43m,\u001b[49m\n\u001b[1;32m    794\u001b[0m \u001b[43m            \u001b[49m\u001b[43mnewline\u001b[49m\u001b[38;5;241;43m=\u001b[39;49m\u001b[38;5;124;43m\"\u001b[39;49m\u001b[38;5;124;43m\"\u001b[39;49m\u001b[43m,\u001b[49m\n\u001b[1;32m    795\u001b[0m \u001b[43m        \u001b[49m\u001b[43m)\u001b[49m\n\u001b[1;32m    796\u001b[0m     \u001b[38;5;28;01melse\u001b[39;00m:\n\u001b[1;32m    797\u001b[0m         \u001b[38;5;66;03m# Binary mode\u001b[39;00m\n\u001b[1;32m    798\u001b[0m         handle \u001b[38;5;241m=\u001b[39m \u001b[38;5;28mopen\u001b[39m(handle, ioargs\u001b[38;5;241m.\u001b[39mmode)\n",
      "\u001b[0;31mFileNotFoundError\u001b[0m: [Errno 2] No such file or directory: 'new.csv'"
     ]
    }
   ],
   "source": [
    "import pandas as pd\n",
    "\n",
    "class BayesianClassifier:\n",
    "\n",
    "    def __init__(self, path, col):\n",
    "        self.cols = {}\n",
    "        self.op_cols = {}\n",
    "        self.col = col\n",
    "        self.data = pd.read_csv(path)\n",
    "        self.dataM = self.data\n",
    "        self.op = self.data[col]\n",
    "        self.data = self.data.drop(col, axis=1)\n",
    "        self.total = len(self.dataM)\n",
    "    \n",
    "    def get_probability_table(self):\n",
    "        for i in self.op.unique():\n",
    "            self.cols[i] = {}\n",
    "            for j in self.data.columns:\n",
    "                self.cols[i][j] = {}\n",
    "                for k in self.data[j]:\n",
    "                    if k not in self.cols[i][j]:\n",
    "                        self.cols[i][j][k] = \"\"\n",
    "        dfs = []\n",
    "        for i in self.op.unique():\n",
    "            for j in self.data.columns:\n",
    "                for k in self.data[j].unique():\n",
    "                    dfs.append(self.dataM[self.dataM[self.col] == i])\n",
    "\n",
    "                    \n",
    "        print(\"COLUMN\\tVALUE\\tOUTPUT\\tPROBABILITY\")\n",
    "        for x in self.cols:\n",
    "            for y in self.cols[x]:\n",
    "                for z in self.cols[x][y]:\n",
    "                    self.op_cols[x] = len(self.dataM[self.dataM[self.col] == x])\n",
    "                    total = len(self.dataM[(self.dataM[self.col] == x) & (self.dataM[y])])\n",
    "                    p = len(self.dataM[(self.dataM[y] == z) & (self.dataM[self.col] == x)]) / total\n",
    "                    self.cols[x][y][z] = p\n",
    "                    print(\"{}--->{}--->{}--->{}\".format(y,z,x,p))\n",
    "        print(self.op_cols)\n",
    "                    \n",
    "    def classify(self, values):\n",
    "        p = {}\n",
    "        tot = 0\n",
    "        for i in self.op.unique():\n",
    "            a = 1\n",
    "            for key, value in values.items():\n",
    "                a *= self.cols[i][key][value]\n",
    "            p[i] = a*self.op_cols[i]/self.total\n",
    "            tot += a*self.op_cols[i]/self.total\n",
    "        \n",
    "        for i in p:\n",
    "            p[i] = p[i] / tot\n",
    "        \n",
    "        return p\n",
    "            \n",
    "b = BayesianClassifier(\"new.csv\", \"Weather\")\n",
    "\n",
    "b.get_probability_table()\n",
    "print(b.classify({\"Temp\": 'Mild', \"Windy\": \"Low\", \"Humidity\": \"High\", \"Cloudy\": \"Yes\"}))"
   ]
  },
  {
   "cell_type": "code",
   "execution_count": null,
   "metadata": {},
   "outputs": [],
   "source": []
  }
 ],
 "metadata": {
  "kernelspec": {
   "display_name": "Python 3 (ipykernel)",
   "language": "python",
   "name": "python3"
  },
  "language_info": {
   "codemirror_mode": {
    "name": "ipython",
    "version": 3
   },
   "file_extension": ".py",
   "mimetype": "text/x-python",
   "name": "python",
   "nbconvert_exporter": "python",
   "pygments_lexer": "ipython3",
   "version": "3.8.10"
  },
  "toc": {
   "base_numbering": 1,
   "nav_menu": {},
   "number_sections": true,
   "sideBar": true,
   "skip_h1_title": false,
   "title_cell": "Table of Contents",
   "title_sidebar": "Contents",
   "toc_cell": false,
   "toc_position": {},
   "toc_section_display": true,
   "toc_window_display": false
  }
 },
 "nbformat": 4,
 "nbformat_minor": 2
}
