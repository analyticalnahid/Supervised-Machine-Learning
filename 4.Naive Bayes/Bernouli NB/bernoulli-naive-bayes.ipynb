{
 "cells": [
  {
   "cell_type": "code",
   "execution_count": 1,
   "metadata": {
    "_cell_guid": "99ad2797-36a7-e8ed-081f-f3c70d5d62ad"
   },
   "outputs": [],
   "source": [
    "import pandas as pd\n",
    "from pandas import Series,DataFrame\n",
    "import numpy as np\n",
    "\n",
    "\n",
    "from datetime import date\n",
    "\n",
    "from nltk.corpus import stopwords\n",
    "from nltk.tokenize import RegexpTokenizer\n",
    "from nltk.stem.porter import PorterStemmer\n",
    "\n",
    "from sklearn.feature_extraction.text import CountVectorizer\n",
    "from sklearn.feature_extraction.text import TfidfTransformer\n",
    "from sklearn.naive_bayes import MultinomialNB\n",
    "from sklearn.naive_bayes import BernoulliNB\n",
    "from sklearn.pipeline import Pipeline\n",
    "from sklearn.metrics import classification_report\n",
    "from sklearn.metrics import confusion_matrix\n",
    "from sklearn.metrics import roc_auc_score\n",
    "from sklearn.metrics import roc_curve, auc,precision_score, accuracy_score, recall_score, f1_score\n",
    "from scipy import interp\n",
    "\n",
    "#Visualization\n",
    "import matplotlib.pyplot as plt\n",
    "import seaborn as sns"
   ]
  },
  {
   "cell_type": "code",
   "execution_count": 2,
   "metadata": {
    "_cell_guid": "b80cfb49-7da7-60a7-fc9f-9901f85c7897"
   },
   "outputs": [],
   "source": [
    "#List to keep different methods scores to compare\n",
    "ScoreSummaryByMethod=[]"
   ]
  },
  {
   "cell_type": "code",
   "execution_count": 3,
   "metadata": {
    "_cell_guid": "78735ad8-a191-1bf3-e332-b7fb9852f3f7"
   },
   "outputs": [],
   "source": [
    "#data\n",
    "df=pd.read_csv('../input/Combined_News_DJIA.csv')\n",
    "df['Combined']=df.iloc[:,2:27].apply(lambda row: ''.join(str(row.values)), axis=1)"
   ]
  },
  {
   "cell_type": "code",
   "execution_count": 4,
   "metadata": {
    "_cell_guid": "db782ac8-ac48-b31b-3a9a-ddeac5be1b77"
   },
   "outputs": [
    {
     "data": {
      "text/html": [
       "<div>\n",
       "<table border=\"1\" class=\"dataframe\">\n",
       "  <thead>\n",
       "    <tr style=\"text-align: right;\">\n",
       "      <th></th>\n",
       "      <th>Label</th>\n",
       "      <th>Combined</th>\n",
       "    </tr>\n",
       "  </thead>\n",
       "  <tbody>\n",
       "    <tr>\n",
       "      <th>0</th>\n",
       "      <td>0</td>\n",
       "      <td>[ 'b\"Georgia \\'downs two Russian warplanes\\' a...</td>\n",
       "    </tr>\n",
       "    <tr>\n",
       "      <th>1</th>\n",
       "      <td>1</td>\n",
       "      <td>[ \"b'Why wont America and Nato help us? If the...</td>\n",
       "    </tr>\n",
       "    <tr>\n",
       "      <th>2</th>\n",
       "      <td>0</td>\n",
       "      <td>[ \"b'Remember that adorable 9-year-old who san...</td>\n",
       "    </tr>\n",
       "    <tr>\n",
       "      <th>3</th>\n",
       "      <td>0</td>\n",
       "      <td>[\"b' U.S. refuses Israel weapons to attack Ira...</td>\n",
       "    </tr>\n",
       "    <tr>\n",
       "      <th>4</th>\n",
       "      <td>1</td>\n",
       "      <td>[\"b'All the experts admit that we should legal...</td>\n",
       "    </tr>\n",
       "  </tbody>\n",
       "</table>\n",
       "</div>"
      ],
      "text/plain": [
       "   Label                                           Combined\n",
       "0      0  [ 'b\"Georgia \\'downs two Russian warplanes\\' a...\n",
       "1      1  [ \"b'Why wont America and Nato help us? If the...\n",
       "2      0  [ \"b'Remember that adorable 9-year-old who san...\n",
       "3      0  [\"b' U.S. refuses Israel weapons to attack Ira...\n",
       "4      1  [\"b'All the experts admit that we should legal..."
      ]
     },
     "execution_count": 4,
     "metadata": {},
     "output_type": "execute_result"
    }
   ],
   "source": [
    "#train data\n",
    "train=df.loc[(pd.to_datetime(df[\"Date\"]) <= date(2014,12,31)),['Label','Combined']]\n",
    "train.head()"
   ]
  },
  {
   "cell_type": "code",
   "execution_count": 5,
   "metadata": {
    "_cell_guid": "92ca95d6-c2d2-7dfd-7c59-8f73290a792d"
   },
   "outputs": [
    {
     "data": {
      "text/html": [
       "<div>\n",
       "<table border=\"1\" class=\"dataframe\">\n",
       "  <thead>\n",
       "    <tr style=\"text-align: right;\">\n",
       "      <th></th>\n",
       "      <th>Label</th>\n",
       "      <th>Combined</th>\n",
       "    </tr>\n",
       "  </thead>\n",
       "  <tbody>\n",
       "    <tr>\n",
       "      <th>1611</th>\n",
       "      <td>1</td>\n",
       "      <td>[ 'Most cases of cancer are the result of shee...</td>\n",
       "    </tr>\n",
       "    <tr>\n",
       "      <th>1612</th>\n",
       "      <td>0</td>\n",
       "      <td>[ 'Moscow-&amp;gt;Beijing high speed train will re...</td>\n",
       "    </tr>\n",
       "    <tr>\n",
       "      <th>1613</th>\n",
       "      <td>0</td>\n",
       "      <td>['US oil falls below $50 a barrel'\\n \"Toyota g...</td>\n",
       "    </tr>\n",
       "    <tr>\n",
       "      <th>1614</th>\n",
       "      <td>1</td>\n",
       "      <td>[\"'Shots fired' at French magazine HQ\"\\n '90% ...</td>\n",
       "    </tr>\n",
       "    <tr>\n",
       "      <th>1615</th>\n",
       "      <td>1</td>\n",
       "      <td>[ 'New Charlie Hebdo issue to come out next we...</td>\n",
       "    </tr>\n",
       "  </tbody>\n",
       "</table>\n",
       "</div>"
      ],
      "text/plain": [
       "      Label                                           Combined\n",
       "1611      1  [ 'Most cases of cancer are the result of shee...\n",
       "1612      0  [ 'Moscow-&gt;Beijing high speed train will re...\n",
       "1613      0  ['US oil falls below $50 a barrel'\\n \"Toyota g...\n",
       "1614      1  [\"'Shots fired' at French magazine HQ\"\\n '90% ...\n",
       "1615      1  [ 'New Charlie Hebdo issue to come out next we..."
      ]
     },
     "execution_count": 5,
     "metadata": {},
     "output_type": "execute_result"
    }
   ],
   "source": [
    "#test data\n",
    "test=df.loc[(pd.to_datetime(df[\"Date\"]) > date(2014,12,31)),['Label','Combined']]\n",
    "test.head()"
   ]
  },
  {
   "cell_type": "markdown",
   "metadata": {
    "_cell_guid": "e79c709f-350c-d5cd-1d2d-09d4b111c067"
   },
   "source": [
    "I run different classification models on the same data to compare the results. So I combine text processing, plotting and evaluation in specific functions."
   ]
  },
  {
   "cell_type": "code",
   "execution_count": 6,
   "metadata": {
    "_cell_guid": "be1c5e9b-5656-6946-6753-43e773c646ae"
   },
   "outputs": [],
   "source": [
    "#Text pre-processing\n",
    "\n",
    "def text_process(text):\n",
    "    \"\"\"\n",
    "    Takes in a string of text, then performs the following:\n",
    "    1. Tokenizes and removes punctuation\n",
    "    2. Removes  stopwords\n",
    "    3. Stems\n",
    "    4. Returns a list of the cleaned text\n",
    "    \"\"\"\n",
    "    if pd.isnull(text):\n",
    "        return []\n",
    "    # tokenizing\n",
    "    tokenizer = RegexpTokenizer(r'\\w+')\n",
    "    text_processed=tokenizer.tokenize(text)\n",
    "    \n",
    "    # removing any stopwords\n",
    "    text_processed = [word.lower() for word in text_processed if word.lower() not in stopwords.words('english')]\n",
    "    \n",
    "    # steming\n",
    "    porter_stemmer = PorterStemmer()\n",
    "    \n",
    "    text_processed = [porter_stemmer.stem(word) for word in text_processed]\n",
    "    \n",
    "    try:\n",
    "        text_processed.remove('b')\n",
    "    except: \n",
    "        pass\n",
    "\n",
    "    return text_processed\n",
    "    "
   ]
  },
  {
   "cell_type": "code",
   "execution_count": 7,
   "metadata": {
    "_cell_guid": "4bb4d28f-1d4f-2759-e234-3a674603e9f0"
   },
   "outputs": [],
   "source": [
    "def ROCCurves (Actual, Predicted):\n",
    "    '''\n",
    "    Plot ROC curves for the multiclass problem\n",
    "    based on http://scikit-learn.org/stable/auto_examples/model_selection/plot_roc.html\n",
    "    '''\n",
    "    # Compute ROC curve and ROC area for each class\n",
    "    n_classes=2\n",
    "    fpr = dict()\n",
    "    tpr = dict()\n",
    "    roc_auc = dict()\n",
    "    for i in range(n_classes):\n",
    "        fpr[i], tpr[i], _ = roc_curve(Actual.values, Predicted)\n",
    "        roc_auc[i] = auc(fpr[i], tpr[i])\n",
    "\n",
    "    # Compute micro-average ROC curve and ROC area\n",
    "    fpr[\"micro\"], tpr[\"micro\"], _ = roc_curve(Actual.ravel(), Predicted.ravel())\n",
    "    roc_auc[\"micro\"] = auc(fpr[\"micro\"], tpr[\"micro\"])\n",
    "    ##############################################################################\n",
    "    # Plot ROC curves for the multiclass problem\n",
    "\n",
    "    # Compute macro-average ROC curve and ROC area\n",
    "\n",
    "    # First aggregate all false positive rates\n",
    "\n",
    "    all_fpr = np.unique(np.concatenate([fpr[i] for i in range(n_classes)]))\n",
    "\n",
    "    # Then interpolate all ROC curves at this points\n",
    "    mean_tpr = np.zeros_like(all_fpr)\n",
    "    for i in range(n_classes):\n",
    "        mean_tpr += interp(all_fpr, fpr[i], tpr[i])\n",
    "\n",
    "    # Finally average it and compute AUC\n",
    "    mean_tpr /= n_classes\n",
    "\n",
    "    fpr[\"macro\"] = all_fpr\n",
    "    tpr[\"macro\"] = mean_tpr\n",
    "    roc_auc[\"macro\"] = auc(fpr[\"macro\"], tpr[\"macro\"])\n",
    "\n",
    "    # Plot all ROC curves\n",
    "    plt.figure()\n",
    "    plt.plot(fpr[\"micro\"], tpr[\"micro\"],\n",
    "         label='micro-average ROC curve (area = {0:0.2f})'\n",
    "               ''.format(roc_auc[\"micro\"]),\n",
    "         linewidth=2)\n",
    "\n",
    "    plt.plot(fpr[\"macro\"], tpr[\"macro\"],\n",
    "         label='macro-average ROC curve (area = {0:0.2f})'\n",
    "               ''.format(roc_auc[\"macro\"]),\n",
    "         linewidth=2)\n",
    "\n",
    "    for i in range(n_classes):\n",
    "        plt.plot(fpr[i], tpr[i], label='ROC curve of class {0} (area = {1:0.2f})'\n",
    "                                   ''.format(i, roc_auc[i]))\n",
    "\n",
    "    plt.plot([0, 1], [0, 1], 'k--')\n",
    "    plt.xlim([0.0, 1.0])\n",
    "    plt.ylim([0.0, 1.05])\n",
    "    plt.xlabel('False Positive Rate')\n",
    "    plt.ylabel('True Positive Rate')\n",
    "    plt.title('Some extension of Receiver operating characteristic to multi-class')\n",
    "    plt.legend(loc=\"lower right\")"
   ]
  },
  {
   "cell_type": "code",
   "execution_count": 8,
   "metadata": {
    "_cell_guid": "93efd6fb-d9f5-49b8-b41a-dfb5226288c5"
   },
   "outputs": [],
   "source": [
    "def heatmap(data, rotate_xticks=True):\n",
    "  fig, ax = plt.subplots()\n",
    "  heatmap = sns.heatmap(data, cmap=plt.cm.Blues)\n",
    "  ax.xaxis.tick_top()\n",
    "  if rotate_xticks:\n",
    "      plt.xticks(rotation=90)\n",
    "  plt.yticks(rotation=0)"
   ]
  },
  {
   "cell_type": "code",
   "execution_count": 9,
   "metadata": {
    "_cell_guid": "b84dc8b1-37a3-b86c-4656-062bc340a6f5"
   },
   "outputs": [],
   "source": [
    "def plot_classification_report(classification_report):\n",
    "    lines = classification_report.split('\\n')\n",
    "    classes = []\n",
    "    plotMat = []\n",
    "    for line in lines[2 : (len(lines) - 3)]:\n",
    "        t = line.split()\n",
    "        classes.append(t[0])\n",
    "        v = [float(x) for x in t[1: len(t) - 1]]\n",
    "        plotMat.append(v)\n",
    "    aveTotal = lines[len(lines) - 1].split()\n",
    "    classes.append('avg/total')\n",
    "    vAveTotal = [float(x) for x in t[1:len(aveTotal) - 1]]\n",
    "    plotMat.append(vAveTotal)\n",
    "    df_classification_report = DataFrame(plotMat, index=classes,columns=['precision', 'recall', 'f1-score'])\n",
    "    heatmap(df_classification_report)"
   ]
  },
  {
   "cell_type": "code",
   "execution_count": 10,
   "metadata": {
    "_cell_guid": "51aa12a7-a6fa-0652-ca7c-9b494706f370"
   },
   "outputs": [],
   "source": [
    "def plot_confusion_matrix(confusion_matrix,classes=['0','1']):\n",
    "    df_confusion_matrix = DataFrame(confusion_matrix, index=classes,columns=classes)\n",
    "    heatmap(df_confusion_matrix,False)"
   ]
  },
  {
   "cell_type": "code",
   "execution_count": 11,
   "metadata": {
    "_cell_guid": "11d2e03d-b0ef-235c-5b29-27aaf44b07c0"
   },
   "outputs": [],
   "source": [
    "def Evaluation (Method,Comment,Actual, Predicted):\n",
    "    '''\n",
    "        Prints and plots\n",
    "        - classification report\n",
    "        - confusion matrix\n",
    "        - ROC-AUC\n",
    "    '''\n",
    "    print (Method)\n",
    "    print (Comment)\n",
    "    print (classification_report(Actual,Predicted))\n",
    "    #plot_classification_report(classification_report(Actual,Predicted))\n",
    "    print ('Confussion matrix:\\n', confusion_matrix(Actual,Predicted))\n",
    "    #plot_confusion_matrix(confusion_matrix(Actual,Predicted))\n",
    "    ROC_AUC=roc_auc_score(Actual,Predicted)\n",
    "    print ('ROC-AUC: ' + str(ROC_AUC))\n",
    "    #ROCCurves (Actual,Predicted)\n",
    "    Precision=precision_score(Actual,Predicted)\n",
    "    Accuracy=accuracy_score(Actual,Predicted)\n",
    "    Recall=recall_score(Actual,Predicted)\n",
    "    F1=f1_score(Actual,Predicted)\n",
    "    ScoreSummaryByMethod.append([Method,Comment,ROC_AUC,Precision,Accuracy,Recall,F1])"
   ]
  },
  {
   "cell_type": "code",
   "execution_count": 12,
   "metadata": {
    "_cell_guid": "5ad4039f-9121-74c6-cab0-da940cea6455"
   },
   "outputs": [
    {
     "name": "stdout",
     "output_type": "stream",
     "text": [
      "MultinomialNB\n",
      "no shift, no n-grams, combined Top news\n",
      "             precision    recall  f1-score   support\n",
      "\n",
      "          0       0.00      0.00      0.00       186\n",
      "          1       0.51      1.00      0.67       192\n",
      "\n",
      "avg / total       0.26      0.51      0.34       378\n",
      "\n",
      "Confussion matrix:\n",
      " [[  0 186]\n",
      " [  0 192]]\n",
      "ROC-AUC: 0.5\n"
     ]
    },
    {
     "name": "stderr",
     "output_type": "stream",
     "text": [
      "/opt/conda/lib/python3.5/site-packages/sklearn/metrics/classification.py:1125: UndefinedMetricWarning: Precision and F-score are ill-defined and being set to 0.0 in labels with no predicted samples.\n",
      "  'precision', 'predicted', average, warn_for)\n"
     ]
    }
   ],
   "source": [
    "#Creating a Data Pipeline for Naive Bayes classifier classifier - baseline\n",
    "nb_pipeline = Pipeline([\n",
    "    ('bow', CountVectorizer(analyzer=text_process)),  # strings to token integer counts\n",
    "    ('tfidf', TfidfTransformer()),  # integer counts to weighted TF-IDF scores\n",
    "    ('classifier', MultinomialNB()),  # train on TF-IDF vectors w/ Naive Bayes classifier\n",
    "])\n",
    "nb_pipeline.fit(train['Combined'],train['Label'])\n",
    "predictions = nb_pipeline.predict(test['Combined'])\n",
    "Evaluation ('MultinomialNB','no shift, no n-grams, combined Top news',test[\"Label\"], predictions)"
   ]
  },
  {
   "cell_type": "code",
   "execution_count": 13,
   "metadata": {
    "_cell_guid": "1b099461-0372-9eff-bab4-02694c8abc4b"
   },
   "outputs": [
    {
     "name": "stdout",
     "output_type": "stream",
     "text": [
      "BernoulliNB(binarize=0.0)\n",
      "default alpha=1,no shift, ngram_range=(1, 2), combined Top news\n",
      "             precision    recall  f1-score   support\n",
      "\n",
      "          0       0.48      0.21      0.29       186\n",
      "          1       0.51      0.78      0.61       192\n",
      "\n",
      "avg / total       0.49      0.50      0.46       378\n",
      "\n",
      "Confussion matrix:\n",
      " [[ 39 147]\n",
      " [ 42 150]]\n",
      "ROC-AUC: 0.495463709677\n"
     ]
    }
   ],
   "source": [
    "#Creating a Data Pipeline for Bernoulli Naive Bayes classifier classifier and n-grams, default alpha=1\n",
    "bnb_2ngram_pipeline = Pipeline([\n",
    "    ('bow', CountVectorizer(analyzer=text_process,ngram_range=(1, 2))),  # strings to token integer counts\n",
    "    ('tfidf', TfidfTransformer()),  # integer counts to weighted TF-IDF scores\n",
    "    ('classifier', BernoulliNB(binarize=0.0)),  # train on TF-IDF vectors w/ Bernoulli Naive Bayes classifier\n",
    "])\n",
    "bnb_2ngram_pipeline.fit(train['Combined'],train['Label'])\n",
    "predictions = bnb_2ngram_pipeline.predict(test['Combined'])\n",
    "Evaluation ('BernoulliNB(binarize=0.0)','default alpha=1,no shift, ngram_range=(1, 2), combined Top news',test[\"Label\"], predictions)"
   ]
  },
  {
   "cell_type": "code",
   "execution_count": 14,
   "metadata": {
    "_cell_guid": "63667f23-fa70-20e2-ccde-46064a243e21"
   },
   "outputs": [],
   "source": [
    "#1 days shift\n",
    "df.Label = df.Label.shift(-1)\n",
    "df.drop(df.index[len(df)-1], inplace=True)"
   ]
  },
  {
   "cell_type": "code",
   "execution_count": 15,
   "metadata": {
    "_cell_guid": "2151fbf0-cdc4-d6ba-20c5-f475c47e4361"
   },
   "outputs": [
    {
     "data": {
      "text/html": [
       "<div>\n",
       "<table border=\"1\" class=\"dataframe\">\n",
       "  <thead>\n",
       "    <tr style=\"text-align: right;\">\n",
       "      <th></th>\n",
       "      <th>Label</th>\n",
       "      <th>Combined</th>\n",
       "    </tr>\n",
       "  </thead>\n",
       "  <tbody>\n",
       "    <tr>\n",
       "      <th>0</th>\n",
       "      <td>1.0</td>\n",
       "      <td>[ 'b\"Georgia \\'downs two Russian warplanes\\' a...</td>\n",
       "    </tr>\n",
       "    <tr>\n",
       "      <th>1</th>\n",
       "      <td>0.0</td>\n",
       "      <td>[ \"b'Why wont America and Nato help us? If the...</td>\n",
       "    </tr>\n",
       "    <tr>\n",
       "      <th>2</th>\n",
       "      <td>0.0</td>\n",
       "      <td>[ \"b'Remember that adorable 9-year-old who san...</td>\n",
       "    </tr>\n",
       "    <tr>\n",
       "      <th>3</th>\n",
       "      <td>1.0</td>\n",
       "      <td>[\"b' U.S. refuses Israel weapons to attack Ira...</td>\n",
       "    </tr>\n",
       "    <tr>\n",
       "      <th>4</th>\n",
       "      <td>1.0</td>\n",
       "      <td>[\"b'All the experts admit that we should legal...</td>\n",
       "    </tr>\n",
       "  </tbody>\n",
       "</table>\n",
       "</div>"
      ],
      "text/plain": [
       "   Label                                           Combined\n",
       "0    1.0  [ 'b\"Georgia \\'downs two Russian warplanes\\' a...\n",
       "1    0.0  [ \"b'Why wont America and Nato help us? If the...\n",
       "2    0.0  [ \"b'Remember that adorable 9-year-old who san...\n",
       "3    1.0  [\"b' U.S. refuses Israel weapons to attack Ira...\n",
       "4    1.0  [\"b'All the experts admit that we should legal..."
      ]
     },
     "execution_count": 15,
     "metadata": {},
     "output_type": "execute_result"
    }
   ],
   "source": [
    "#new train data\n",
    "train=df.loc[(pd.to_datetime(df[\"Date\"]) <= date(2014,12,31)),['Label','Combined']]\n",
    "train.head()"
   ]
  },
  {
   "cell_type": "code",
   "execution_count": 16,
   "metadata": {
    "_cell_guid": "d9a453ae-db95-f266-8f77-79419c6a201b"
   },
   "outputs": [
    {
     "data": {
      "text/html": [
       "<div>\n",
       "<table border=\"1\" class=\"dataframe\">\n",
       "  <thead>\n",
       "    <tr style=\"text-align: right;\">\n",
       "      <th></th>\n",
       "      <th>Label</th>\n",
       "      <th>Combined</th>\n",
       "    </tr>\n",
       "  </thead>\n",
       "  <tbody>\n",
       "    <tr>\n",
       "      <th>1983</th>\n",
       "      <td>0.0</td>\n",
       "      <td>['David Cameron to Resign as PM After EU Refer...</td>\n",
       "    </tr>\n",
       "    <tr>\n",
       "      <th>1984</th>\n",
       "      <td>1.0</td>\n",
       "      <td>[ 'Barclays and RBS shares suspended from trad...</td>\n",
       "    </tr>\n",
       "    <tr>\n",
       "      <th>1985</th>\n",
       "      <td>1.0</td>\n",
       "      <td>[ '2,500 Scientists To Australia: If You Want ...</td>\n",
       "    </tr>\n",
       "    <tr>\n",
       "      <th>1986</th>\n",
       "      <td>1.0</td>\n",
       "      <td>['Explosion At Airport In Istanbul'\\n 'Yemeni ...</td>\n",
       "    </tr>\n",
       "    <tr>\n",
       "      <th>1987</th>\n",
       "      <td>1.0</td>\n",
       "      <td>[ 'Jamaica proposes marijuana dispensers for t...</td>\n",
       "    </tr>\n",
       "  </tbody>\n",
       "</table>\n",
       "</div>"
      ],
      "text/plain": [
       "      Label                                           Combined\n",
       "1983    0.0  ['David Cameron to Resign as PM After EU Refer...\n",
       "1984    1.0  [ 'Barclays and RBS shares suspended from trad...\n",
       "1985    1.0  [ '2,500 Scientists To Australia: If You Want ...\n",
       "1986    1.0  ['Explosion At Airport In Istanbul'\\n 'Yemeni ...\n",
       "1987    1.0  [ 'Jamaica proposes marijuana dispensers for t..."
      ]
     },
     "execution_count": 16,
     "metadata": {},
     "output_type": "execute_result"
    }
   ],
   "source": [
    "#new test data\n",
    "test=df.loc[(pd.to_datetime(df[\"Date\"]) > date(2014,12,31)),['Label','Combined']]\n",
    "test.tail()"
   ]
  },
  {
   "cell_type": "markdown",
   "metadata": {
    "_cell_guid": "a8fadbac-294e-8c15-1548-0bce2a8213e4"
   },
   "source": [
    "****The best result for Bernoulli Naive Bayes classifier, 1-2 n-grams and  1-day shift is smoothing alpha = 0****"
   ]
  },
  {
   "cell_type": "code",
   "execution_count": 17,
   "metadata": {
    "_cell_guid": "e627f55e-6e85-086c-ba9f-426dc035594d"
   },
   "outputs": [
    {
     "name": "stdout",
     "output_type": "stream",
     "text": [
      "BernoulliNB(alpha=0.0,binarize=0.0)\n",
      "1-day shift, ngram_range=(1, 2), combined Top news\n",
      "             precision    recall  f1-score   support\n",
      "\n",
      "        0.0       0.52      0.95      0.67       186\n",
      "        1.0       0.76      0.15      0.25       191\n",
      "\n",
      "avg / total       0.64      0.55      0.46       377\n",
      "\n",
      "Confussion matrix:\n",
      " [[177   9]\n",
      " [162  29]]\n",
      "ROC-AUC: 0.551722681979\n"
     ]
    }
   ],
   "source": [
    "#The best result for Bernoulli Naive Bayes classifier, 1-2 n-grams and 1-day shift is smoothing alpha = 0 \n",
    "bnb_2ngram_pipeline = Pipeline([\n",
    "    ('bow', CountVectorizer(analyzer=text_process,ngram_range=(1, 2))),\n",
    "    ('tfidf', TfidfTransformer()), \n",
    "    ('classifier', BernoulliNB(alpha=0.0, binarize=0.0))])\n",
    "bnb_2ngram_pipeline.fit(train['Combined'],train['Label'])\n",
    "predictions = bnb_2ngram_pipeline.predict(test['Combined'])\n",
    "Evaluation ('BernoulliNB(alpha=0.0,binarize=0.0)','1-day shift, ngram_range=(1, 2), combined Top news',test[\"Label\"], predictions)"
   ]
  },
  {
   "cell_type": "markdown",
   "metadata": {
    "_cell_guid": "cf5aa165-79b8-f255-9011-40e664ab3354"
   },
   "source": [
    "**2-days shift produces with any smoothing alpha gives worse results then 3-days shift\n",
    "I skip 2-days shift and demo the best result for 3-days shift**\n",
    "#The best result for Bernoulli Naive Bayes classifier, 1-2 n-grams and 3-day shift is smoothing alpha = 0.5 "
   ]
  },
  {
   "cell_type": "code",
   "execution_count": 18,
   "metadata": {
    "_cell_guid": "1264e666-9615-d818-55ea-c688e1a1649e"
   },
   "outputs": [],
   "source": [
    "#3 days shift\n",
    "df.Label = df.Label.shift(-2)\n",
    "df.drop(df.index[len(df)-1], inplace=True)\n",
    "df.drop(df.index[len(df)-1], inplace=True)"
   ]
  },
  {
   "cell_type": "code",
   "execution_count": 19,
   "metadata": {
    "_cell_guid": "a76b148f-40c9-59d6-4261-f48027ed9422"
   },
   "outputs": [
    {
     "data": {
      "text/html": [
       "<div>\n",
       "<table border=\"1\" class=\"dataframe\">\n",
       "  <thead>\n",
       "    <tr style=\"text-align: right;\">\n",
       "      <th></th>\n",
       "      <th>Label</th>\n",
       "      <th>Combined</th>\n",
       "    </tr>\n",
       "  </thead>\n",
       "  <tbody>\n",
       "    <tr>\n",
       "      <th>0</th>\n",
       "      <td>0.0</td>\n",
       "      <td>[ 'b\"Georgia \\'downs two Russian warplanes\\' a...</td>\n",
       "    </tr>\n",
       "    <tr>\n",
       "      <th>1</th>\n",
       "      <td>1.0</td>\n",
       "      <td>[ \"b'Why wont America and Nato help us? If the...</td>\n",
       "    </tr>\n",
       "    <tr>\n",
       "      <th>2</th>\n",
       "      <td>1.0</td>\n",
       "      <td>[ \"b'Remember that adorable 9-year-old who san...</td>\n",
       "    </tr>\n",
       "    <tr>\n",
       "      <th>3</th>\n",
       "      <td>0.0</td>\n",
       "      <td>[\"b' U.S. refuses Israel weapons to attack Ira...</td>\n",
       "    </tr>\n",
       "    <tr>\n",
       "      <th>4</th>\n",
       "      <td>0.0</td>\n",
       "      <td>[\"b'All the experts admit that we should legal...</td>\n",
       "    </tr>\n",
       "  </tbody>\n",
       "</table>\n",
       "</div>"
      ],
      "text/plain": [
       "   Label                                           Combined\n",
       "0    0.0  [ 'b\"Georgia \\'downs two Russian warplanes\\' a...\n",
       "1    1.0  [ \"b'Why wont America and Nato help us? If the...\n",
       "2    1.0  [ \"b'Remember that adorable 9-year-old who san...\n",
       "3    0.0  [\"b' U.S. refuses Israel weapons to attack Ira...\n",
       "4    0.0  [\"b'All the experts admit that we should legal..."
      ]
     },
     "execution_count": 19,
     "metadata": {},
     "output_type": "execute_result"
    }
   ],
   "source": [
    "#new train data\n",
    "train=df.loc[(pd.to_datetime(df[\"Date\"]) <= date(2014,12,31)),['Label','Combined']]\n",
    "train.head()"
   ]
  },
  {
   "cell_type": "code",
   "execution_count": 20,
   "metadata": {
    "_cell_guid": "1bc7e136-9830-fed2-3d40-b6d91164537c"
   },
   "outputs": [
    {
     "data": {
      "text/html": [
       "<div>\n",
       "<table border=\"1\" class=\"dataframe\">\n",
       "  <thead>\n",
       "    <tr style=\"text-align: right;\">\n",
       "      <th></th>\n",
       "      <th>Label</th>\n",
       "      <th>Combined</th>\n",
       "    </tr>\n",
       "  </thead>\n",
       "  <tbody>\n",
       "    <tr>\n",
       "      <th>1981</th>\n",
       "      <td>0.0</td>\n",
       "      <td>['German government agrees to ban fracking ind...</td>\n",
       "    </tr>\n",
       "    <tr>\n",
       "      <th>1982</th>\n",
       "      <td>1.0</td>\n",
       "      <td>[ 'Today The United Kingdom decides whether to...</td>\n",
       "    </tr>\n",
       "    <tr>\n",
       "      <th>1983</th>\n",
       "      <td>1.0</td>\n",
       "      <td>['David Cameron to Resign as PM After EU Refer...</td>\n",
       "    </tr>\n",
       "    <tr>\n",
       "      <th>1984</th>\n",
       "      <td>1.0</td>\n",
       "      <td>[ 'Barclays and RBS shares suspended from trad...</td>\n",
       "    </tr>\n",
       "    <tr>\n",
       "      <th>1985</th>\n",
       "      <td>1.0</td>\n",
       "      <td>[ '2,500 Scientists To Australia: If You Want ...</td>\n",
       "    </tr>\n",
       "  </tbody>\n",
       "</table>\n",
       "</div>"
      ],
      "text/plain": [
       "      Label                                           Combined\n",
       "1981    0.0  ['German government agrees to ban fracking ind...\n",
       "1982    1.0  [ 'Today The United Kingdom decides whether to...\n",
       "1983    1.0  ['David Cameron to Resign as PM After EU Refer...\n",
       "1984    1.0  [ 'Barclays and RBS shares suspended from trad...\n",
       "1985    1.0  [ '2,500 Scientists To Australia: If You Want ..."
      ]
     },
     "execution_count": 20,
     "metadata": {},
     "output_type": "execute_result"
    }
   ],
   "source": [
    "#new test data\n",
    "test=df.loc[(pd.to_datetime(df[\"Date\"]) > date(2014,12,31)),['Label','Combined']]\n",
    "test.tail()"
   ]
  },
  {
   "cell_type": "code",
   "execution_count": 21,
   "metadata": {
    "_cell_guid": "8e2209dd-6ff3-3502-9849-4c15277a44dc"
   },
   "outputs": [
    {
     "name": "stdout",
     "output_type": "stream",
     "text": [
      "BernoulliNB(alpha=0.5,binarize=0.0)\n",
      "3-days shift, ngram_range=(1, 2), combined Top news\n",
      "             precision    recall  f1-score   support\n",
      "\n",
      "        0.0       0.56      0.40      0.47       184\n",
      "        1.0       0.55      0.70      0.62       191\n",
      "\n",
      "avg / total       0.56      0.55      0.54       375\n",
      "\n",
      "Confussion matrix:\n",
      " [[ 74 110]\n",
      " [ 57 134]]\n",
      "ROC-AUC: 0.551872296836\n"
     ]
    }
   ],
   "source": [
    "#The best result for Bernoulli Naive Bayes classifier, 1-2 n-grams and 3-day shift is smoothing alpha = 0.5 \n",
    "bnb_2ngram_pipeline = Pipeline([\n",
    "    ('bow', CountVectorizer(analyzer=text_process,ngram_range=(1, 2))),\n",
    "    ('tfidf', TfidfTransformer()), \n",
    "    ('classifier', BernoulliNB(alpha=0.5, binarize=0.0))])\n",
    "bnb_2ngram_pipeline.fit(train['Combined'],train['Label'])\n",
    "predictions = bnb_2ngram_pipeline.predict(test['Combined'])\n",
    "Evaluation ('BernoulliNB(alpha=0.5,binarize=0.0)','3-days shift, ngram_range=(1, 2), combined Top news',test[\"Label\"], predictions)"
   ]
  },
  {
   "cell_type": "code",
   "execution_count": 22,
   "metadata": {
    "_cell_guid": "5b8d9cb6-fdd7-f859-8d8a-ea3a5dd410ca"
   },
   "outputs": [
    {
     "data": {
      "image/png": "[encoded data removed]",
      "text/plain": [
       "<matplotlib.figure.Figure at 0x7ffb6bcc5278>"
      ]
     },
     "metadata": {},
     "output_type": "display_data"
    }
   ],
   "source": [
    "ROCCurves (test[\"Label\"], predictions)"
   ]
  },
  {
   "cell_type": "markdown",
   "metadata": {
    "_cell_guid": "81f4f2ce-276c-bf60-2ed4-0546e5ce3f73"
   },
   "source": [
    "**Let's explore different combinations of Top news columns**\n",
    "*Here are few the best:*"
   ]
  },
  {
   "cell_type": "code",
   "execution_count": 23,
   "metadata": {
    "_cell_guid": "05446ca2-0c61-f623-5198-0b053187cd24"
   },
   "outputs": [],
   "source": [
    "#Here is the pipeline we use for the differenet data sets\n",
    "bnb_2ngram_pipeline = Pipeline([\n",
    "    ('bow', CountVectorizer(analyzer=text_process,ngram_range=(1, 2))),\n",
    "    ('tfidf', TfidfTransformer()), \n",
    "    ('classifier', BernoulliNB(alpha=0.5, binarize=0.0))])"
   ]
  },
  {
   "cell_type": "code",
   "execution_count": 24,
   "metadata": {
    "_cell_guid": "9766c267-e8a2-a928-7120-28033f9c4de9"
   },
   "outputs": [],
   "source": [
    "#data re-new\n",
    "df=pd.read_csv('../input/Combined_News_DJIA.csv')"
   ]
  },
  {
   "cell_type": "code",
   "execution_count": 25,
   "metadata": {
    "_cell_guid": "cc4ce750-2aa1-c3ac-575d-8eea8a78b278"
   },
   "outputs": [],
   "source": [
    "#Combination 10 and 25\n",
    "df['Combined10_25']=df.iloc[:,[11,26]].apply(lambda row: ''.join(str(row.values)), axis=1)\n",
    "#Combination 12 and 25\n",
    "df['Combined12_25']=df.iloc[:,[13,26]].apply(lambda row: ''.join(str(row.values)), axis=1)"
   ]
  },
  {
   "cell_type": "code",
   "execution_count": 26,
   "metadata": {
    "_cell_guid": "8477c289-399c-80d8-370f-83d6cb35c79c"
   },
   "outputs": [
    {
     "data": {
      "text/html": [
       "<div>\n",
       "<table border=\"1\" class=\"dataframe\">\n",
       "  <thead>\n",
       "    <tr style=\"text-align: right;\">\n",
       "      <th></th>\n",
       "      <th>Label</th>\n",
       "      <th>Top1</th>\n",
       "      <th>Top12</th>\n",
       "      <th>Top25</th>\n",
       "      <th>Combined10_25</th>\n",
       "      <th>Combined12_25</th>\n",
       "      <th>Combined3_12_25</th>\n",
       "    </tr>\n",
       "  </thead>\n",
       "  <tbody>\n",
       "    <tr>\n",
       "      <th>0</th>\n",
       "      <td>0</td>\n",
       "      <td>b\"Georgia 'downs two Russian warplanes' as cou...</td>\n",
       "      <td>b'Announcing:Class Action Lawsuit on Behalf of...</td>\n",
       "      <td>b\"No Help for Mexico's Kidnapping Surge\"</td>\n",
       "      <td>[\"b'Did the U.S. Prep Georgia for War with Rus...</td>\n",
       "      <td>[ \"b'Announcing:Class Action Lawsuit on Behalf...</td>\n",
       "      <td>NaN</td>\n",
       "    </tr>\n",
       "    <tr>\n",
       "      <th>1</th>\n",
       "      <td>1</td>\n",
       "      <td>b'Why wont America and Nato help us? If they w...</td>\n",
       "      <td>b'Abhinav Bindra wins first ever Individual Ol...</td>\n",
       "      <td>b\"So this is what it's come to: trading sex fo...</td>\n",
       "      <td>['b\"Georgia\\'s move, a mistake of monumental p...</td>\n",
       "      <td>[ \"b'Abhinav Bindra wins first ever Individual...</td>\n",
       "      <td>NaN</td>\n",
       "    </tr>\n",
       "    <tr>\n",
       "      <th>2</th>\n",
       "      <td>0</td>\n",
       "      <td>b'Remember that adorable 9-year-old who sang a...</td>\n",
       "      <td>b'CNN use footage of Tskhinvali ruins to cover...</td>\n",
       "      <td>b\"BBC NEWS | Asia-Pacific | Extinction 'by man...</td>\n",
       "      <td>[\"b'U.S. Beats War Drum as Iran Dumps the Doll...</td>\n",
       "      <td>[\"b'CNN use footage of Tskhinvali ruins to cov...</td>\n",
       "      <td>NaN</td>\n",
       "    </tr>\n",
       "    <tr>\n",
       "      <th>3</th>\n",
       "      <td>0</td>\n",
       "      <td>b' U.S. refuses Israel weapons to attack Iran:...</td>\n",
       "      <td>b\"US warns against Israeli plan to strike agai...</td>\n",
       "      <td>b'2006: Nobel laureate Aleksander Solzhenitsyn...</td>\n",
       "      <td>['b\"92% of CNN readers: Russia\\'s actions in G...</td>\n",
       "      <td>[ 'b\"US warns against Israeli plan to strike a...</td>\n",
       "      <td>NaN</td>\n",
       "    </tr>\n",
       "    <tr>\n",
       "      <th>4</th>\n",
       "      <td>1</td>\n",
       "      <td>b'All the experts admit that we should legalis...</td>\n",
       "      <td>b'Why Russias response to Georgia was right'</td>\n",
       "      <td>b'Philippines : Peace Advocate say Muslims nee...</td>\n",
       "      <td>[\"b' Musharraf expected to resign rather than ...</td>\n",
       "      <td>[\"b'Why Russias response to Georgia was right'...</td>\n",
       "      <td>NaN</td>\n",
       "    </tr>\n",
       "  </tbody>\n",
       "</table>\n",
       "</div>"
      ],
      "text/plain": [
       "   Label                                               Top1  \\\n",
       "0      0  b\"Georgia 'downs two Russian warplanes' as cou...   \n",
       "1      1  b'Why wont America and Nato help us? If they w...   \n",
       "2      0  b'Remember that adorable 9-year-old who sang a...   \n",
       "3      0  b' U.S. refuses Israel weapons to attack Iran:...   \n",
       "4      1  b'All the experts admit that we should legalis...   \n",
       "\n",
       "                                               Top12  \\\n",
       "0  b'Announcing:Class Action Lawsuit on Behalf of...   \n",
       "1  b'Abhinav Bindra wins first ever Individual Ol...   \n",
       "2  b'CNN use footage of Tskhinvali ruins to cover...   \n",
       "3  b\"US warns against Israeli plan to strike agai...   \n",
       "4       b'Why Russias response to Georgia was right'   \n",
       "\n",
       "                                               Top25  \\\n",
       "0           b\"No Help for Mexico's Kidnapping Surge\"   \n",
       "1  b\"So this is what it's come to: trading sex fo...   \n",
       "2  b\"BBC NEWS | Asia-Pacific | Extinction 'by man...   \n",
       "3  b'2006: Nobel laureate Aleksander Solzhenitsyn...   \n",
       "4  b'Philippines : Peace Advocate say Muslims nee...   \n",
       "\n",
       "                                       Combined10_25  \\\n",
       "0  [\"b'Did the U.S. Prep Georgia for War with Rus...   \n",
       "1  ['b\"Georgia\\'s move, a mistake of monumental p...   \n",
       "2  [\"b'U.S. Beats War Drum as Iran Dumps the Doll...   \n",
       "3  ['b\"92% of CNN readers: Russia\\'s actions in G...   \n",
       "4  [\"b' Musharraf expected to resign rather than ...   \n",
       "\n",
       "                                       Combined12_25  Combined3_12_25  \n",
       "0  [ \"b'Announcing:Class Action Lawsuit on Behalf...              NaN  \n",
       "1  [ \"b'Abhinav Bindra wins first ever Individual...              NaN  \n",
       "2  [\"b'CNN use footage of Tskhinvali ruins to cov...              NaN  \n",
       "3  [ 'b\"US warns against Israeli plan to strike a...              NaN  \n",
       "4  [\"b'Why Russias response to Georgia was right'...              NaN  "
      ]
     },
     "execution_count": 26,
     "metadata": {},
     "output_type": "execute_result"
    }
   ],
   "source": [
    "#train data\n",
    "train=df.loc[(pd.to_datetime(df[\"Date\"]) <= date(2014,12,31)),['Label','Top1','Top12','Top25','Combined10_25','Combined12_25','Combined3_12_25']]\n",
    "train.head()"
   ]
  },
  {
   "cell_type": "code",
   "execution_count": 27,
   "metadata": {
    "_cell_guid": "de79cbbf-13a5-ea31-ee39-5c9d3ef1833f"
   },
   "outputs": [
    {
     "data": {
      "text/html": [
       "<div>\n",
       "<table border=\"1\" class=\"dataframe\">\n",
       "  <thead>\n",
       "    <tr style=\"text-align: right;\">\n",
       "      <th></th>\n",
       "      <th>Label</th>\n",
       "      <th>Top1</th>\n",
       "      <th>Top12</th>\n",
       "      <th>Top25</th>\n",
       "      <th>Combined10_25</th>\n",
       "      <th>Combined12_25</th>\n",
       "      <th>Combined3_12_25</th>\n",
       "    </tr>\n",
       "  </thead>\n",
       "  <tbody>\n",
       "    <tr>\n",
       "      <th>1984</th>\n",
       "      <td>0</td>\n",
       "      <td>Barclays and RBS shares suspended from trading...</td>\n",
       "      <td>Sky News Journalist Left Speechless As Leave M...</td>\n",
       "      <td>Pakistani clerics declare transgender marriage...</td>\n",
       "      <td>[ 'Angela Merkel said the U.K. must file exit ...</td>\n",
       "      <td>[ \"Sky News Journalist Left Speechless As Leav...</td>\n",
       "      <td>NaN</td>\n",
       "    </tr>\n",
       "    <tr>\n",
       "      <th>1985</th>\n",
       "      <td>1</td>\n",
       "      <td>2,500 Scientists To Australia: If You Want To ...</td>\n",
       "      <td>Merkel vows to strengthen EU, tells UK no 'che...</td>\n",
       "      <td>Mexico's security forces routinely use 'sexual...</td>\n",
       "      <td>[ \"'Do not let Scotland down now' : Scottish M...</td>\n",
       "      <td>[\"Merkel vows to strengthen EU, tells UK no 'c...</td>\n",
       "      <td>NaN</td>\n",
       "    </tr>\n",
       "    <tr>\n",
       "      <th>1986</th>\n",
       "      <td>1</td>\n",
       "      <td>Explosion At Airport In Istanbul</td>\n",
       "      <td>The Philippine president-elect said Monday he ...</td>\n",
       "      <td>Tiny New Zealand town with 'too many jobs' lau...</td>\n",
       "      <td>[ '99-Million-Yr-Old Bird Wings Found Encased ...</td>\n",
       "      <td>[ 'The Philippine president-elect said Monday ...</td>\n",
       "      <td>NaN</td>\n",
       "    </tr>\n",
       "    <tr>\n",
       "      <th>1987</th>\n",
       "      <td>1</td>\n",
       "      <td>Jamaica proposes marijuana dispensers for tour...</td>\n",
       "      <td>Cannabis compounds could treat Alzheimer's by ...</td>\n",
       "      <td>Law Enforcement Sources: Gun Used in Paris Ter...</td>\n",
       "      <td>[ 'US airstrikes kill at least 250 ISIS fighte...</td>\n",
       "      <td>[ \"Cannabis compounds could treat Alzheimer's ...</td>\n",
       "      <td>NaN</td>\n",
       "    </tr>\n",
       "    <tr>\n",
       "      <th>1988</th>\n",
       "      <td>1</td>\n",
       "      <td>A 117-year-old woman in Mexico City finally re...</td>\n",
       "      <td>Abbas PLO Faction Calls Killer of 13-Year-Old ...</td>\n",
       "      <td>Ozone layer hole seems to be healing - US &amp;amp...</td>\n",
       "      <td>[ 'China kills millions of innocent meditators...</td>\n",
       "      <td>[ 'Abbas PLO Faction Calls Killer of 13-Year-O...</td>\n",
       "      <td>NaN</td>\n",
       "    </tr>\n",
       "  </tbody>\n",
       "</table>\n",
       "</div>"
      ],
      "text/plain": [
       "      Label                                               Top1  \\\n",
       "1984      0  Barclays and RBS shares suspended from trading...   \n",
       "1985      1  2,500 Scientists To Australia: If You Want To ...   \n",
       "1986      1                   Explosion At Airport In Istanbul   \n",
       "1987      1  Jamaica proposes marijuana dispensers for tour...   \n",
       "1988      1  A 117-year-old woman in Mexico City finally re...   \n",
       "\n",
       "                                                  Top12  \\\n",
       "1984  Sky News Journalist Left Speechless As Leave M...   \n",
       "1985  Merkel vows to strengthen EU, tells UK no 'che...   \n",
       "1986  The Philippine president-elect said Monday he ...   \n",
       "1987  Cannabis compounds could treat Alzheimer's by ...   \n",
       "1988  Abbas PLO Faction Calls Killer of 13-Year-Old ...   \n",
       "\n",
       "                                                  Top25  \\\n",
       "1984  Pakistani clerics declare transgender marriage...   \n",
       "1985  Mexico's security forces routinely use 'sexual...   \n",
       "1986  Tiny New Zealand town with 'too many jobs' lau...   \n",
       "1987  Law Enforcement Sources: Gun Used in Paris Ter...   \n",
       "1988  Ozone layer hole seems to be healing - US &amp...   \n",
       "\n",
       "                                          Combined10_25  \\\n",
       "1984  [ 'Angela Merkel said the U.K. must file exit ...   \n",
       "1985  [ \"'Do not let Scotland down now' : Scottish M...   \n",
       "1986  [ '99-Million-Yr-Old Bird Wings Found Encased ...   \n",
       "1987  [ 'US airstrikes kill at least 250 ISIS fighte...   \n",
       "1988  [ 'China kills millions of innocent meditators...   \n",
       "\n",
       "                                          Combined12_25  Combined3_12_25  \n",
       "1984  [ \"Sky News Journalist Left Speechless As Leav...              NaN  \n",
       "1985  [\"Merkel vows to strengthen EU, tells UK no 'c...              NaN  \n",
       "1986  [ 'The Philippine president-elect said Monday ...              NaN  \n",
       "1987  [ \"Cannabis compounds could treat Alzheimer's ...              NaN  \n",
       "1988  [ 'Abbas PLO Faction Calls Killer of 13-Year-O...              NaN  "
      ]
     },
     "execution_count": 27,
     "metadata": {},
     "output_type": "execute_result"
    }
   ],
   "source": [
    "#test data\n",
    "test=df.loc[(pd.to_datetime(df[\"Date\"]) > date(2014,12,31)),['Label','Top1','Top12','Top25','Combined10_25','Combined12_25','Combined3_12_25']]\n",
    "test.tail()"
   ]
  },
  {
   "cell_type": "code",
   "execution_count": 28,
   "metadata": {
    "_cell_guid": "02f58d47-23b0-2006-1fff-dfccc3ddfe7c"
   },
   "outputs": [
    {
     "name": "stdout",
     "output_type": "stream",
     "text": [
      "BernoulliNB(alpha=0.5,binarize=0.0)\n",
      "no shift, ngram_range=(1, 2),Top1 only\n",
      "             precision    recall  f1-score   support\n",
      "\n",
      "          0       0.50      0.41      0.45       186\n",
      "          1       0.52      0.61      0.56       192\n",
      "\n",
      "avg / total       0.51      0.51      0.51       378\n",
      "\n",
      "Confussion matrix:\n",
      " [[ 76 110]\n",
      " [ 75 117]]\n",
      "ROC-AUC: 0.508988575269\n"
     ]
    }
   ],
   "source": [
    "#no changes in the pipeline. We just use other data sets\n",
    "#Top1, no shift, baseline\n",
    "bnb_2ngram_pipeline.fit(train['Top1'],train['Label'])\n",
    "predictions = bnb_2ngram_pipeline.predict(test['Top1'])\n",
    "Evaluation ('BernoulliNB(alpha=0.5,binarize=0.0)','no shift, ngram_range=(1, 2),Top1 only',test[\"Label\"], predictions)"
   ]
  },
  {
   "cell_type": "code",
   "execution_count": 29,
   "metadata": {
    "_cell_guid": "42860a1c-5fed-ff4a-84a2-3e238a9bbef6"
   },
   "outputs": [
    {
     "name": "stdout",
     "output_type": "stream",
     "text": [
      "BernoulliNB(alpha=0.5,binarize=0.0)\n",
      "no shift, ngram_range=(1, 2),Top25 only\n",
      "             precision    recall  f1-score   support\n",
      "\n",
      "          0       0.57      0.42      0.49       186\n",
      "          1       0.55      0.69      0.62       192\n",
      "\n",
      "avg / total       0.56      0.56      0.55       378\n",
      "\n",
      "Confussion matrix:\n",
      " [[ 79 107]\n",
      " [ 59 133]]\n",
      "ROC-AUC: 0.558719758065\n"
     ]
    }
   ],
   "source": [
    "#no changes in the pipeline. We just use other data sets\n",
    "#Top25, no shift\n",
    "bnb_2ngram_pipeline.fit(train['Top25'],train['Label'])\n",
    "predictions = bnb_2ngram_pipeline.predict(test['Top25'])\n",
    "Evaluation ('BernoulliNB(alpha=0.5,binarize=0.0)','no shift, ngram_range=(1, 2),Top25 only',test[\"Label\"], predictions)"
   ]
  },
  {
   "cell_type": "code",
   "execution_count": 30,
   "metadata": {
    "_cell_guid": "6e3cc3e5-bc96-97b4-3afe-404e8ae79fc4"
   },
   "outputs": [
    {
     "name": "stdout",
     "output_type": "stream",
     "text": [
      "BernoulliNB(alpha=0.5,binarize=0.0)\n",
      "no shift, ngram_range=(1, 2),Combined Top12 and Top25\n",
      "             precision    recall  f1-score   support\n",
      "\n",
      "          0       0.58      0.48      0.53       186\n",
      "          1       0.57      0.66      0.61       192\n",
      "\n",
      "avg / total       0.57      0.57      0.57       378\n",
      "\n",
      "Confussion matrix:\n",
      " [[ 90  96]\n",
      " [ 65 127]]\n",
      "ROC-AUC: 0.572664650538\n"
     ]
    }
   ],
   "source": [
    "#no changes in the pipeline. We just use other data sets\n",
    "#Combined12_25, no shift\n",
    "bnb_2ngram_pipeline.fit(train['Combined12_25'],train['Label'])\n",
    "predictions = bnb_2ngram_pipeline.predict(test['Combined12_25'])\n",
    "Evaluation ('BernoulliNB(alpha=0.5,binarize=0.0)','no shift, ngram_range=(1, 2),Combined Top12 and Top25',test[\"Label\"], predictions)"
   ]
  },
  {
   "cell_type": "code",
   "execution_count": 31,
   "metadata": {
    "_cell_guid": "4cb01773-5de2-bf54-262a-feb2cb8e5256"
   },
   "outputs": [
    {
     "name": "stdout",
     "output_type": "stream",
     "text": [
      "BernoulliNB(alpha=0.5,binarize=0.0)\n",
      "no shift, ngram_range=(1, 2),Combined Top10 and Top25\n",
      "             precision    recall  f1-score   support\n",
      "\n",
      "          0       0.61      0.45      0.52       186\n",
      "          1       0.58      0.73      0.64       192\n",
      "\n",
      "avg / total       0.60      0.59      0.58       378\n",
      "\n",
      "Confussion matrix:\n",
      " [[ 83 103]\n",
      " [ 52 140]]\n",
      "ROC-AUC: 0.587701612903\n"
     ]
    }
   ],
   "source": [
    "#no changes in the pipeline. We just use other data sets\n",
    "#Combined10_25, no shift\n",
    "bnb_2ngram_pipeline.fit(train['Combined10_25'],train['Label'])\n",
    "predictions = bnb_2ngram_pipeline.predict(test['Combined10_25'])\n",
    "Evaluation ('BernoulliNB(alpha=0.5,binarize=0.0)','no shift, ngram_range=(1, 2),Combined Top10 and Top25',test[\"Label\"], predictions)"
   ]
  },
  {
   "cell_type": "code",
   "execution_count": 32,
   "metadata": {
    "_cell_guid": "2239d6d1-5c57-1fe5-ecf1-699aab9023fc"
   },
   "outputs": [
    {
     "data": {
      "image/png": "[encoded data removed]",
      "text/plain": [
       "<matplotlib.figure.Figure at 0x7ffb6c535320>"
      ]
     },
     "metadata": {},
     "output_type": "display_data"
    }
   ],
   "source": [
    "ROCCurves (test[\"Label\"], predictions)"
   ]
  },
  {
   "cell_type": "code",
   "execution_count": 33,
   "metadata": {
    "_cell_guid": "d3b59849-cc4b-9c54-17b0-e63379f03e7e"
   },
   "outputs": [],
   "source": [
    "#let's shift the data and explore Top3, Top12 and Top25 combination for 2 days shift\n",
    "df.Label = df.Label.shift(-1)\n",
    "df.drop(df.index[len(df)-1], inplace=True)\n",
    "df.Label = df.Label.shift(-1)\n",
    "df.drop(df.index[len(df)-1], inplace=True)"
   ]
  },
  {
   "cell_type": "code",
   "execution_count": 34,
   "metadata": {
    "_cell_guid": "20582a0c-cd47-dd57-364c-3d5812954e3f"
   },
   "outputs": [],
   "source": [
    "#Combination 3,12 and 25\n",
    "df['Combined3_12_25']=df.iloc[:,[4,13,26]].apply(lambda row: ''.join(str(row.values)), axis=1)"
   ]
  },
  {
   "cell_type": "code",
   "execution_count": 35,
   "metadata": {
    "_cell_guid": "ae463f14-f27b-ba27-7ba1-a46699c1e360"
   },
   "outputs": [
    {
     "data": {
      "text/html": [
       "<div>\n",
       "<table border=\"1\" class=\"dataframe\">\n",
       "  <thead>\n",
       "    <tr style=\"text-align: right;\">\n",
       "      <th></th>\n",
       "      <th>Label</th>\n",
       "      <th>Combined3_12_25</th>\n",
       "    </tr>\n",
       "  </thead>\n",
       "  <tbody>\n",
       "    <tr>\n",
       "      <th>0</th>\n",
       "      <td>0.0</td>\n",
       "      <td>[ \"b'Russia Today: Columns of troops roll into...</td>\n",
       "    </tr>\n",
       "    <tr>\n",
       "      <th>1</th>\n",
       "      <td>0.0</td>\n",
       "      <td>[ 'b\"Jewish Georgian minister: Thanks to Israe...</td>\n",
       "    </tr>\n",
       "    <tr>\n",
       "      <th>2</th>\n",
       "      <td>1.0</td>\n",
       "      <td>['b\\'\"If we had no sexual harassment we would ...</td>\n",
       "    </tr>\n",
       "    <tr>\n",
       "      <th>3</th>\n",
       "      <td>1.0</td>\n",
       "      <td>[\"b' Israel clears troops who killed Reuters c...</td>\n",
       "    </tr>\n",
       "    <tr>\n",
       "      <th>4</th>\n",
       "      <td>0.0</td>\n",
       "      <td>[ \"b'Swedish wrestler Ara Abrahamian throws aw...</td>\n",
       "    </tr>\n",
       "  </tbody>\n",
       "</table>\n",
       "</div>"
      ],
      "text/plain": [
       "   Label                                    Combined3_12_25\n",
       "0    0.0  [ \"b'Russia Today: Columns of troops roll into...\n",
       "1    0.0  [ 'b\"Jewish Georgian minister: Thanks to Israe...\n",
       "2    1.0  ['b\\'\"If we had no sexual harassment we would ...\n",
       "3    1.0  [\"b' Israel clears troops who killed Reuters c...\n",
       "4    0.0  [ \"b'Swedish wrestler Ara Abrahamian throws aw..."
      ]
     },
     "execution_count": 35,
     "metadata": {},
     "output_type": "execute_result"
    }
   ],
   "source": [
    "#train data\n",
    "train=df.loc[(pd.to_datetime(df[\"Date\"]) <= date(2014,12,31)),['Label','Combined3_12_25']]\n",
    "train.head()"
   ]
  },
  {
   "cell_type": "code",
   "execution_count": 36,
   "metadata": {
    "_cell_guid": "aca1600e-92a4-b88d-4b38-f5c807d62f68"
   },
   "outputs": [
    {
     "data": {
      "text/html": [
       "<div>\n",
       "<table border=\"1\" class=\"dataframe\">\n",
       "  <thead>\n",
       "    <tr style=\"text-align: right;\">\n",
       "      <th></th>\n",
       "      <th>Label</th>\n",
       "      <th>Combined3_12_25</th>\n",
       "    </tr>\n",
       "  </thead>\n",
       "  <tbody>\n",
       "    <tr>\n",
       "      <th>1982</th>\n",
       "      <td>0.0</td>\n",
       "      <td>['Report: China is still harvesting organs fro...</td>\n",
       "    </tr>\n",
       "    <tr>\n",
       "      <th>1983</th>\n",
       "      <td>1.0</td>\n",
       "      <td>[ 'Nicola Sturgeon says a second independence ...</td>\n",
       "    </tr>\n",
       "    <tr>\n",
       "      <th>1984</th>\n",
       "      <td>1.0</td>\n",
       "      <td>[\"Poland 'shocked' by xenophobic abuse of Pole...</td>\n",
       "    </tr>\n",
       "    <tr>\n",
       "      <th>1985</th>\n",
       "      <td>1.0</td>\n",
       "      <td>[\"S&amp;amp;P cuts United Kingdom sovereign credit...</td>\n",
       "    </tr>\n",
       "    <tr>\n",
       "      <th>1986</th>\n",
       "      <td>1.0</td>\n",
       "      <td>['UK must accept freedom of movement to access...</td>\n",
       "    </tr>\n",
       "  </tbody>\n",
       "</table>\n",
       "</div>"
      ],
      "text/plain": [
       "      Label                                    Combined3_12_25\n",
       "1982    0.0  ['Report: China is still harvesting organs fro...\n",
       "1983    1.0  [ 'Nicola Sturgeon says a second independence ...\n",
       "1984    1.0  [\"Poland 'shocked' by xenophobic abuse of Pole...\n",
       "1985    1.0  [\"S&amp;P cuts United Kingdom sovereign credit...\n",
       "1986    1.0  ['UK must accept freedom of movement to access..."
      ]
     },
     "execution_count": 36,
     "metadata": {},
     "output_type": "execute_result"
    }
   ],
   "source": [
    "#test data\n",
    "test=df.loc[(pd.to_datetime(df[\"Date\"]) > date(2014,12,31)),['Label','Combined3_12_25']]\n",
    "test.tail()"
   ]
  },
  {
   "cell_type": "code",
   "execution_count": 37,
   "metadata": {
    "_cell_guid": "b6351512-92c3-426e-bb4c-b0e872c496dd"
   },
   "outputs": [
    {
     "name": "stdout",
     "output_type": "stream",
     "text": [
      "BernoulliNB(alpha=0.5,binarize=0.0)\n",
      "2-days shift, ngram_range=(1, 2),Combined Top3,top12 and Top25\n",
      "             precision    recall  f1-score   support\n",
      "\n",
      "        0.0       0.61      0.50      0.55       185\n",
      "        1.0       0.58      0.69      0.63       191\n",
      "\n",
      "avg / total       0.59      0.59      0.59       376\n",
      "\n",
      "Confussion matrix:\n",
      " [[ 92  93]\n",
      " [ 60 131]]\n",
      "ROC-AUC: 0.591580585821\n"
     ]
    }
   ],
   "source": [
    "#no changes in the pipeline. We just use other data sets\n",
    "#Combined Top3, Top12 and Top25, 3-days shift\n",
    "bnb_2ngram_pipeline.fit(train['Combined3_12_25'],train['Label'])\n",
    "predictions = bnb_2ngram_pipeline.predict(test['Combined3_12_25'])\n",
    "Evaluation ('BernoulliNB(alpha=0.5,binarize=0.0)','2-days shift, ngram_range=(1, 2),Combined Top3,top12 and Top25',test[\"Label\"], predictions)"
   ]
  },
  {
   "cell_type": "code",
   "execution_count": 38,
   "metadata": {
    "_cell_guid": "fe70574a-6b84-a4c8-dc6e-4f82674a7065"
   },
   "outputs": [
    {
     "data": {
      "image/png": "[encoded data removed]",
      "text/plain": [
       "<matplotlib.figure.Figure at 0x7ffb6c53a3c8>"
      ]
     },
     "metadata": {},
     "output_type": "display_data"
    }
   ],
   "source": [
    "ROCCurves (test[\"Label\"], predictions)"
   ]
  },
  {
   "cell_type": "code",
   "execution_count": 39,
   "metadata": {
    "_cell_guid": "e31d72e9-3e64-c777-d3f4-2248438d9e24"
   },
   "outputs": [],
   "source": [
    "#let's shift the data and explore Top1 and Top6 combination for 3 days shift\n",
    "df.Label = df.Label.shift(-1)\n",
    "df.drop(df.index[len(df)-1], inplace=True)"
   ]
  },
  {
   "cell_type": "code",
   "execution_count": 40,
   "metadata": {
    "_cell_guid": "e79a652a-c01e-1cec-c15f-18c6371c5c98"
   },
   "outputs": [],
   "source": [
    "#Combination 1 and 6\n",
    "df['Combined1_6']=df.iloc[:,[2,7]].apply(lambda row: ''.join(str(row.values)), axis=1)"
   ]
  },
  {
   "cell_type": "code",
   "execution_count": 41,
   "metadata": {
    "_cell_guid": "9cb9dcc4-bfa2-5318-343f-8ae45a9c9017"
   },
   "outputs": [
    {
     "data": {
      "text/html": [
       "<div>\n",
       "<table border=\"1\" class=\"dataframe\">\n",
       "  <thead>\n",
       "    <tr style=\"text-align: right;\">\n",
       "      <th></th>\n",
       "      <th>Label</th>\n",
       "      <th>Combined1_6</th>\n",
       "    </tr>\n",
       "  </thead>\n",
       "  <tbody>\n",
       "    <tr>\n",
       "      <th>0</th>\n",
       "      <td>0.0</td>\n",
       "      <td>[ 'b\"Georgia \\'downs two Russian warplanes\\' a...</td>\n",
       "    </tr>\n",
       "    <tr>\n",
       "      <th>1</th>\n",
       "      <td>1.0</td>\n",
       "      <td>[ \"b'Why wont America and Nato help us? If the...</td>\n",
       "    </tr>\n",
       "    <tr>\n",
       "      <th>2</th>\n",
       "      <td>1.0</td>\n",
       "      <td>[ \"b'Remember that adorable 9-year-old who san...</td>\n",
       "    </tr>\n",
       "    <tr>\n",
       "      <th>3</th>\n",
       "      <td>0.0</td>\n",
       "      <td>[\"b' U.S. refuses Israel weapons to attack Ira...</td>\n",
       "    </tr>\n",
       "    <tr>\n",
       "      <th>4</th>\n",
       "      <td>0.0</td>\n",
       "      <td>[\"b'All the experts admit that we should legal...</td>\n",
       "    </tr>\n",
       "  </tbody>\n",
       "</table>\n",
       "</div>"
      ],
      "text/plain": [
       "   Label                                        Combined1_6\n",
       "0    0.0  [ 'b\"Georgia \\'downs two Russian warplanes\\' a...\n",
       "1    1.0  [ \"b'Why wont America and Nato help us? If the...\n",
       "2    1.0  [ \"b'Remember that adorable 9-year-old who san...\n",
       "3    0.0  [\"b' U.S. refuses Israel weapons to attack Ira...\n",
       "4    0.0  [\"b'All the experts admit that we should legal..."
      ]
     },
     "execution_count": 41,
     "metadata": {},
     "output_type": "execute_result"
    }
   ],
   "source": [
    "#train data\n",
    "train=df.loc[(pd.to_datetime(df[\"Date\"]) <= date(2014,12,31)),['Label','Combined1_6']]\n",
    "train.head()"
   ]
  },
  {
   "cell_type": "code",
   "execution_count": 42,
   "metadata": {
    "_cell_guid": "0a672e4d-8519-d324-6e5e-a141c4883b53"
   },
   "outputs": [
    {
     "data": {
      "text/html": [
       "<div>\n",
       "<table border=\"1\" class=\"dataframe\">\n",
       "  <thead>\n",
       "    <tr style=\"text-align: right;\">\n",
       "      <th></th>\n",
       "      <th>Label</th>\n",
       "      <th>Combined1_6</th>\n",
       "    </tr>\n",
       "  </thead>\n",
       "  <tbody>\n",
       "    <tr>\n",
       "      <th>1981</th>\n",
       "      <td>0.0</td>\n",
       "      <td>['German government agrees to ban fracking ind...</td>\n",
       "    </tr>\n",
       "    <tr>\n",
       "      <th>1982</th>\n",
       "      <td>1.0</td>\n",
       "      <td>[ 'Today The United Kingdom decides whether to...</td>\n",
       "    </tr>\n",
       "    <tr>\n",
       "      <th>1983</th>\n",
       "      <td>1.0</td>\n",
       "      <td>['David Cameron to Resign as PM After EU Refer...</td>\n",
       "    </tr>\n",
       "    <tr>\n",
       "      <th>1984</th>\n",
       "      <td>1.0</td>\n",
       "      <td>[ 'Barclays and RBS shares suspended from trad...</td>\n",
       "    </tr>\n",
       "    <tr>\n",
       "      <th>1985</th>\n",
       "      <td>1.0</td>\n",
       "      <td>[ '2,500 Scientists To Australia: If You Want ...</td>\n",
       "    </tr>\n",
       "  </tbody>\n",
       "</table>\n",
       "</div>"
      ],
      "text/plain": [
       "      Label                                        Combined1_6\n",
       "1981    0.0  ['German government agrees to ban fracking ind...\n",
       "1982    1.0  [ 'Today The United Kingdom decides whether to...\n",
       "1983    1.0  ['David Cameron to Resign as PM After EU Refer...\n",
       "1984    1.0  [ 'Barclays and RBS shares suspended from trad...\n",
       "1985    1.0  [ '2,500 Scientists To Australia: If You Want ..."
      ]
     },
     "execution_count": 42,
     "metadata": {},
     "output_type": "execute_result"
    }
   ],
   "source": [
    "#test data\n",
    "test=df.loc[(pd.to_datetime(df[\"Date\"]) > date(2014,12,31)),['Label','Combined1_6']]\n",
    "test.tail()"
   ]
  },
  {
   "cell_type": "code",
   "execution_count": 43,
   "metadata": {
    "_cell_guid": "0f79e812-fe76-83be-6564-00140afd9ed2"
   },
   "outputs": [
    {
     "name": "stdout",
     "output_type": "stream",
     "text": [
      "BernoulliNB(alpha=0.5,binarize=0.0)\n",
      "3-days shift, ngram_range=(1, 2),Combined Top1 and Top6\n",
      "             precision    recall  f1-score   support\n",
      "\n",
      "        0.0       0.57      0.42      0.49       184\n",
      "        1.0       0.56      0.70      0.62       191\n",
      "\n",
      "avg / total       0.56      0.56      0.55       375\n",
      "\n",
      "Confussion matrix:\n",
      " [[ 78 106]\n",
      " [ 58 133]]\n",
      "ROC-AUC: 0.560124061006\n"
     ]
    }
   ],
   "source": [
    "#no changes in the pipeline. We just use other data sets\n",
    "#Combined Top1 and Top6, 3-days shift\n",
    "bnb_2ngram_pipeline.fit(train['Combined1_6'],train['Label'])\n",
    "predictions = bnb_2ngram_pipeline.predict(test['Combined1_6'])\n",
    "Evaluation ('BernoulliNB(alpha=0.5,binarize=0.0)','3-days shift, ngram_range=(1, 2),Combined Top1 and Top6',test[\"Label\"], predictions)"
   ]
  },
  {
   "cell_type": "code",
   "execution_count": 44,
   "metadata": {
    "_cell_guid": "8b094a52-5c79-6bdb-abb1-6a0a7aeb3870"
   },
   "outputs": [
    {
     "data": {
      "image/png": "[encoded data removed]",
      "text/plain": [
       "<matplotlib.figure.Figure at 0x7ffb6c42a208>"
      ]
     },
     "metadata": {},
     "output_type": "display_data"
    }
   ],
   "source": [
    "ROCCurves (test[\"Label\"], predictions)"
   ]
  },
  {
   "cell_type": "markdown",
   "metadata": {
    "_cell_guid": "37ec1641-4d5d-acd7-c553-50804613db8a"
   },
   "source": [
    "**Score Summary by Method**"
   ]
  },
  {
   "cell_type": "code",
   "execution_count": 45,
   "metadata": {
    "_cell_guid": "470144d0-a54f-2a67-99a9-3d5d7f1ab35e"
   },
   "outputs": [
    {
     "data": {
      "text/html": [
       "<div>\n",
       "<table border=\"1\" class=\"dataframe\">\n",
       "  <thead>\n",
       "    <tr style=\"text-align: right;\">\n",
       "      <th></th>\n",
       "      <th>Method</th>\n",
       "      <th>Comment</th>\n",
       "      <th>ROC_AUC</th>\n",
       "      <th>Precision</th>\n",
       "      <th>Accuracy</th>\n",
       "      <th>Recall</th>\n",
       "      <th>F1</th>\n",
       "    </tr>\n",
       "  </thead>\n",
       "  <tbody>\n",
       "    <tr>\n",
       "      <th>8</th>\n",
       "      <td>BernoulliNB(alpha=0.5,binarize=0.0)</td>\n",
       "      <td>2-days shift, ngram_range=(1, 2),Combined Top3...</td>\n",
       "      <td>0.591581</td>\n",
       "      <td>0.584821</td>\n",
       "      <td>0.593085</td>\n",
       "      <td>0.685864</td>\n",
       "      <td>0.631325</td>\n",
       "    </tr>\n",
       "    <tr>\n",
       "      <th>7</th>\n",
       "      <td>BernoulliNB(alpha=0.5,binarize=0.0)</td>\n",
       "      <td>no shift, ngram_range=(1, 2),Combined Top10 an...</td>\n",
       "      <td>0.587702</td>\n",
       "      <td>0.576132</td>\n",
       "      <td>0.589947</td>\n",
       "      <td>0.729167</td>\n",
       "      <td>0.643678</td>\n",
       "    </tr>\n",
       "    <tr>\n",
       "      <th>6</th>\n",
       "      <td>BernoulliNB(alpha=0.5,binarize=0.0)</td>\n",
       "      <td>no shift, ngram_range=(1, 2),Combined Top12 an...</td>\n",
       "      <td>0.572665</td>\n",
       "      <td>0.569507</td>\n",
       "      <td>0.574074</td>\n",
       "      <td>0.661458</td>\n",
       "      <td>0.612048</td>\n",
       "    </tr>\n",
       "    <tr>\n",
       "      <th>9</th>\n",
       "      <td>BernoulliNB(alpha=0.5,binarize=0.0)</td>\n",
       "      <td>3-days shift, ngram_range=(1, 2),Combined Top1...</td>\n",
       "      <td>0.560124</td>\n",
       "      <td>0.556485</td>\n",
       "      <td>0.562667</td>\n",
       "      <td>0.696335</td>\n",
       "      <td>0.618605</td>\n",
       "    </tr>\n",
       "    <tr>\n",
       "      <th>5</th>\n",
       "      <td>BernoulliNB(alpha=0.5,binarize=0.0)</td>\n",
       "      <td>no shift, ngram_range=(1, 2),Top25 only</td>\n",
       "      <td>0.558720</td>\n",
       "      <td>0.554167</td>\n",
       "      <td>0.560847</td>\n",
       "      <td>0.692708</td>\n",
       "      <td>0.615741</td>\n",
       "    </tr>\n",
       "    <tr>\n",
       "      <th>3</th>\n",
       "      <td>BernoulliNB(alpha=0.5,binarize=0.0)</td>\n",
       "      <td>3-days shift, ngram_range=(1, 2), combined Top...</td>\n",
       "      <td>0.551872</td>\n",
       "      <td>0.549180</td>\n",
       "      <td>0.554667</td>\n",
       "      <td>0.701571</td>\n",
       "      <td>0.616092</td>\n",
       "    </tr>\n",
       "    <tr>\n",
       "      <th>2</th>\n",
       "      <td>BernoulliNB(alpha=0.0,binarize=0.0)</td>\n",
       "      <td>1-day shift, ngram_range=(1, 2), combined Top ...</td>\n",
       "      <td>0.551723</td>\n",
       "      <td>0.763158</td>\n",
       "      <td>0.546419</td>\n",
       "      <td>0.151832</td>\n",
       "      <td>0.253275</td>\n",
       "    </tr>\n",
       "    <tr>\n",
       "      <th>4</th>\n",
       "      <td>BernoulliNB(alpha=0.5,binarize=0.0)</td>\n",
       "      <td>no shift, ngram_range=(1, 2),Top1 only</td>\n",
       "      <td>0.508989</td>\n",
       "      <td>0.515419</td>\n",
       "      <td>0.510582</td>\n",
       "      <td>0.609375</td>\n",
       "      <td>0.558473</td>\n",
       "    </tr>\n",
       "    <tr>\n",
       "      <th>0</th>\n",
       "      <td>MultinomialNB</td>\n",
       "      <td>no shift, no n-grams, combined Top news</td>\n",
       "      <td>0.500000</td>\n",
       "      <td>0.507937</td>\n",
       "      <td>0.507937</td>\n",
       "      <td>1.000000</td>\n",
       "      <td>0.673684</td>\n",
       "    </tr>\n",
       "    <tr>\n",
       "      <th>1</th>\n",
       "      <td>BernoulliNB(binarize=0.0)</td>\n",
       "      <td>default alpha=1,no shift, ngram_range=(1, 2), ...</td>\n",
       "      <td>0.495464</td>\n",
       "      <td>0.505051</td>\n",
       "      <td>0.500000</td>\n",
       "      <td>0.781250</td>\n",
       "      <td>0.613497</td>\n",
       "    </tr>\n",
       "  </tbody>\n",
       "</table>\n",
       "</div>"
      ],
      "text/plain": [
       "                                Method  \\\n",
       "8  BernoulliNB(alpha=0.5,binarize=0.0)   \n",
       "7  BernoulliNB(alpha=0.5,binarize=0.0)   \n",
       "6  BernoulliNB(alpha=0.5,binarize=0.0)   \n",
       "9  BernoulliNB(alpha=0.5,binarize=0.0)   \n",
       "5  BernoulliNB(alpha=0.5,binarize=0.0)   \n",
       "3  BernoulliNB(alpha=0.5,binarize=0.0)   \n",
       "2  BernoulliNB(alpha=0.0,binarize=0.0)   \n",
       "4  BernoulliNB(alpha=0.5,binarize=0.0)   \n",
       "0                        MultinomialNB   \n",
       "1            BernoulliNB(binarize=0.0)   \n",
       "\n",
       "                                             Comment   ROC_AUC  Precision  \\\n",
       "8  2-days shift, ngram_range=(1, 2),Combined Top3...  0.591581   0.584821   \n",
       "7  no shift, ngram_range=(1, 2),Combined Top10 an...  0.587702   0.576132   \n",
       "6  no shift, ngram_range=(1, 2),Combined Top12 an...  0.572665   0.569507   \n",
       "9  3-days shift, ngram_range=(1, 2),Combined Top1...  0.560124   0.556485   \n",
       "5            no shift, ngram_range=(1, 2),Top25 only  0.558720   0.554167   \n",
       "3  3-days shift, ngram_range=(1, 2), combined Top...  0.551872   0.549180   \n",
       "2  1-day shift, ngram_range=(1, 2), combined Top ...  0.551723   0.763158   \n",
       "4             no shift, ngram_range=(1, 2),Top1 only  0.508989   0.515419   \n",
       "0            no shift, no n-grams, combined Top news  0.500000   0.507937   \n",
       "1  default alpha=1,no shift, ngram_range=(1, 2), ...  0.495464   0.505051   \n",
       "\n",
       "   Accuracy    Recall        F1  \n",
       "8  0.593085  0.685864  0.631325  \n",
       "7  0.589947  0.729167  0.643678  \n",
       "6  0.574074  0.661458  0.612048  \n",
       "9  0.562667  0.696335  0.618605  \n",
       "5  0.560847  0.692708  0.615741  \n",
       "3  0.554667  0.701571  0.616092  \n",
       "2  0.546419  0.151832  0.253275  \n",
       "4  0.510582  0.609375  0.558473  \n",
       "0  0.507937  1.000000  0.673684  \n",
       "1  0.500000  0.781250  0.613497  "
      ]
     },
     "execution_count": 45,
     "metadata": {},
     "output_type": "execute_result"
    }
   ],
   "source": [
    "df_ScoreSummaryByMethod=DataFrame(ScoreSummaryByMethod,columns=['Method','Comment','ROC_AUC','Precision','Accuracy','Recall','F1'])\n",
    "df_ScoreSummaryByMethod.sort_values(['ROC_AUC'],ascending=False,inplace=True)\n",
    "df_ScoreSummaryByMethod.head(20)"
   ]
  }
 ],
 "metadata": {
  "_change_revision": 18,
  "_is_fork": false,
  "kernelspec": {
   "display_name": "Python 3 (ipykernel)",
   "language": "python",
   "name": "python3"
  },
  "language_info": {
   "codemirror_mode": {
    "name": "ipython",
    "version": 3
   },
   "file_extension": ".py",
   "mimetype": "text/x-python",
   "name": "python",
   "nbconvert_exporter": "python",
   "pygments_lexer": "ipython3",
   "version": "3.8.10"
  },
  "toc": {
   "base_numbering": 1,
   "nav_menu": {},
   "number_sections": true,
   "sideBar": true,
   "skip_h1_title": false,
   "title_cell": "Table of Contents",
   "title_sidebar": "Contents",
   "toc_cell": false,
   "toc_position": {},
   "toc_section_display": true,
   "toc_window_display": false
  }
 },
 "nbformat": 4,
 "nbformat_minor": 1
}
