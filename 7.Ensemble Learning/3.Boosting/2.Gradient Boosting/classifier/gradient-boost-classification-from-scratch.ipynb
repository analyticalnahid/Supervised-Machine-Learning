{
 "cells": [
  {
   "cell_type": "markdown",
   "metadata": {
    "papermill": {
     "duration": 0.034946,
     "end_time": "2020-12-01T13:40:27.984185",
     "exception": false,
     "start_time": "2020-12-01T13:40:27.949239",
     "status": "completed"
    },
    "tags": []
   },
   "source": [
    "This notebook is inspired from this video, all the data and steps followed in the turorial can be found here.\n",
    "\n",
    "https://www.youtube.com/watch?v=jxuNLH5dXCs&ab_channel=StatQuestwithJoshStarmer"
   ]
  },
  {
   "cell_type": "code",
   "execution_count": 1,
   "metadata": {
    "_cell_guid": "b1076dfc-b9ad-4769-8c92-a6c4dae69d19",
    "_uuid": "8f2839f25d086af736a60e9eeb907d3b93b6e0e5",
    "execution": {
     "iopub.execute_input": "2020-12-01T13:40:28.050850Z",
     "iopub.status.busy": "2020-12-01T13:40:28.050048Z",
     "iopub.status.idle": "2020-12-01T13:40:28.053826Z",
     "shell.execute_reply": "2020-12-01T13:40:28.053003Z"
    },
    "papermill": {
     "duration": 0.038168,
     "end_time": "2020-12-01T13:40:28.053958",
     "exception": false,
     "start_time": "2020-12-01T13:40:28.015790",
     "status": "completed"
    },
    "tags": []
   },
   "outputs": [],
   "source": [
    "import numpy as np\n",
    "import pandas as pd\n",
    "import matplotlib.pyplot as plt"
   ]
  },
  {
   "cell_type": "code",
   "execution_count": 2,
   "metadata": {
    "_cell_guid": "79c7e3d0-c299-4dcb-8224-4455121ee9b0",
    "_uuid": "d629ff2d2480ee46fbb7e2d37f6b5fab8052498a",
    "execution": {
     "iopub.execute_input": "2020-12-01T13:40:28.125789Z",
     "iopub.status.busy": "2020-12-01T13:40:28.124816Z",
     "iopub.status.idle": "2020-12-01T13:40:28.128414Z",
     "shell.execute_reply": "2020-12-01T13:40:28.127668Z"
    },
    "papermill": {
     "duration": 0.044006,
     "end_time": "2020-12-01T13:40:28.128539",
     "exception": false,
     "start_time": "2020-12-01T13:40:28.084533",
     "status": "completed"
    },
    "tags": []
   },
   "outputs": [],
   "source": [
    "# df = pd.read_csv(\"https://raw.githubusercontent.com/nunnarilabs/ml/master/heart.csv\")\n",
    "\n",
    "# intialise data of lists. \n",
    "data = {'popcorn':[1,1,0,1,0,0], \n",
    "        'age':[12,87,44,19,32,14],\n",
    "       'color':[0,1,0,2,1,0],\n",
    "       'op':[1,1,0,0,1,1]} \n",
    "  \n",
    "# Create DataFrame \n",
    "df = pd.DataFrame(data) "
   ]
  },
  {
   "cell_type": "code",
   "execution_count": 3,
   "metadata": {
    "execution": {
     "iopub.execute_input": "2020-12-01T13:40:28.216916Z",
     "iopub.status.busy": "2020-12-01T13:40:28.216170Z",
     "iopub.status.idle": "2020-12-01T13:40:28.226474Z",
     "shell.execute_reply": "2020-12-01T13:40:28.225643Z"
    },
    "papermill": {
     "duration": 0.063072,
     "end_time": "2020-12-01T13:40:28.226601",
     "exception": false,
     "start_time": "2020-12-01T13:40:28.163529",
     "status": "completed"
    },
    "tags": []
   },
   "outputs": [
    {
     "data": {
      "text/html": [
       "<div>\n",
       "<style scoped>\n",
       "    .dataframe tbody tr th:only-of-type {\n",
       "        vertical-align: middle;\n",
       "    }\n",
       "\n",
       "    .dataframe tbody tr th {\n",
       "        vertical-align: top;\n",
       "    }\n",
       "\n",
       "    .dataframe thead th {\n",
       "        text-align: right;\n",
       "    }\n",
       "</style>\n",
       "<table border=\"1\" class=\"dataframe\">\n",
       "  <thead>\n",
       "    <tr style=\"text-align: right;\">\n",
       "      <th></th>\n",
       "      <th>popcorn</th>\n",
       "      <th>age</th>\n",
       "      <th>color</th>\n",
       "      <th>op</th>\n",
       "    </tr>\n",
       "  </thead>\n",
       "  <tbody>\n",
       "    <tr>\n",
       "      <th>0</th>\n",
       "      <td>1</td>\n",
       "      <td>12</td>\n",
       "      <td>0</td>\n",
       "      <td>1</td>\n",
       "    </tr>\n",
       "    <tr>\n",
       "      <th>1</th>\n",
       "      <td>1</td>\n",
       "      <td>87</td>\n",
       "      <td>1</td>\n",
       "      <td>1</td>\n",
       "    </tr>\n",
       "    <tr>\n",
       "      <th>2</th>\n",
       "      <td>0</td>\n",
       "      <td>44</td>\n",
       "      <td>0</td>\n",
       "      <td>0</td>\n",
       "    </tr>\n",
       "    <tr>\n",
       "      <th>3</th>\n",
       "      <td>1</td>\n",
       "      <td>19</td>\n",
       "      <td>2</td>\n",
       "      <td>0</td>\n",
       "    </tr>\n",
       "    <tr>\n",
       "      <th>4</th>\n",
       "      <td>0</td>\n",
       "      <td>32</td>\n",
       "      <td>1</td>\n",
       "      <td>1</td>\n",
       "    </tr>\n",
       "  </tbody>\n",
       "</table>\n",
       "</div>"
      ],
      "text/plain": [
       "   popcorn  age  color  op\n",
       "0        1   12      0   1\n",
       "1        1   87      1   1\n",
       "2        0   44      0   0\n",
       "3        1   19      2   0\n",
       "4        0   32      1   1"
      ]
     },
     "execution_count": 3,
     "metadata": {},
     "output_type": "execute_result"
    }
   ],
   "source": [
    "df.head()"
   ]
  },
  {
   "cell_type": "code",
   "execution_count": 4,
   "metadata": {
    "execution": {
     "iopub.execute_input": "2020-12-01T13:40:28.301940Z",
     "iopub.status.busy": "2020-12-01T13:40:28.300800Z",
     "iopub.status.idle": "2020-12-01T13:40:28.323986Z",
     "shell.execute_reply": "2020-12-01T13:40:28.323220Z"
    },
    "papermill": {
     "duration": 0.066312,
     "end_time": "2020-12-01T13:40:28.324137",
     "exception": false,
     "start_time": "2020-12-01T13:40:28.257825",
     "status": "completed"
    },
    "tags": []
   },
   "outputs": [
    {
     "data": {
      "text/html": [
       "<div>\n",
       "<style scoped>\n",
       "    .dataframe tbody tr th:only-of-type {\n",
       "        vertical-align: middle;\n",
       "    }\n",
       "\n",
       "    .dataframe tbody tr th {\n",
       "        vertical-align: top;\n",
       "    }\n",
       "\n",
       "    .dataframe thead th {\n",
       "        text-align: right;\n",
       "    }\n",
       "</style>\n",
       "<table border=\"1\" class=\"dataframe\">\n",
       "  <thead>\n",
       "    <tr style=\"text-align: right;\">\n",
       "      <th></th>\n",
       "      <th>popcorn</th>\n",
       "      <th>age</th>\n",
       "      <th>color</th>\n",
       "      <th>op</th>\n",
       "    </tr>\n",
       "  </thead>\n",
       "  <tbody>\n",
       "    <tr>\n",
       "      <th>count</th>\n",
       "      <td>6.000000</td>\n",
       "      <td>6.000000</td>\n",
       "      <td>6.000000</td>\n",
       "      <td>6.000000</td>\n",
       "    </tr>\n",
       "    <tr>\n",
       "      <th>mean</th>\n",
       "      <td>0.500000</td>\n",
       "      <td>34.666667</td>\n",
       "      <td>0.666667</td>\n",
       "      <td>0.666667</td>\n",
       "    </tr>\n",
       "    <tr>\n",
       "      <th>std</th>\n",
       "      <td>0.547723</td>\n",
       "      <td>28.352543</td>\n",
       "      <td>0.816497</td>\n",
       "      <td>0.516398</td>\n",
       "    </tr>\n",
       "    <tr>\n",
       "      <th>min</th>\n",
       "      <td>0.000000</td>\n",
       "      <td>12.000000</td>\n",
       "      <td>0.000000</td>\n",
       "      <td>0.000000</td>\n",
       "    </tr>\n",
       "    <tr>\n",
       "      <th>25%</th>\n",
       "      <td>0.000000</td>\n",
       "      <td>15.250000</td>\n",
       "      <td>0.000000</td>\n",
       "      <td>0.250000</td>\n",
       "    </tr>\n",
       "    <tr>\n",
       "      <th>50%</th>\n",
       "      <td>0.500000</td>\n",
       "      <td>25.500000</td>\n",
       "      <td>0.500000</td>\n",
       "      <td>1.000000</td>\n",
       "    </tr>\n",
       "    <tr>\n",
       "      <th>75%</th>\n",
       "      <td>1.000000</td>\n",
       "      <td>41.000000</td>\n",
       "      <td>1.000000</td>\n",
       "      <td>1.000000</td>\n",
       "    </tr>\n",
       "    <tr>\n",
       "      <th>max</th>\n",
       "      <td>1.000000</td>\n",
       "      <td>87.000000</td>\n",
       "      <td>2.000000</td>\n",
       "      <td>1.000000</td>\n",
       "    </tr>\n",
       "  </tbody>\n",
       "</table>\n",
       "</div>"
      ],
      "text/plain": [
       "        popcorn        age     color        op\n",
       "count  6.000000   6.000000  6.000000  6.000000\n",
       "mean   0.500000  34.666667  0.666667  0.666667\n",
       "std    0.547723  28.352543  0.816497  0.516398\n",
       "min    0.000000  12.000000  0.000000  0.000000\n",
       "25%    0.000000  15.250000  0.000000  0.250000\n",
       "50%    0.500000  25.500000  0.500000  1.000000\n",
       "75%    1.000000  41.000000  1.000000  1.000000\n",
       "max    1.000000  87.000000  2.000000  1.000000"
      ]
     },
     "execution_count": 4,
     "metadata": {},
     "output_type": "execute_result"
    }
   ],
   "source": [
    "df.describe()"
   ]
  },
  {
   "cell_type": "markdown",
   "metadata": {
    "papermill": {
     "duration": 0.032597,
     "end_time": "2020-12-01T13:40:28.387605",
     "exception": false,
     "start_time": "2020-12-01T13:40:28.355008",
     "status": "completed"
    },
    "tags": []
   },
   "source": [
    "## Initial Prediction"
   ]
  },
  {
   "cell_type": "code",
   "execution_count": 5,
   "metadata": {
    "execution": {
     "iopub.execute_input": "2020-12-01T13:40:28.474692Z",
     "iopub.status.busy": "2020-12-01T13:40:28.473085Z",
     "iopub.status.idle": "2020-12-01T13:40:28.485397Z",
     "shell.execute_reply": "2020-12-01T13:40:28.484569Z"
    },
    "papermill": {
     "duration": 0.058438,
     "end_time": "2020-12-01T13:40:28.485538",
     "exception": false,
     "start_time": "2020-12-01T13:40:28.427100",
     "status": "completed"
    },
    "tags": []
   },
   "outputs": [
    {
     "data": {
      "text/plain": [
       "1    4\n",
       "0    2\n",
       "Name: op, dtype: int64"
      ]
     },
     "execution_count": 5,
     "metadata": {},
     "output_type": "execute_result"
    }
   ],
   "source": [
    "df.op.value_counts()"
   ]
  },
  {
   "cell_type": "markdown",
   "metadata": {
    "papermill": {
     "duration": 0.033795,
     "end_time": "2020-12-01T13:40:28.553351",
     "exception": false,
     "start_time": "2020-12-01T13:40:28.519556",
     "status": "completed"
    },
    "tags": []
   },
   "source": [
    "*log(odds)*\n",
    "\n",
    "*log(yes/no)*"
   ]
  },
  {
   "cell_type": "code",
   "execution_count": 6,
   "metadata": {
    "execution": {
     "iopub.execute_input": "2020-12-01T13:40:28.630180Z",
     "iopub.status.busy": "2020-12-01T13:40:28.629376Z",
     "iopub.status.idle": "2020-12-01T13:40:28.632730Z",
     "shell.execute_reply": "2020-12-01T13:40:28.633309Z"
    },
    "papermill": {
     "duration": 0.046509,
     "end_time": "2020-12-01T13:40:28.633488",
     "exception": false,
     "start_time": "2020-12-01T13:40:28.586979",
     "status": "completed"
    },
    "tags": []
   },
   "outputs": [
    {
     "name": "stdout",
     "output_type": "stream",
     "text": [
      "0.6931471805599453\n"
     ]
    }
   ],
   "source": [
    "# initial prediction\n",
    "log_of_odds = np.log(df.op.value_counts()[1]/ df.op.value_counts()[0])\n",
    "print(log_of_odds)"
   ]
  },
  {
   "cell_type": "markdown",
   "metadata": {
    "papermill": {
     "duration": 0.035297,
     "end_time": "2020-12-01T13:40:28.707128",
     "exception": false,
     "start_time": "2020-12-01T13:40:28.671831",
     "status": "completed"
    },
    "tags": []
   },
   "source": [
    "The easiest way to use the log(odds) for classification is to convert it to a probability. To do so, we'll use this formula:\n",
    "\n",
    "![](https://blog.paperspace.com/content/images/2019/11/image-8.png)"
   ]
  },
  {
   "cell_type": "code",
   "execution_count": 7,
   "metadata": {
    "execution": {
     "iopub.execute_input": "2020-12-01T13:40:28.783969Z",
     "iopub.status.busy": "2020-12-01T13:40:28.782607Z",
     "iopub.status.idle": "2020-12-01T13:40:28.786901Z",
     "shell.execute_reply": "2020-12-01T13:40:28.787528Z"
    },
    "papermill": {
     "duration": 0.046338,
     "end_time": "2020-12-01T13:40:28.787730",
     "exception": false,
     "start_time": "2020-12-01T13:40:28.741392",
     "status": "completed"
    },
    "tags": []
   },
   "outputs": [
    {
     "name": "stdout",
     "output_type": "stream",
     "text": [
      "0.6666666666666666\n"
     ]
    }
   ],
   "source": [
    "probability = np.exp(log_of_odds)/(1+np.exp(log_of_odds))\n",
    "print(probability)"
   ]
  },
  {
   "cell_type": "code",
   "execution_count": 8,
   "metadata": {
    "execution": {
     "iopub.execute_input": "2020-12-01T13:40:28.862129Z",
     "iopub.status.busy": "2020-12-01T13:40:28.860303Z",
     "iopub.status.idle": "2020-12-01T13:40:28.865244Z",
     "shell.execute_reply": "2020-12-01T13:40:28.866435Z"
    },
    "papermill": {
     "duration": 0.045956,
     "end_time": "2020-12-01T13:40:28.866660",
     "exception": false,
     "start_time": "2020-12-01T13:40:28.820704",
     "status": "completed"
    },
    "tags": []
   },
   "outputs": [
    {
     "name": "stdout",
     "output_type": "stream",
     "text": [
      "[0.66666667 0.66666667 0.66666667 0.66666667 0.66666667 0.66666667]\n"
     ]
    }
   ],
   "source": [
    "y_hat = np.array([probability]*6)\n",
    "print(y_hat)"
   ]
  },
  {
   "cell_type": "code",
   "execution_count": 9,
   "metadata": {
    "execution": {
     "iopub.execute_input": "2020-12-01T13:40:28.945983Z",
     "iopub.status.busy": "2020-12-01T13:40:28.944483Z",
     "iopub.status.idle": "2020-12-01T13:40:28.949110Z",
     "shell.execute_reply": "2020-12-01T13:40:28.948039Z"
    },
    "papermill": {
     "duration": 0.047143,
     "end_time": "2020-12-01T13:40:28.949257",
     "exception": false,
     "start_time": "2020-12-01T13:40:28.902114",
     "status": "completed"
    },
    "tags": []
   },
   "outputs": [],
   "source": [
    "df['initial_pred'] = y_hat"
   ]
  },
  {
   "cell_type": "code",
   "execution_count": 10,
   "metadata": {
    "execution": {
     "iopub.execute_input": "2020-12-01T13:40:29.039279Z",
     "iopub.status.busy": "2020-12-01T13:40:29.037865Z",
     "iopub.status.idle": "2020-12-01T13:40:29.042848Z",
     "shell.execute_reply": "2020-12-01T13:40:29.042036Z"
    },
    "papermill": {
     "duration": 0.05732,
     "end_time": "2020-12-01T13:40:29.043234",
     "exception": false,
     "start_time": "2020-12-01T13:40:28.985914",
     "status": "completed"
    },
    "tags": []
   },
   "outputs": [
    {
     "data": {
      "text/html": [
       "<div>\n",
       "<style scoped>\n",
       "    .dataframe tbody tr th:only-of-type {\n",
       "        vertical-align: middle;\n",
       "    }\n",
       "\n",
       "    .dataframe tbody tr th {\n",
       "        vertical-align: top;\n",
       "    }\n",
       "\n",
       "    .dataframe thead th {\n",
       "        text-align: right;\n",
       "    }\n",
       "</style>\n",
       "<table border=\"1\" class=\"dataframe\">\n",
       "  <thead>\n",
       "    <tr style=\"text-align: right;\">\n",
       "      <th></th>\n",
       "      <th>popcorn</th>\n",
       "      <th>age</th>\n",
       "      <th>color</th>\n",
       "      <th>op</th>\n",
       "      <th>initial_pred</th>\n",
       "    </tr>\n",
       "  </thead>\n",
       "  <tbody>\n",
       "    <tr>\n",
       "      <th>0</th>\n",
       "      <td>1</td>\n",
       "      <td>12</td>\n",
       "      <td>0</td>\n",
       "      <td>1</td>\n",
       "      <td>0.666667</td>\n",
       "    </tr>\n",
       "    <tr>\n",
       "      <th>1</th>\n",
       "      <td>1</td>\n",
       "      <td>87</td>\n",
       "      <td>1</td>\n",
       "      <td>1</td>\n",
       "      <td>0.666667</td>\n",
       "    </tr>\n",
       "    <tr>\n",
       "      <th>2</th>\n",
       "      <td>0</td>\n",
       "      <td>44</td>\n",
       "      <td>0</td>\n",
       "      <td>0</td>\n",
       "      <td>0.666667</td>\n",
       "    </tr>\n",
       "    <tr>\n",
       "      <th>3</th>\n",
       "      <td>1</td>\n",
       "      <td>19</td>\n",
       "      <td>2</td>\n",
       "      <td>0</td>\n",
       "      <td>0.666667</td>\n",
       "    </tr>\n",
       "    <tr>\n",
       "      <th>4</th>\n",
       "      <td>0</td>\n",
       "      <td>32</td>\n",
       "      <td>1</td>\n",
       "      <td>1</td>\n",
       "      <td>0.666667</td>\n",
       "    </tr>\n",
       "    <tr>\n",
       "      <th>5</th>\n",
       "      <td>0</td>\n",
       "      <td>14</td>\n",
       "      <td>0</td>\n",
       "      <td>1</td>\n",
       "      <td>0.666667</td>\n",
       "    </tr>\n",
       "  </tbody>\n",
       "</table>\n",
       "</div>"
      ],
      "text/plain": [
       "   popcorn  age  color  op  initial_pred\n",
       "0        1   12      0   1      0.666667\n",
       "1        1   87      1   1      0.666667\n",
       "2        0   44      0   0      0.666667\n",
       "3        1   19      2   0      0.666667\n",
       "4        0   32      1   1      0.666667\n",
       "5        0   14      0   1      0.666667"
      ]
     },
     "execution_count": 10,
     "metadata": {},
     "output_type": "execute_result"
    }
   ],
   "source": [
    "df"
   ]
  },
  {
   "cell_type": "markdown",
   "metadata": {
    "papermill": {
     "duration": 0.054806,
     "end_time": "2020-12-01T13:40:29.135965",
     "exception": false,
     "start_time": "2020-12-01T13:40:29.081159",
     "status": "completed"
    },
    "tags": []
   },
   "source": [
    "Since the Probability of Loving Troll 2 is greater than 0.5, we can Classify everyone in the Training Dataset as someone who Loves Troll 2. \n",
    "\n",
    "(0.5 is a common threshold used for classification decisions made based on probability; note that the threshold can easily be taken as something else.)\n",
    "\n"
   ]
  },
  {
   "cell_type": "markdown",
   "metadata": {
    "papermill": {
     "duration": 0.035039,
     "end_time": "2020-12-01T13:40:29.216819",
     "exception": false,
     "start_time": "2020-12-01T13:40:29.181780",
     "status": "completed"
    },
    "tags": []
   },
   "source": [
    "## Calculate Pseudo-Residuals\n",
    "\n",
    "![](https://blog.paperspace.com/content/images/2019/11/image-9.png)"
   ]
  },
  {
   "cell_type": "code",
   "execution_count": 11,
   "metadata": {
    "execution": {
     "iopub.execute_input": "2020-12-01T13:40:29.302313Z",
     "iopub.status.busy": "2020-12-01T13:40:29.301193Z",
     "iopub.status.idle": "2020-12-01T13:40:29.335560Z",
     "shell.execute_reply": "2020-12-01T13:40:29.334056Z"
    },
    "papermill": {
     "duration": 0.084409,
     "end_time": "2020-12-01T13:40:29.335957",
     "exception": false,
     "start_time": "2020-12-01T13:40:29.251548",
     "status": "completed"
    },
    "tags": []
   },
   "outputs": [
    {
     "data": {
      "text/plain": [
       "0    0.333333\n",
       "1    0.333333\n",
       "2   -0.666667\n",
       "3   -0.666667\n",
       "4    0.333333\n",
       "5    0.333333\n",
       "Name: op, dtype: float64"
      ]
     },
     "execution_count": 11,
     "metadata": {},
     "output_type": "execute_result"
    }
   ],
   "source": [
    "y = df.op\n",
    "residuals = y - y_hat\n",
    "residuals"
   ]
  },
  {
   "cell_type": "markdown",
   "metadata": {
    "papermill": {
     "duration": 0.036606,
     "end_time": "2020-12-01T13:40:29.409381",
     "exception": false,
     "start_time": "2020-12-01T13:40:29.372775",
     "status": "completed"
    },
    "tags": []
   },
   "source": [
    "## Build a tree to predict residuals\n",
    "\n",
    "We will use this residual to get the next tree. It may seem absurd that we are considering the residual instead of the actual value, but you will se how it is done."
   ]
  },
  {
   "cell_type": "code",
   "execution_count": 12,
   "metadata": {
    "execution": {
     "iopub.execute_input": "2020-12-01T13:40:29.494703Z",
     "iopub.status.busy": "2020-12-01T13:40:29.493757Z",
     "iopub.status.idle": "2020-12-01T13:40:29.497598Z",
     "shell.execute_reply": "2020-12-01T13:40:29.496928Z"
    },
    "papermill": {
     "duration": 0.053093,
     "end_time": "2020-12-01T13:40:29.497731",
     "exception": false,
     "start_time": "2020-12-01T13:40:29.444638",
     "status": "completed"
    },
    "tags": []
   },
   "outputs": [],
   "source": [
    "X = df.drop('op', axis=1)"
   ]
  },
  {
   "cell_type": "code",
   "execution_count": 13,
   "metadata": {
    "execution": {
     "iopub.execute_input": "2020-12-01T13:40:29.581702Z",
     "iopub.status.busy": "2020-12-01T13:40:29.580624Z",
     "iopub.status.idle": "2020-12-01T13:40:31.214729Z",
     "shell.execute_reply": "2020-12-01T13:40:31.213576Z"
    },
    "papermill": {
     "duration": 1.680002,
     "end_time": "2020-12-01T13:40:31.214880",
     "exception": false,
     "start_time": "2020-12-01T13:40:29.534878",
     "status": "completed"
    },
    "tags": []
   },
   "outputs": [
    {
     "data": {
      "text/plain": [
       "DecisionTreeRegressor(max_depth=2)"
      ]
     },
     "execution_count": 13,
     "metadata": {},
     "output_type": "execute_result"
    }
   ],
   "source": [
    "from sklearn.tree import DecisionTreeRegressor\n",
    "from sklearn import tree\n",
    "regressor = DecisionTreeRegressor(max_depth=2) \n",
    "regressor.fit(X, residuals)"
   ]
  },
  {
   "cell_type": "code",
   "execution_count": 14,
   "metadata": {
    "execution": {
     "iopub.execute_input": "2020-12-01T13:40:31.301192Z",
     "iopub.status.busy": "2020-12-01T13:40:31.299857Z",
     "iopub.status.idle": "2020-12-01T13:40:31.303813Z",
     "shell.execute_reply": "2020-12-01T13:40:31.304634Z"
    },
    "papermill": {
     "duration": 0.050503,
     "end_time": "2020-12-01T13:40:31.304832",
     "exception": false,
     "start_time": "2020-12-01T13:40:31.254329",
     "status": "completed"
    },
    "tags": []
   },
   "outputs": [
    {
     "name": "stdout",
     "output_type": "stream",
     "text": [
      "|--- feature_2 <= 1.50\n",
      "|   |--- feature_1 <= 38.00\n",
      "|   |   |--- value: [0.33]\n",
      "|   |--- feature_1 >  38.00\n",
      "|   |   |--- value: [-0.17]\n",
      "|--- feature_2 >  1.50\n",
      "|   |--- value: [-0.67]\n",
      "\n"
     ]
    }
   ],
   "source": [
    "text_representation = tree.export_text(regressor)\n",
    "print(text_representation)"
   ]
  },
  {
   "cell_type": "code",
   "execution_count": 15,
   "metadata": {
    "execution": {
     "iopub.execute_input": "2020-12-01T13:40:31.385649Z",
     "iopub.status.busy": "2020-12-01T13:40:31.384844Z",
     "iopub.status.idle": "2020-12-01T13:40:31.641305Z",
     "shell.execute_reply": "2020-12-01T13:40:31.640489Z"
    },
    "papermill": {
     "duration": 0.299061,
     "end_time": "2020-12-01T13:40:31.641431",
     "exception": false,
     "start_time": "2020-12-01T13:40:31.342370",
     "status": "completed"
    },
    "tags": []
   },
   "outputs": [
    {
     "data": {
      "image/png": "[encoded data removed]",
      "text/plain": [
       "<Figure size 360x288 with 1 Axes>"
      ]
     },
     "metadata": {
      "needs_background": "light"
     },
     "output_type": "display_data"
    }
   ],
   "source": [
    "fig = plt.figure(figsize=(5,4))\n",
    "_ = tree.plot_tree(regressor, feature_names=df.columns, filled=True)"
   ]
  },
  {
   "cell_type": "markdown",
   "metadata": {
    "papermill": {
     "duration": 0.037538,
     "end_time": "2020-12-01T13:40:31.716398",
     "exception": false,
     "start_time": "2020-12-01T13:40:31.678860",
     "status": "completed"
    },
    "tags": []
   },
   "source": [
    "When we used Gradient Boost for Regression, a leaf with single Residual had an Output Value equal to that Residual.\n",
    "\n",
    "In contrast, when we use Gradient Boost for Classification, the situation is a little more complex. This is because the predictions are in terms of **log(odds)**\n",
    "\n",
    "\n",
    "\n"
   ]
  },
  {
   "cell_type": "markdown",
   "metadata": {
    "papermill": {
     "duration": 0.037369,
     "end_time": "2020-12-01T13:40:31.794466",
     "exception": false,
     "start_time": "2020-12-01T13:40:31.757097",
     "status": "completed"
    },
    "tags": []
   },
   "source": [
    "When we use Gradient Boost for Classification, the most common transformation is the following formula.\n",
    "\n",
    "![](https://blog.paperspace.com/content/images/2019/11/image-10.png)"
   ]
  },
  {
   "cell_type": "code",
   "execution_count": 16,
   "metadata": {
    "execution": {
     "iopub.execute_input": "2020-12-01T13:40:31.879366Z",
     "iopub.status.busy": "2020-12-01T13:40:31.878308Z",
     "iopub.status.idle": "2020-12-01T13:40:31.881900Z",
     "shell.execute_reply": "2020-12-01T13:40:31.882519Z"
    },
    "papermill": {
     "duration": 0.050804,
     "end_time": "2020-12-01T13:40:31.882673",
     "exception": false,
     "start_time": "2020-12-01T13:40:31.831869",
     "status": "completed"
    },
    "tags": []
   },
   "outputs": [
    {
     "data": {
      "text/plain": [
       "array([ 1.5 , -0.75, -0.75, -3.  ,  1.5 ,  1.5 ])"
      ]
     },
     "execution_count": 16,
     "metadata": {},
     "output_type": "execute_result"
    }
   ],
   "source": [
    "reg_pred_tree1 = regressor.predict(X)/(y_hat * (1 - y_hat))\n",
    "reg_pred_tree1"
   ]
  },
  {
   "cell_type": "code",
   "execution_count": 17,
   "metadata": {
    "execution": {
     "iopub.execute_input": "2020-12-01T13:40:31.973180Z",
     "iopub.status.busy": "2020-12-01T13:40:31.972148Z",
     "iopub.status.idle": "2020-12-01T13:40:31.976975Z",
     "shell.execute_reply": "2020-12-01T13:40:31.976262Z"
    },
    "papermill": {
     "duration": 0.052961,
     "end_time": "2020-12-01T13:40:31.977128",
     "exception": false,
     "start_time": "2020-12-01T13:40:31.924167",
     "status": "completed"
    },
    "tags": []
   },
   "outputs": [
    {
     "data": {
      "text/plain": [
       "array([ 0.33333333, -0.16666667, -0.16666667, -0.66666667,  0.33333333,\n",
       "        0.33333333])"
      ]
     },
     "execution_count": 17,
     "metadata": {},
     "output_type": "execute_result"
    }
   ],
   "source": [
    "# Explanation for previous expression\n",
    "regressor.predict(X)"
   ]
  },
  {
   "cell_type": "code",
   "execution_count": 18,
   "metadata": {
    "execution": {
     "iopub.execute_input": "2020-12-01T13:40:32.063948Z",
     "iopub.status.busy": "2020-12-01T13:40:32.062171Z",
     "iopub.status.idle": "2020-12-01T13:40:32.067398Z",
     "shell.execute_reply": "2020-12-01T13:40:32.066627Z"
    },
    "papermill": {
     "duration": 0.05069,
     "end_time": "2020-12-01T13:40:32.067529",
     "exception": false,
     "start_time": "2020-12-01T13:40:32.016839",
     "status": "completed"
    },
    "tags": []
   },
   "outputs": [
    {
     "data": {
      "text/plain": [
       "array([0.22222222, 0.22222222, 0.22222222, 0.22222222, 0.22222222,\n",
       "       0.22222222])"
      ]
     },
     "execution_count": 18,
     "metadata": {},
     "output_type": "execute_result"
    }
   ],
   "source": [
    "# Explanation for previous expression\n",
    "(y_hat * (1 - y_hat))"
   ]
  },
  {
   "cell_type": "markdown",
   "metadata": {
    "papermill": {
     "duration": 0.045125,
     "end_time": "2020-12-01T13:40:32.156592",
     "exception": false,
     "start_time": "2020-12-01T13:40:32.111467",
     "status": "completed"
    },
    "tags": []
   },
   "source": [
    "Now that we have transformed it, we can add our initial lead with our new tree with a learning rate.\n",
    "\n",
    "![](https://blog.paperspace.com/content/images/2019/11/image-14.png)"
   ]
  },
  {
   "cell_type": "code",
   "execution_count": 19,
   "metadata": {
    "execution": {
     "iopub.execute_input": "2020-12-01T13:40:32.253769Z",
     "iopub.status.busy": "2020-12-01T13:40:32.252713Z",
     "iopub.status.idle": "2020-12-01T13:40:32.258311Z",
     "shell.execute_reply": "2020-12-01T13:40:32.257529Z"
    },
    "papermill": {
     "duration": 0.058647,
     "end_time": "2020-12-01T13:40:32.258443",
     "exception": false,
     "start_time": "2020-12-01T13:40:32.199796",
     "status": "completed"
    },
    "tags": []
   },
   "outputs": [
    {
     "data": {
      "text/plain": [
       "array([ 1.86666667,  0.06666667,  0.06666667, -1.73333333,  1.86666667,\n",
       "        1.86666667])"
      ]
     },
     "execution_count": 19,
     "metadata": {},
     "output_type": "execute_result"
    }
   ],
   "source": [
    "# usually learning rate will be 0.1\n",
    "lr = 0.8\n",
    "log_of_odds_prediction = y_hat + 0.8 * reg_pred_tree1\n",
    "log_of_odds_prediction"
   ]
  },
  {
   "cell_type": "markdown",
   "metadata": {
    "papermill": {
     "duration": 0.041834,
     "end_time": "2020-12-01T13:40:32.339878",
     "exception": false,
     "start_time": "2020-12-01T13:40:32.298044",
     "status": "completed"
    },
    "tags": []
   },
   "source": [
    "### Convert to Probability"
   ]
  },
  {
   "cell_type": "code",
   "execution_count": 20,
   "metadata": {
    "execution": {
     "iopub.execute_input": "2020-12-01T13:40:32.429194Z",
     "iopub.status.busy": "2020-12-01T13:40:32.428197Z",
     "iopub.status.idle": "2020-12-01T13:40:32.431652Z",
     "shell.execute_reply": "2020-12-01T13:40:32.431003Z"
    },
    "papermill": {
     "duration": 0.049413,
     "end_time": "2020-12-01T13:40:32.431777",
     "exception": false,
     "start_time": "2020-12-01T13:40:32.382364",
     "status": "completed"
    },
    "tags": []
   },
   "outputs": [],
   "source": [
    "def prob(pred):\n",
    "    return np.exp(pred)/ (1+ np.exp(pred))"
   ]
  },
  {
   "cell_type": "code",
   "execution_count": 21,
   "metadata": {
    "execution": {
     "iopub.execute_input": "2020-12-01T13:40:32.518505Z",
     "iopub.status.busy": "2020-12-01T13:40:32.517366Z",
     "iopub.status.idle": "2020-12-01T13:40:32.522344Z",
     "shell.execute_reply": "2020-12-01T13:40:32.521566Z"
    },
    "papermill": {
     "duration": 0.049879,
     "end_time": "2020-12-01T13:40:32.522471",
     "exception": false,
     "start_time": "2020-12-01T13:40:32.472592",
     "status": "completed"
    },
    "tags": []
   },
   "outputs": [
    {
     "data": {
      "text/plain": [
       "0.8581489350995122"
      ]
     },
     "execution_count": 21,
     "metadata": {},
     "output_type": "execute_result"
    }
   ],
   "source": [
    "prob(1.8)"
   ]
  },
  {
   "cell_type": "code",
   "execution_count": 22,
   "metadata": {
    "execution": {
     "iopub.execute_input": "2020-12-01T13:40:32.614166Z",
     "iopub.status.busy": "2020-12-01T13:40:32.613164Z",
     "iopub.status.idle": "2020-12-01T13:40:32.616365Z",
     "shell.execute_reply": "2020-12-01T13:40:32.615727Z"
    },
    "papermill": {
     "duration": 0.0512,
     "end_time": "2020-12-01T13:40:32.616488",
     "exception": false,
     "start_time": "2020-12-01T13:40:32.565288",
     "status": "completed"
    },
    "tags": []
   },
   "outputs": [],
   "source": [
    "vectorized_func = np.vectorize(prob)"
   ]
  },
  {
   "cell_type": "code",
   "execution_count": 23,
   "metadata": {
    "execution": {
     "iopub.execute_input": "2020-12-01T13:40:32.705105Z",
     "iopub.status.busy": "2020-12-01T13:40:32.703903Z",
     "iopub.status.idle": "2020-12-01T13:40:32.708549Z",
     "shell.execute_reply": "2020-12-01T13:40:32.707862Z"
    },
    "papermill": {
     "duration": 0.050895,
     "end_time": "2020-12-01T13:40:32.708670",
     "exception": false,
     "start_time": "2020-12-01T13:40:32.657775",
     "status": "completed"
    },
    "tags": []
   },
   "outputs": [
    {
     "data": {
      "text/plain": [
       "array([0.86607211, 0.5166605 , 0.5166605 , 0.15016171, 0.86607211,\n",
       "       0.86607211])"
      ]
     },
     "execution_count": 23,
     "metadata": {},
     "output_type": "execute_result"
    }
   ],
   "source": [
    "after_tree1 = vectorized_func(log_of_odds_prediction)\n",
    "after_tree1"
   ]
  },
  {
   "cell_type": "code",
   "execution_count": 24,
   "metadata": {
    "execution": {
     "iopub.execute_input": "2020-12-01T13:40:32.804567Z",
     "iopub.status.busy": "2020-12-01T13:40:32.803551Z",
     "iopub.status.idle": "2020-12-01T13:40:32.806619Z",
     "shell.execute_reply": "2020-12-01T13:40:32.805863Z"
    },
    "papermill": {
     "duration": 0.050425,
     "end_time": "2020-12-01T13:40:32.806743",
     "exception": false,
     "start_time": "2020-12-01T13:40:32.756318",
     "status": "completed"
    },
    "tags": []
   },
   "outputs": [],
   "source": [
    "df['pred_prob'] = after_tree1"
   ]
  },
  {
   "cell_type": "code",
   "execution_count": 25,
   "metadata": {
    "execution": {
     "iopub.execute_input": "2020-12-01T13:40:32.905894Z",
     "iopub.status.busy": "2020-12-01T13:40:32.901547Z",
     "iopub.status.idle": "2020-12-01T13:40:32.911434Z",
     "shell.execute_reply": "2020-12-01T13:40:32.910755Z"
    },
    "papermill": {
     "duration": 0.063076,
     "end_time": "2020-12-01T13:40:32.911569",
     "exception": false,
     "start_time": "2020-12-01T13:40:32.848493",
     "status": "completed"
    },
    "tags": []
   },
   "outputs": [
    {
     "data": {
      "text/html": [
       "<div>\n",
       "<style scoped>\n",
       "    .dataframe tbody tr th:only-of-type {\n",
       "        vertical-align: middle;\n",
       "    }\n",
       "\n",
       "    .dataframe tbody tr th {\n",
       "        vertical-align: top;\n",
       "    }\n",
       "\n",
       "    .dataframe thead th {\n",
       "        text-align: right;\n",
       "    }\n",
       "</style>\n",
       "<table border=\"1\" class=\"dataframe\">\n",
       "  <thead>\n",
       "    <tr style=\"text-align: right;\">\n",
       "      <th></th>\n",
       "      <th>popcorn</th>\n",
       "      <th>age</th>\n",
       "      <th>color</th>\n",
       "      <th>op</th>\n",
       "      <th>initial_pred</th>\n",
       "      <th>pred_prob</th>\n",
       "    </tr>\n",
       "  </thead>\n",
       "  <tbody>\n",
       "    <tr>\n",
       "      <th>0</th>\n",
       "      <td>1</td>\n",
       "      <td>12</td>\n",
       "      <td>0</td>\n",
       "      <td>1</td>\n",
       "      <td>0.666667</td>\n",
       "      <td>0.866072</td>\n",
       "    </tr>\n",
       "    <tr>\n",
       "      <th>1</th>\n",
       "      <td>1</td>\n",
       "      <td>87</td>\n",
       "      <td>1</td>\n",
       "      <td>1</td>\n",
       "      <td>0.666667</td>\n",
       "      <td>0.516660</td>\n",
       "    </tr>\n",
       "    <tr>\n",
       "      <th>2</th>\n",
       "      <td>0</td>\n",
       "      <td>44</td>\n",
       "      <td>0</td>\n",
       "      <td>0</td>\n",
       "      <td>0.666667</td>\n",
       "      <td>0.516660</td>\n",
       "    </tr>\n",
       "    <tr>\n",
       "      <th>3</th>\n",
       "      <td>1</td>\n",
       "      <td>19</td>\n",
       "      <td>2</td>\n",
       "      <td>0</td>\n",
       "      <td>0.666667</td>\n",
       "      <td>0.150162</td>\n",
       "    </tr>\n",
       "    <tr>\n",
       "      <th>4</th>\n",
       "      <td>0</td>\n",
       "      <td>32</td>\n",
       "      <td>1</td>\n",
       "      <td>1</td>\n",
       "      <td>0.666667</td>\n",
       "      <td>0.866072</td>\n",
       "    </tr>\n",
       "    <tr>\n",
       "      <th>5</th>\n",
       "      <td>0</td>\n",
       "      <td>14</td>\n",
       "      <td>0</td>\n",
       "      <td>1</td>\n",
       "      <td>0.666667</td>\n",
       "      <td>0.866072</td>\n",
       "    </tr>\n",
       "  </tbody>\n",
       "</table>\n",
       "</div>"
      ],
      "text/plain": [
       "   popcorn  age  color  op  initial_pred  pred_prob\n",
       "0        1   12      0   1      0.666667   0.866072\n",
       "1        1   87      1   1      0.666667   0.516660\n",
       "2        0   44      0   0      0.666667   0.516660\n",
       "3        1   19      2   0      0.666667   0.150162\n",
       "4        0   32      1   1      0.666667   0.866072\n",
       "5        0   14      0   1      0.666667   0.866072"
      ]
     },
     "execution_count": 25,
     "metadata": {},
     "output_type": "execute_result"
    }
   ],
   "source": [
    "df"
   ]
  },
  {
   "cell_type": "markdown",
   "metadata": {
    "papermill": {
     "duration": 0.042255,
     "end_time": "2020-12-01T13:40:32.999182",
     "exception": false,
     "start_time": "2020-12-01T13:40:32.956927",
     "status": "completed"
    },
    "tags": []
   },
   "source": [
    "There is an improvement in the prediction."
   ]
  },
  {
   "cell_type": "code",
   "execution_count": 26,
   "metadata": {
    "execution": {
     "iopub.execute_input": "2020-12-01T13:40:33.100787Z",
     "iopub.status.busy": "2020-12-01T13:40:33.099920Z",
     "iopub.status.idle": "2020-12-01T13:40:33.103195Z",
     "shell.execute_reply": "2020-12-01T13:40:33.102584Z"
    },
    "papermill": {
     "duration": 0.059373,
     "end_time": "2020-12-01T13:40:33.103323",
     "exception": false,
     "start_time": "2020-12-01T13:40:33.043950",
     "status": "completed"
    },
    "tags": []
   },
   "outputs": [],
   "source": [
    "def gradient_boost_classification(X,y,M, lr):\n",
    "    log_of_odds = np.log(y.value_counts()[1]/ y.value_counts()[0])\n",
    "    probability = np.exp(log_of_odds)/(1+np.exp(log_of_odds))\n",
    "    y_hat = np.array([probability]*len(y))\n",
    "    \n",
    "    for i in range(M):\n",
    "        # calculate residuals\n",
    "        residuals = y - y_hat\n",
    "        # fit the tree for residuals\n",
    "        regressor = DecisionTreeRegressor(max_depth=2) \n",
    "        regressor.fit(X, residuals)\n",
    "        # Transformation\n",
    "        reg_pred = regressor.predict(X)/(y_hat * (1 - y_hat))\n",
    "        # Add the result to previous tree op\n",
    "        log_of_odds_prediction = y_hat + lr * reg_pred\n",
    "        new_prob = vectorized_func(log_of_odds_prediction)\n",
    "        y_hat = new_prob\n",
    "        \n",
    "    return y_hat\n",
    "\n",
    "\n",
    "    "
   ]
  },
  {
   "cell_type": "code",
   "execution_count": 27,
   "metadata": {
    "execution": {
     "iopub.execute_input": "2020-12-01T13:40:33.215418Z",
     "iopub.status.busy": "2020-12-01T13:40:33.210595Z",
     "iopub.status.idle": "2020-12-01T13:40:33.251703Z",
     "shell.execute_reply": "2020-12-01T13:40:33.250947Z"
    },
    "papermill": {
     "duration": 0.102583,
     "end_time": "2020-12-01T13:40:33.251824",
     "exception": false,
     "start_time": "2020-12-01T13:40:33.149241",
     "status": "completed"
    },
    "tags": []
   },
   "outputs": [
    {
     "data": {
      "text/plain": [
       "array([0.77861356, 0.87302675, 0.25109557, 0.62403678, 0.77861356,\n",
       "       0.77861356])"
      ]
     },
     "execution_count": 27,
     "metadata": {},
     "output_type": "execute_result"
    }
   ],
   "source": [
    "gradient_boost_classification(X, df.op, 10, 0.8)"
   ]
  },
  {
   "cell_type": "code",
   "execution_count": 28,
   "metadata": {
    "execution": {
     "iopub.execute_input": "2020-12-01T13:40:33.365726Z",
     "iopub.status.busy": "2020-12-01T13:40:33.361156Z",
     "iopub.status.idle": "2020-12-01T13:40:33.396582Z",
     "shell.execute_reply": "2020-12-01T13:40:33.395884Z"
    },
    "papermill": {
     "duration": 0.099117,
     "end_time": "2020-12-01T13:40:33.396713",
     "exception": false,
     "start_time": "2020-12-01T13:40:33.297596",
     "status": "completed"
    },
    "tags": []
   },
   "outputs": [
    {
     "data": {
      "text/plain": [
       "array([0.77874274, 0.87315709, 0.2512179 , 0.62423136, 0.77874274,\n",
       "       0.77874274])"
      ]
     },
     "execution_count": 28,
     "metadata": {},
     "output_type": "execute_result"
    }
   ],
   "source": [
    "gradient_boost_classification(X, df.op, 8, 0.8)"
   ]
  },
  {
   "cell_type": "code",
   "execution_count": null,
   "metadata": {
    "papermill": {
     "duration": 0.043329,
     "end_time": "2020-12-01T13:40:33.488598",
     "exception": false,
     "start_time": "2020-12-01T13:40:33.445269",
     "status": "completed"
    },
    "tags": []
   },
   "outputs": [],
   "source": []
  }
 ],
 "metadata": {
  "kernelspec": {
   "display_name": "Python 3",
   "language": "python",
   "name": "python3"
  },
  "language_info": {
   "codemirror_mode": {
    "name": "ipython",
    "version": 3
   },
   "file_extension": ".py",
   "mimetype": "text/x-python",
   "name": "python",
   "nbconvert_exporter": "python",
   "pygments_lexer": "ipython3",
   "version": "3.7.6"
  },
  "papermill": {
   "duration": 12.722874,
   "end_time": "2020-12-01T13:40:33.645689",
   "environment_variables": {},
   "exception": null,
   "input_path": "__notebook__.ipynb",
   "output_path": "__notebook__.ipynb",
   "parameters": {},
   "start_time": "2020-12-01T13:40:20.922815",
   "version": "2.1.0"
  }
 },
 "nbformat": 4,
 "nbformat_minor": 4
}
