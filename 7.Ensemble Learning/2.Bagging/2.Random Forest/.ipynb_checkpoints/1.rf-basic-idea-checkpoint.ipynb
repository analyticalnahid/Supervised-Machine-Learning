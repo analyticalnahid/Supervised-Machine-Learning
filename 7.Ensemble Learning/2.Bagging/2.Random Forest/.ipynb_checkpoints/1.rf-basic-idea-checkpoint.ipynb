{
 "cells": [
  {
   "cell_type": "markdown",
   "metadata": {},
   "source": [
    "## Importing Required Staff"
   ]
  },
  {
   "cell_type": "code",
   "execution_count": 49,
   "metadata": {
    "id": "Pt3njPwTYgw3"
   },
   "outputs": [],
   "source": [
    "import numpy as np\n",
    "import pandas as pd\n",
    "from sklearn.datasets import make_classification\n",
    "import random"
   ]
  },
  {
   "cell_type": "code",
   "execution_count": 12,
   "metadata": {
    "id": "7BsWDgjaYncT"
   },
   "outputs": [],
   "source": [
    "X,y = make_classification(n_features=5, n_redundant=0, n_informative=5,n_clusters_per_class=1)"
   ]
  },
  {
   "cell_type": "code",
   "execution_count": 13,
   "metadata": {
    "colab": {
     "base_uri": "https://localhost:8080/",
     "height": 223
    },
    "collapsed": true,
    "id": "OksCU9vaY5-L",
    "outputId": "803427a6-cedd-49a3-a5be-d92df2cab2a0"
   },
   "outputs": [
    {
     "name": "stdout",
     "output_type": "stream",
     "text": [
      "(100, 6)\n"
     ]
    },
    {
     "data": {
      "text/html": [
       "<div>\n",
       "<style scoped>\n",
       "    .dataframe tbody tr th:only-of-type {\n",
       "        vertical-align: middle;\n",
       "    }\n",
       "\n",
       "    .dataframe tbody tr th {\n",
       "        vertical-align: top;\n",
       "    }\n",
       "\n",
       "    .dataframe thead th {\n",
       "        text-align: right;\n",
       "    }\n",
       "</style>\n",
       "<table border=\"1\" class=\"dataframe\">\n",
       "  <thead>\n",
       "    <tr style=\"text-align: right;\">\n",
       "      <th></th>\n",
       "      <th>col1</th>\n",
       "      <th>col2</th>\n",
       "      <th>col3</th>\n",
       "      <th>col4</th>\n",
       "      <th>col5</th>\n",
       "      <th>target</th>\n",
       "    </tr>\n",
       "  </thead>\n",
       "  <tbody>\n",
       "    <tr>\n",
       "      <th>0</th>\n",
       "      <td>-0.627658</td>\n",
       "      <td>-1.981683</td>\n",
       "      <td>-2.147050</td>\n",
       "      <td>-0.990589</td>\n",
       "      <td>-3.417910</td>\n",
       "      <td>1</td>\n",
       "    </tr>\n",
       "    <tr>\n",
       "      <th>1</th>\n",
       "      <td>-2.248679</td>\n",
       "      <td>0.051828</td>\n",
       "      <td>-2.788473</td>\n",
       "      <td>-0.973830</td>\n",
       "      <td>-2.201723</td>\n",
       "      <td>0</td>\n",
       "    </tr>\n",
       "    <tr>\n",
       "      <th>2</th>\n",
       "      <td>0.969977</td>\n",
       "      <td>-0.715981</td>\n",
       "      <td>-1.730393</td>\n",
       "      <td>0.833808</td>\n",
       "      <td>-0.692632</td>\n",
       "      <td>0</td>\n",
       "    </tr>\n",
       "    <tr>\n",
       "      <th>3</th>\n",
       "      <td>-0.937128</td>\n",
       "      <td>0.159636</td>\n",
       "      <td>-1.569471</td>\n",
       "      <td>0.061983</td>\n",
       "      <td>-2.799210</td>\n",
       "      <td>1</td>\n",
       "    </tr>\n",
       "    <tr>\n",
       "      <th>4</th>\n",
       "      <td>-0.710733</td>\n",
       "      <td>0.213891</td>\n",
       "      <td>-1.506360</td>\n",
       "      <td>3.055996</td>\n",
       "      <td>-0.780466</td>\n",
       "      <td>1</td>\n",
       "    </tr>\n",
       "  </tbody>\n",
       "</table>\n",
       "</div>"
      ],
      "text/plain": [
       "       col1      col2      col3      col4      col5  target\n",
       "0 -0.627658 -1.981683 -2.147050 -0.990589 -3.417910       1\n",
       "1 -2.248679  0.051828 -2.788473 -0.973830 -2.201723       0\n",
       "2  0.969977 -0.715981 -1.730393  0.833808 -0.692632       0\n",
       "3 -0.937128  0.159636 -1.569471  0.061983 -2.799210       1\n",
       "4 -0.710733  0.213891 -1.506360  3.055996 -0.780466       1"
      ]
     },
     "execution_count": 13,
     "metadata": {},
     "output_type": "execute_result"
    }
   ],
   "source": [
    "df = pd.DataFrame(X,columns=['col1','col2','col3','col4','col5'])\n",
    "df['target'] = y\n",
    "print(df.shape)\n",
    "df.head()"
   ]
  },
  {
   "cell_type": "markdown",
   "metadata": {},
   "source": [
    "## Making Function For Sampling"
   ]
  },
  {
   "cell_type": "code",
   "execution_count": 14,
   "metadata": {
    "id": "bmPSHQpAaZZw"
   },
   "outputs": [],
   "source": [
    "# function for row sampling\n",
    "\n",
    "def sample_rows(df,percent):\n",
    "  return df.sample(int(percent*df.shape[0]),replace=True)"
   ]
  },
  {
   "cell_type": "code",
   "execution_count": 50,
   "metadata": {
    "id": "f-ziftsvbJ6j"
   },
   "outputs": [],
   "source": [
    "# function for feature sampling\n",
    "def sample_features(df,percent):\n",
    "  cols = random.sample(df.columns.tolist()[:-1],int(percent*(df.shape[1]-1)))\n",
    "  new_df = df[cols]\n",
    "  new_df['target'] = df['target']\n",
    "  return new_df"
   ]
  },
  {
   "cell_type": "code",
   "execution_count": 16,
   "metadata": {
    "id": "yoPV7Lkc50tL"
   },
   "outputs": [],
   "source": [
    "# function for combined sampling\n",
    "\n",
    "def combined_sampling(df,row_percent,col_percent):\n",
    "  new_df = sample_rows(df,row_percent)\n",
    "  return sample_features(new_df,col_percent)"
   ]
  },
  {
   "cell_type": "markdown",
   "metadata": {},
   "source": [
    "## Row Sampling"
   ]
  },
  {
   "cell_type": "code",
   "execution_count": 27,
   "metadata": {
    "colab": {
     "base_uri": "https://localhost:8080/"
    },
    "id": "tAi9pPs49VsF",
    "outputId": "97589529-cfce-48d2-fb6d-03c3c6dfcf09"
   },
   "outputs": [],
   "source": [
    "df1 = sample_rows(df,0.2)"
   ]
  },
  {
   "cell_type": "code",
   "execution_count": 28,
   "metadata": {
    "colab": {
     "base_uri": "https://localhost:8080/"
    },
    "id": "Xaq3G-P19Vy6",
    "outputId": "8cd80f49-6579-4031-812e-f2199d1afb0b"
   },
   "outputs": [],
   "source": [
    "df2 = sample_rows(df,0.2)"
   ]
  },
  {
   "cell_type": "code",
   "execution_count": 29,
   "metadata": {
    "colab": {
     "base_uri": "https://localhost:8080/"
    },
    "id": "WgPzMsz-9V5z",
    "outputId": "129228a4-037e-4c73-e81a-47ae83ebd218"
   },
   "outputs": [],
   "source": [
    "df3 = sample_rows(df,0.2)"
   ]
  },
  {
   "cell_type": "code",
   "execution_count": 31,
   "metadata": {
    "id": "Ee9eCA0tbdlo"
   },
   "outputs": [],
   "source": [
    "from sklearn.tree import DecisionTreeClassifier\n",
    "clf1 = DecisionTreeClassifier()\n",
    "clf2 = DecisionTreeClassifier()\n",
    "clf3 = DecisionTreeClassifier()"
   ]
  },
  {
   "cell_type": "code",
   "execution_count": 37,
   "metadata": {
    "colab": {
     "base_uri": "https://localhost:8080/"
    },
    "id": "FsbRwvPGbskE",
    "outputId": "ea00a6c2-c5c9-413b-ec38-071670643e3e"
   },
   "outputs": [
    {
     "data": {
      "text/plain": [
       "DecisionTreeClassifier()"
      ]
     },
     "execution_count": 37,
     "metadata": {},
     "output_type": "execute_result"
    }
   ],
   "source": [
    "clf1.fit(df1.iloc[:,0:5],df1.iloc[:,-1])\n",
    "clf2.fit(df2.iloc[:,0:5],df2.iloc[:,-1])\n",
    "clf3.fit(df3.iloc[:,0:5],df3.iloc[:,-1])"
   ]
  },
  {
   "cell_type": "code",
   "execution_count": 38,
   "metadata": {
    "id": "1TgG9KBcb75I"
   },
   "outputs": [],
   "source": [
    "from sklearn.tree import plot_tree"
   ]
  },
  {
   "cell_type": "code",
   "execution_count": 39,
   "metadata": {
    "colab": {
     "base_uri": "https://localhost:8080/",
     "height": 542
    },
    "collapsed": true,
    "id": "ezaWbbKlcDo8",
    "outputId": "eccea661-a3d3-40f6-f6de-2e90ffd2be78"
   },
   "outputs": [
    {
     "data": {
      "text/plain": [
       "[Text(200.88000000000002, 190.26, 'X[3] <= 0.0\\ngini = 0.495\\nsamples = 20\\nvalue = [9, 11]'),\n",
       " Text(133.92000000000002, 135.9, 'X[0] <= -1.011\\ngini = 0.18\\nsamples = 10\\nvalue = [9, 1]'),\n",
       " Text(66.96000000000001, 81.53999999999999, 'gini = 0.0\\nsamples = 8\\nvalue = [8, 0]'),\n",
       " Text(200.88000000000002, 81.53999999999999, 'X[0] <= -0.348\\ngini = 0.5\\nsamples = 2\\nvalue = [1, 1]'),\n",
       " Text(133.92000000000002, 27.180000000000007, 'gini = 0.0\\nsamples = 1\\nvalue = [0, 1]'),\n",
       " Text(267.84000000000003, 27.180000000000007, 'gini = 0.0\\nsamples = 1\\nvalue = [1, 0]'),\n",
       " Text(267.84000000000003, 135.9, 'gini = 0.0\\nsamples = 10\\nvalue = [0, 10]')]"
      ]
     },
     "execution_count": 39,
     "metadata": {},
     "output_type": "execute_result"
    },
    {
     "data": {
      "image/png": "[encoded data removed]",
      "text/plain": [
       "<Figure size 432x288 with 1 Axes>"
      ]
     },
     "metadata": {
      "needs_background": "light"
     },
     "output_type": "display_data"
    }
   ],
   "source": [
    "plot_tree(clf1)"
   ]
  },
  {
   "cell_type": "code",
   "execution_count": 40,
   "metadata": {
    "colab": {
     "base_uri": "https://localhost:8080/",
     "height": 473
    },
    "collapsed": true,
    "id": "hYpTwnxOcFgA",
    "outputId": "1191ef5b-7551-402d-8ccb-593eb90ad126"
   },
   "outputs": [
    {
     "data": {
      "text/plain": [
       "[Text(133.92000000000002, 181.2, 'X[1] <= 0.134\\ngini = 0.48\\nsamples = 20\\nvalue = [8, 12]'),\n",
       " Text(66.96000000000001, 108.72, 'gini = 0.0\\nsamples = 11\\nvalue = [0, 11]'),\n",
       " Text(200.88000000000002, 108.72, 'X[2] <= -0.333\\ngini = 0.198\\nsamples = 9\\nvalue = [8, 1]'),\n",
       " Text(133.92000000000002, 36.23999999999998, 'gini = 0.0\\nsamples = 8\\nvalue = [8, 0]'),\n",
       " Text(267.84000000000003, 36.23999999999998, 'gini = 0.0\\nsamples = 1\\nvalue = [0, 1]')]"
      ]
     },
     "execution_count": 40,
     "metadata": {},
     "output_type": "execute_result"
    },
    {
     "data": {
      "image/png": "[encoded data removed]",
      "text/plain": [
       "<Figure size 432x288 with 1 Axes>"
      ]
     },
     "metadata": {
      "needs_background": "light"
     },
     "output_type": "display_data"
    }
   ],
   "source": [
    "plot_tree(clf2)"
   ]
  },
  {
   "cell_type": "code",
   "execution_count": 41,
   "metadata": {
    "colab": {
     "base_uri": "https://localhost:8080/",
     "height": 438
    },
    "collapsed": true,
    "id": "hoW0vMXScRMk",
    "outputId": "2e9d4596-08e9-46dc-c440-1584ebd9f95a"
   },
   "outputs": [
    {
     "data": {
      "text/plain": [
       "[Text(200.88000000000002, 190.26, 'X[3] <= 0.845\\ngini = 0.495\\nsamples = 20\\nvalue = [11, 9]'),\n",
       " Text(133.92000000000002, 135.9, 'X[2] <= -0.136\\ngini = 0.26\\nsamples = 13\\nvalue = [11, 2]'),\n",
       " Text(66.96000000000001, 81.53999999999999, 'gini = 0.0\\nsamples = 10\\nvalue = [10, 0]'),\n",
       " Text(200.88000000000002, 81.53999999999999, 'X[0] <= -0.348\\ngini = 0.444\\nsamples = 3\\nvalue = [1, 2]'),\n",
       " Text(133.92000000000002, 27.180000000000007, 'gini = 0.0\\nsamples = 2\\nvalue = [0, 2]'),\n",
       " Text(267.84000000000003, 27.180000000000007, 'gini = 0.0\\nsamples = 1\\nvalue = [1, 0]'),\n",
       " Text(267.84000000000003, 135.9, 'gini = 0.0\\nsamples = 7\\nvalue = [0, 7]')]"
      ]
     },
     "execution_count": 41,
     "metadata": {},
     "output_type": "execute_result"
    },
    {
     "data": {
      "image/png": "[encoded data removed]",
      "text/plain": [
       "<Figure size 432x288 with 1 Axes>"
      ]
     },
     "metadata": {
      "needs_background": "light"
     },
     "output_type": "display_data"
    }
   ],
   "source": [
    "plot_tree(clf3)"
   ]
  },
  {
   "cell_type": "code",
   "execution_count": 43,
   "metadata": {
    "colab": {
     "base_uri": "https://localhost:8080/"
    },
    "id": "I6TF3rdncVt0",
    "outputId": "c55af97d-a9fd-4f7d-c740-101551f4fc3d"
   },
   "outputs": [
    {
     "data": {
      "text/plain": [
       "array([1])"
      ]
     },
     "execution_count": 43,
     "metadata": {},
     "output_type": "execute_result"
    }
   ],
   "source": [
    "clf1.predict(np.array([-0.627658, -1.981683, -2.147050, -0.990589, -3.417910]).reshape(1,5))"
   ]
  },
  {
   "cell_type": "code",
   "execution_count": 44,
   "metadata": {
    "colab": {
     "base_uri": "https://localhost:8080/"
    },
    "id": "VM7HvDCqiMo0",
    "outputId": "26db8422-8897-48fa-dff6-cf21e9aef41b"
   },
   "outputs": [
    {
     "data": {
      "text/plain": [
       "array([1])"
      ]
     },
     "execution_count": 44,
     "metadata": {},
     "output_type": "execute_result"
    }
   ],
   "source": [
    "clf2.predict(np.array([-0.627658, -1.981683, -2.147050, -0.990589, -3.417910]).reshape(1,5))"
   ]
  },
  {
   "cell_type": "code",
   "execution_count": 45,
   "metadata": {
    "colab": {
     "base_uri": "https://localhost:8080/"
    },
    "id": "ppIM05J2iTYg",
    "outputId": "7b181b3f-3ab5-46bc-da57-28b3be2402f0"
   },
   "outputs": [
    {
     "data": {
      "text/plain": [
       "array([0])"
      ]
     },
     "execution_count": 45,
     "metadata": {},
     "output_type": "execute_result"
    }
   ],
   "source": [
    "clf3.predict(np.array([-0.627658, -1.981683, -2.147050, -0.990589, -3.417910]).reshape(1,5))"
   ]
  },
  {
   "cell_type": "markdown",
   "metadata": {},
   "source": [
    "## Column Sampling"
   ]
  },
  {
   "cell_type": "code",
   "execution_count": 54,
   "metadata": {
    "colab": {
     "base_uri": "https://localhost:8080/",
     "height": 465
    },
    "collapsed": true,
    "id": "nIrui56hiU7X",
    "outputId": "64d6f3ff-47dd-43ea-b57f-d94bf14cec1e"
   },
   "outputs": [
    {
     "name": "stderr",
     "output_type": "stream",
     "text": [
      "C:\\Users\\STREAM~1\\AppData\\Local\\Temp/ipykernel_10744/3275485051.py:5: SettingWithCopyWarning: \n",
      "A value is trying to be set on a copy of a slice from a DataFrame.\n",
      "Try using .loc[row_indexer,col_indexer] = value instead\n",
      "\n",
      "See the caveats in the documentation: https://pandas.pydata.org/pandas-docs/stable/user_guide/indexing.html#returning-a-view-versus-a-copy\n",
      "  new_df['target'] = df['target']\n"
     ]
    }
   ],
   "source": [
    "df1 = sample_features(df,0.8)"
   ]
  },
  {
   "cell_type": "code",
   "execution_count": 55,
   "metadata": {
    "collapsed": true,
    "id": "LCVUEl5okDtB"
   },
   "outputs": [
    {
     "name": "stderr",
     "output_type": "stream",
     "text": [
      "C:\\Users\\STREAM~1\\AppData\\Local\\Temp/ipykernel_10744/3275485051.py:5: SettingWithCopyWarning: \n",
      "A value is trying to be set on a copy of a slice from a DataFrame.\n",
      "Try using .loc[row_indexer,col_indexer] = value instead\n",
      "\n",
      "See the caveats in the documentation: https://pandas.pydata.org/pandas-docs/stable/user_guide/indexing.html#returning-a-view-versus-a-copy\n",
      "  new_df['target'] = df['target']\n"
     ]
    }
   ],
   "source": [
    "df1 = sample_features(df,0.8)"
   ]
  },
  {
   "cell_type": "code",
   "execution_count": 56,
   "metadata": {
    "collapsed": true
   },
   "outputs": [
    {
     "name": "stderr",
     "output_type": "stream",
     "text": [
      "C:\\Users\\STREAM~1\\AppData\\Local\\Temp/ipykernel_10744/3275485051.py:5: SettingWithCopyWarning: \n",
      "A value is trying to be set on a copy of a slice from a DataFrame.\n",
      "Try using .loc[row_indexer,col_indexer] = value instead\n",
      "\n",
      "See the caveats in the documentation: https://pandas.pydata.org/pandas-docs/stable/user_guide/indexing.html#returning-a-view-versus-a-copy\n",
      "  new_df['target'] = df['target']\n"
     ]
    }
   ],
   "source": [
    "df1 = sample_features(df,0.8)"
   ]
  },
  {
   "cell_type": "code",
   "execution_count": 57,
   "metadata": {},
   "outputs": [
    {
     "data": {
      "text/plain": [
       "DecisionTreeClassifier()"
      ]
     },
     "execution_count": 57,
     "metadata": {},
     "output_type": "execute_result"
    }
   ],
   "source": [
    "clf1.fit(df1.iloc[:,0:4],df1.iloc[:,-1])\n",
    "clf2.fit(df2.iloc[:,0:4],df2.iloc[:,-1])\n",
    "clf3.fit(df3.iloc[:,0:4],df3.iloc[:,-1])"
   ]
  },
  {
   "cell_type": "code",
   "execution_count": 58,
   "metadata": {},
   "outputs": [],
   "source": [
    "from sklearn.tree import plot_tree"
   ]
  },
  {
   "cell_type": "code",
   "execution_count": 59,
   "metadata": {
    "collapsed": true
   },
   "outputs": [
    {
     "data": {
      "text/plain": [
       "[Text(163.21500000000003, 203.85, 'X[2] <= -0.433\\ngini = 0.5\\nsamples = 100\\nvalue = [50, 50]'),\n",
       " Text(66.96000000000001, 176.67000000000002, 'X[1] <= -1.81\\ngini = 0.263\\nsamples = 45\\nvalue = [7, 38]'),\n",
       " Text(33.480000000000004, 149.49, 'X[2] <= -2.101\\ngini = 0.375\\nsamples = 8\\nvalue = [6, 2]'),\n",
       " Text(16.740000000000002, 122.31, 'gini = 0.0\\nsamples = 1\\nvalue = [0, 1]'),\n",
       " Text(50.220000000000006, 122.31, 'X[0] <= 0.044\\ngini = 0.245\\nsamples = 7\\nvalue = [6, 1]'),\n",
       " Text(33.480000000000004, 95.13, 'gini = 0.0\\nsamples = 6\\nvalue = [6, 0]'),\n",
       " Text(66.96000000000001, 95.13, 'gini = 0.0\\nsamples = 1\\nvalue = [0, 1]'),\n",
       " Text(100.44000000000001, 149.49, 'X[1] <= 0.9\\ngini = 0.053\\nsamples = 37\\nvalue = [1, 36]'),\n",
       " Text(83.70000000000002, 122.31, 'gini = 0.0\\nsamples = 35\\nvalue = [0, 35]'),\n",
       " Text(117.18, 122.31, 'X[1] <= 1.177\\ngini = 0.5\\nsamples = 2\\nvalue = [1, 1]'),\n",
       " Text(100.44000000000001, 95.13, 'gini = 0.0\\nsamples = 1\\nvalue = [1, 0]'),\n",
       " Text(133.92000000000002, 95.13, 'gini = 0.0\\nsamples = 1\\nvalue = [0, 1]'),\n",
       " Text(259.47, 176.67000000000002, 'X[0] <= 0.253\\ngini = 0.341\\nsamples = 55\\nvalue = [43, 12]'),\n",
       " Text(217.62000000000003, 149.49, 'X[2] <= 0.304\\ngini = 0.249\\nsamples = 48\\nvalue = [41, 7]'),\n",
       " Text(184.14000000000001, 122.31, 'X[1] <= -0.298\\ngini = 0.48\\nsamples = 15\\nvalue = [9, 6]'),\n",
       " Text(167.40000000000003, 95.13, 'X[1] <= -0.974\\ngini = 0.496\\nsamples = 11\\nvalue = [5, 6]'),\n",
       " Text(150.66000000000003, 67.94999999999999, 'X[2] <= -0.211\\ngini = 0.408\\nsamples = 7\\nvalue = [5, 2]'),\n",
       " Text(133.92000000000002, 40.77000000000001, 'gini = 0.0\\nsamples = 1\\nvalue = [0, 1]'),\n",
       " Text(167.40000000000003, 40.77000000000001, 'X[2] <= 0.285\\ngini = 0.278\\nsamples = 6\\nvalue = [5, 1]'),\n",
       " Text(150.66000000000003, 13.590000000000003, 'gini = 0.0\\nsamples = 5\\nvalue = [5, 0]'),\n",
       " Text(184.14000000000001, 13.590000000000003, 'gini = 0.0\\nsamples = 1\\nvalue = [0, 1]'),\n",
       " Text(184.14000000000001, 67.94999999999999, 'gini = 0.0\\nsamples = 4\\nvalue = [0, 4]'),\n",
       " Text(200.88000000000002, 95.13, 'gini = 0.0\\nsamples = 4\\nvalue = [4, 0]'),\n",
       " Text(251.10000000000002, 122.31, 'X[1] <= -2.058\\ngini = 0.059\\nsamples = 33\\nvalue = [32, 1]'),\n",
       " Text(234.36, 95.13, 'X[1] <= -2.277\\ngini = 0.278\\nsamples = 6\\nvalue = [5, 1]'),\n",
       " Text(217.62000000000003, 67.94999999999999, 'gini = 0.0\\nsamples = 5\\nvalue = [5, 0]'),\n",
       " Text(251.10000000000002, 67.94999999999999, 'gini = 0.0\\nsamples = 1\\nvalue = [0, 1]'),\n",
       " Text(267.84000000000003, 95.13, 'gini = 0.0\\nsamples = 27\\nvalue = [27, 0]'),\n",
       " Text(301.32000000000005, 149.49, 'X[1] <= -0.572\\ngini = 0.408\\nsamples = 7\\nvalue = [2, 5]'),\n",
       " Text(284.58000000000004, 122.31, 'gini = 0.0\\nsamples = 5\\nvalue = [0, 5]'),\n",
       " Text(318.06000000000006, 122.31, 'gini = 0.0\\nsamples = 2\\nvalue = [2, 0]')]"
      ]
     },
     "execution_count": 59,
     "metadata": {},
     "output_type": "execute_result"
    },
    {
     "data": {
      "image/png": "[encoded data removed]",
      "text/plain": [
       "<Figure size 432x288 with 1 Axes>"
      ]
     },
     "metadata": {
      "needs_background": "light"
     },
     "output_type": "display_data"
    }
   ],
   "source": [
    "plot_tree(clf1)"
   ]
  },
  {
   "cell_type": "code",
   "execution_count": 60,
   "metadata": {
    "collapsed": true
   },
   "outputs": [
    {
     "data": {
      "text/plain": [
       "[Text(133.92000000000002, 181.2, 'X[1] <= 0.134\\ngini = 0.48\\nsamples = 20\\nvalue = [8, 12]'),\n",
       " Text(66.96000000000001, 108.72, 'gini = 0.0\\nsamples = 11\\nvalue = [0, 11]'),\n",
       " Text(200.88000000000002, 108.72, 'X[2] <= -0.333\\ngini = 0.198\\nsamples = 9\\nvalue = [8, 1]'),\n",
       " Text(133.92000000000002, 36.23999999999998, 'gini = 0.0\\nsamples = 8\\nvalue = [8, 0]'),\n",
       " Text(267.84000000000003, 36.23999999999998, 'gini = 0.0\\nsamples = 1\\nvalue = [0, 1]')]"
      ]
     },
     "execution_count": 60,
     "metadata": {},
     "output_type": "execute_result"
    },
    {
     "data": {
      "image/png": "[encoded data removed]",
      "text/plain": [
       "<Figure size 432x288 with 1 Axes>"
      ]
     },
     "metadata": {
      "needs_background": "light"
     },
     "output_type": "display_data"
    }
   ],
   "source": [
    "plot_tree(clf2)"
   ]
  },
  {
   "cell_type": "code",
   "execution_count": 61,
   "metadata": {
    "collapsed": true
   },
   "outputs": [
    {
     "data": {
      "text/plain": [
       "[Text(200.88000000000002, 190.26, 'X[3] <= 0.845\\ngini = 0.495\\nsamples = 20\\nvalue = [11, 9]'),\n",
       " Text(133.92000000000002, 135.9, 'X[2] <= -0.136\\ngini = 0.26\\nsamples = 13\\nvalue = [11, 2]'),\n",
       " Text(66.96000000000001, 81.53999999999999, 'gini = 0.0\\nsamples = 10\\nvalue = [10, 0]'),\n",
       " Text(200.88000000000002, 81.53999999999999, 'X[0] <= -0.348\\ngini = 0.444\\nsamples = 3\\nvalue = [1, 2]'),\n",
       " Text(133.92000000000002, 27.180000000000007, 'gini = 0.0\\nsamples = 2\\nvalue = [0, 2]'),\n",
       " Text(267.84000000000003, 27.180000000000007, 'gini = 0.0\\nsamples = 1\\nvalue = [1, 0]'),\n",
       " Text(267.84000000000003, 135.9, 'gini = 0.0\\nsamples = 7\\nvalue = [0, 7]')]"
      ]
     },
     "execution_count": 61,
     "metadata": {},
     "output_type": "execute_result"
    },
    {
     "data": {
      "image/png": "[encoded data removed]",
      "text/plain": [
       "<Figure size 432x288 with 1 Axes>"
      ]
     },
     "metadata": {
      "needs_background": "light"
     },
     "output_type": "display_data"
    }
   ],
   "source": [
    "plot_tree(clf3)"
   ]
  },
  {
   "cell_type": "code",
   "execution_count": 64,
   "metadata": {},
   "outputs": [
    {
     "data": {
      "text/plain": [
       "array([1])"
      ]
     },
     "execution_count": 64,
     "metadata": {},
     "output_type": "execute_result"
    }
   ],
   "source": [
    "clf1.predict(np.array([-0.627658, -1.981683, -2.147050, -0.990589]).reshape(1,4))"
   ]
  },
  {
   "cell_type": "code",
   "execution_count": 65,
   "metadata": {},
   "outputs": [
    {
     "data": {
      "text/plain": [
       "array([1])"
      ]
     },
     "execution_count": 65,
     "metadata": {},
     "output_type": "execute_result"
    }
   ],
   "source": [
    "clf1.predict(np.array([-0.627658, -1.981683, -2.147050, -0.990589]).reshape(1,4))"
   ]
  },
  {
   "cell_type": "code",
   "execution_count": 66,
   "metadata": {},
   "outputs": [
    {
     "data": {
      "text/plain": [
       "array([1])"
      ]
     },
     "execution_count": 66,
     "metadata": {},
     "output_type": "execute_result"
    }
   ],
   "source": [
    "clf1.predict(np.array([-0.627658, -1.981683, -2.147050, -0.990589]).reshape(1,4))"
   ]
  },
  {
   "cell_type": "markdown",
   "metadata": {},
   "source": [
    "## Combined Sampling"
   ]
  },
  {
   "cell_type": "code",
   "execution_count": 81,
   "metadata": {},
   "outputs": [
    {
     "name": "stderr",
     "output_type": "stream",
     "text": [
      "C:\\Users\\STREAM~1\\AppData\\Local\\Temp/ipykernel_10744/3275485051.py:5: SettingWithCopyWarning: \n",
      "A value is trying to be set on a copy of a slice from a DataFrame.\n",
      "Try using .loc[row_indexer,col_indexer] = value instead\n",
      "\n",
      "See the caveats in the documentation: https://pandas.pydata.org/pandas-docs/stable/user_guide/indexing.html#returning-a-view-versus-a-copy\n",
      "  new_df['target'] = df['target']\n"
     ]
    }
   ],
   "source": [
    "df1 = combined_sampling(df,0.5,0.8)"
   ]
  },
  {
   "cell_type": "code",
   "execution_count": 82,
   "metadata": {},
   "outputs": [
    {
     "name": "stderr",
     "output_type": "stream",
     "text": [
      "C:\\Users\\STREAM~1\\AppData\\Local\\Temp/ipykernel_10744/3275485051.py:5: SettingWithCopyWarning: \n",
      "A value is trying to be set on a copy of a slice from a DataFrame.\n",
      "Try using .loc[row_indexer,col_indexer] = value instead\n",
      "\n",
      "See the caveats in the documentation: https://pandas.pydata.org/pandas-docs/stable/user_guide/indexing.html#returning-a-view-versus-a-copy\n",
      "  new_df['target'] = df['target']\n"
     ]
    }
   ],
   "source": [
    "df2 = combined_sampling(df,0.5,0.8)"
   ]
  },
  {
   "cell_type": "code",
   "execution_count": 83,
   "metadata": {},
   "outputs": [
    {
     "name": "stderr",
     "output_type": "stream",
     "text": [
      "C:\\Users\\STREAM~1\\AppData\\Local\\Temp/ipykernel_10744/3275485051.py:5: SettingWithCopyWarning: \n",
      "A value is trying to be set on a copy of a slice from a DataFrame.\n",
      "Try using .loc[row_indexer,col_indexer] = value instead\n",
      "\n",
      "See the caveats in the documentation: https://pandas.pydata.org/pandas-docs/stable/user_guide/indexing.html#returning-a-view-versus-a-copy\n",
      "  new_df['target'] = df['target']\n"
     ]
    }
   ],
   "source": [
    "df3 = combined_sampling(df,0.5,0.8)"
   ]
  },
  {
   "cell_type": "code",
   "execution_count": 84,
   "metadata": {},
   "outputs": [
    {
     "data": {
      "text/html": [
       "<div>\n",
       "<style scoped>\n",
       "    .dataframe tbody tr th:only-of-type {\n",
       "        vertical-align: middle;\n",
       "    }\n",
       "\n",
       "    .dataframe tbody tr th {\n",
       "        vertical-align: top;\n",
       "    }\n",
       "\n",
       "    .dataframe thead th {\n",
       "        text-align: right;\n",
       "    }\n",
       "</style>\n",
       "<table border=\"1\" class=\"dataframe\">\n",
       "  <thead>\n",
       "    <tr style=\"text-align: right;\">\n",
       "      <th></th>\n",
       "      <th>col2</th>\n",
       "      <th>col4</th>\n",
       "      <th>col1</th>\n",
       "      <th>col3</th>\n",
       "      <th>target</th>\n",
       "    </tr>\n",
       "  </thead>\n",
       "  <tbody>\n",
       "    <tr>\n",
       "      <th>64</th>\n",
       "      <td>0.389262</td>\n",
       "      <td>-0.963307</td>\n",
       "      <td>-1.445821</td>\n",
       "      <td>-0.986347</td>\n",
       "      <td>0</td>\n",
       "    </tr>\n",
       "    <tr>\n",
       "      <th>64</th>\n",
       "      <td>0.389262</td>\n",
       "      <td>-0.963307</td>\n",
       "      <td>-1.445821</td>\n",
       "      <td>-0.986347</td>\n",
       "      <td>0</td>\n",
       "    </tr>\n",
       "    <tr>\n",
       "      <th>82</th>\n",
       "      <td>-0.073764</td>\n",
       "      <td>-0.061116</td>\n",
       "      <td>-1.254412</td>\n",
       "      <td>-0.971569</td>\n",
       "      <td>0</td>\n",
       "    </tr>\n",
       "    <tr>\n",
       "      <th>72</th>\n",
       "      <td>3.360769</td>\n",
       "      <td>-2.352969</td>\n",
       "      <td>0.456015</td>\n",
       "      <td>-2.768014</td>\n",
       "      <td>0</td>\n",
       "    </tr>\n",
       "    <tr>\n",
       "      <th>25</th>\n",
       "      <td>1.616684</td>\n",
       "      <td>-1.564284</td>\n",
       "      <td>-0.236840</td>\n",
       "      <td>0.553098</td>\n",
       "      <td>0</td>\n",
       "    </tr>\n",
       "    <tr>\n",
       "      <th>47</th>\n",
       "      <td>0.172671</td>\n",
       "      <td>0.717052</td>\n",
       "      <td>-1.417035</td>\n",
       "      <td>-3.109151</td>\n",
       "      <td>0</td>\n",
       "    </tr>\n",
       "    <tr>\n",
       "      <th>46</th>\n",
       "      <td>1.633056</td>\n",
       "      <td>-0.038593</td>\n",
       "      <td>0.645090</td>\n",
       "      <td>-0.258079</td>\n",
       "      <td>0</td>\n",
       "    </tr>\n",
       "    <tr>\n",
       "      <th>86</th>\n",
       "      <td>-1.136651</td>\n",
       "      <td>0.130055</td>\n",
       "      <td>-2.578430</td>\n",
       "      <td>1.298596</td>\n",
       "      <td>0</td>\n",
       "    </tr>\n",
       "    <tr>\n",
       "      <th>73</th>\n",
       "      <td>-1.911579</td>\n",
       "      <td>-0.065222</td>\n",
       "      <td>-2.531472</td>\n",
       "      <td>1.174531</td>\n",
       "      <td>0</td>\n",
       "    </tr>\n",
       "    <tr>\n",
       "      <th>36</th>\n",
       "      <td>-1.623996</td>\n",
       "      <td>1.923189</td>\n",
       "      <td>0.320514</td>\n",
       "      <td>-2.513520</td>\n",
       "      <td>1</td>\n",
       "    </tr>\n",
       "    <tr>\n",
       "      <th>71</th>\n",
       "      <td>4.463348</td>\n",
       "      <td>-2.271510</td>\n",
       "      <td>-0.499600</td>\n",
       "      <td>-3.132959</td>\n",
       "      <td>0</td>\n",
       "    </tr>\n",
       "    <tr>\n",
       "      <th>13</th>\n",
       "      <td>-2.793130</td>\n",
       "      <td>2.674634</td>\n",
       "      <td>1.384562</td>\n",
       "      <td>1.957806</td>\n",
       "      <td>1</td>\n",
       "    </tr>\n",
       "    <tr>\n",
       "      <th>86</th>\n",
       "      <td>-1.136651</td>\n",
       "      <td>0.130055</td>\n",
       "      <td>-2.578430</td>\n",
       "      <td>1.298596</td>\n",
       "      <td>0</td>\n",
       "    </tr>\n",
       "    <tr>\n",
       "      <th>39</th>\n",
       "      <td>-2.145563</td>\n",
       "      <td>-0.292554</td>\n",
       "      <td>-0.274704</td>\n",
       "      <td>-0.778017</td>\n",
       "      <td>1</td>\n",
       "    </tr>\n",
       "    <tr>\n",
       "      <th>72</th>\n",
       "      <td>3.360769</td>\n",
       "      <td>-2.352969</td>\n",
       "      <td>0.456015</td>\n",
       "      <td>-2.768014</td>\n",
       "      <td>0</td>\n",
       "    </tr>\n",
       "    <tr>\n",
       "      <th>19</th>\n",
       "      <td>-1.905773</td>\n",
       "      <td>1.977863</td>\n",
       "      <td>-1.364146</td>\n",
       "      <td>-1.240590</td>\n",
       "      <td>1</td>\n",
       "    </tr>\n",
       "    <tr>\n",
       "      <th>72</th>\n",
       "      <td>3.360769</td>\n",
       "      <td>-2.352969</td>\n",
       "      <td>0.456015</td>\n",
       "      <td>-2.768014</td>\n",
       "      <td>0</td>\n",
       "    </tr>\n",
       "    <tr>\n",
       "      <th>46</th>\n",
       "      <td>1.633056</td>\n",
       "      <td>-0.038593</td>\n",
       "      <td>0.645090</td>\n",
       "      <td>-0.258079</td>\n",
       "      <td>0</td>\n",
       "    </tr>\n",
       "    <tr>\n",
       "      <th>32</th>\n",
       "      <td>2.085513</td>\n",
       "      <td>-0.909966</td>\n",
       "      <td>0.709426</td>\n",
       "      <td>1.362426</td>\n",
       "      <td>0</td>\n",
       "    </tr>\n",
       "    <tr>\n",
       "      <th>0</th>\n",
       "      <td>-1.981683</td>\n",
       "      <td>-0.990589</td>\n",
       "      <td>-0.627658</td>\n",
       "      <td>-2.147050</td>\n",
       "      <td>1</td>\n",
       "    </tr>\n",
       "    <tr>\n",
       "      <th>48</th>\n",
       "      <td>-2.617589</td>\n",
       "      <td>2.933217</td>\n",
       "      <td>0.634775</td>\n",
       "      <td>-1.319888</td>\n",
       "      <td>1</td>\n",
       "    </tr>\n",
       "    <tr>\n",
       "      <th>28</th>\n",
       "      <td>2.074760</td>\n",
       "      <td>-1.281011</td>\n",
       "      <td>-0.570078</td>\n",
       "      <td>-1.852183</td>\n",
       "      <td>0</td>\n",
       "    </tr>\n",
       "    <tr>\n",
       "      <th>50</th>\n",
       "      <td>-0.504142</td>\n",
       "      <td>0.873576</td>\n",
       "      <td>-1.016587</td>\n",
       "      <td>-0.259507</td>\n",
       "      <td>1</td>\n",
       "    </tr>\n",
       "    <tr>\n",
       "      <th>53</th>\n",
       "      <td>-0.602745</td>\n",
       "      <td>0.489994</td>\n",
       "      <td>-2.304964</td>\n",
       "      <td>-1.575323</td>\n",
       "      <td>1</td>\n",
       "    </tr>\n",
       "    <tr>\n",
       "      <th>34</th>\n",
       "      <td>-0.100325</td>\n",
       "      <td>0.374613</td>\n",
       "      <td>-0.668568</td>\n",
       "      <td>-0.927743</td>\n",
       "      <td>1</td>\n",
       "    </tr>\n",
       "    <tr>\n",
       "      <th>80</th>\n",
       "      <td>-1.839774</td>\n",
       "      <td>0.682800</td>\n",
       "      <td>-0.472022</td>\n",
       "      <td>-3.305309</td>\n",
       "      <td>1</td>\n",
       "    </tr>\n",
       "    <tr>\n",
       "      <th>71</th>\n",
       "      <td>4.463348</td>\n",
       "      <td>-2.271510</td>\n",
       "      <td>-0.499600</td>\n",
       "      <td>-3.132959</td>\n",
       "      <td>0</td>\n",
       "    </tr>\n",
       "    <tr>\n",
       "      <th>81</th>\n",
       "      <td>1.333658</td>\n",
       "      <td>0.155313</td>\n",
       "      <td>-0.043556</td>\n",
       "      <td>-1.272156</td>\n",
       "      <td>0</td>\n",
       "    </tr>\n",
       "    <tr>\n",
       "      <th>16</th>\n",
       "      <td>0.660671</td>\n",
       "      <td>-0.794104</td>\n",
       "      <td>0.454077</td>\n",
       "      <td>-0.298724</td>\n",
       "      <td>0</td>\n",
       "    </tr>\n",
       "    <tr>\n",
       "      <th>4</th>\n",
       "      <td>0.213891</td>\n",
       "      <td>3.055996</td>\n",
       "      <td>-0.710733</td>\n",
       "      <td>-1.506360</td>\n",
       "      <td>1</td>\n",
       "    </tr>\n",
       "    <tr>\n",
       "      <th>27</th>\n",
       "      <td>-2.782829</td>\n",
       "      <td>-0.115633</td>\n",
       "      <td>-1.205373</td>\n",
       "      <td>-1.049184</td>\n",
       "      <td>1</td>\n",
       "    </tr>\n",
       "    <tr>\n",
       "      <th>57</th>\n",
       "      <td>-1.561262</td>\n",
       "      <td>1.696718</td>\n",
       "      <td>-0.326458</td>\n",
       "      <td>-1.414252</td>\n",
       "      <td>1</td>\n",
       "    </tr>\n",
       "    <tr>\n",
       "      <th>7</th>\n",
       "      <td>-0.814984</td>\n",
       "      <td>-2.424038</td>\n",
       "      <td>0.069691</td>\n",
       "      <td>0.342630</td>\n",
       "      <td>1</td>\n",
       "    </tr>\n",
       "    <tr>\n",
       "      <th>14</th>\n",
       "      <td>-1.024748</td>\n",
       "      <td>0.042870</td>\n",
       "      <td>-1.761052</td>\n",
       "      <td>-0.259679</td>\n",
       "      <td>1</td>\n",
       "    </tr>\n",
       "    <tr>\n",
       "      <th>22</th>\n",
       "      <td>-0.400959</td>\n",
       "      <td>-1.533747</td>\n",
       "      <td>0.071960</td>\n",
       "      <td>0.839396</td>\n",
       "      <td>0</td>\n",
       "    </tr>\n",
       "    <tr>\n",
       "      <th>99</th>\n",
       "      <td>-0.464267</td>\n",
       "      <td>3.738292</td>\n",
       "      <td>-1.492386</td>\n",
       "      <td>-4.109767</td>\n",
       "      <td>1</td>\n",
       "    </tr>\n",
       "    <tr>\n",
       "      <th>31</th>\n",
       "      <td>3.051130</td>\n",
       "      <td>-2.916924</td>\n",
       "      <td>-1.847152</td>\n",
       "      <td>-0.670569</td>\n",
       "      <td>0</td>\n",
       "    </tr>\n",
       "    <tr>\n",
       "      <th>1</th>\n",
       "      <td>0.051828</td>\n",
       "      <td>-0.973830</td>\n",
       "      <td>-2.248679</td>\n",
       "      <td>-2.788473</td>\n",
       "      <td>0</td>\n",
       "    </tr>\n",
       "    <tr>\n",
       "      <th>87</th>\n",
       "      <td>0.705349</td>\n",
       "      <td>-1.846877</td>\n",
       "      <td>-3.255026</td>\n",
       "      <td>0.859689</td>\n",
       "      <td>0</td>\n",
       "    </tr>\n",
       "    <tr>\n",
       "      <th>59</th>\n",
       "      <td>-2.186153</td>\n",
       "      <td>-1.263837</td>\n",
       "      <td>-0.099999</td>\n",
       "      <td>-0.062201</td>\n",
       "      <td>1</td>\n",
       "    </tr>\n",
       "    <tr>\n",
       "      <th>57</th>\n",
       "      <td>-1.561262</td>\n",
       "      <td>1.696718</td>\n",
       "      <td>-0.326458</td>\n",
       "      <td>-1.414252</td>\n",
       "      <td>1</td>\n",
       "    </tr>\n",
       "    <tr>\n",
       "      <th>20</th>\n",
       "      <td>1.554983</td>\n",
       "      <td>-1.871023</td>\n",
       "      <td>-1.270762</td>\n",
       "      <td>-2.260676</td>\n",
       "      <td>0</td>\n",
       "    </tr>\n",
       "    <tr>\n",
       "      <th>49</th>\n",
       "      <td>-0.868306</td>\n",
       "      <td>-0.537863</td>\n",
       "      <td>-2.177180</td>\n",
       "      <td>-0.655414</td>\n",
       "      <td>0</td>\n",
       "    </tr>\n",
       "    <tr>\n",
       "      <th>63</th>\n",
       "      <td>-0.541903</td>\n",
       "      <td>-0.790404</td>\n",
       "      <td>-1.892953</td>\n",
       "      <td>0.919684</td>\n",
       "      <td>0</td>\n",
       "    </tr>\n",
       "    <tr>\n",
       "      <th>87</th>\n",
       "      <td>0.705349</td>\n",
       "      <td>-1.846877</td>\n",
       "      <td>-3.255026</td>\n",
       "      <td>0.859689</td>\n",
       "      <td>0</td>\n",
       "    </tr>\n",
       "    <tr>\n",
       "      <th>4</th>\n",
       "      <td>0.213891</td>\n",
       "      <td>3.055996</td>\n",
       "      <td>-0.710733</td>\n",
       "      <td>-1.506360</td>\n",
       "      <td>1</td>\n",
       "    </tr>\n",
       "    <tr>\n",
       "      <th>1</th>\n",
       "      <td>0.051828</td>\n",
       "      <td>-0.973830</td>\n",
       "      <td>-2.248679</td>\n",
       "      <td>-2.788473</td>\n",
       "      <td>0</td>\n",
       "    </tr>\n",
       "    <tr>\n",
       "      <th>95</th>\n",
       "      <td>0.298631</td>\n",
       "      <td>-0.495535</td>\n",
       "      <td>-2.184656</td>\n",
       "      <td>0.062567</td>\n",
       "      <td>1</td>\n",
       "    </tr>\n",
       "    <tr>\n",
       "      <th>76</th>\n",
       "      <td>-2.170347</td>\n",
       "      <td>2.267342</td>\n",
       "      <td>0.122551</td>\n",
       "      <td>-0.990510</td>\n",
       "      <td>1</td>\n",
       "    </tr>\n",
       "    <tr>\n",
       "      <th>46</th>\n",
       "      <td>1.633056</td>\n",
       "      <td>-0.038593</td>\n",
       "      <td>0.645090</td>\n",
       "      <td>-0.258079</td>\n",
       "      <td>0</td>\n",
       "    </tr>\n",
       "  </tbody>\n",
       "</table>\n",
       "</div>"
      ],
      "text/plain": [
       "        col2      col4      col1      col3  target\n",
       "64  0.389262 -0.963307 -1.445821 -0.986347       0\n",
       "64  0.389262 -0.963307 -1.445821 -0.986347       0\n",
       "82 -0.073764 -0.061116 -1.254412 -0.971569       0\n",
       "72  3.360769 -2.352969  0.456015 -2.768014       0\n",
       "25  1.616684 -1.564284 -0.236840  0.553098       0\n",
       "47  0.172671  0.717052 -1.417035 -3.109151       0\n",
       "46  1.633056 -0.038593  0.645090 -0.258079       0\n",
       "86 -1.136651  0.130055 -2.578430  1.298596       0\n",
       "73 -1.911579 -0.065222 -2.531472  1.174531       0\n",
       "36 -1.623996  1.923189  0.320514 -2.513520       1\n",
       "71  4.463348 -2.271510 -0.499600 -3.132959       0\n",
       "13 -2.793130  2.674634  1.384562  1.957806       1\n",
       "86 -1.136651  0.130055 -2.578430  1.298596       0\n",
       "39 -2.145563 -0.292554 -0.274704 -0.778017       1\n",
       "72  3.360769 -2.352969  0.456015 -2.768014       0\n",
       "19 -1.905773  1.977863 -1.364146 -1.240590       1\n",
       "72  3.360769 -2.352969  0.456015 -2.768014       0\n",
       "46  1.633056 -0.038593  0.645090 -0.258079       0\n",
       "32  2.085513 -0.909966  0.709426  1.362426       0\n",
       "0  -1.981683 -0.990589 -0.627658 -2.147050       1\n",
       "48 -2.617589  2.933217  0.634775 -1.319888       1\n",
       "28  2.074760 -1.281011 -0.570078 -1.852183       0\n",
       "50 -0.504142  0.873576 -1.016587 -0.259507       1\n",
       "53 -0.602745  0.489994 -2.304964 -1.575323       1\n",
       "34 -0.100325  0.374613 -0.668568 -0.927743       1\n",
       "80 -1.839774  0.682800 -0.472022 -3.305309       1\n",
       "71  4.463348 -2.271510 -0.499600 -3.132959       0\n",
       "81  1.333658  0.155313 -0.043556 -1.272156       0\n",
       "16  0.660671 -0.794104  0.454077 -0.298724       0\n",
       "4   0.213891  3.055996 -0.710733 -1.506360       1\n",
       "27 -2.782829 -0.115633 -1.205373 -1.049184       1\n",
       "57 -1.561262  1.696718 -0.326458 -1.414252       1\n",
       "7  -0.814984 -2.424038  0.069691  0.342630       1\n",
       "14 -1.024748  0.042870 -1.761052 -0.259679       1\n",
       "22 -0.400959 -1.533747  0.071960  0.839396       0\n",
       "99 -0.464267  3.738292 -1.492386 -4.109767       1\n",
       "31  3.051130 -2.916924 -1.847152 -0.670569       0\n",
       "1   0.051828 -0.973830 -2.248679 -2.788473       0\n",
       "87  0.705349 -1.846877 -3.255026  0.859689       0\n",
       "59 -2.186153 -1.263837 -0.099999 -0.062201       1\n",
       "57 -1.561262  1.696718 -0.326458 -1.414252       1\n",
       "20  1.554983 -1.871023 -1.270762 -2.260676       0\n",
       "49 -0.868306 -0.537863 -2.177180 -0.655414       0\n",
       "63 -0.541903 -0.790404 -1.892953  0.919684       0\n",
       "87  0.705349 -1.846877 -3.255026  0.859689       0\n",
       "4   0.213891  3.055996 -0.710733 -1.506360       1\n",
       "1   0.051828 -0.973830 -2.248679 -2.788473       0\n",
       "95  0.298631 -0.495535 -2.184656  0.062567       1\n",
       "76 -2.170347  2.267342  0.122551 -0.990510       1\n",
       "46  1.633056 -0.038593  0.645090 -0.258079       0"
      ]
     },
     "execution_count": 84,
     "metadata": {},
     "output_type": "execute_result"
    }
   ],
   "source": [
    "df3"
   ]
  },
  {
   "cell_type": "code",
   "execution_count": 75,
   "metadata": {},
   "outputs": [
    {
     "data": {
      "text/plain": [
       "DecisionTreeClassifier()"
      ]
     },
     "execution_count": 75,
     "metadata": {},
     "output_type": "execute_result"
    }
   ],
   "source": [
    "clf1.fit(df1.iloc[:,0:4],df1.iloc[:,-1])\n",
    "clf2.fit(df2.iloc[:,0:4],df2.iloc[:,-1])\n",
    "clf3.fit(df3.iloc[:,0:4],df3.iloc[:,-1])"
   ]
  },
  {
   "cell_type": "code",
   "execution_count": 76,
   "metadata": {},
   "outputs": [],
   "source": [
    "from sklearn.tree import plot_tree"
   ]
  },
  {
   "cell_type": "code",
   "execution_count": 77,
   "metadata": {},
   "outputs": [
    {
     "data": {
      "text/plain": [
       "[Text(191.31428571428572, 203.85, 'X[1] <= 0.71\\ngini = 0.487\\nsamples = 50\\nvalue = [21, 29]'),\n",
       " Text(143.4857142857143, 176.67000000000002, 'X[0] <= 0.739\\ngini = 0.361\\nsamples = 38\\nvalue = [9, 29]'),\n",
       " Text(95.65714285714286, 149.49, 'X[0] <= -2.716\\ngini = 0.284\\nsamples = 35\\nvalue = [6, 29]'),\n",
       " Text(47.82857142857143, 122.31, 'gini = 0.0\\nsamples = 2\\nvalue = [2, 0]'),\n",
       " Text(143.4857142857143, 122.31, 'X[1] <= -0.265\\ngini = 0.213\\nsamples = 33\\nvalue = [4, 29]'),\n",
       " Text(95.65714285714286, 95.13, 'gini = 0.0\\nsamples = 20\\nvalue = [0, 20]'),\n",
       " Text(191.31428571428572, 95.13, 'X[1] <= 0.088\\ngini = 0.426\\nsamples = 13\\nvalue = [4, 9]'),\n",
       " Text(143.4857142857143, 67.94999999999999, 'gini = 0.0\\nsamples = 2\\nvalue = [2, 0]'),\n",
       " Text(239.14285714285714, 67.94999999999999, 'X[3] <= -0.818\\ngini = 0.298\\nsamples = 11\\nvalue = [2, 9]'),\n",
       " Text(191.31428571428572, 40.77000000000001, 'X[1] <= 0.274\\ngini = 0.48\\nsamples = 5\\nvalue = [2, 3]'),\n",
       " Text(143.4857142857143, 13.590000000000003, 'gini = 0.0\\nsamples = 3\\nvalue = [0, 3]'),\n",
       " Text(239.14285714285714, 13.590000000000003, 'gini = 0.0\\nsamples = 2\\nvalue = [2, 0]'),\n",
       " Text(286.9714285714286, 40.77000000000001, 'gini = 0.0\\nsamples = 6\\nvalue = [0, 6]'),\n",
       " Text(191.31428571428572, 149.49, 'gini = 0.0\\nsamples = 3\\nvalue = [3, 0]'),\n",
       " Text(239.14285714285714, 176.67000000000002, 'gini = 0.0\\nsamples = 12\\nvalue = [12, 0]')]"
      ]
     },
     "execution_count": 77,
     "metadata": {},
     "output_type": "execute_result"
    },
    {
     "data": {
      "image/png": "[encoded data removed]",
      "text/plain": [
       "<Figure size 432x288 with 1 Axes>"
      ]
     },
     "metadata": {
      "needs_background": "light"
     },
     "output_type": "display_data"
    }
   ],
   "source": [
    "plot_tree(clf1)"
   ]
  },
  {
   "cell_type": "code",
   "execution_count": 78,
   "metadata": {},
   "outputs": [
    {
     "data": {
      "text/plain": [
       "[Text(133.92000000000002, 181.2, 'X[1] <= 0.134\\ngini = 0.48\\nsamples = 20\\nvalue = [8, 12]'),\n",
       " Text(66.96000000000001, 108.72, 'gini = 0.0\\nsamples = 11\\nvalue = [0, 11]'),\n",
       " Text(200.88000000000002, 108.72, 'X[2] <= -0.333\\ngini = 0.198\\nsamples = 9\\nvalue = [8, 1]'),\n",
       " Text(133.92000000000002, 36.23999999999998, 'gini = 0.0\\nsamples = 8\\nvalue = [8, 0]'),\n",
       " Text(267.84000000000003, 36.23999999999998, 'gini = 0.0\\nsamples = 1\\nvalue = [0, 1]')]"
      ]
     },
     "execution_count": 78,
     "metadata": {},
     "output_type": "execute_result"
    },
    {
     "data": {
      "image/png": "[encoded data removed]",
      "text/plain": [
       "<Figure size 432x288 with 1 Axes>"
      ]
     },
     "metadata": {
      "needs_background": "light"
     },
     "output_type": "display_data"
    }
   ],
   "source": [
    "plot_tree(clf2)"
   ]
  },
  {
   "cell_type": "code",
   "execution_count": 79,
   "metadata": {},
   "outputs": [
    {
     "data": {
      "text/plain": [
       "[Text(200.88000000000002, 190.26, 'X[3] <= 0.845\\ngini = 0.495\\nsamples = 20\\nvalue = [11, 9]'),\n",
       " Text(133.92000000000002, 135.9, 'X[2] <= -0.136\\ngini = 0.26\\nsamples = 13\\nvalue = [11, 2]'),\n",
       " Text(66.96000000000001, 81.53999999999999, 'gini = 0.0\\nsamples = 10\\nvalue = [10, 0]'),\n",
       " Text(200.88000000000002, 81.53999999999999, 'X[3] <= -1.042\\ngini = 0.444\\nsamples = 3\\nvalue = [1, 2]'),\n",
       " Text(133.92000000000002, 27.180000000000007, 'gini = 0.0\\nsamples = 1\\nvalue = [1, 0]'),\n",
       " Text(267.84000000000003, 27.180000000000007, 'gini = 0.0\\nsamples = 2\\nvalue = [0, 2]'),\n",
       " Text(267.84000000000003, 135.9, 'gini = 0.0\\nsamples = 7\\nvalue = [0, 7]')]"
      ]
     },
     "execution_count": 79,
     "metadata": {},
     "output_type": "execute_result"
    },
    {
     "data": {
      "image/png": "[encoded data removed]",
      "text/plain": [
       "<Figure size 432x288 with 1 Axes>"
      ]
     },
     "metadata": {
      "needs_background": "light"
     },
     "output_type": "display_data"
    }
   ],
   "source": [
    "plot_tree(clf3)"
   ]
  },
  {
   "cell_type": "code",
   "execution_count": 85,
   "metadata": {},
   "outputs": [
    {
     "data": {
      "text/plain": [
       "array([1])"
      ]
     },
     "execution_count": 85,
     "metadata": {},
     "output_type": "execute_result"
    }
   ],
   "source": [
    "clf1.predict(np.array([0.389262,-0.963307,-1.445821,-0.986347]).reshape(1,4))"
   ]
  },
  {
   "cell_type": "code",
   "execution_count": 86,
   "metadata": {},
   "outputs": [
    {
     "data": {
      "text/plain": [
       "array([1])"
      ]
     },
     "execution_count": 86,
     "metadata": {},
     "output_type": "execute_result"
    }
   ],
   "source": [
    "clf2.predict(np.array([0.389262,-0.963307,-1.445821,-0.986347]).reshape(1,4))"
   ]
  },
  {
   "cell_type": "code",
   "execution_count": 87,
   "metadata": {},
   "outputs": [
    {
     "data": {
      "text/plain": [
       "array([0])"
      ]
     },
     "execution_count": 87,
     "metadata": {},
     "output_type": "execute_result"
    }
   ],
   "source": [
    "clf3.predict(np.array([0.389262,-0.963307,-1.445821,-0.986347]).reshape(1,4))"
   ]
  },
  {
   "cell_type": "code",
   "execution_count": null,
   "metadata": {},
   "outputs": [],
   "source": []
  }
 ],
 "metadata": {
  "colab": {
   "name": "rf-learning-tool.ipynb",
   "provenance": []
  },
  "kernelspec": {
   "display_name": "Python 3 (ipykernel)",
   "language": "python",
   "name": "python3"
  },
  "language_info": {
   "codemirror_mode": {
    "name": "ipython",
    "version": 3
   },
   "file_extension": ".py",
   "mimetype": "text/x-python",
   "name": "python",
   "nbconvert_exporter": "python",
   "pygments_lexer": "ipython3",
   "version": "3.9.7"
  }
 },
 "nbformat": 4,
 "nbformat_minor": 1
}
