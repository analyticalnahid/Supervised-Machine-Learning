{
 "cells": [
  {
   "cell_type": "code",
   "execution_count": 6,
   "id": "8d0d33c9",
   "metadata": {},
   "outputs": [],
   "source": [
    "import pandas as pd\n",
    "import seaborn as sns"
   ]
  },
  {
   "cell_type": "code",
   "execution_count": 7,
   "id": "b0aa3f74",
   "metadata": {},
   "outputs": [],
   "source": [
    "df = pd.read_csv('mnist_train.csv')"
   ]
  },
  {
   "cell_type": "code",
   "execution_count": 8,
   "id": "493ce773",
   "metadata": {},
   "outputs": [
    {
     "data": {
      "text/html": [
       "<div>\n",
       "<style scoped>\n",
       "    .dataframe tbody tr th:only-of-type {\n",
       "        vertical-align: middle;\n",
       "    }\n",
       "\n",
       "    .dataframe tbody tr th {\n",
       "        vertical-align: top;\n",
       "    }\n",
       "\n",
       "    .dataframe thead th {\n",
       "        text-align: right;\n",
       "    }\n",
       "</style>\n",
       "<table border=\"1\" class=\"dataframe\">\n",
       "  <thead>\n",
       "    <tr style=\"text-align: right;\">\n",
       "      <th></th>\n",
       "      <th>label</th>\n",
       "      <th>1x1</th>\n",
       "      <th>1x2</th>\n",
       "      <th>1x3</th>\n",
       "      <th>1x4</th>\n",
       "      <th>1x5</th>\n",
       "      <th>1x6</th>\n",
       "      <th>1x7</th>\n",
       "      <th>1x8</th>\n",
       "      <th>1x9</th>\n",
       "      <th>...</th>\n",
       "      <th>28x19</th>\n",
       "      <th>28x20</th>\n",
       "      <th>28x21</th>\n",
       "      <th>28x22</th>\n",
       "      <th>28x23</th>\n",
       "      <th>28x24</th>\n",
       "      <th>28x25</th>\n",
       "      <th>28x26</th>\n",
       "      <th>28x27</th>\n",
       "      <th>28x28</th>\n",
       "    </tr>\n",
       "  </thead>\n",
       "  <tbody>\n",
       "    <tr>\n",
       "      <th>0</th>\n",
       "      <td>5</td>\n",
       "      <td>0</td>\n",
       "      <td>0</td>\n",
       "      <td>0</td>\n",
       "      <td>0</td>\n",
       "      <td>0</td>\n",
       "      <td>0</td>\n",
       "      <td>0</td>\n",
       "      <td>0</td>\n",
       "      <td>0</td>\n",
       "      <td>...</td>\n",
       "      <td>0</td>\n",
       "      <td>0</td>\n",
       "      <td>0</td>\n",
       "      <td>0</td>\n",
       "      <td>0</td>\n",
       "      <td>0</td>\n",
       "      <td>0</td>\n",
       "      <td>0</td>\n",
       "      <td>0</td>\n",
       "      <td>0</td>\n",
       "    </tr>\n",
       "    <tr>\n",
       "      <th>1</th>\n",
       "      <td>0</td>\n",
       "      <td>0</td>\n",
       "      <td>0</td>\n",
       "      <td>0</td>\n",
       "      <td>0</td>\n",
       "      <td>0</td>\n",
       "      <td>0</td>\n",
       "      <td>0</td>\n",
       "      <td>0</td>\n",
       "      <td>0</td>\n",
       "      <td>...</td>\n",
       "      <td>0</td>\n",
       "      <td>0</td>\n",
       "      <td>0</td>\n",
       "      <td>0</td>\n",
       "      <td>0</td>\n",
       "      <td>0</td>\n",
       "      <td>0</td>\n",
       "      <td>0</td>\n",
       "      <td>0</td>\n",
       "      <td>0</td>\n",
       "    </tr>\n",
       "    <tr>\n",
       "      <th>2</th>\n",
       "      <td>4</td>\n",
       "      <td>0</td>\n",
       "      <td>0</td>\n",
       "      <td>0</td>\n",
       "      <td>0</td>\n",
       "      <td>0</td>\n",
       "      <td>0</td>\n",
       "      <td>0</td>\n",
       "      <td>0</td>\n",
       "      <td>0</td>\n",
       "      <td>...</td>\n",
       "      <td>0</td>\n",
       "      <td>0</td>\n",
       "      <td>0</td>\n",
       "      <td>0</td>\n",
       "      <td>0</td>\n",
       "      <td>0</td>\n",
       "      <td>0</td>\n",
       "      <td>0</td>\n",
       "      <td>0</td>\n",
       "      <td>0</td>\n",
       "    </tr>\n",
       "    <tr>\n",
       "      <th>3</th>\n",
       "      <td>1</td>\n",
       "      <td>0</td>\n",
       "      <td>0</td>\n",
       "      <td>0</td>\n",
       "      <td>0</td>\n",
       "      <td>0</td>\n",
       "      <td>0</td>\n",
       "      <td>0</td>\n",
       "      <td>0</td>\n",
       "      <td>0</td>\n",
       "      <td>...</td>\n",
       "      <td>0</td>\n",
       "      <td>0</td>\n",
       "      <td>0</td>\n",
       "      <td>0</td>\n",
       "      <td>0</td>\n",
       "      <td>0</td>\n",
       "      <td>0</td>\n",
       "      <td>0</td>\n",
       "      <td>0</td>\n",
       "      <td>0</td>\n",
       "    </tr>\n",
       "    <tr>\n",
       "      <th>4</th>\n",
       "      <td>9</td>\n",
       "      <td>0</td>\n",
       "      <td>0</td>\n",
       "      <td>0</td>\n",
       "      <td>0</td>\n",
       "      <td>0</td>\n",
       "      <td>0</td>\n",
       "      <td>0</td>\n",
       "      <td>0</td>\n",
       "      <td>0</td>\n",
       "      <td>...</td>\n",
       "      <td>0</td>\n",
       "      <td>0</td>\n",
       "      <td>0</td>\n",
       "      <td>0</td>\n",
       "      <td>0</td>\n",
       "      <td>0</td>\n",
       "      <td>0</td>\n",
       "      <td>0</td>\n",
       "      <td>0</td>\n",
       "      <td>0</td>\n",
       "    </tr>\n",
       "  </tbody>\n",
       "</table>\n",
       "<p>5 rows × 785 columns</p>\n",
       "</div>"
      ],
      "text/plain": [
       "   label  1x1  1x2  1x3  1x4  1x5  1x6  1x7  1x8  1x9  ...  28x19  28x20  \\\n",
       "0      5    0    0    0    0    0    0    0    0    0  ...      0      0   \n",
       "1      0    0    0    0    0    0    0    0    0    0  ...      0      0   \n",
       "2      4    0    0    0    0    0    0    0    0    0  ...      0      0   \n",
       "3      1    0    0    0    0    0    0    0    0    0  ...      0      0   \n",
       "4      9    0    0    0    0    0    0    0    0    0  ...      0      0   \n",
       "\n",
       "   28x21  28x22  28x23  28x24  28x25  28x26  28x27  28x28  \n",
       "0      0      0      0      0      0      0      0      0  \n",
       "1      0      0      0      0      0      0      0      0  \n",
       "2      0      0      0      0      0      0      0      0  \n",
       "3      0      0      0      0      0      0      0      0  \n",
       "4      0      0      0      0      0      0      0      0  \n",
       "\n",
       "[5 rows x 785 columns]"
      ]
     },
     "execution_count": 8,
     "metadata": {},
     "output_type": "execute_result"
    }
   ],
   "source": [
    "df.head()"
   ]
  },
  {
   "cell_type": "code",
   "execution_count": 9,
   "id": "69e0a350",
   "metadata": {},
   "outputs": [
    {
     "data": {
      "text/plain": [
       "(60000, 785)"
      ]
     },
     "execution_count": 9,
     "metadata": {},
     "output_type": "execute_result"
    }
   ],
   "source": [
    "df.shape"
   ]
  },
  {
   "cell_type": "code",
   "execution_count": 10,
   "id": "4e99c4a0",
   "metadata": {},
   "outputs": [],
   "source": [
    "X = df.iloc[:,1:]\n",
    "y = df.iloc[:,0]"
   ]
  },
  {
   "cell_type": "code",
   "execution_count": 11,
   "id": "d5b9af3f",
   "metadata": {},
   "outputs": [
    {
     "data": {
      "text/plain": [
       "<AxesSubplot:>"
      ]
     },
     "execution_count": 11,
     "metadata": {},
     "output_type": "execute_result"
    },
    {
     "data": {
      "image/png": "[encoded data removed]",
      "text/plain": [
       "<Figure size 432x288 with 2 Axes>"
      ]
     },
     "metadata": {
      "needs_background": "light"
     },
     "output_type": "display_data"
    }
   ],
   "source": [
    "sns.heatmap(X.iloc[5].values.reshape(28,28))"
   ]
  },
  {
   "cell_type": "code",
   "execution_count": 12,
   "id": "fa080863",
   "metadata": {},
   "outputs": [
    {
     "data": {
      "text/plain": [
       "RandomForestClassifier()"
      ]
     },
     "execution_count": 12,
     "metadata": {},
     "output_type": "execute_result"
    }
   ],
   "source": [
    "from sklearn.ensemble import RandomForestClassifier\n",
    "\n",
    "rf = RandomForestClassifier()\n",
    "\n",
    "rf.fit(X,y)"
   ]
  },
  {
   "cell_type": "code",
   "execution_count": 13,
   "id": "e27797e8",
   "metadata": {},
   "outputs": [
    {
     "data": {
      "text/plain": [
       "array([0.00000000e+00, 0.00000000e+00, 0.00000000e+00, 0.00000000e+00,\n",
       "       0.00000000e+00, 0.00000000e+00, 0.00000000e+00, 0.00000000e+00,\n",
       "       0.00000000e+00, 0.00000000e+00, 0.00000000e+00, 0.00000000e+00,\n",
       "       0.00000000e+00, 0.00000000e+00, 0.00000000e+00, 0.00000000e+00,\n",
       "       0.00000000e+00, 0.00000000e+00, 0.00000000e+00, 0.00000000e+00,\n",
       "       0.00000000e+00, 0.00000000e+00, 0.00000000e+00, 0.00000000e+00,\n",
       "       0.00000000e+00, 0.00000000e+00, 0.00000000e+00, 0.00000000e+00,\n",
       "       0.00000000e+00, 0.00000000e+00, 0.00000000e+00, 0.00000000e+00,\n",
       "       0.00000000e+00, 0.00000000e+00, 0.00000000e+00, 9.29876370e-07,\n",
       "       1.59073270e-06, 4.28251783e-06, 3.51325685e-06, 5.80727783e-06,\n",
       "       3.68622066e-06, 3.22420897e-06, 4.26283088e-06, 5.34547127e-06,\n",
       "       5.45112447e-06, 8.45883803e-06, 3.43001822e-07, 1.78672702e-06,\n",
       "       9.85618434e-07, 8.68129975e-07, 1.01354805e-06, 0.00000000e+00,\n",
       "       0.00000000e+00, 0.00000000e+00, 0.00000000e+00, 0.00000000e+00,\n",
       "       0.00000000e+00, 0.00000000e+00, 0.00000000e+00, 9.09219319e-07,\n",
       "       0.00000000e+00, 3.70473129e-07, 2.79617123e-06, 1.99000444e-05,\n",
       "       1.68556687e-05, 4.54318081e-05, 5.18526459e-05, 1.20780671e-04,\n",
       "       1.02142360e-04, 1.08197257e-04, 2.47114310e-04, 1.16278130e-04,\n",
       "       9.14239285e-05, 4.55593441e-05, 1.12483001e-04, 3.18568784e-05,\n",
       "       1.76132035e-05, 7.79010200e-06, 6.15461491e-06, 2.69360032e-06,\n",
       "       0.00000000e+00, 3.67339264e-07, 0.00000000e+00, 0.00000000e+00,\n",
       "       0.00000000e+00, 0.00000000e+00, 0.00000000e+00, 0.00000000e+00,\n",
       "       0.00000000e+00, 7.70962089e-07, 1.09405607e-05, 2.94233598e-05,\n",
       "       7.84986029e-05, 1.33861548e-04, 2.43130701e-04, 5.08962398e-04,\n",
       "       7.60759995e-04, 1.22792923e-03, 1.11613568e-03, 3.07665307e-03,\n",
       "       2.66765531e-03, 1.73926860e-03, 1.40783969e-03, 1.09190661e-03,\n",
       "       3.11747539e-04, 1.35071871e-04, 7.51917877e-05, 1.69519179e-05,\n",
       "       9.98438376e-06, 2.13344402e-06, 3.58514066e-07, 0.00000000e+00,\n",
       "       0.00000000e+00, 0.00000000e+00, 0.00000000e+00, 2.68295156e-06,\n",
       "       5.29779871e-06, 1.40590732e-05, 3.92872216e-05, 6.77747121e-05,\n",
       "       1.55724320e-04, 3.06774254e-04, 7.53558797e-04, 1.19866965e-03,\n",
       "       1.48087164e-03, 1.60585754e-03, 1.85104108e-03, 1.51391552e-03,\n",
       "       1.62398893e-03, 8.44154369e-04, 7.77910262e-04, 6.73539639e-04,\n",
       "       3.47178471e-04, 2.82272200e-04, 1.70503825e-04, 7.36695009e-05,\n",
       "       4.44264943e-05, 2.10642622e-05, 2.83037710e-06, 6.67050046e-07,\n",
       "       0.00000000e+00, 0.00000000e+00, 0.00000000e+00, 4.68835291e-06,\n",
       "       1.17276431e-05, 4.52613239e-05, 1.06599000e-04, 1.96885833e-04,\n",
       "       4.70405651e-04, 1.49064454e-03, 1.67871426e-03, 2.93808505e-03,\n",
       "       3.97500558e-03, 4.88231042e-03, 5.23515524e-03, 6.87817651e-03,\n",
       "       5.75313383e-03, 2.61315084e-03, 2.27126828e-03, 1.76284577e-03,\n",
       "       9.82074646e-04, 7.27820254e-04, 4.74530894e-04, 2.76162561e-04,\n",
       "       1.28241866e-04, 3.74755425e-05, 6.02001346e-06, 1.45720667e-06,\n",
       "       0.00000000e+00, 0.00000000e+00, 1.36151529e-06, 6.37281064e-06,\n",
       "       3.15446347e-05, 8.99240406e-05, 2.44901809e-04, 5.45146276e-04,\n",
       "       8.02126747e-04, 1.93904357e-03, 2.57332813e-03, 3.58246197e-03,\n",
       "       2.71361375e-03, 3.27589145e-03, 4.68842790e-03, 5.07114999e-03,\n",
       "       3.20857807e-03, 2.95499780e-03, 1.89358318e-03, 1.41167823e-03,\n",
       "       1.50347126e-03, 1.44160562e-03, 1.37189536e-03, 1.02206809e-03,\n",
       "       3.01357918e-04, 1.05840830e-04, 1.00617276e-05, 3.45777020e-07,\n",
       "       0.00000000e+00, 2.77865144e-07, 3.13405077e-06, 1.13714014e-05,\n",
       "       5.39744745e-05, 1.48983984e-04, 3.47034666e-04, 5.33430811e-04,\n",
       "       1.12966831e-03, 1.68222148e-03, 2.89156388e-03, 2.06718972e-03,\n",
       "       2.34673620e-03, 3.38777763e-03, 6.83951252e-03, 6.04260135e-03,\n",
       "       5.31641476e-03, 3.35686451e-03, 2.37842752e-03, 2.28666073e-03,\n",
       "       1.51583750e-03, 1.22077429e-03, 1.55097331e-03, 1.30205425e-03,\n",
       "       7.38981222e-04, 1.55376663e-04, 1.48652600e-05, 1.90492392e-06,\n",
       "       1.64405610e-06, 3.42459927e-07, 2.86879161e-06, 2.26559960e-05,\n",
       "       7.32921081e-05, 1.70527409e-04, 3.58250179e-04, 5.75184791e-04,\n",
       "       1.06043334e-03, 2.05079420e-03, 2.86928271e-03, 3.61209221e-03,\n",
       "       3.06015279e-03, 3.28666986e-03, 4.87844968e-03, 5.19429833e-03,\n",
       "       4.19139407e-03, 2.88026296e-03, 3.54668474e-03, 3.06352923e-03,\n",
       "       2.57947979e-03, 1.54480359e-03, 1.22391241e-03, 1.03436285e-03,\n",
       "       8.46705535e-04, 1.65709935e-04, 1.40818292e-05, 3.14230242e-06,\n",
       "       0.00000000e+00, 0.00000000e+00, 6.76482936e-06, 2.69443760e-05,\n",
       "       9.62485899e-05, 1.62591056e-04, 5.05981354e-04, 5.55024457e-04,\n",
       "       1.18350012e-03, 2.38691836e-03, 3.90359756e-03, 3.95399352e-03,\n",
       "       2.99569309e-03, 3.28829748e-03, 3.93217646e-03, 3.77177803e-03,\n",
       "       3.84739174e-03, 3.38835691e-03, 4.32084056e-03, 2.99067023e-03,\n",
       "       2.46993809e-03, 1.68422527e-03, 1.23860590e-03, 7.67139051e-04,\n",
       "       4.25618690e-04, 1.08322612e-04, 2.56735707e-05, 1.27545942e-06,\n",
       "       0.00000000e+00, 3.60746072e-07, 3.96883128e-06, 1.75716507e-05,\n",
       "       6.72396945e-05, 1.82114300e-04, 3.98031913e-04, 1.12480684e-03,\n",
       "       1.46469717e-03, 3.96475181e-03, 6.33958826e-03, 4.43147254e-03,\n",
       "       3.73008818e-03, 2.66499254e-03, 3.71990544e-03, 3.58235970e-03,\n",
       "       3.28940326e-03, 3.40610520e-03, 4.37190265e-03, 3.86442204e-03,\n",
       "       2.41053480e-03, 2.20276622e-03, 1.48096745e-03, 4.09549107e-04,\n",
       "       2.27015221e-04, 5.69023304e-05, 9.31431530e-06, 2.64073783e-06,\n",
       "       0.00000000e+00, 3.36821445e-07, 5.89108685e-06, 4.27672215e-05,\n",
       "       8.11336631e-05, 2.12350885e-04, 6.52870477e-04, 1.35029308e-03,\n",
       "       2.37942023e-03, 3.71311693e-03, 6.46697141e-03, 4.52352769e-03,\n",
       "       4.18607477e-03, 3.34063024e-03, 4.93163397e-03, 5.37533715e-03,\n",
       "       3.07795484e-03, 3.66986669e-03, 3.53013374e-03, 3.41459440e-03,\n",
       "       1.99748510e-03, 2.64986323e-03, 1.51041518e-03, 4.67473862e-04,\n",
       "       1.51573197e-04, 3.66109085e-05, 1.00248202e-05, 6.98226074e-07,\n",
       "       0.00000000e+00, 0.00000000e+00, 1.20021052e-06, 2.10157907e-05,\n",
       "       8.45931927e-05, 2.51554753e-04, 8.20549369e-04, 1.71519213e-03,\n",
       "       2.06043554e-03, 3.72065171e-03, 5.72628974e-03, 5.43436959e-03,\n",
       "       5.20557302e-03, 4.46718316e-03, 8.10249159e-03, 4.91616422e-03,\n",
       "       3.37317552e-03, 4.17257008e-03, 4.60573554e-03, 2.96321889e-03,\n",
       "       1.51440749e-03, 2.30716077e-03, 1.88218119e-03, 7.99303055e-04,\n",
       "       1.31833494e-04, 1.91064146e-05, 7.56630745e-06, 1.29672212e-06,\n",
       "       0.00000000e+00, 0.00000000e+00, 5.08586509e-06, 1.39013510e-05,\n",
       "       9.41788958e-05, 5.12952583e-04, 8.93738197e-04, 1.55958770e-03,\n",
       "       3.95839658e-03, 5.11837118e-03, 5.99573154e-03, 5.19331079e-03,\n",
       "       5.31115880e-03, 7.52648003e-03, 8.80929275e-03, 3.42070835e-03,\n",
       "       4.60157564e-03, 5.80958310e-03, 3.32519883e-03, 1.76708342e-03,\n",
       "       1.06939066e-03, 1.04999376e-03, 1.63763025e-03, 6.01034695e-04,\n",
       "       2.30700919e-04, 2.40146477e-05, 6.46969633e-06, 0.00000000e+00,\n",
       "       0.00000000e+00, 0.00000000e+00, 0.00000000e+00, 2.00135395e-05,\n",
       "       8.72978244e-05, 4.52832236e-04, 1.56382960e-03, 2.03723128e-03,\n",
       "       3.82957844e-03, 6.62588627e-03, 5.53937418e-03, 5.31558935e-03,\n",
       "       4.43480479e-03, 7.35179626e-03, 7.64712842e-03, 3.84335930e-03,\n",
       "       4.51940062e-03, 7.62390548e-03, 2.28755210e-03, 1.52807807e-03,\n",
       "       1.19617175e-03, 2.06362054e-03, 1.42768066e-03, 5.05114540e-04,\n",
       "       1.65908481e-04, 4.01359169e-05, 8.21657181e-06, 1.85258395e-07,\n",
       "       0.00000000e+00, 3.33446318e-07, 2.51159936e-06, 1.70861632e-05,\n",
       "       7.79482249e-05, 4.22258598e-04, 1.72128279e-03, 3.28170400e-03,\n",
       "       3.41466854e-03, 4.72316142e-03, 4.14811622e-03, 4.96729793e-03,\n",
       "       4.59505891e-03, 6.24016739e-03, 6.58736159e-03, 5.22029953e-03,\n",
       "       4.15360565e-03, 6.40430304e-03, 3.54258409e-03, 1.39591455e-03,\n",
       "       1.39475011e-03, 1.08241519e-03, 1.54391143e-03, 3.89297299e-04,\n",
       "       1.71060306e-04, 4.74952028e-05, 1.21053926e-05, 0.00000000e+00,\n",
       "       0.00000000e+00, 8.84452293e-07, 3.33704760e-06, 3.48187911e-05,\n",
       "       9.86848810e-05, 6.71251608e-04, 1.38498018e-03, 3.18913022e-03,\n",
       "       4.29888967e-03, 3.51445427e-03, 4.05061508e-03, 4.79811623e-03,\n",
       "       5.27655619e-03, 8.36197095e-03, 4.48793215e-03, 2.99261497e-03,\n",
       "       2.41063619e-03, 3.59621068e-03, 3.10376802e-03, 1.86672541e-03,\n",
       "       1.45304634e-03, 2.23672764e-03, 7.82132647e-04, 3.67243472e-04,\n",
       "       1.65639971e-04, 6.60236737e-05, 1.72625970e-05, 2.16562280e-06,\n",
       "       0.00000000e+00, 7.03656056e-07, 4.38452380e-06, 3.16706871e-05,\n",
       "       1.40859621e-04, 5.74892471e-04, 1.35329690e-03, 1.75161686e-03,\n",
       "       4.13903687e-03, 4.37427247e-03, 5.22259073e-03, 5.97698474e-03,\n",
       "       5.13716377e-03, 6.54026693e-03, 5.39141794e-03, 2.33473090e-03,\n",
       "       2.13909833e-03, 2.78146384e-03, 2.95944362e-03, 1.23740896e-03,\n",
       "       2.01795628e-03, 1.19160122e-03, 6.34818384e-04, 3.80094875e-04,\n",
       "       1.86430796e-04, 5.19335966e-05, 1.16778750e-05, 9.72736424e-07,\n",
       "       7.14645743e-07, 3.48691526e-07, 4.74763533e-06, 5.58099530e-05,\n",
       "       1.43186496e-04, 3.86560625e-04, 1.88111848e-03, 2.23209869e-03,\n",
       "       3.21770271e-03, 3.77347972e-03, 5.51971299e-03, 6.44289007e-03,\n",
       "       4.30892751e-03, 3.70716229e-03, 2.40015022e-03, 1.69357192e-03,\n",
       "       1.32038927e-03, 2.06176431e-03, 2.16023025e-03, 1.74107122e-03,\n",
       "       2.07497011e-03, 1.00593493e-03, 8.96883530e-04, 3.87257651e-04,\n",
       "       2.34166562e-04, 5.34943909e-05, 5.79063199e-06, 3.39600856e-07,\n",
       "       0.00000000e+00, 1.39812089e-06, 5.27413469e-06, 6.56493206e-05,\n",
       "       2.39342900e-04, 8.35733818e-04, 1.68319035e-03, 2.89790323e-03,\n",
       "       4.57926176e-03, 3.91821588e-03, 6.06686647e-03, 5.63779401e-03,\n",
       "       3.40030558e-03, 2.18330563e-03, 1.73126750e-03, 1.31435235e-03,\n",
       "       1.24622000e-03, 2.06262604e-03, 2.79179683e-03, 2.77937401e-03,\n",
       "       1.72973012e-03, 1.39838522e-03, 5.82614603e-04, 3.64564341e-04,\n",
       "       2.04543425e-04, 4.40451103e-05, 1.84095007e-06, 9.97478697e-07,\n",
       "       0.00000000e+00, 0.00000000e+00, 1.02946638e-05, 1.00543600e-04,\n",
       "       3.08720516e-04, 5.53191815e-04, 1.20130988e-03, 4.11953302e-03,\n",
       "       4.29086657e-03, 4.14821524e-03, 3.82984021e-03, 4.19487654e-03,\n",
       "       2.79385243e-03, 2.53692694e-03, 1.95931305e-03, 1.65046235e-03,\n",
       "       1.40043180e-03, 2.53267935e-03, 1.90578393e-03, 1.74061404e-03,\n",
       "       1.08387251e-03, 9.35052974e-04, 6.45264646e-04, 3.04216057e-04,\n",
       "       8.99047170e-05, 1.93696141e-05, 2.59960193e-06, 0.00000000e+00,\n",
       "       0.00000000e+00, 3.63612516e-07, 7.35068417e-06, 4.96264669e-05,\n",
       "       1.65884302e-04, 5.15105177e-04, 1.17611754e-03, 2.68046794e-03,\n",
       "       6.39030516e-03, 3.96204193e-03, 3.10453519e-03, 2.07529290e-03,\n",
       "       1.65947186e-03, 1.32261165e-03, 1.34813922e-03, 1.12412549e-03,\n",
       "       1.11241320e-03, 1.43656116e-03, 1.19291287e-03, 9.79028885e-04,\n",
       "       9.06237155e-04, 8.28798347e-04, 3.98875984e-04, 1.66015212e-04,\n",
       "       5.08513327e-05, 1.44281238e-05, 6.40021998e-07, 0.00000000e+00,\n",
       "       0.00000000e+00, 0.00000000e+00, 6.32884414e-06, 2.81527446e-05,\n",
       "       1.19306430e-04, 2.57257806e-04, 5.58564675e-04, 1.54100021e-03,\n",
       "       2.78796088e-03, 2.88210980e-03, 3.04032072e-03, 2.12508013e-03,\n",
       "       1.83052860e-03, 1.55751245e-03, 1.54269218e-03, 1.68829501e-03,\n",
       "       1.33676662e-03, 9.64355424e-04, 9.53734495e-04, 5.74240646e-04,\n",
       "       5.01876623e-04, 3.20193510e-04, 1.58093134e-04, 6.46051791e-05,\n",
       "       1.73988956e-05, 3.34504697e-06, 1.35372638e-06, 0.00000000e+00,\n",
       "       0.00000000e+00, 0.00000000e+00, 1.06102240e-06, 2.00558147e-05,\n",
       "       6.46151414e-05, 1.26073332e-04, 2.60651430e-04, 8.77729330e-04,\n",
       "       1.20476166e-03, 1.93825710e-03, 2.92182047e-03, 3.37981088e-03,\n",
       "       5.63885156e-03, 4.42060844e-03, 4.00187888e-03, 2.89749525e-03,\n",
       "       1.45966451e-03, 1.04832767e-03, 7.91494997e-04, 5.17078946e-04,\n",
       "       2.13616713e-04, 1.37280554e-04, 6.58997597e-05, 3.23176328e-05,\n",
       "       1.29383038e-05, 4.70244618e-07, 3.64697214e-07, 0.00000000e+00,\n",
       "       0.00000000e+00, 0.00000000e+00, 1.02943765e-06, 1.35597574e-05,\n",
       "       4.93901983e-05, 1.09670122e-04, 2.18772223e-04, 4.16912300e-04,\n",
       "       5.40611445e-04, 7.21154687e-04, 9.74860913e-04, 1.32443922e-03,\n",
       "       1.21451504e-03, 1.30397411e-03, 8.74117439e-04, 6.71479395e-04,\n",
       "       4.29120260e-04, 4.30218170e-04, 3.46618133e-04, 2.30415685e-04,\n",
       "       1.68766837e-04, 7.95811215e-05, 4.15516000e-05, 1.53809954e-05,\n",
       "       6.04497976e-06, 2.63778742e-06, 0.00000000e+00, 0.00000000e+00,\n",
       "       0.00000000e+00, 0.00000000e+00, 3.85969020e-07, 1.06524826e-06,\n",
       "       1.06029596e-05, 4.30125747e-05, 1.89930741e-04, 3.07036361e-04,\n",
       "       4.72403719e-04, 5.63322343e-04, 9.45125383e-04, 1.03263566e-03,\n",
       "       8.89881645e-04, 8.32469167e-04, 4.83377671e-04, 6.37758928e-04,\n",
       "       3.65392159e-04, 3.77441707e-04, 2.77900844e-04, 2.26228113e-04,\n",
       "       1.01149416e-04, 4.57173298e-05, 1.17680844e-05, 7.33131052e-06,\n",
       "       0.00000000e+00, 2.46999418e-07, 0.00000000e+00, 0.00000000e+00,\n",
       "       0.00000000e+00, 0.00000000e+00, 0.00000000e+00, 0.00000000e+00,\n",
       "       3.71080542e-06, 1.33728253e-05, 1.37054526e-05, 2.07244757e-05,\n",
       "       4.36912867e-05, 1.12193615e-04, 2.43010697e-04, 2.00755882e-04,\n",
       "       3.64358973e-04, 2.09681143e-04, 1.69239406e-04, 1.19569852e-04,\n",
       "       1.49365921e-04, 9.51149511e-05, 8.52149321e-05, 3.77544654e-05,\n",
       "       2.48327293e-05, 1.12875025e-05, 3.07108809e-06, 1.37076824e-06,\n",
       "       0.00000000e+00, 6.00891216e-07, 0.00000000e+00, 0.00000000e+00,\n",
       "       0.00000000e+00, 0.00000000e+00, 0.00000000e+00, 0.00000000e+00,\n",
       "       0.00000000e+00, 0.00000000e+00, 0.00000000e+00, 0.00000000e+00,\n",
       "       1.46200989e-06, 9.43914437e-07, 2.16916048e-06, 2.95508992e-06,\n",
       "       2.84109784e-06, 1.03139598e-06, 8.87405369e-06, 5.69750620e-06,\n",
       "       7.27970881e-06, 4.36086797e-06, 7.25470619e-07, 1.67123688e-06,\n",
       "       6.04074554e-07, 3.35197074e-06, 1.45330849e-06, 0.00000000e+00,\n",
       "       0.00000000e+00, 0.00000000e+00, 0.00000000e+00, 0.00000000e+00])"
      ]
     },
     "execution_count": 13,
     "metadata": {},
     "output_type": "execute_result"
    }
   ],
   "source": [
    "rf.feature_importances_"
   ]
  },
  {
   "cell_type": "code",
   "execution_count": 14,
   "id": "83fe2092",
   "metadata": {},
   "outputs": [
    {
     "data": {
      "text/plain": [
       "(784,)"
      ]
     },
     "execution_count": 14,
     "metadata": {},
     "output_type": "execute_result"
    }
   ],
   "source": [
    "rf.feature_importances_.shape"
   ]
  },
  {
   "cell_type": "code",
   "execution_count": 15,
   "id": "25abe08d",
   "metadata": {},
   "outputs": [
    {
     "data": {
      "text/plain": [
       "<AxesSubplot:>"
      ]
     },
     "execution_count": 15,
     "metadata": {},
     "output_type": "execute_result"
    },
    {
     "data": {
      "image/png": "[encoded data removed]",
      "text/plain": [
       "<Figure size 432x288 with 2 Axes>"
      ]
     },
     "metadata": {
      "needs_background": "light"
     },
     "output_type": "display_data"
    }
   ],
   "source": [
    "sns.heatmap(rf.feature_importances_.reshape(28,28))"
   ]
  },
  {
   "cell_type": "code",
   "execution_count": null,
   "id": "5236a1a6",
   "metadata": {},
   "outputs": [],
   "source": []
  }
 ],
 "metadata": {
  "kernelspec": {
   "display_name": "Python 3 (ipykernel)",
   "language": "python",
   "name": "python3"
  },
  "language_info": {
   "codemirror_mode": {
    "name": "ipython",
    "version": 3
   },
   "file_extension": ".py",
   "mimetype": "text/x-python",
   "name": "python",
   "nbconvert_exporter": "python",
   "pygments_lexer": "ipython3",
   "version": "3.9.7"
  }
 },
 "nbformat": 4,
 "nbformat_minor": 5
}
