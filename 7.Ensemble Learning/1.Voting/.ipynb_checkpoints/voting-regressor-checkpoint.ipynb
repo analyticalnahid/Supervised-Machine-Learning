{
 "cells": [
  {
   "cell_type": "code",
   "execution_count": 1,
   "id": "c5bcde73",
   "metadata": {},
   "outputs": [],
   "source": [
    "from sklearn.datasets import load_boston\n",
    "import numpy as np"
   ]
  },
  {
   "cell_type": "code",
   "execution_count": 2,
   "id": "6773ac0a",
   "metadata": {
    "collapsed": true
   },
   "outputs": [
    {
     "name": "stderr",
     "output_type": "stream",
     "text": [
      "/home/anlayticalnahid/ml/lib/python3.10/site-packages/sklearn/utils/deprecation.py:87: FutureWarning: Function load_boston is deprecated; `load_boston` is deprecated in 1.0 and will be removed in 1.2.\n",
      "\n",
      "    The Boston housing prices dataset has an ethical problem. You can refer to\n",
      "    the documentation of this function for further details.\n",
      "\n",
      "    The scikit-learn maintainers therefore strongly discourage the use of this\n",
      "    dataset unless the purpose of the code is to study and educate about\n",
      "    ethical issues in data science and machine learning.\n",
      "\n",
      "    In this special case, you can fetch the dataset from the original\n",
      "    source::\n",
      "\n",
      "        import pandas as pd\n",
      "        import numpy as np\n",
      "\n",
      "        data_url = \"http://lib.stat.cmu.edu/datasets/boston\"\n",
      "        raw_df = pd.read_csv(data_url, sep=\"\\s+\", skiprows=22, header=None)\n",
      "        data = np.hstack([raw_df.values[::2, :], raw_df.values[1::2, :2]])\n",
      "        target = raw_df.values[1::2, 2]\n",
      "\n",
      "    Alternative datasets include the California housing dataset (i.e.\n",
      "    :func:`~sklearn.datasets.fetch_california_housing`) and the Ames housing\n",
      "    dataset. You can load the datasets as follows::\n",
      "\n",
      "        from sklearn.datasets import fetch_california_housing\n",
      "        housing = fetch_california_housing()\n",
      "\n",
      "    for the California housing dataset and::\n",
      "\n",
      "        from sklearn.datasets import fetch_openml\n",
      "        housing = fetch_openml(name=\"house_prices\", as_frame=True)\n",
      "\n",
      "    for the Ames housing dataset.\n",
      "  warnings.warn(msg, category=FutureWarning)\n"
     ]
    }
   ],
   "source": [
    "X,y = load_boston(return_X_y=True)"
   ]
  },
  {
   "cell_type": "code",
   "execution_count": 3,
   "id": "76fd91b4",
   "metadata": {},
   "outputs": [],
   "source": [
    "from sklearn.linear_model  import LinearRegression\n",
    "from sklearn.svm import SVR\n",
    "from sklearn.tree import DecisionTreeRegressor\n",
    "from sklearn.model_selection import cross_val_score"
   ]
  },
  {
   "cell_type": "code",
   "execution_count": 4,
   "id": "e759dfe9",
   "metadata": {},
   "outputs": [],
   "source": [
    "lr = LinearRegression()\n",
    "svr = SVR()\n",
    "tree = DecisionTreeRegressor()"
   ]
  },
  {
   "cell_type": "code",
   "execution_count": 5,
   "id": "c1e95419",
   "metadata": {},
   "outputs": [],
   "source": [
    "estimators = [('lr', lr), ('svr', svr), ('tree', tree)]"
   ]
  },
  {
   "cell_type": "code",
   "execution_count": 6,
   "id": "7116cad1",
   "metadata": {},
   "outputs": [
    {
     "name": "stdout",
     "output_type": "stream",
     "text": [
      "lr 0.2\n",
      "svr -0.41\n",
      "tree -0.2\n"
     ]
    }
   ],
   "source": [
    "for estimator in estimators:\n",
    "    x = cross_val_score(estimator[1],X,y,scoring='r2',cv=10)\n",
    "    print(estimator[0],np.round(np.mean(x),2))"
   ]
  },
  {
   "cell_type": "markdown",
   "id": "fbf5c075",
   "metadata": {},
   "source": [
    "## Voting Regressor"
   ]
  },
  {
   "cell_type": "code",
   "execution_count": 7,
   "id": "76d5d8af",
   "metadata": {},
   "outputs": [
    {
     "name": "stdout",
     "output_type": "stream",
     "text": [
      "0.41\n"
     ]
    }
   ],
   "source": [
    "from sklearn.ensemble import VotingRegressor\n",
    "vtr = VotingRegressor(estimators=estimators)\n",
    "x= cross_val_score(vtr,X,y, scoring='r2',cv=10)\n",
    "print(np.round(np.mean(x),2))"
   ]
  },
  {
   "cell_type": "markdown",
   "id": "79418038",
   "metadata": {},
   "source": [
    "## Weighted Vt Regressor"
   ]
  },
  {
   "cell_type": "code",
   "execution_count": 8,
   "id": "b752b165",
   "metadata": {
    "collapsed": true
   },
   "outputs": [
    {
     "name": "stdout",
     "output_type": "stream",
     "text": [
      "for i=1,j=1,k=1 0.42\n",
      "for i=1,j=1,k=2 0.4\n",
      "for i=1,j=1,k=3 0.35\n",
      "for i=1,j=2,k=1 0.36\n",
      "for i=1,j=2,k=2 0.4\n",
      "for i=1,j=2,k=3 0.38\n",
      "for i=1,j=3,k=1 0.28\n",
      "for i=1,j=3,k=2 0.37\n",
      "for i=1,j=3,k=3 0.35\n",
      "for i=2,j=1,k=1 0.46\n",
      "for i=2,j=1,k=2 0.37\n",
      "for i=2,j=1,k=3 0.41\n",
      "for i=2,j=2,k=1 0.41\n",
      "for i=2,j=2,k=2 0.4\n",
      "for i=2,j=2,k=3 0.41\n",
      "for i=2,j=3,k=1 0.34\n",
      "for i=2,j=3,k=2 0.42\n",
      "for i=2,j=3,k=3 0.42\n",
      "for i=3,j=1,k=1 0.41\n",
      "for i=3,j=1,k=2 0.43\n",
      "for i=3,j=1,k=3 0.44\n",
      "for i=3,j=2,k=1 0.43\n",
      "for i=3,j=2,k=2 0.45\n",
      "for i=3,j=2,k=3 0.46\n",
      "for i=3,j=3,k=1 0.39\n",
      "for i=3,j=3,k=2 0.41\n",
      "for i=3,j=3,k=3 0.44\n"
     ]
    }
   ],
   "source": [
    "for i in range(1,4):\n",
    "    for j in range(1,4):\n",
    "        for k in range(1,4):\n",
    "            vtr = VotingRegressor(estimators=estimators, weights=[i,j,k])\n",
    "            x= cross_val_score(vtr,X,y, scoring='r2',cv=10)\n",
    "            print(\"for i={},j={},k={}\".format(i,j,k),np.round(np.mean(x),2))"
   ]
  },
  {
   "cell_type": "markdown",
   "id": "f2113420",
   "metadata": {},
   "source": [
    "## Regressor With Same Algo"
   ]
  },
  {
   "cell_type": "code",
   "execution_count": 14,
   "id": "3cf72ebb",
   "metadata": {},
   "outputs": [],
   "source": [
    "dt1 = DecisionTreeRegressor(max_depth=1)\n",
    "dt2 = DecisionTreeRegressor(max_depth=2)\n",
    "dt3 = DecisionTreeRegressor(max_depth=3)\n",
    "dt4 = DecisionTreeRegressor(max_depth=4)\n",
    "dt5 = DecisionTreeRegressor(max_depth=5)\n",
    "\n",
    "estimators = [('dt1',dt1), ('dt2',dt2), ('dt3',dt3), ('dt4',dt4), ('dt5',dt5)]"
   ]
  },
  {
   "cell_type": "code",
   "execution_count": 15,
   "id": "3a45f6a0",
   "metadata": {},
   "outputs": [
    {
     "name": "stdout",
     "output_type": "stream",
     "text": [
      "-0.85\n",
      "-0.07\n",
      "-0.13\n",
      "-0.04\n",
      "0.03\n"
     ]
    }
   ],
   "source": [
    "for estimator in estimators:\n",
    "    x = cross_val_score(estimator[1],X,y,scoring='r2',cv=10)\n",
    "    print(np.round(np.mean(x),2))"
   ]
  },
  {
   "cell_type": "code",
   "execution_count": 16,
   "id": "12bab736",
   "metadata": {},
   "outputs": [
    {
     "name": "stdout",
     "output_type": "stream",
     "text": [
      "0.12\n"
     ]
    }
   ],
   "source": [
    "vtr = VotingRegressor(estimators=estimators)\n",
    "x= cross_val_score(vtr,X,y, scoring='r2',cv=10)\n",
    "print(np.round(np.mean(x),2))"
   ]
  }
 ],
 "metadata": {
  "kernelspec": {
   "display_name": "Python 3 (ipykernel)",
   "language": "python",
   "name": "python3"
  },
  "language_info": {
   "codemirror_mode": {
    "name": "ipython",
    "version": 3
   },
   "file_extension": ".py",
   "mimetype": "text/x-python",
   "name": "python",
   "nbconvert_exporter": "python",
   "pygments_lexer": "ipython3",
   "version": "3.10.5"
  }
 },
 "nbformat": 4,
 "nbformat_minor": 5
}
