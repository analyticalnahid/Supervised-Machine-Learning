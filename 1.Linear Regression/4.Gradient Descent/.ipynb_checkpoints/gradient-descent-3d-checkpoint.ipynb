{
 "cells": [
  {
   "cell_type": "code",
   "execution_count": 1,
   "id": "d80d059a",
   "metadata": {},
   "outputs": [],
   "source": [
    "from sklearn.datasets import make_regression\n",
    "import matplotlib.pyplot as plt\n",
    "import numpy as np"
   ]
  },
  {
   "cell_type": "code",
   "execution_count": 2,
   "id": "66a969f7",
   "metadata": {},
   "outputs": [],
   "source": [
    "X,y = make_regression(n_samples=100, n_features=1, n_informative=1, n_targets=1,noise=20,random_state=13)"
   ]
  },
  {
   "cell_type": "code",
   "execution_count": 3,
   "id": "a2cfe8b8",
   "metadata": {},
   "outputs": [
    {
     "data": {
      "text/plain": [
       "<matplotlib.collections.PathCollection at 0x1e793329670>"
      ]
     },
     "execution_count": 3,
     "metadata": {},
     "output_type": "execute_result"
    },
    {
     "data": {
      "image/png": "[encoded data removed]",
      "text/plain": [
       "<Figure size 432x288 with 1 Axes>"
      ]
     },
     "metadata": {
      "needs_background": "light"
     },
     "output_type": "display_data"
    }
   ],
   "source": [
    "plt.scatter(X,y)"
   ]
  },
  {
   "cell_type": "code",
   "execution_count": 4,
   "id": "dadf4d49",
   "metadata": {},
   "outputs": [],
   "source": [
    "m_arr = np.linspace(-150, 150, 10)\n",
    "b_arr = np.linspace(-150, 150, 10)\n",
    "mGrid, bGrid = np.meshgrid(m_arr,b_arr)\n",
    "\n",
    "final = np.vstack((mGrid.ravel().reshape(1,100),bGrid.ravel().reshape(1,100))).T\n",
    "\n",
    "z_arr = []\n",
    "\n",
    "for i in range(final.shape[0]):\n",
    "    z_arr.append(np.sum((y - final[i,0]*X.reshape(100) - final[i,1])**2))\n",
    "\n",
    "z_arr = np.array(z_arr).reshape(10,10)"
   ]
  },
  {
   "cell_type": "code",
   "execution_count": 6,
   "id": "c3e7f9b3",
   "metadata": {},
   "outputs": [
    {
     "data": {
      "application/vnd.plotly.v1+json": {
       "config": {
        "plotlyServerURL": "https://plot.ly"
       },
       "data": [
        {
         "type": "surface",
         "x": [
          -150,
          -116.66666666666666,
          -83.33333333333333,
          -50,
          -16.666666666666657,
          16.666666666666686,
          50,
          83.33333333333334,
          116.66666666666669,
          150
         ],
         "y": [
          -150,
          -116.66666666666666,
          -83.33333333333333,
          -50,
          -16.666666666666657,
          16.666666666666686,
          50,
          83.33333333333334,
          116.66666666666669,
          150
         ],
         "z": [
          [
           5273929.292705172,
           4279678.28145494,
           3479174.4520358886,
           2872417.804448019,
           2459408.338691329,
           2240146.0547658214,
           2214630.9526714943,
           2382863.032408348,
           2744842.2939763833,
           3300568.7373755984
          ],
          [
           4331095.5350752035,
           3349823.944079833,
           2562299.5349156437,
           1968522.3075826352,
           1568492.2620808077,
           1362209.398410161,
           1349673.7165706954,
           1530885.2165624106,
           1905843.8983853073,
           2474549.762039384
          ],
          [
           3610483.9996674587,
           2642191.8289269493,
           1867646.8400176212,
           1286849.0329394746,
           899798.407692508,
           706494.9642767227,
           706938.7026921188,
           901129.6229386957,
           1289067.7250164538,
           1870753.008925392
          ],
          [
           3112094.6864819354,
           2156781.935996287,
           1395216.367341821,
           827397.9805185355,
           453326.7755264308,
           273002.7523655072,
           286425.9110357646,
           493596.25153720303,
           894513.7738698225,
           1489178.4780336225
          ],
          [
           2835927.595518634,
           1893594.2652878477,
           1145008.1168882428,
           590169.1503198186,
           229077.3655825756,
           61732.76267651357,
           88135.34160163252,
           308285.1023579325,
           722182.0449454137,
           1329826.169364075
          ],
          [
           2781982.7267775554,
           1852628.8168016304,
           1117022.0886568867,
           575162.5423433245,
           227050.17786094281,
           72684.99520974231,
           112066.99438972281,
           345196.1754008845,
           772072.5382432269,
           1392696.08291675
          ],
          [
           2950260.0802586977,
           2033885.590537635,
           1311258.282647753,
           782378.1565890519,
           447245.21236153203,
           305859.4499651931,
           358220.86940003507,
           604329.4706660581,
           1044185.2537632624,
           1677788.2186916468
          ],
          [
           3340759.655962063,
           2437364.586495862,
           1727716.6988608418,
           1211815.9930570023,
           889662.4690843438,
           761256.1269428664,
           826596.9666325699,
           1085684.9881534544,
           1538520.1915055201,
           2185102.576688766
          ],
          [
           3953481.453887652,
           3063065.804676312,
           2366397.3372961525,
           1863476.051747175,
           1554301.948029378,
           1438875.026142762,
           1517195.286087327,
           1789262.7278630733,
           2255077.3514700006,
           2914639.1569081084
          ],
          [
           4788425.4740354605,
           3910989.245078983,
           3227300.197953685,
           2737358.332659568,
           2441163.6491966336,
           2338716.147564879,
           2430015.8277643058,
           2715062.689794914,
           3193856.733656702,
           3866397.9593496714
          ]
         ]
        }
       ],
       "layout": {
        "autosize": false,
        "height": 500,
        "margin": {
         "b": 65,
         "l": 65,
         "r": 50,
         "t": 90
        },
        "template": {
         "data": {
          "bar": [
           {
            "error_x": {
             "color": "#2a3f5f"
            },
            "error_y": {
             "color": "#2a3f5f"
            },
            "marker": {
             "line": {
              "color": "#E5ECF6",
              "width": 0.5
             },
             "pattern": {
              "fillmode": "overlay",
              "size": 10,
              "solidity": 0.2
             }
            },
            "type": "bar"
           }
          ],
          "barpolar": [
           {
            "marker": {
             "line": {
              "color": "#E5ECF6",
              "width": 0.5
             },
             "pattern": {
              "fillmode": "overlay",
              "size": 10,
              "solidity": 0.2
             }
            },
            "type": "barpolar"
           }
          ],
          "carpet": [
           {
            "aaxis": {
             "endlinecolor": "#2a3f5f",
             "gridcolor": "white",
             "linecolor": "white",
             "minorgridcolor": "white",
             "startlinecolor": "#2a3f5f"
            },
            "baxis": {
             "endlinecolor": "#2a3f5f",
             "gridcolor": "white",
             "linecolor": "white",
             "minorgridcolor": "white",
             "startlinecolor": "#2a3f5f"
            },
            "type": "carpet"
           }
          ],
          "choropleth": [
           {
            "colorbar": {
             "outlinewidth": 0,
             "ticks": ""
            },
            "type": "choropleth"
           }
          ],
          "contour": [
           {
            "colorbar": {
             "outlinewidth": 0,
             "ticks": ""
            },
            "colorscale": [
             [
              0,
              "#0d0887"
             ],
             [
              0.1111111111111111,
              "#46039f"
             ],
             [
              0.2222222222222222,
              "#7201a8"
             ],
             [
              0.3333333333333333,
              "#9c179e"
             ],
             [
              0.4444444444444444,
              "#bd3786"
             ],
             [
              0.5555555555555556,
              "#d8576b"
             ],
             [
              0.6666666666666666,
              "#ed7953"
             ],
             [
              0.7777777777777778,
              "#fb9f3a"
             ],
             [
              0.8888888888888888,
              "#fdca26"
             ],
             [
              1,
              "#f0f921"
             ]
            ],
            "type": "contour"
           }
          ],
          "contourcarpet": [
           {
            "colorbar": {
             "outlinewidth": 0,
             "ticks": ""
            },
            "type": "contourcarpet"
           }
          ],
          "heatmap": [
           {
            "colorbar": {
             "outlinewidth": 0,
             "ticks": ""
            },
            "colorscale": [
             [
              0,
              "#0d0887"
             ],
             [
              0.1111111111111111,
              "#46039f"
             ],
             [
              0.2222222222222222,
              "#7201a8"
             ],
             [
              0.3333333333333333,
              "#9c179e"
             ],
             [
              0.4444444444444444,
              "#bd3786"
             ],
             [
              0.5555555555555556,
              "#d8576b"
             ],
             [
              0.6666666666666666,
              "#ed7953"
             ],
             [
              0.7777777777777778,
              "#fb9f3a"
             ],
             [
              0.8888888888888888,
              "#fdca26"
             ],
             [
              1,
              "#f0f921"
             ]
            ],
            "type": "heatmap"
           }
          ],
          "heatmapgl": [
           {
            "colorbar": {
             "outlinewidth": 0,
             "ticks": ""
            },
            "colorscale": [
             [
              0,
              "#0d0887"
             ],
             [
              0.1111111111111111,
              "#46039f"
             ],
             [
              0.2222222222222222,
              "#7201a8"
             ],
             [
              0.3333333333333333,
              "#9c179e"
             ],
             [
              0.4444444444444444,
              "#bd3786"
             ],
             [
              0.5555555555555556,
              "#d8576b"
             ],
             [
              0.6666666666666666,
              "#ed7953"
             ],
             [
              0.7777777777777778,
              "#fb9f3a"
             ],
             [
              0.8888888888888888,
              "#fdca26"
             ],
             [
              1,
              "#f0f921"
             ]
            ],
            "type": "heatmapgl"
           }
          ],
          "histogram": [
           {
            "marker": {
             "pattern": {
              "fillmode": "overlay",
              "size": 10,
              "solidity": 0.2
             }
            },
            "type": "histogram"
           }
          ],
          "histogram2d": [
           {
            "colorbar": {
             "outlinewidth": 0,
             "ticks": ""
            },
            "colorscale": [
             [
              0,
              "#0d0887"
             ],
             [
              0.1111111111111111,
              "#46039f"
             ],
             [
              0.2222222222222222,
              "#7201a8"
             ],
             [
              0.3333333333333333,
              "#9c179e"
             ],
             [
              0.4444444444444444,
              "#bd3786"
             ],
             [
              0.5555555555555556,
              "#d8576b"
             ],
             [
              0.6666666666666666,
              "#ed7953"
             ],
             [
              0.7777777777777778,
              "#fb9f3a"
             ],
             [
              0.8888888888888888,
              "#fdca26"
             ],
             [
              1,
              "#f0f921"
             ]
            ],
            "type": "histogram2d"
           }
          ],
          "histogram2dcontour": [
           {
            "colorbar": {
             "outlinewidth": 0,
             "ticks": ""
            },
            "colorscale": [
             [
              0,
              "#0d0887"
             ],
             [
              0.1111111111111111,
              "#46039f"
             ],
             [
              0.2222222222222222,
              "#7201a8"
             ],
             [
              0.3333333333333333,
              "#9c179e"
             ],
             [
              0.4444444444444444,
              "#bd3786"
             ],
             [
              0.5555555555555556,
              "#d8576b"
             ],
             [
              0.6666666666666666,
              "#ed7953"
             ],
             [
              0.7777777777777778,
              "#fb9f3a"
             ],
             [
              0.8888888888888888,
              "#fdca26"
             ],
             [
              1,
              "#f0f921"
             ]
            ],
            "type": "histogram2dcontour"
           }
          ],
          "mesh3d": [
           {
            "colorbar": {
             "outlinewidth": 0,
             "ticks": ""
            },
            "type": "mesh3d"
           }
          ],
          "parcoords": [
           {
            "line": {
             "colorbar": {
              "outlinewidth": 0,
              "ticks": ""
             }
            },
            "type": "parcoords"
           }
          ],
          "pie": [
           {
            "automargin": true,
            "type": "pie"
           }
          ],
          "scatter": [
           {
            "marker": {
             "colorbar": {
              "outlinewidth": 0,
              "ticks": ""
             }
            },
            "type": "scatter"
           }
          ],
          "scatter3d": [
           {
            "line": {
             "colorbar": {
              "outlinewidth": 0,
              "ticks": ""
             }
            },
            "marker": {
             "colorbar": {
              "outlinewidth": 0,
              "ticks": ""
             }
            },
            "type": "scatter3d"
           }
          ],
          "scattercarpet": [
           {
            "marker": {
             "colorbar": {
              "outlinewidth": 0,
              "ticks": ""
             }
            },
            "type": "scattercarpet"
           }
          ],
          "scattergeo": [
           {
            "marker": {
             "colorbar": {
              "outlinewidth": 0,
              "ticks": ""
             }
            },
            "type": "scattergeo"
           }
          ],
          "scattergl": [
           {
            "marker": {
             "colorbar": {
              "outlinewidth": 0,
              "ticks": ""
             }
            },
            "type": "scattergl"
           }
          ],
          "scattermapbox": [
           {
            "marker": {
             "colorbar": {
              "outlinewidth": 0,
              "ticks": ""
             }
            },
            "type": "scattermapbox"
           }
          ],
          "scatterpolar": [
           {
            "marker": {
             "colorbar": {
              "outlinewidth": 0,
              "ticks": ""
             }
            },
            "type": "scatterpolar"
           }
          ],
          "scatterpolargl": [
           {
            "marker": {
             "colorbar": {
              "outlinewidth": 0,
              "ticks": ""
             }
            },
            "type": "scatterpolargl"
           }
          ],
          "scatterternary": [
           {
            "marker": {
             "colorbar": {
              "outlinewidth": 0,
              "ticks": ""
             }
            },
            "type": "scatterternary"
           }
          ],
          "surface": [
           {
            "colorbar": {
             "outlinewidth": 0,
             "ticks": ""
            },
            "colorscale": [
             [
              0,
              "#0d0887"
             ],
             [
              0.1111111111111111,
              "#46039f"
             ],
             [
              0.2222222222222222,
              "#7201a8"
             ],
             [
              0.3333333333333333,
              "#9c179e"
             ],
             [
              0.4444444444444444,
              "#bd3786"
             ],
             [
              0.5555555555555556,
              "#d8576b"
             ],
             [
              0.6666666666666666,
              "#ed7953"
             ],
             [
              0.7777777777777778,
              "#fb9f3a"
             ],
             [
              0.8888888888888888,
              "#fdca26"
             ],
             [
              1,
              "#f0f921"
             ]
            ],
            "type": "surface"
           }
          ],
          "table": [
           {
            "cells": {
             "fill": {
              "color": "#EBF0F8"
             },
             "line": {
              "color": "white"
             }
            },
            "header": {
             "fill": {
              "color": "#C8D4E3"
             },
             "line": {
              "color": "white"
             }
            },
            "type": "table"
           }
          ]
         },
         "layout": {
          "annotationdefaults": {
           "arrowcolor": "#2a3f5f",
           "arrowhead": 0,
           "arrowwidth": 1
          },
          "autotypenumbers": "strict",
          "coloraxis": {
           "colorbar": {
            "outlinewidth": 0,
            "ticks": ""
           }
          },
          "colorscale": {
           "diverging": [
            [
             0,
             "#8e0152"
            ],
            [
             0.1,
             "#c51b7d"
            ],
            [
             0.2,
             "#de77ae"
            ],
            [
             0.3,
             "#f1b6da"
            ],
            [
             0.4,
             "#fde0ef"
            ],
            [
             0.5,
             "#f7f7f7"
            ],
            [
             0.6,
             "#e6f5d0"
            ],
            [
             0.7,
             "#b8e186"
            ],
            [
             0.8,
             "#7fbc41"
            ],
            [
             0.9,
             "#4d9221"
            ],
            [
             1,
             "#276419"
            ]
           ],
           "sequential": [
            [
             0,
             "#0d0887"
            ],
            [
             0.1111111111111111,
             "#46039f"
            ],
            [
             0.2222222222222222,
             "#7201a8"
            ],
            [
             0.3333333333333333,
             "#9c179e"
            ],
            [
             0.4444444444444444,
             "#bd3786"
            ],
            [
             0.5555555555555556,
             "#d8576b"
            ],
            [
             0.6666666666666666,
             "#ed7953"
            ],
            [
             0.7777777777777778,
             "#fb9f3a"
            ],
            [
             0.8888888888888888,
             "#fdca26"
            ],
            [
             1,
             "#f0f921"
            ]
           ],
           "sequentialminus": [
            [
             0,
             "#0d0887"
            ],
            [
             0.1111111111111111,
             "#46039f"
            ],
            [
             0.2222222222222222,
             "#7201a8"
            ],
            [
             0.3333333333333333,
             "#9c179e"
            ],
            [
             0.4444444444444444,
             "#bd3786"
            ],
            [
             0.5555555555555556,
             "#d8576b"
            ],
            [
             0.6666666666666666,
             "#ed7953"
            ],
            [
             0.7777777777777778,
             "#fb9f3a"
            ],
            [
             0.8888888888888888,
             "#fdca26"
            ],
            [
             1,
             "#f0f921"
            ]
           ]
          },
          "colorway": [
           "#636efa",
           "#EF553B",
           "#00cc96",
           "#ab63fa",
           "#FFA15A",
           "#19d3f3",
           "#FF6692",
           "#B6E880",
           "#FF97FF",
           "#FECB52"
          ],
          "font": {
           "color": "#2a3f5f"
          },
          "geo": {
           "bgcolor": "white",
           "lakecolor": "white",
           "landcolor": "#E5ECF6",
           "showlakes": true,
           "showland": true,
           "subunitcolor": "white"
          },
          "hoverlabel": {
           "align": "left"
          },
          "hovermode": "closest",
          "mapbox": {
           "style": "light"
          },
          "paper_bgcolor": "white",
          "plot_bgcolor": "#E5ECF6",
          "polar": {
           "angularaxis": {
            "gridcolor": "white",
            "linecolor": "white",
            "ticks": ""
           },
           "bgcolor": "#E5ECF6",
           "radialaxis": {
            "gridcolor": "white",
            "linecolor": "white",
            "ticks": ""
           }
          },
          "scene": {
           "xaxis": {
            "backgroundcolor": "#E5ECF6",
            "gridcolor": "white",
            "gridwidth": 2,
            "linecolor": "white",
            "showbackground": true,
            "ticks": "",
            "zerolinecolor": "white"
           },
           "yaxis": {
            "backgroundcolor": "#E5ECF6",
            "gridcolor": "white",
            "gridwidth": 2,
            "linecolor": "white",
            "showbackground": true,
            "ticks": "",
            "zerolinecolor": "white"
           },
           "zaxis": {
            "backgroundcolor": "#E5ECF6",
            "gridcolor": "white",
            "gridwidth": 2,
            "linecolor": "white",
            "showbackground": true,
            "ticks": "",
            "zerolinecolor": "white"
           }
          },
          "shapedefaults": {
           "line": {
            "color": "#2a3f5f"
           }
          },
          "ternary": {
           "aaxis": {
            "gridcolor": "white",
            "linecolor": "white",
            "ticks": ""
           },
           "baxis": {
            "gridcolor": "white",
            "linecolor": "white",
            "ticks": ""
           },
           "bgcolor": "#E5ECF6",
           "caxis": {
            "gridcolor": "white",
            "linecolor": "white",
            "ticks": ""
           }
          },
          "title": {
           "x": 0.05
          },
          "xaxis": {
           "automargin": true,
           "gridcolor": "white",
           "linecolor": "white",
           "ticks": "",
           "title": {
            "standoff": 15
           },
           "zerolinecolor": "white",
           "zerolinewidth": 2
          },
          "yaxis": {
           "automargin": true,
           "gridcolor": "white",
           "linecolor": "white",
           "ticks": "",
           "title": {
            "standoff": 15
           },
           "zerolinecolor": "white",
           "zerolinewidth": 2
          }
         }
        },
        "title": {
         "text": "Cost Function"
        },
        "width": 500
       }
      },
      "text/html": [
       "<div>                            <div id=\"9841b876-0058-45ed-bd4e-ff0ba754e104\" class=\"plotly-graph-div\" style=\"height:500px; width:500px;\"></div>            <script type=\"text/javascript\">                require([\"plotly\"], function(Plotly) {                    window.PLOTLYENV=window.PLOTLYENV || {};                                    if (document.getElementById(\"9841b876-0058-45ed-bd4e-ff0ba754e104\")) {                    Plotly.newPlot(                        \"9841b876-0058-45ed-bd4e-ff0ba754e104\",                        [{\"x\":[-150.0,-116.66666666666666,-83.33333333333333,-50.0,-16.666666666666657,16.666666666666686,50.0,83.33333333333334,116.66666666666669,150.0],\"y\":[-150.0,-116.66666666666666,-83.33333333333333,-50.0,-16.666666666666657,16.666666666666686,50.0,83.33333333333334,116.66666666666669,150.0],\"z\":[[5273929.292705172,4279678.28145494,3479174.4520358886,2872417.804448019,2459408.338691329,2240146.0547658214,2214630.9526714943,2382863.032408348,2744842.2939763833,3300568.7373755984],[4331095.5350752035,3349823.944079833,2562299.5349156437,1968522.3075826352,1568492.2620808077,1362209.398410161,1349673.7165706954,1530885.2165624106,1905843.8983853073,2474549.762039384],[3610483.9996674587,2642191.8289269493,1867646.8400176212,1286849.0329394746,899798.407692508,706494.9642767227,706938.7026921188,901129.6229386957,1289067.7250164538,1870753.008925392],[3112094.6864819354,2156781.935996287,1395216.367341821,827397.9805185355,453326.7755264308,273002.7523655072,286425.9110357646,493596.25153720303,894513.7738698225,1489178.4780336225],[2835927.595518634,1893594.2652878477,1145008.1168882428,590169.1503198186,229077.3655825756,61732.76267651357,88135.34160163252,308285.1023579325,722182.0449454137,1329826.169364075],[2781982.7267775554,1852628.8168016304,1117022.0886568867,575162.5423433245,227050.17786094281,72684.99520974231,112066.99438972281,345196.1754008845,772072.5382432269,1392696.08291675],[2950260.0802586977,2033885.590537635,1311258.282647753,782378.1565890519,447245.21236153203,305859.4499651931,358220.86940003507,604329.4706660581,1044185.2537632624,1677788.2186916468],[3340759.655962063,2437364.586495862,1727716.6988608418,1211815.9930570023,889662.4690843438,761256.1269428664,826596.9666325699,1085684.9881534544,1538520.1915055201,2185102.576688766],[3953481.453887652,3063065.804676312,2366397.3372961525,1863476.051747175,1554301.948029378,1438875.026142762,1517195.286087327,1789262.7278630733,2255077.3514700006,2914639.1569081084],[4788425.4740354605,3910989.245078983,3227300.197953685,2737358.332659568,2441163.6491966336,2338716.147564879,2430015.8277643058,2715062.689794914,3193856.733656702,3866397.9593496714]],\"type\":\"surface\"}],                        {\"template\":{\"data\":{\"bar\":[{\"error_x\":{\"color\":\"#2a3f5f\"},\"error_y\":{\"color\":\"#2a3f5f\"},\"marker\":{\"line\":{\"color\":\"#E5ECF6\",\"width\":0.5},\"pattern\":{\"fillmode\":\"overlay\",\"size\":10,\"solidity\":0.2}},\"type\":\"bar\"}],\"barpolar\":[{\"marker\":{\"line\":{\"color\":\"#E5ECF6\",\"width\":0.5},\"pattern\":{\"fillmode\":\"overlay\",\"size\":10,\"solidity\":0.2}},\"type\":\"barpolar\"}],\"carpet\":[{\"aaxis\":{\"endlinecolor\":\"#2a3f5f\",\"gridcolor\":\"white\",\"linecolor\":\"white\",\"minorgridcolor\":\"white\",\"startlinecolor\":\"#2a3f5f\"},\"baxis\":{\"endlinecolor\":\"#2a3f5f\",\"gridcolor\":\"white\",\"linecolor\":\"white\",\"minorgridcolor\":\"white\",\"startlinecolor\":\"#2a3f5f\"},\"type\":\"carpet\"}],\"choropleth\":[{\"colorbar\":{\"outlinewidth\":0,\"ticks\":\"\"},\"type\":\"choropleth\"}],\"contour\":[{\"colorbar\":{\"outlinewidth\":0,\"ticks\":\"\"},\"colorscale\":[[0.0,\"#0d0887\"],[0.1111111111111111,\"#46039f\"],[0.2222222222222222,\"#7201a8\"],[0.3333333333333333,\"#9c179e\"],[0.4444444444444444,\"#bd3786\"],[0.5555555555555556,\"#d8576b\"],[0.6666666666666666,\"#ed7953\"],[0.7777777777777778,\"#fb9f3a\"],[0.8888888888888888,\"#fdca26\"],[1.0,\"#f0f921\"]],\"type\":\"contour\"}],\"contourcarpet\":[{\"colorbar\":{\"outlinewidth\":0,\"ticks\":\"\"},\"type\":\"contourcarpet\"}],\"heatmap\":[{\"colorbar\":{\"outlinewidth\":0,\"ticks\":\"\"},\"colorscale\":[[0.0,\"#0d0887\"],[0.1111111111111111,\"#46039f\"],[0.2222222222222222,\"#7201a8\"],[0.3333333333333333,\"#9c179e\"],[0.4444444444444444,\"#bd3786\"],[0.5555555555555556,\"#d8576b\"],[0.6666666666666666,\"#ed7953\"],[0.7777777777777778,\"#fb9f3a\"],[0.8888888888888888,\"#fdca26\"],[1.0,\"#f0f921\"]],\"type\":\"heatmap\"}],\"heatmapgl\":[{\"colorbar\":{\"outlinewidth\":0,\"ticks\":\"\"},\"colorscale\":[[0.0,\"#0d0887\"],[0.1111111111111111,\"#46039f\"],[0.2222222222222222,\"#7201a8\"],[0.3333333333333333,\"#9c179e\"],[0.4444444444444444,\"#bd3786\"],[0.5555555555555556,\"#d8576b\"],[0.6666666666666666,\"#ed7953\"],[0.7777777777777778,\"#fb9f3a\"],[0.8888888888888888,\"#fdca26\"],[1.0,\"#f0f921\"]],\"type\":\"heatmapgl\"}],\"histogram\":[{\"marker\":{\"pattern\":{\"fillmode\":\"overlay\",\"size\":10,\"solidity\":0.2}},\"type\":\"histogram\"}],\"histogram2d\":[{\"colorbar\":{\"outlinewidth\":0,\"ticks\":\"\"},\"colorscale\":[[0.0,\"#0d0887\"],[0.1111111111111111,\"#46039f\"],[0.2222222222222222,\"#7201a8\"],[0.3333333333333333,\"#9c179e\"],[0.4444444444444444,\"#bd3786\"],[0.5555555555555556,\"#d8576b\"],[0.6666666666666666,\"#ed7953\"],[0.7777777777777778,\"#fb9f3a\"],[0.8888888888888888,\"#fdca26\"],[1.0,\"#f0f921\"]],\"type\":\"histogram2d\"}],\"histogram2dcontour\":[{\"colorbar\":{\"outlinewidth\":0,\"ticks\":\"\"},\"colorscale\":[[0.0,\"#0d0887\"],[0.1111111111111111,\"#46039f\"],[0.2222222222222222,\"#7201a8\"],[0.3333333333333333,\"#9c179e\"],[0.4444444444444444,\"#bd3786\"],[0.5555555555555556,\"#d8576b\"],[0.6666666666666666,\"#ed7953\"],[0.7777777777777778,\"#fb9f3a\"],[0.8888888888888888,\"#fdca26\"],[1.0,\"#f0f921\"]],\"type\":\"histogram2dcontour\"}],\"mesh3d\":[{\"colorbar\":{\"outlinewidth\":0,\"ticks\":\"\"},\"type\":\"mesh3d\"}],\"parcoords\":[{\"line\":{\"colorbar\":{\"outlinewidth\":0,\"ticks\":\"\"}},\"type\":\"parcoords\"}],\"pie\":[{\"automargin\":true,\"type\":\"pie\"}],\"scatter\":[{\"marker\":{\"colorbar\":{\"outlinewidth\":0,\"ticks\":\"\"}},\"type\":\"scatter\"}],\"scatter3d\":[{\"line\":{\"colorbar\":{\"outlinewidth\":0,\"ticks\":\"\"}},\"marker\":{\"colorbar\":{\"outlinewidth\":0,\"ticks\":\"\"}},\"type\":\"scatter3d\"}],\"scattercarpet\":[{\"marker\":{\"colorbar\":{\"outlinewidth\":0,\"ticks\":\"\"}},\"type\":\"scattercarpet\"}],\"scattergeo\":[{\"marker\":{\"colorbar\":{\"outlinewidth\":0,\"ticks\":\"\"}},\"type\":\"scattergeo\"}],\"scattergl\":[{\"marker\":{\"colorbar\":{\"outlinewidth\":0,\"ticks\":\"\"}},\"type\":\"scattergl\"}],\"scattermapbox\":[{\"marker\":{\"colorbar\":{\"outlinewidth\":0,\"ticks\":\"\"}},\"type\":\"scattermapbox\"}],\"scatterpolar\":[{\"marker\":{\"colorbar\":{\"outlinewidth\":0,\"ticks\":\"\"}},\"type\":\"scatterpolar\"}],\"scatterpolargl\":[{\"marker\":{\"colorbar\":{\"outlinewidth\":0,\"ticks\":\"\"}},\"type\":\"scatterpolargl\"}],\"scatterternary\":[{\"marker\":{\"colorbar\":{\"outlinewidth\":0,\"ticks\":\"\"}},\"type\":\"scatterternary\"}],\"surface\":[{\"colorbar\":{\"outlinewidth\":0,\"ticks\":\"\"},\"colorscale\":[[0.0,\"#0d0887\"],[0.1111111111111111,\"#46039f\"],[0.2222222222222222,\"#7201a8\"],[0.3333333333333333,\"#9c179e\"],[0.4444444444444444,\"#bd3786\"],[0.5555555555555556,\"#d8576b\"],[0.6666666666666666,\"#ed7953\"],[0.7777777777777778,\"#fb9f3a\"],[0.8888888888888888,\"#fdca26\"],[1.0,\"#f0f921\"]],\"type\":\"surface\"}],\"table\":[{\"cells\":{\"fill\":{\"color\":\"#EBF0F8\"},\"line\":{\"color\":\"white\"}},\"header\":{\"fill\":{\"color\":\"#C8D4E3\"},\"line\":{\"color\":\"white\"}},\"type\":\"table\"}]},\"layout\":{\"annotationdefaults\":{\"arrowcolor\":\"#2a3f5f\",\"arrowhead\":0,\"arrowwidth\":1},\"autotypenumbers\":\"strict\",\"coloraxis\":{\"colorbar\":{\"outlinewidth\":0,\"ticks\":\"\"}},\"colorscale\":{\"diverging\":[[0,\"#8e0152\"],[0.1,\"#c51b7d\"],[0.2,\"#de77ae\"],[0.3,\"#f1b6da\"],[0.4,\"#fde0ef\"],[0.5,\"#f7f7f7\"],[0.6,\"#e6f5d0\"],[0.7,\"#b8e186\"],[0.8,\"#7fbc41\"],[0.9,\"#4d9221\"],[1,\"#276419\"]],\"sequential\":[[0.0,\"#0d0887\"],[0.1111111111111111,\"#46039f\"],[0.2222222222222222,\"#7201a8\"],[0.3333333333333333,\"#9c179e\"],[0.4444444444444444,\"#bd3786\"],[0.5555555555555556,\"#d8576b\"],[0.6666666666666666,\"#ed7953\"],[0.7777777777777778,\"#fb9f3a\"],[0.8888888888888888,\"#fdca26\"],[1.0,\"#f0f921\"]],\"sequentialminus\":[[0.0,\"#0d0887\"],[0.1111111111111111,\"#46039f\"],[0.2222222222222222,\"#7201a8\"],[0.3333333333333333,\"#9c179e\"],[0.4444444444444444,\"#bd3786\"],[0.5555555555555556,\"#d8576b\"],[0.6666666666666666,\"#ed7953\"],[0.7777777777777778,\"#fb9f3a\"],[0.8888888888888888,\"#fdca26\"],[1.0,\"#f0f921\"]]},\"colorway\":[\"#636efa\",\"#EF553B\",\"#00cc96\",\"#ab63fa\",\"#FFA15A\",\"#19d3f3\",\"#FF6692\",\"#B6E880\",\"#FF97FF\",\"#FECB52\"],\"font\":{\"color\":\"#2a3f5f\"},\"geo\":{\"bgcolor\":\"white\",\"lakecolor\":\"white\",\"landcolor\":\"#E5ECF6\",\"showlakes\":true,\"showland\":true,\"subunitcolor\":\"white\"},\"hoverlabel\":{\"align\":\"left\"},\"hovermode\":\"closest\",\"mapbox\":{\"style\":\"light\"},\"paper_bgcolor\":\"white\",\"plot_bgcolor\":\"#E5ECF6\",\"polar\":{\"angularaxis\":{\"gridcolor\":\"white\",\"linecolor\":\"white\",\"ticks\":\"\"},\"bgcolor\":\"#E5ECF6\",\"radialaxis\":{\"gridcolor\":\"white\",\"linecolor\":\"white\",\"ticks\":\"\"}},\"scene\":{\"xaxis\":{\"backgroundcolor\":\"#E5ECF6\",\"gridcolor\":\"white\",\"gridwidth\":2,\"linecolor\":\"white\",\"showbackground\":true,\"ticks\":\"\",\"zerolinecolor\":\"white\"},\"yaxis\":{\"backgroundcolor\":\"#E5ECF6\",\"gridcolor\":\"white\",\"gridwidth\":2,\"linecolor\":\"white\",\"showbackground\":true,\"ticks\":\"\",\"zerolinecolor\":\"white\"},\"zaxis\":{\"backgroundcolor\":\"#E5ECF6\",\"gridcolor\":\"white\",\"gridwidth\":2,\"linecolor\":\"white\",\"showbackground\":true,\"ticks\":\"\",\"zerolinecolor\":\"white\"}},\"shapedefaults\":{\"line\":{\"color\":\"#2a3f5f\"}},\"ternary\":{\"aaxis\":{\"gridcolor\":\"white\",\"linecolor\":\"white\",\"ticks\":\"\"},\"baxis\":{\"gridcolor\":\"white\",\"linecolor\":\"white\",\"ticks\":\"\"},\"bgcolor\":\"#E5ECF6\",\"caxis\":{\"gridcolor\":\"white\",\"linecolor\":\"white\",\"ticks\":\"\"}},\"title\":{\"x\":0.05},\"xaxis\":{\"automargin\":true,\"gridcolor\":\"white\",\"linecolor\":\"white\",\"ticks\":\"\",\"title\":{\"standoff\":15},\"zerolinecolor\":\"white\",\"zerolinewidth\":2},\"yaxis\":{\"automargin\":true,\"gridcolor\":\"white\",\"linecolor\":\"white\",\"ticks\":\"\",\"title\":{\"standoff\":15},\"zerolinecolor\":\"white\",\"zerolinewidth\":2}}},\"margin\":{\"l\":65,\"r\":50,\"b\":65,\"t\":90},\"title\":{\"text\":\"Cost Function\"},\"autosize\":false,\"width\":500,\"height\":500},                        {\"responsive\": true}                    ).then(function(){\n",
       "                            \n",
       "var gd = document.getElementById('9841b876-0058-45ed-bd4e-ff0ba754e104');\n",
       "var x = new MutationObserver(function (mutations, observer) {{\n",
       "        var display = window.getComputedStyle(gd).display;\n",
       "        if (!display || display === 'none') {{\n",
       "            console.log([gd, 'removed!']);\n",
       "            Plotly.purge(gd);\n",
       "            observer.disconnect();\n",
       "        }}\n",
       "}});\n",
       "\n",
       "// Listen for the removal of the full notebook cells\n",
       "var notebookContainer = gd.closest('#notebook-container');\n",
       "if (notebookContainer) {{\n",
       "    x.observe(notebookContainer, {childList: true});\n",
       "}}\n",
       "\n",
       "// Listen for the clearing of the current output cell\n",
       "var outputEl = gd.closest('.output');\n",
       "if (outputEl) {{\n",
       "    x.observe(outputEl, {childList: true});\n",
       "}}\n",
       "\n",
       "                        })                };                });            </script>        </div>"
      ]
     },
     "metadata": {},
     "output_type": "display_data"
    }
   ],
   "source": [
    "import plotly.graph_objects as go\n",
    "\n",
    "fig = go.Figure(data=[go.Surface(x = m_arr, y = b_arr, z =z_arr)])\n",
    "\n",
    "fig.update_layout(title='Cost Function', autosize=False,\n",
    "                  width=500, height=500,\n",
    "                  margin=dict(l=65, r=50, b=65, t=90))\n",
    "\n",
    "\n",
    "\n",
    "fig.show()\n",
    "\n",
    "fig.write_html(\"cost_function.html\")"
   ]
  },
  {
   "cell_type": "code",
   "execution_count": 10,
   "id": "41047cbb",
   "metadata": {},
   "outputs": [],
   "source": [
    "b = 150\n",
    "m = -127.82\n",
    "lr = 0.001\n",
    "all_b = []\n",
    "all_m = []\n",
    "all_cost = []\n",
    "\n",
    "epochs = 30\n",
    "\n",
    "for i in range(epochs):\n",
    "    slope_b = 0\n",
    "    slope_m = 0\n",
    "    cost = 0\n",
    "    for j in range(X.shape[0]):\n",
    "        slope_b = slope_b - 2*(y[j] - (m * X[j]) -  b)\n",
    "        slope_m = slope_m - 2*(y[j] - (m * X[j]) -  b)*X[j]\n",
    "        cost = cost + (y[j] - m * X[j] -b) ** 2\n",
    "\n",
    "    b = b - (lr * slope_b)\n",
    "    m = m - (lr * slope_m)\n",
    "    all_b.append(b)\n",
    "    all_m.append(m)\n",
    "    all_cost.append(cost)"
   ]
  },
  {
   "cell_type": "code",
   "execution_count": 11,
   "id": "60fe1471",
   "metadata": {},
   "outputs": [
    {
     "data": {
      "application/vnd.plotly.v1+json": {
       "config": {
        "plotlyServerURL": "https://plot.ly"
       },
       "data": [
        {
         "hovertemplate": "x=%{x}<br>y=%{y}<br>z=%{z}<extra></extra>",
         "legendgroup": "",
         "marker": {
          "color": "#636efa",
          "symbol": "circle"
         },
         "mode": "markers",
         "name": "",
         "scene": "scene",
         "showlegend": false,
         "type": "scatter3d",
         "x": [
          -102.45828664755196,
          -81.1843914473308,
          -63.34896395302701,
          -48.403749871387426,
          -35.88630060537817,
          -25.406895241560335,
          -16.637377863924723,
          -9.301647453171054,
          -3.1675694587391057,
          1.959892829319645,
          6.244502792001,
          9.823683162342824,
          12.812688420504038,
          15.308130181390235,
          17.39095285579061,
          19.1289429224446,
          20.578843045640394,
          21.788131806114162,
          22.796520790129687,
          23.63721302569696,
          24.337960105055306,
          24.92194964413773,
          25.40854987382013,
          25.813934020282456,
          26.1516036124906,
          26.432826865954603,
          26.667005757192673,
          26.86198325654659,
          27.024300370967964,
          27.159411113875716
         ],
         "y": [
          121.35925087510485,
          98.15038927280241,
          79.33478944732508,
          64.0739654289569,
          51.690724021334326,
          41.63790858414807,
          33.473241288784834,
          26.83906652616526,
          21.446034540979813,
          17.05995385428221,
          13.491192965834227,
          10.586133677075413,
          8.220276128493204,
          6.29267408977674,
          4.721442010201102,
          3.4401258988139345,
          2.394770716577711,
          1.5415495940648518,
          0.8448464157260619,
          0.27570439909151034,
          -0.18942974226351472,
          -0.5697228170993577,
          -0.8807791380550064,
          -1.1353084048089692,
          -1.3436673042935732,
          -1.514298903871358,
          -1.6540892868465198,
          -1.7686571488464258,
          -1.8625890638602716,
          -1.9396306997097164
         ],
         "z": [
          418301119.5885374,
          284912588.1289921,
          194545211.05181247,
          133253955.52312997,
          91638625.49308446,
          63353972.030531414,
          44111259.23728392,
          31008115.631710626,
          22078041.900908563,
          15987130.20808693,
          11829599.08225496,
          8989759.549626498,
          7048707.200181888,
          5721169.462572761,
          4812711.860385524,
          4190707.3284914177,
          3764621.1835932024,
          3472608.9401395163,
          3272396.8940121983,
          3135071.318862195,
          3040845.0147636286,
          2976169.3899937198,
          2931762.959337781,
          2901264.520617598,
          2880312.48105918,
          2865915.114153259,
          2856019.570783133,
          2849216.760573407,
          2844539.171373084,
          2841322.296143108
         ]
        },
        {
         "type": "surface",
         "x": [
          -150,
          -116.66666666666666,
          -83.33333333333333,
          -50,
          -16.666666666666657,
          16.666666666666686,
          50,
          83.33333333333334,
          116.66666666666669,
          150
         ],
         "y": [
          -150,
          -116.66666666666666,
          -83.33333333333333,
          -50,
          -16.666666666666657,
          16.666666666666686,
          50,
          83.33333333333334,
          116.66666666666669,
          150
         ],
         "z": [
          [
           527392929.2705172,
           427967828.14549404,
           347917445.20358884,
           287241780.44480187,
           245940833.8691329,
           224014605.47658214,
           221463095.26714945,
           238286303.24083477,
           274484229.3976383,
           330056873.73755985
          ],
          [
           433109553.5075204,
           334982394.4079833,
           256229953.49156436,
           196852230.75826353,
           156849226.20808077,
           136220939.8410161,
           134967371.65706953,
           153088521.65624106,
           190584389.83853072,
           247454976.2039384
          ],
          [
           361048399.96674585,
           264219182.89269492,
           186764684.00176212,
           128684903.29394746,
           89979840.7692508,
           70649496.42767228,
           70693870.26921189,
           90112962.29386957,
           128906772.50164537,
           187075300.8925392
          ],
          [
           311209468.64819354,
           215678193.59962872,
           139521636.73418212,
           82739798.05185355,
           45332677.55264308,
           27300275.23655072,
           28642591.103576463,
           49359625.153720304,
           89451377.38698225,
           148917847.80336225
          ],
          [
           283592759.55186343,
           189359426.52878478,
           114500811.68882428,
           59016915.03198186,
           22907736.55825756,
           6173276.267651357,
           8813534.160163252,
           30828510.235793248,
           72218204.49454138,
           132982616.93640749
          ],
          [
           278198272.67775553,
           185262881.68016306,
           111702208.86568867,
           57516254.23433245,
           22705017.78609428,
           7268499.520974231,
           11206699.438972281,
           34519617.540088445,
           77207253.8243227,
           139269608.291675
          ],
          [
           295026008.0258698,
           203388559.05376348,
           131125828.26477529,
           78237815.6589052,
           44724521.2361532,
           30585944.996519312,
           35822086.94000351,
           60432947.066605814,
           104418525.37632625,
           167778821.86916468
          ],
          [
           334075965.5962063,
           243736458.6495862,
           172771669.88608417,
           121181599.30570023,
           88966246.90843438,
           76125612.69428663,
           82659696.66325699,
           108568498.81534544,
           153852019.150552,
           218510257.6688766
          ],
          [
           395348145.3887652,
           306306580.4676312,
           236639733.72961524,
           186347605.1747175,
           155430194.8029378,
           143887502.6142762,
           151719528.6087327,
           178926272.78630733,
           225507735.14700004,
           291463915.69081086
          ],
          [
           478842547.40354604,
           391098924.5078983,
           322730019.7953685,
           273735833.2659568,
           244116364.91966337,
           233871614.7564879,
           243001582.77643058,
           271506268.9794914,
           319385673.3656702,
           386639795.93496716
          ]
         ]
        }
       ],
       "layout": {
        "legend": {
         "tracegroupgap": 0
        },
        "margin": {
         "t": 60
        },
        "scene": {
         "domain": {
          "x": [
           0,
           1
          ],
          "y": [
           0,
           1
          ]
         },
         "xaxis": {
          "title": {
           "text": "x"
          }
         },
         "yaxis": {
          "title": {
           "text": "y"
          }
         },
         "zaxis": {
          "title": {
           "text": "z"
          }
         }
        },
        "template": {
         "data": {
          "bar": [
           {
            "error_x": {
             "color": "#2a3f5f"
            },
            "error_y": {
             "color": "#2a3f5f"
            },
            "marker": {
             "line": {
              "color": "#E5ECF6",
              "width": 0.5
             },
             "pattern": {
              "fillmode": "overlay",
              "size": 10,
              "solidity": 0.2
             }
            },
            "type": "bar"
           }
          ],
          "barpolar": [
           {
            "marker": {
             "line": {
              "color": "#E5ECF6",
              "width": 0.5
             },
             "pattern": {
              "fillmode": "overlay",
              "size": 10,
              "solidity": 0.2
             }
            },
            "type": "barpolar"
           }
          ],
          "carpet": [
           {
            "aaxis": {
             "endlinecolor": "#2a3f5f",
             "gridcolor": "white",
             "linecolor": "white",
             "minorgridcolor": "white",
             "startlinecolor": "#2a3f5f"
            },
            "baxis": {
             "endlinecolor": "#2a3f5f",
             "gridcolor": "white",
             "linecolor": "white",
             "minorgridcolor": "white",
             "startlinecolor": "#2a3f5f"
            },
            "type": "carpet"
           }
          ],
          "choropleth": [
           {
            "colorbar": {
             "outlinewidth": 0,
             "ticks": ""
            },
            "type": "choropleth"
           }
          ],
          "contour": [
           {
            "colorbar": {
             "outlinewidth": 0,
             "ticks": ""
            },
            "colorscale": [
             [
              0,
              "#0d0887"
             ],
             [
              0.1111111111111111,
              "#46039f"
             ],
             [
              0.2222222222222222,
              "#7201a8"
             ],
             [
              0.3333333333333333,
              "#9c179e"
             ],
             [
              0.4444444444444444,
              "#bd3786"
             ],
             [
              0.5555555555555556,
              "#d8576b"
             ],
             [
              0.6666666666666666,
              "#ed7953"
             ],
             [
              0.7777777777777778,
              "#fb9f3a"
             ],
             [
              0.8888888888888888,
              "#fdca26"
             ],
             [
              1,
              "#f0f921"
             ]
            ],
            "type": "contour"
           }
          ],
          "contourcarpet": [
           {
            "colorbar": {
             "outlinewidth": 0,
             "ticks": ""
            },
            "type": "contourcarpet"
           }
          ],
          "heatmap": [
           {
            "colorbar": {
             "outlinewidth": 0,
             "ticks": ""
            },
            "colorscale": [
             [
              0,
              "#0d0887"
             ],
             [
              0.1111111111111111,
              "#46039f"
             ],
             [
              0.2222222222222222,
              "#7201a8"
             ],
             [
              0.3333333333333333,
              "#9c179e"
             ],
             [
              0.4444444444444444,
              "#bd3786"
             ],
             [
              0.5555555555555556,
              "#d8576b"
             ],
             [
              0.6666666666666666,
              "#ed7953"
             ],
             [
              0.7777777777777778,
              "#fb9f3a"
             ],
             [
              0.8888888888888888,
              "#fdca26"
             ],
             [
              1,
              "#f0f921"
             ]
            ],
            "type": "heatmap"
           }
          ],
          "heatmapgl": [
           {
            "colorbar": {
             "outlinewidth": 0,
             "ticks": ""
            },
            "colorscale": [
             [
              0,
              "#0d0887"
             ],
             [
              0.1111111111111111,
              "#46039f"
             ],
             [
              0.2222222222222222,
              "#7201a8"
             ],
             [
              0.3333333333333333,
              "#9c179e"
             ],
             [
              0.4444444444444444,
              "#bd3786"
             ],
             [
              0.5555555555555556,
              "#d8576b"
             ],
             [
              0.6666666666666666,
              "#ed7953"
             ],
             [
              0.7777777777777778,
              "#fb9f3a"
             ],
             [
              0.8888888888888888,
              "#fdca26"
             ],
             [
              1,
              "#f0f921"
             ]
            ],
            "type": "heatmapgl"
           }
          ],
          "histogram": [
           {
            "marker": {
             "pattern": {
              "fillmode": "overlay",
              "size": 10,
              "solidity": 0.2
             }
            },
            "type": "histogram"
           }
          ],
          "histogram2d": [
           {
            "colorbar": {
             "outlinewidth": 0,
             "ticks": ""
            },
            "colorscale": [
             [
              0,
              "#0d0887"
             ],
             [
              0.1111111111111111,
              "#46039f"
             ],
             [
              0.2222222222222222,
              "#7201a8"
             ],
             [
              0.3333333333333333,
              "#9c179e"
             ],
             [
              0.4444444444444444,
              "#bd3786"
             ],
             [
              0.5555555555555556,
              "#d8576b"
             ],
             [
              0.6666666666666666,
              "#ed7953"
             ],
             [
              0.7777777777777778,
              "#fb9f3a"
             ],
             [
              0.8888888888888888,
              "#fdca26"
             ],
             [
              1,
              "#f0f921"
             ]
            ],
            "type": "histogram2d"
           }
          ],
          "histogram2dcontour": [
           {
            "colorbar": {
             "outlinewidth": 0,
             "ticks": ""
            },
            "colorscale": [
             [
              0,
              "#0d0887"
             ],
             [
              0.1111111111111111,
              "#46039f"
             ],
             [
              0.2222222222222222,
              "#7201a8"
             ],
             [
              0.3333333333333333,
              "#9c179e"
             ],
             [
              0.4444444444444444,
              "#bd3786"
             ],
             [
              0.5555555555555556,
              "#d8576b"
             ],
             [
              0.6666666666666666,
              "#ed7953"
             ],
             [
              0.7777777777777778,
              "#fb9f3a"
             ],
             [
              0.8888888888888888,
              "#fdca26"
             ],
             [
              1,
              "#f0f921"
             ]
            ],
            "type": "histogram2dcontour"
           }
          ],
          "mesh3d": [
           {
            "colorbar": {
             "outlinewidth": 0,
             "ticks": ""
            },
            "type": "mesh3d"
           }
          ],
          "parcoords": [
           {
            "line": {
             "colorbar": {
              "outlinewidth": 0,
              "ticks": ""
             }
            },
            "type": "parcoords"
           }
          ],
          "pie": [
           {
            "automargin": true,
            "type": "pie"
           }
          ],
          "scatter": [
           {
            "marker": {
             "colorbar": {
              "outlinewidth": 0,
              "ticks": ""
             }
            },
            "type": "scatter"
           }
          ],
          "scatter3d": [
           {
            "line": {
             "colorbar": {
              "outlinewidth": 0,
              "ticks": ""
             }
            },
            "marker": {
             "colorbar": {
              "outlinewidth": 0,
              "ticks": ""
             }
            },
            "type": "scatter3d"
           }
          ],
          "scattercarpet": [
           {
            "marker": {
             "colorbar": {
              "outlinewidth": 0,
              "ticks": ""
             }
            },
            "type": "scattercarpet"
           }
          ],
          "scattergeo": [
           {
            "marker": {
             "colorbar": {
              "outlinewidth": 0,
              "ticks": ""
             }
            },
            "type": "scattergeo"
           }
          ],
          "scattergl": [
           {
            "marker": {
             "colorbar": {
              "outlinewidth": 0,
              "ticks": ""
             }
            },
            "type": "scattergl"
           }
          ],
          "scattermapbox": [
           {
            "marker": {
             "colorbar": {
              "outlinewidth": 0,
              "ticks": ""
             }
            },
            "type": "scattermapbox"
           }
          ],
          "scatterpolar": [
           {
            "marker": {
             "colorbar": {
              "outlinewidth": 0,
              "ticks": ""
             }
            },
            "type": "scatterpolar"
           }
          ],
          "scatterpolargl": [
           {
            "marker": {
             "colorbar": {
              "outlinewidth": 0,
              "ticks": ""
             }
            },
            "type": "scatterpolargl"
           }
          ],
          "scatterternary": [
           {
            "marker": {
             "colorbar": {
              "outlinewidth": 0,
              "ticks": ""
             }
            },
            "type": "scatterternary"
           }
          ],
          "surface": [
           {
            "colorbar": {
             "outlinewidth": 0,
             "ticks": ""
            },
            "colorscale": [
             [
              0,
              "#0d0887"
             ],
             [
              0.1111111111111111,
              "#46039f"
             ],
             [
              0.2222222222222222,
              "#7201a8"
             ],
             [
              0.3333333333333333,
              "#9c179e"
             ],
             [
              0.4444444444444444,
              "#bd3786"
             ],
             [
              0.5555555555555556,
              "#d8576b"
             ],
             [
              0.6666666666666666,
              "#ed7953"
             ],
             [
              0.7777777777777778,
              "#fb9f3a"
             ],
             [
              0.8888888888888888,
              "#fdca26"
             ],
             [
              1,
              "#f0f921"
             ]
            ],
            "type": "surface"
           }
          ],
          "table": [
           {
            "cells": {
             "fill": {
              "color": "#EBF0F8"
             },
             "line": {
              "color": "white"
             }
            },
            "header": {
             "fill": {
              "color": "#C8D4E3"
             },
             "line": {
              "color": "white"
             }
            },
            "type": "table"
           }
          ]
         },
         "layout": {
          "annotationdefaults": {
           "arrowcolor": "#2a3f5f",
           "arrowhead": 0,
           "arrowwidth": 1
          },
          "autotypenumbers": "strict",
          "coloraxis": {
           "colorbar": {
            "outlinewidth": 0,
            "ticks": ""
           }
          },
          "colorscale": {
           "diverging": [
            [
             0,
             "#8e0152"
            ],
            [
             0.1,
             "#c51b7d"
            ],
            [
             0.2,
             "#de77ae"
            ],
            [
             0.3,
             "#f1b6da"
            ],
            [
             0.4,
             "#fde0ef"
            ],
            [
             0.5,
             "#f7f7f7"
            ],
            [
             0.6,
             "#e6f5d0"
            ],
            [
             0.7,
             "#b8e186"
            ],
            [
             0.8,
             "#7fbc41"
            ],
            [
             0.9,
             "#4d9221"
            ],
            [
             1,
             "#276419"
            ]
           ],
           "sequential": [
            [
             0,
             "#0d0887"
            ],
            [
             0.1111111111111111,
             "#46039f"
            ],
            [
             0.2222222222222222,
             "#7201a8"
            ],
            [
             0.3333333333333333,
             "#9c179e"
            ],
            [
             0.4444444444444444,
             "#bd3786"
            ],
            [
             0.5555555555555556,
             "#d8576b"
            ],
            [
             0.6666666666666666,
             "#ed7953"
            ],
            [
             0.7777777777777778,
             "#fb9f3a"
            ],
            [
             0.8888888888888888,
             "#fdca26"
            ],
            [
             1,
             "#f0f921"
            ]
           ],
           "sequentialminus": [
            [
             0,
             "#0d0887"
            ],
            [
             0.1111111111111111,
             "#46039f"
            ],
            [
             0.2222222222222222,
             "#7201a8"
            ],
            [
             0.3333333333333333,
             "#9c179e"
            ],
            [
             0.4444444444444444,
             "#bd3786"
            ],
            [
             0.5555555555555556,
             "#d8576b"
            ],
            [
             0.6666666666666666,
             "#ed7953"
            ],
            [
             0.7777777777777778,
             "#fb9f3a"
            ],
            [
             0.8888888888888888,
             "#fdca26"
            ],
            [
             1,
             "#f0f921"
            ]
           ]
          },
          "colorway": [
           "#636efa",
           "#EF553B",
           "#00cc96",
           "#ab63fa",
           "#FFA15A",
           "#19d3f3",
           "#FF6692",
           "#B6E880",
           "#FF97FF",
           "#FECB52"
          ],
          "font": {
           "color": "#2a3f5f"
          },
          "geo": {
           "bgcolor": "white",
           "lakecolor": "white",
           "landcolor": "#E5ECF6",
           "showlakes": true,
           "showland": true,
           "subunitcolor": "white"
          },
          "hoverlabel": {
           "align": "left"
          },
          "hovermode": "closest",
          "mapbox": {
           "style": "light"
          },
          "paper_bgcolor": "white",
          "plot_bgcolor": "#E5ECF6",
          "polar": {
           "angularaxis": {
            "gridcolor": "white",
            "linecolor": "white",
            "ticks": ""
           },
           "bgcolor": "#E5ECF6",
           "radialaxis": {
            "gridcolor": "white",
            "linecolor": "white",
            "ticks": ""
           }
          },
          "scene": {
           "xaxis": {
            "backgroundcolor": "#E5ECF6",
            "gridcolor": "white",
            "gridwidth": 2,
            "linecolor": "white",
            "showbackground": true,
            "ticks": "",
            "zerolinecolor": "white"
           },
           "yaxis": {
            "backgroundcolor": "#E5ECF6",
            "gridcolor": "white",
            "gridwidth": 2,
            "linecolor": "white",
            "showbackground": true,
            "ticks": "",
            "zerolinecolor": "white"
           },
           "zaxis": {
            "backgroundcolor": "#E5ECF6",
            "gridcolor": "white",
            "gridwidth": 2,
            "linecolor": "white",
            "showbackground": true,
            "ticks": "",
            "zerolinecolor": "white"
           }
          },
          "shapedefaults": {
           "line": {
            "color": "#2a3f5f"
           }
          },
          "ternary": {
           "aaxis": {
            "gridcolor": "white",
            "linecolor": "white",
            "ticks": ""
           },
           "baxis": {
            "gridcolor": "white",
            "linecolor": "white",
            "ticks": ""
           },
           "bgcolor": "#E5ECF6",
           "caxis": {
            "gridcolor": "white",
            "linecolor": "white",
            "ticks": ""
           }
          },
          "title": {
           "x": 0.05
          },
          "xaxis": {
           "automargin": true,
           "gridcolor": "white",
           "linecolor": "white",
           "ticks": "",
           "title": {
            "standoff": 15
           },
           "zerolinecolor": "white",
           "zerolinewidth": 2
          },
          "yaxis": {
           "automargin": true,
           "gridcolor": "white",
           "linecolor": "white",
           "ticks": "",
           "title": {
            "standoff": 15
           },
           "zerolinecolor": "white",
           "zerolinewidth": 2
          }
         }
        }
       }
      },
      "text/html": [
       "<div>                            <div id=\"aad0c097-7869-4321-96d2-7baaa2603203\" class=\"plotly-graph-div\" style=\"height:525px; width:100%;\"></div>            <script type=\"text/javascript\">                require([\"plotly\"], function(Plotly) {                    window.PLOTLYENV=window.PLOTLYENV || {};                                    if (document.getElementById(\"aad0c097-7869-4321-96d2-7baaa2603203\")) {                    Plotly.newPlot(                        \"aad0c097-7869-4321-96d2-7baaa2603203\",                        [{\"hovertemplate\":\"x=%{x}<br>y=%{y}<br>z=%{z}<extra></extra>\",\"legendgroup\":\"\",\"marker\":{\"color\":\"#636efa\",\"symbol\":\"circle\"},\"mode\":\"markers\",\"name\":\"\",\"scene\":\"scene\",\"showlegend\":false,\"x\":[-102.45828664755196,-81.1843914473308,-63.34896395302701,-48.403749871387426,-35.88630060537817,-25.406895241560335,-16.637377863924723,-9.301647453171054,-3.1675694587391057,1.959892829319645,6.244502792001,9.823683162342824,12.812688420504038,15.308130181390235,17.39095285579061,19.1289429224446,20.578843045640394,21.788131806114162,22.796520790129687,23.63721302569696,24.337960105055306,24.92194964413773,25.40854987382013,25.813934020282456,26.1516036124906,26.432826865954603,26.667005757192673,26.86198325654659,27.024300370967964,27.159411113875716],\"y\":[121.35925087510485,98.15038927280241,79.33478944732508,64.0739654289569,51.690724021334326,41.63790858414807,33.473241288784834,26.83906652616526,21.446034540979813,17.05995385428221,13.491192965834227,10.586133677075413,8.220276128493204,6.29267408977674,4.721442010201102,3.4401258988139345,2.394770716577711,1.5415495940648518,0.8448464157260619,0.27570439909151034,-0.18942974226351472,-0.5697228170993577,-0.8807791380550064,-1.1353084048089692,-1.3436673042935732,-1.514298903871358,-1.6540892868465198,-1.7686571488464258,-1.8625890638602716,-1.9396306997097164],\"z\":[418301119.5885374,284912588.1289921,194545211.05181247,133253955.52312997,91638625.49308446,63353972.030531414,44111259.23728392,31008115.631710626,22078041.900908563,15987130.20808693,11829599.08225496,8989759.549626498,7048707.200181888,5721169.462572761,4812711.860385524,4190707.3284914177,3764621.1835932024,3472608.9401395163,3272396.8940121983,3135071.318862195,3040845.0147636286,2976169.3899937198,2931762.959337781,2901264.520617598,2880312.48105918,2865915.114153259,2856019.570783133,2849216.760573407,2844539.171373084,2841322.296143108],\"type\":\"scatter3d\"},{\"x\":[-150.0,-116.66666666666666,-83.33333333333333,-50.0,-16.666666666666657,16.666666666666686,50.0,83.33333333333334,116.66666666666669,150.0],\"y\":[-150.0,-116.66666666666666,-83.33333333333333,-50.0,-16.666666666666657,16.666666666666686,50.0,83.33333333333334,116.66666666666669,150.0],\"z\":[[527392929.2705172,427967828.14549404,347917445.20358884,287241780.44480187,245940833.8691329,224014605.47658214,221463095.26714945,238286303.24083477,274484229.3976383,330056873.73755985],[433109553.5075204,334982394.4079833,256229953.49156436,196852230.75826353,156849226.20808077,136220939.8410161,134967371.65706953,153088521.65624106,190584389.83853072,247454976.2039384],[361048399.96674585,264219182.89269492,186764684.00176212,128684903.29394746,89979840.7692508,70649496.42767228,70693870.26921189,90112962.29386957,128906772.50164537,187075300.8925392],[311209468.64819354,215678193.59962872,139521636.73418212,82739798.05185355,45332677.55264308,27300275.23655072,28642591.103576463,49359625.153720304,89451377.38698225,148917847.80336225],[283592759.55186343,189359426.52878478,114500811.68882428,59016915.03198186,22907736.55825756,6173276.267651357,8813534.160163252,30828510.235793248,72218204.49454138,132982616.93640749],[278198272.67775553,185262881.68016306,111702208.86568867,57516254.23433245,22705017.78609428,7268499.520974231,11206699.438972281,34519617.540088445,77207253.8243227,139269608.291675],[295026008.0258698,203388559.05376348,131125828.26477529,78237815.6589052,44724521.2361532,30585944.996519312,35822086.94000351,60432947.066605814,104418525.37632625,167778821.86916468],[334075965.5962063,243736458.6495862,172771669.88608417,121181599.30570023,88966246.90843438,76125612.69428663,82659696.66325699,108568498.81534544,153852019.150552,218510257.6688766],[395348145.3887652,306306580.4676312,236639733.72961524,186347605.1747175,155430194.8029378,143887502.6142762,151719528.6087327,178926272.78630733,225507735.14700004,291463915.69081086],[478842547.40354604,391098924.5078983,322730019.7953685,273735833.2659568,244116364.91966337,233871614.7564879,243001582.77643058,271506268.9794914,319385673.3656702,386639795.93496716]],\"type\":\"surface\"}],                        {\"template\":{\"data\":{\"bar\":[{\"error_x\":{\"color\":\"#2a3f5f\"},\"error_y\":{\"color\":\"#2a3f5f\"},\"marker\":{\"line\":{\"color\":\"#E5ECF6\",\"width\":0.5},\"pattern\":{\"fillmode\":\"overlay\",\"size\":10,\"solidity\":0.2}},\"type\":\"bar\"}],\"barpolar\":[{\"marker\":{\"line\":{\"color\":\"#E5ECF6\",\"width\":0.5},\"pattern\":{\"fillmode\":\"overlay\",\"size\":10,\"solidity\":0.2}},\"type\":\"barpolar\"}],\"carpet\":[{\"aaxis\":{\"endlinecolor\":\"#2a3f5f\",\"gridcolor\":\"white\",\"linecolor\":\"white\",\"minorgridcolor\":\"white\",\"startlinecolor\":\"#2a3f5f\"},\"baxis\":{\"endlinecolor\":\"#2a3f5f\",\"gridcolor\":\"white\",\"linecolor\":\"white\",\"minorgridcolor\":\"white\",\"startlinecolor\":\"#2a3f5f\"},\"type\":\"carpet\"}],\"choropleth\":[{\"colorbar\":{\"outlinewidth\":0,\"ticks\":\"\"},\"type\":\"choropleth\"}],\"contour\":[{\"colorbar\":{\"outlinewidth\":0,\"ticks\":\"\"},\"colorscale\":[[0.0,\"#0d0887\"],[0.1111111111111111,\"#46039f\"],[0.2222222222222222,\"#7201a8\"],[0.3333333333333333,\"#9c179e\"],[0.4444444444444444,\"#bd3786\"],[0.5555555555555556,\"#d8576b\"],[0.6666666666666666,\"#ed7953\"],[0.7777777777777778,\"#fb9f3a\"],[0.8888888888888888,\"#fdca26\"],[1.0,\"#f0f921\"]],\"type\":\"contour\"}],\"contourcarpet\":[{\"colorbar\":{\"outlinewidth\":0,\"ticks\":\"\"},\"type\":\"contourcarpet\"}],\"heatmap\":[{\"colorbar\":{\"outlinewidth\":0,\"ticks\":\"\"},\"colorscale\":[[0.0,\"#0d0887\"],[0.1111111111111111,\"#46039f\"],[0.2222222222222222,\"#7201a8\"],[0.3333333333333333,\"#9c179e\"],[0.4444444444444444,\"#bd3786\"],[0.5555555555555556,\"#d8576b\"],[0.6666666666666666,\"#ed7953\"],[0.7777777777777778,\"#fb9f3a\"],[0.8888888888888888,\"#fdca26\"],[1.0,\"#f0f921\"]],\"type\":\"heatmap\"}],\"heatmapgl\":[{\"colorbar\":{\"outlinewidth\":0,\"ticks\":\"\"},\"colorscale\":[[0.0,\"#0d0887\"],[0.1111111111111111,\"#46039f\"],[0.2222222222222222,\"#7201a8\"],[0.3333333333333333,\"#9c179e\"],[0.4444444444444444,\"#bd3786\"],[0.5555555555555556,\"#d8576b\"],[0.6666666666666666,\"#ed7953\"],[0.7777777777777778,\"#fb9f3a\"],[0.8888888888888888,\"#fdca26\"],[1.0,\"#f0f921\"]],\"type\":\"heatmapgl\"}],\"histogram\":[{\"marker\":{\"pattern\":{\"fillmode\":\"overlay\",\"size\":10,\"solidity\":0.2}},\"type\":\"histogram\"}],\"histogram2d\":[{\"colorbar\":{\"outlinewidth\":0,\"ticks\":\"\"},\"colorscale\":[[0.0,\"#0d0887\"],[0.1111111111111111,\"#46039f\"],[0.2222222222222222,\"#7201a8\"],[0.3333333333333333,\"#9c179e\"],[0.4444444444444444,\"#bd3786\"],[0.5555555555555556,\"#d8576b\"],[0.6666666666666666,\"#ed7953\"],[0.7777777777777778,\"#fb9f3a\"],[0.8888888888888888,\"#fdca26\"],[1.0,\"#f0f921\"]],\"type\":\"histogram2d\"}],\"histogram2dcontour\":[{\"colorbar\":{\"outlinewidth\":0,\"ticks\":\"\"},\"colorscale\":[[0.0,\"#0d0887\"],[0.1111111111111111,\"#46039f\"],[0.2222222222222222,\"#7201a8\"],[0.3333333333333333,\"#9c179e\"],[0.4444444444444444,\"#bd3786\"],[0.5555555555555556,\"#d8576b\"],[0.6666666666666666,\"#ed7953\"],[0.7777777777777778,\"#fb9f3a\"],[0.8888888888888888,\"#fdca26\"],[1.0,\"#f0f921\"]],\"type\":\"histogram2dcontour\"}],\"mesh3d\":[{\"colorbar\":{\"outlinewidth\":0,\"ticks\":\"\"},\"type\":\"mesh3d\"}],\"parcoords\":[{\"line\":{\"colorbar\":{\"outlinewidth\":0,\"ticks\":\"\"}},\"type\":\"parcoords\"}],\"pie\":[{\"automargin\":true,\"type\":\"pie\"}],\"scatter\":[{\"marker\":{\"colorbar\":{\"outlinewidth\":0,\"ticks\":\"\"}},\"type\":\"scatter\"}],\"scatter3d\":[{\"line\":{\"colorbar\":{\"outlinewidth\":0,\"ticks\":\"\"}},\"marker\":{\"colorbar\":{\"outlinewidth\":0,\"ticks\":\"\"}},\"type\":\"scatter3d\"}],\"scattercarpet\":[{\"marker\":{\"colorbar\":{\"outlinewidth\":0,\"ticks\":\"\"}},\"type\":\"scattercarpet\"}],\"scattergeo\":[{\"marker\":{\"colorbar\":{\"outlinewidth\":0,\"ticks\":\"\"}},\"type\":\"scattergeo\"}],\"scattergl\":[{\"marker\":{\"colorbar\":{\"outlinewidth\":0,\"ticks\":\"\"}},\"type\":\"scattergl\"}],\"scattermapbox\":[{\"marker\":{\"colorbar\":{\"outlinewidth\":0,\"ticks\":\"\"}},\"type\":\"scattermapbox\"}],\"scatterpolar\":[{\"marker\":{\"colorbar\":{\"outlinewidth\":0,\"ticks\":\"\"}},\"type\":\"scatterpolar\"}],\"scatterpolargl\":[{\"marker\":{\"colorbar\":{\"outlinewidth\":0,\"ticks\":\"\"}},\"type\":\"scatterpolargl\"}],\"scatterternary\":[{\"marker\":{\"colorbar\":{\"outlinewidth\":0,\"ticks\":\"\"}},\"type\":\"scatterternary\"}],\"surface\":[{\"colorbar\":{\"outlinewidth\":0,\"ticks\":\"\"},\"colorscale\":[[0.0,\"#0d0887\"],[0.1111111111111111,\"#46039f\"],[0.2222222222222222,\"#7201a8\"],[0.3333333333333333,\"#9c179e\"],[0.4444444444444444,\"#bd3786\"],[0.5555555555555556,\"#d8576b\"],[0.6666666666666666,\"#ed7953\"],[0.7777777777777778,\"#fb9f3a\"],[0.8888888888888888,\"#fdca26\"],[1.0,\"#f0f921\"]],\"type\":\"surface\"}],\"table\":[{\"cells\":{\"fill\":{\"color\":\"#EBF0F8\"},\"line\":{\"color\":\"white\"}},\"header\":{\"fill\":{\"color\":\"#C8D4E3\"},\"line\":{\"color\":\"white\"}},\"type\":\"table\"}]},\"layout\":{\"annotationdefaults\":{\"arrowcolor\":\"#2a3f5f\",\"arrowhead\":0,\"arrowwidth\":1},\"autotypenumbers\":\"strict\",\"coloraxis\":{\"colorbar\":{\"outlinewidth\":0,\"ticks\":\"\"}},\"colorscale\":{\"diverging\":[[0,\"#8e0152\"],[0.1,\"#c51b7d\"],[0.2,\"#de77ae\"],[0.3,\"#f1b6da\"],[0.4,\"#fde0ef\"],[0.5,\"#f7f7f7\"],[0.6,\"#e6f5d0\"],[0.7,\"#b8e186\"],[0.8,\"#7fbc41\"],[0.9,\"#4d9221\"],[1,\"#276419\"]],\"sequential\":[[0.0,\"#0d0887\"],[0.1111111111111111,\"#46039f\"],[0.2222222222222222,\"#7201a8\"],[0.3333333333333333,\"#9c179e\"],[0.4444444444444444,\"#bd3786\"],[0.5555555555555556,\"#d8576b\"],[0.6666666666666666,\"#ed7953\"],[0.7777777777777778,\"#fb9f3a\"],[0.8888888888888888,\"#fdca26\"],[1.0,\"#f0f921\"]],\"sequentialminus\":[[0.0,\"#0d0887\"],[0.1111111111111111,\"#46039f\"],[0.2222222222222222,\"#7201a8\"],[0.3333333333333333,\"#9c179e\"],[0.4444444444444444,\"#bd3786\"],[0.5555555555555556,\"#d8576b\"],[0.6666666666666666,\"#ed7953\"],[0.7777777777777778,\"#fb9f3a\"],[0.8888888888888888,\"#fdca26\"],[1.0,\"#f0f921\"]]},\"colorway\":[\"#636efa\",\"#EF553B\",\"#00cc96\",\"#ab63fa\",\"#FFA15A\",\"#19d3f3\",\"#FF6692\",\"#B6E880\",\"#FF97FF\",\"#FECB52\"],\"font\":{\"color\":\"#2a3f5f\"},\"geo\":{\"bgcolor\":\"white\",\"lakecolor\":\"white\",\"landcolor\":\"#E5ECF6\",\"showlakes\":true,\"showland\":true,\"subunitcolor\":\"white\"},\"hoverlabel\":{\"align\":\"left\"},\"hovermode\":\"closest\",\"mapbox\":{\"style\":\"light\"},\"paper_bgcolor\":\"white\",\"plot_bgcolor\":\"#E5ECF6\",\"polar\":{\"angularaxis\":{\"gridcolor\":\"white\",\"linecolor\":\"white\",\"ticks\":\"\"},\"bgcolor\":\"#E5ECF6\",\"radialaxis\":{\"gridcolor\":\"white\",\"linecolor\":\"white\",\"ticks\":\"\"}},\"scene\":{\"xaxis\":{\"backgroundcolor\":\"#E5ECF6\",\"gridcolor\":\"white\",\"gridwidth\":2,\"linecolor\":\"white\",\"showbackground\":true,\"ticks\":\"\",\"zerolinecolor\":\"white\"},\"yaxis\":{\"backgroundcolor\":\"#E5ECF6\",\"gridcolor\":\"white\",\"gridwidth\":2,\"linecolor\":\"white\",\"showbackground\":true,\"ticks\":\"\",\"zerolinecolor\":\"white\"},\"zaxis\":{\"backgroundcolor\":\"#E5ECF6\",\"gridcolor\":\"white\",\"gridwidth\":2,\"linecolor\":\"white\",\"showbackground\":true,\"ticks\":\"\",\"zerolinecolor\":\"white\"}},\"shapedefaults\":{\"line\":{\"color\":\"#2a3f5f\"}},\"ternary\":{\"aaxis\":{\"gridcolor\":\"white\",\"linecolor\":\"white\",\"ticks\":\"\"},\"baxis\":{\"gridcolor\":\"white\",\"linecolor\":\"white\",\"ticks\":\"\"},\"bgcolor\":\"#E5ECF6\",\"caxis\":{\"gridcolor\":\"white\",\"linecolor\":\"white\",\"ticks\":\"\"}},\"title\":{\"x\":0.05},\"xaxis\":{\"automargin\":true,\"gridcolor\":\"white\",\"linecolor\":\"white\",\"ticks\":\"\",\"title\":{\"standoff\":15},\"zerolinecolor\":\"white\",\"zerolinewidth\":2},\"yaxis\":{\"automargin\":true,\"gridcolor\":\"white\",\"linecolor\":\"white\",\"ticks\":\"\",\"title\":{\"standoff\":15},\"zerolinecolor\":\"white\",\"zerolinewidth\":2}}},\"scene\":{\"domain\":{\"x\":[0.0,1.0],\"y\":[0.0,1.0]},\"xaxis\":{\"title\":{\"text\":\"x\"}},\"yaxis\":{\"title\":{\"text\":\"y\"}},\"zaxis\":{\"title\":{\"text\":\"z\"}}},\"legend\":{\"tracegroupgap\":0},\"margin\":{\"t\":60}},                        {\"responsive\": true}                    ).then(function(){\n",
       "                            \n",
       "var gd = document.getElementById('aad0c097-7869-4321-96d2-7baaa2603203');\n",
       "var x = new MutationObserver(function (mutations, observer) {{\n",
       "        var display = window.getComputedStyle(gd).display;\n",
       "        if (!display || display === 'none') {{\n",
       "            console.log([gd, 'removed!']);\n",
       "            Plotly.purge(gd);\n",
       "            observer.disconnect();\n",
       "        }}\n",
       "}});\n",
       "\n",
       "// Listen for the removal of the full notebook cells\n",
       "var notebookContainer = gd.closest('#notebook-container');\n",
       "if (notebookContainer) {{\n",
       "    x.observe(notebookContainer, {childList: true});\n",
       "}}\n",
       "\n",
       "// Listen for the clearing of the current output cell\n",
       "var outputEl = gd.closest('.output');\n",
       "if (outputEl) {{\n",
       "    x.observe(outputEl, {childList: true});\n",
       "}}\n",
       "\n",
       "                        })                };                });            </script>        </div>"
      ]
     },
     "metadata": {},
     "output_type": "display_data"
    }
   ],
   "source": [
    "import plotly.express as px\n",
    "\n",
    "fig = px.scatter_3d(x=np.array(all_m).ravel(), y=np.array(all_b).ravel(), z=np.array(all_cost).ravel()*100)\n",
    "\n",
    "fig.add_trace(go.Surface(x = m_arr, y = b_arr, z =z_arr*100 ))\n",
    "\n",
    "fig.show()\n",
    "\n",
    "fig.write_html(\"cost_function2.html\")"
   ]
  },
  {
   "cell_type": "code",
   "execution_count": 12,
   "id": "1060346b",
   "metadata": {},
   "outputs": [
    {
     "data": {
      "application/vnd.plotly.v1+json": {
       "config": {
        "plotlyServerURL": "https://plot.ly"
       },
       "data": [
        {
         "line": {
          "color": "#fff",
          "width": 4
         },
         "name": "High 2014",
         "type": "scatter",
         "x": [
          -102.45828664755196,
          -81.1843914473308,
          -63.34896395302701,
          -48.403749871387426,
          -35.88630060537817,
          -25.406895241560335,
          -16.637377863924723,
          -9.301647453171054,
          -3.1675694587391057,
          1.959892829319645,
          6.244502792001,
          9.823683162342824,
          12.812688420504038,
          15.308130181390235,
          17.39095285579061,
          19.1289429224446,
          20.578843045640394,
          21.788131806114162,
          22.796520790129687,
          23.63721302569696,
          24.337960105055306,
          24.92194964413773,
          25.40854987382013,
          25.813934020282456,
          26.1516036124906,
          26.432826865954603,
          26.667005757192673,
          26.86198325654659,
          27.024300370967964,
          27.159411113875716
         ],
         "y": [
          121.35925087510485,
          98.15038927280241,
          79.33478944732508,
          64.0739654289569,
          51.690724021334326,
          41.63790858414807,
          33.473241288784834,
          26.83906652616526,
          21.446034540979813,
          17.05995385428221,
          13.491192965834227,
          10.586133677075413,
          8.220276128493204,
          6.29267408977674,
          4.721442010201102,
          3.4401258988139345,
          2.394770716577711,
          1.5415495940648518,
          0.8448464157260619,
          0.27570439909151034,
          -0.18942974226351472,
          -0.5697228170993577,
          -0.8807791380550064,
          -1.1353084048089692,
          -1.3436673042935732,
          -1.514298903871358,
          -1.6540892868465198,
          -1.7686571488464258,
          -1.8625890638602716,
          -1.9396306997097164
         ]
        },
        {
         "type": "contour",
         "x": [
          -150,
          -116.66666666666666,
          -83.33333333333333,
          -50,
          -16.666666666666657,
          16.666666666666686,
          50,
          83.33333333333334,
          116.66666666666669,
          150
         ],
         "y": [
          -150,
          -116.66666666666666,
          -83.33333333333333,
          -50,
          -16.666666666666657,
          16.666666666666686,
          50,
          83.33333333333334,
          116.66666666666669,
          150
         ],
         "z": [
          [
           5273929.292705172,
           4279678.28145494,
           3479174.4520358886,
           2872417.804448019,
           2459408.338691329,
           2240146.0547658214,
           2214630.9526714943,
           2382863.032408348,
           2744842.2939763833,
           3300568.7373755984
          ],
          [
           4331095.5350752035,
           3349823.944079833,
           2562299.5349156437,
           1968522.3075826352,
           1568492.2620808077,
           1362209.398410161,
           1349673.7165706954,
           1530885.2165624106,
           1905843.8983853073,
           2474549.762039384
          ],
          [
           3610483.9996674587,
           2642191.8289269493,
           1867646.8400176212,
           1286849.0329394746,
           899798.407692508,
           706494.9642767227,
           706938.7026921188,
           901129.6229386957,
           1289067.7250164538,
           1870753.008925392
          ],
          [
           3112094.6864819354,
           2156781.935996287,
           1395216.367341821,
           827397.9805185355,
           453326.7755264308,
           273002.7523655072,
           286425.9110357646,
           493596.25153720303,
           894513.7738698225,
           1489178.4780336225
          ],
          [
           2835927.595518634,
           1893594.2652878477,
           1145008.1168882428,
           590169.1503198186,
           229077.3655825756,
           61732.76267651357,
           88135.34160163252,
           308285.1023579325,
           722182.0449454137,
           1329826.169364075
          ],
          [
           2781982.7267775554,
           1852628.8168016304,
           1117022.0886568867,
           575162.5423433245,
           227050.17786094281,
           72684.99520974231,
           112066.99438972281,
           345196.1754008845,
           772072.5382432269,
           1392696.08291675
          ],
          [
           2950260.0802586977,
           2033885.590537635,
           1311258.282647753,
           782378.1565890519,
           447245.21236153203,
           305859.4499651931,
           358220.86940003507,
           604329.4706660581,
           1044185.2537632624,
           1677788.2186916468
          ],
          [
           3340759.655962063,
           2437364.586495862,
           1727716.6988608418,
           1211815.9930570023,
           889662.4690843438,
           761256.1269428664,
           826596.9666325699,
           1085684.9881534544,
           1538520.1915055201,
           2185102.576688766
          ],
          [
           3953481.453887652,
           3063065.804676312,
           2366397.3372961525,
           1863476.051747175,
           1554301.948029378,
           1438875.026142762,
           1517195.286087327,
           1789262.7278630733,
           2255077.3514700006,
           2914639.1569081084
          ],
          [
           4788425.4740354605,
           3910989.245078983,
           3227300.197953685,
           2737358.332659568,
           2441163.6491966336,
           2338716.147564879,
           2430015.8277643058,
           2715062.689794914,
           3193856.733656702,
           3866397.9593496714
          ]
         ]
        }
       ],
       "layout": {
        "template": {
         "data": {
          "bar": [
           {
            "error_x": {
             "color": "#2a3f5f"
            },
            "error_y": {
             "color": "#2a3f5f"
            },
            "marker": {
             "line": {
              "color": "#E5ECF6",
              "width": 0.5
             },
             "pattern": {
              "fillmode": "overlay",
              "size": 10,
              "solidity": 0.2
             }
            },
            "type": "bar"
           }
          ],
          "barpolar": [
           {
            "marker": {
             "line": {
              "color": "#E5ECF6",
              "width": 0.5
             },
             "pattern": {
              "fillmode": "overlay",
              "size": 10,
              "solidity": 0.2
             }
            },
            "type": "barpolar"
           }
          ],
          "carpet": [
           {
            "aaxis": {
             "endlinecolor": "#2a3f5f",
             "gridcolor": "white",
             "linecolor": "white",
             "minorgridcolor": "white",
             "startlinecolor": "#2a3f5f"
            },
            "baxis": {
             "endlinecolor": "#2a3f5f",
             "gridcolor": "white",
             "linecolor": "white",
             "minorgridcolor": "white",
             "startlinecolor": "#2a3f5f"
            },
            "type": "carpet"
           }
          ],
          "choropleth": [
           {
            "colorbar": {
             "outlinewidth": 0,
             "ticks": ""
            },
            "type": "choropleth"
           }
          ],
          "contour": [
           {
            "colorbar": {
             "outlinewidth": 0,
             "ticks": ""
            },
            "colorscale": [
             [
              0,
              "#0d0887"
             ],
             [
              0.1111111111111111,
              "#46039f"
             ],
             [
              0.2222222222222222,
              "#7201a8"
             ],
             [
              0.3333333333333333,
              "#9c179e"
             ],
             [
              0.4444444444444444,
              "#bd3786"
             ],
             [
              0.5555555555555556,
              "#d8576b"
             ],
             [
              0.6666666666666666,
              "#ed7953"
             ],
             [
              0.7777777777777778,
              "#fb9f3a"
             ],
             [
              0.8888888888888888,
              "#fdca26"
             ],
             [
              1,
              "#f0f921"
             ]
            ],
            "type": "contour"
           }
          ],
          "contourcarpet": [
           {
            "colorbar": {
             "outlinewidth": 0,
             "ticks": ""
            },
            "type": "contourcarpet"
           }
          ],
          "heatmap": [
           {
            "colorbar": {
             "outlinewidth": 0,
             "ticks": ""
            },
            "colorscale": [
             [
              0,
              "#0d0887"
             ],
             [
              0.1111111111111111,
              "#46039f"
             ],
             [
              0.2222222222222222,
              "#7201a8"
             ],
             [
              0.3333333333333333,
              "#9c179e"
             ],
             [
              0.4444444444444444,
              "#bd3786"
             ],
             [
              0.5555555555555556,
              "#d8576b"
             ],
             [
              0.6666666666666666,
              "#ed7953"
             ],
             [
              0.7777777777777778,
              "#fb9f3a"
             ],
             [
              0.8888888888888888,
              "#fdca26"
             ],
             [
              1,
              "#f0f921"
             ]
            ],
            "type": "heatmap"
           }
          ],
          "heatmapgl": [
           {
            "colorbar": {
             "outlinewidth": 0,
             "ticks": ""
            },
            "colorscale": [
             [
              0,
              "#0d0887"
             ],
             [
              0.1111111111111111,
              "#46039f"
             ],
             [
              0.2222222222222222,
              "#7201a8"
             ],
             [
              0.3333333333333333,
              "#9c179e"
             ],
             [
              0.4444444444444444,
              "#bd3786"
             ],
             [
              0.5555555555555556,
              "#d8576b"
             ],
             [
              0.6666666666666666,
              "#ed7953"
             ],
             [
              0.7777777777777778,
              "#fb9f3a"
             ],
             [
              0.8888888888888888,
              "#fdca26"
             ],
             [
              1,
              "#f0f921"
             ]
            ],
            "type": "heatmapgl"
           }
          ],
          "histogram": [
           {
            "marker": {
             "pattern": {
              "fillmode": "overlay",
              "size": 10,
              "solidity": 0.2
             }
            },
            "type": "histogram"
           }
          ],
          "histogram2d": [
           {
            "colorbar": {
             "outlinewidth": 0,
             "ticks": ""
            },
            "colorscale": [
             [
              0,
              "#0d0887"
             ],
             [
              0.1111111111111111,
              "#46039f"
             ],
             [
              0.2222222222222222,
              "#7201a8"
             ],
             [
              0.3333333333333333,
              "#9c179e"
             ],
             [
              0.4444444444444444,
              "#bd3786"
             ],
             [
              0.5555555555555556,
              "#d8576b"
             ],
             [
              0.6666666666666666,
              "#ed7953"
             ],
             [
              0.7777777777777778,
              "#fb9f3a"
             ],
             [
              0.8888888888888888,
              "#fdca26"
             ],
             [
              1,
              "#f0f921"
             ]
            ],
            "type": "histogram2d"
           }
          ],
          "histogram2dcontour": [
           {
            "colorbar": {
             "outlinewidth": 0,
             "ticks": ""
            },
            "colorscale": [
             [
              0,
              "#0d0887"
             ],
             [
              0.1111111111111111,
              "#46039f"
             ],
             [
              0.2222222222222222,
              "#7201a8"
             ],
             [
              0.3333333333333333,
              "#9c179e"
             ],
             [
              0.4444444444444444,
              "#bd3786"
             ],
             [
              0.5555555555555556,
              "#d8576b"
             ],
             [
              0.6666666666666666,
              "#ed7953"
             ],
             [
              0.7777777777777778,
              "#fb9f3a"
             ],
             [
              0.8888888888888888,
              "#fdca26"
             ],
             [
              1,
              "#f0f921"
             ]
            ],
            "type": "histogram2dcontour"
           }
          ],
          "mesh3d": [
           {
            "colorbar": {
             "outlinewidth": 0,
             "ticks": ""
            },
            "type": "mesh3d"
           }
          ],
          "parcoords": [
           {
            "line": {
             "colorbar": {
              "outlinewidth": 0,
              "ticks": ""
             }
            },
            "type": "parcoords"
           }
          ],
          "pie": [
           {
            "automargin": true,
            "type": "pie"
           }
          ],
          "scatter": [
           {
            "marker": {
             "colorbar": {
              "outlinewidth": 0,
              "ticks": ""
             }
            },
            "type": "scatter"
           }
          ],
          "scatter3d": [
           {
            "line": {
             "colorbar": {
              "outlinewidth": 0,
              "ticks": ""
             }
            },
            "marker": {
             "colorbar": {
              "outlinewidth": 0,
              "ticks": ""
             }
            },
            "type": "scatter3d"
           }
          ],
          "scattercarpet": [
           {
            "marker": {
             "colorbar": {
              "outlinewidth": 0,
              "ticks": ""
             }
            },
            "type": "scattercarpet"
           }
          ],
          "scattergeo": [
           {
            "marker": {
             "colorbar": {
              "outlinewidth": 0,
              "ticks": ""
             }
            },
            "type": "scattergeo"
           }
          ],
          "scattergl": [
           {
            "marker": {
             "colorbar": {
              "outlinewidth": 0,
              "ticks": ""
             }
            },
            "type": "scattergl"
           }
          ],
          "scattermapbox": [
           {
            "marker": {
             "colorbar": {
              "outlinewidth": 0,
              "ticks": ""
             }
            },
            "type": "scattermapbox"
           }
          ],
          "scatterpolar": [
           {
            "marker": {
             "colorbar": {
              "outlinewidth": 0,
              "ticks": ""
             }
            },
            "type": "scatterpolar"
           }
          ],
          "scatterpolargl": [
           {
            "marker": {
             "colorbar": {
              "outlinewidth": 0,
              "ticks": ""
             }
            },
            "type": "scatterpolargl"
           }
          ],
          "scatterternary": [
           {
            "marker": {
             "colorbar": {
              "outlinewidth": 0,
              "ticks": ""
             }
            },
            "type": "scatterternary"
           }
          ],
          "surface": [
           {
            "colorbar": {
             "outlinewidth": 0,
             "ticks": ""
            },
            "colorscale": [
             [
              0,
              "#0d0887"
             ],
             [
              0.1111111111111111,
              "#46039f"
             ],
             [
              0.2222222222222222,
              "#7201a8"
             ],
             [
              0.3333333333333333,
              "#9c179e"
             ],
             [
              0.4444444444444444,
              "#bd3786"
             ],
             [
              0.5555555555555556,
              "#d8576b"
             ],
             [
              0.6666666666666666,
              "#ed7953"
             ],
             [
              0.7777777777777778,
              "#fb9f3a"
             ],
             [
              0.8888888888888888,
              "#fdca26"
             ],
             [
              1,
              "#f0f921"
             ]
            ],
            "type": "surface"
           }
          ],
          "table": [
           {
            "cells": {
             "fill": {
              "color": "#EBF0F8"
             },
             "line": {
              "color": "white"
             }
            },
            "header": {
             "fill": {
              "color": "#C8D4E3"
             },
             "line": {
              "color": "white"
             }
            },
            "type": "table"
           }
          ]
         },
         "layout": {
          "annotationdefaults": {
           "arrowcolor": "#2a3f5f",
           "arrowhead": 0,
           "arrowwidth": 1
          },
          "autotypenumbers": "strict",
          "coloraxis": {
           "colorbar": {
            "outlinewidth": 0,
            "ticks": ""
           }
          },
          "colorscale": {
           "diverging": [
            [
             0,
             "#8e0152"
            ],
            [
             0.1,
             "#c51b7d"
            ],
            [
             0.2,
             "#de77ae"
            ],
            [
             0.3,
             "#f1b6da"
            ],
            [
             0.4,
             "#fde0ef"
            ],
            [
             0.5,
             "#f7f7f7"
            ],
            [
             0.6,
             "#e6f5d0"
            ],
            [
             0.7,
             "#b8e186"
            ],
            [
             0.8,
             "#7fbc41"
            ],
            [
             0.9,
             "#4d9221"
            ],
            [
             1,
             "#276419"
            ]
           ],
           "sequential": [
            [
             0,
             "#0d0887"
            ],
            [
             0.1111111111111111,
             "#46039f"
            ],
            [
             0.2222222222222222,
             "#7201a8"
            ],
            [
             0.3333333333333333,
             "#9c179e"
            ],
            [
             0.4444444444444444,
             "#bd3786"
            ],
            [
             0.5555555555555556,
             "#d8576b"
            ],
            [
             0.6666666666666666,
             "#ed7953"
            ],
            [
             0.7777777777777778,
             "#fb9f3a"
            ],
            [
             0.8888888888888888,
             "#fdca26"
            ],
            [
             1,
             "#f0f921"
            ]
           ],
           "sequentialminus": [
            [
             0,
             "#0d0887"
            ],
            [
             0.1111111111111111,
             "#46039f"
            ],
            [
             0.2222222222222222,
             "#7201a8"
            ],
            [
             0.3333333333333333,
             "#9c179e"
            ],
            [
             0.4444444444444444,
             "#bd3786"
            ],
            [
             0.5555555555555556,
             "#d8576b"
            ],
            [
             0.6666666666666666,
             "#ed7953"
            ],
            [
             0.7777777777777778,
             "#fb9f3a"
            ],
            [
             0.8888888888888888,
             "#fdca26"
            ],
            [
             1,
             "#f0f921"
            ]
           ]
          },
          "colorway": [
           "#636efa",
           "#EF553B",
           "#00cc96",
           "#ab63fa",
           "#FFA15A",
           "#19d3f3",
           "#FF6692",
           "#B6E880",
           "#FF97FF",
           "#FECB52"
          ],
          "font": {
           "color": "#2a3f5f"
          },
          "geo": {
           "bgcolor": "white",
           "lakecolor": "white",
           "landcolor": "#E5ECF6",
           "showlakes": true,
           "showland": true,
           "subunitcolor": "white"
          },
          "hoverlabel": {
           "align": "left"
          },
          "hovermode": "closest",
          "mapbox": {
           "style": "light"
          },
          "paper_bgcolor": "white",
          "plot_bgcolor": "#E5ECF6",
          "polar": {
           "angularaxis": {
            "gridcolor": "white",
            "linecolor": "white",
            "ticks": ""
           },
           "bgcolor": "#E5ECF6",
           "radialaxis": {
            "gridcolor": "white",
            "linecolor": "white",
            "ticks": ""
           }
          },
          "scene": {
           "xaxis": {
            "backgroundcolor": "#E5ECF6",
            "gridcolor": "white",
            "gridwidth": 2,
            "linecolor": "white",
            "showbackground": true,
            "ticks": "",
            "zerolinecolor": "white"
           },
           "yaxis": {
            "backgroundcolor": "#E5ECF6",
            "gridcolor": "white",
            "gridwidth": 2,
            "linecolor": "white",
            "showbackground": true,
            "ticks": "",
            "zerolinecolor": "white"
           },
           "zaxis": {
            "backgroundcolor": "#E5ECF6",
            "gridcolor": "white",
            "gridwidth": 2,
            "linecolor": "white",
            "showbackground": true,
            "ticks": "",
            "zerolinecolor": "white"
           }
          },
          "shapedefaults": {
           "line": {
            "color": "#2a3f5f"
           }
          },
          "ternary": {
           "aaxis": {
            "gridcolor": "white",
            "linecolor": "white",
            "ticks": ""
           },
           "baxis": {
            "gridcolor": "white",
            "linecolor": "white",
            "ticks": ""
           },
           "bgcolor": "#E5ECF6",
           "caxis": {
            "gridcolor": "white",
            "linecolor": "white",
            "ticks": ""
           }
          },
          "title": {
           "x": 0.05
          },
          "xaxis": {
           "automargin": true,
           "gridcolor": "white",
           "linecolor": "white",
           "ticks": "",
           "title": {
            "standoff": 15
           },
           "zerolinecolor": "white",
           "zerolinewidth": 2
          },
          "yaxis": {
           "automargin": true,
           "gridcolor": "white",
           "linecolor": "white",
           "ticks": "",
           "title": {
            "standoff": 15
           },
           "zerolinecolor": "white",
           "zerolinewidth": 2
          }
         }
        }
       }
      },
      "text/html": [
       "<div>                            <div id=\"56ceaf3a-f4ad-40af-abe1-d9188ec15c75\" class=\"plotly-graph-div\" style=\"height:525px; width:100%;\"></div>            <script type=\"text/javascript\">                require([\"plotly\"], function(Plotly) {                    window.PLOTLYENV=window.PLOTLYENV || {};                                    if (document.getElementById(\"56ceaf3a-f4ad-40af-abe1-d9188ec15c75\")) {                    Plotly.newPlot(                        \"56ceaf3a-f4ad-40af-abe1-d9188ec15c75\",                        [{\"line\":{\"color\":\"#fff\",\"width\":4},\"name\":\"High 2014\",\"x\":[-102.45828664755196,-81.1843914473308,-63.34896395302701,-48.403749871387426,-35.88630060537817,-25.406895241560335,-16.637377863924723,-9.301647453171054,-3.1675694587391057,1.959892829319645,6.244502792001,9.823683162342824,12.812688420504038,15.308130181390235,17.39095285579061,19.1289429224446,20.578843045640394,21.788131806114162,22.796520790129687,23.63721302569696,24.337960105055306,24.92194964413773,25.40854987382013,25.813934020282456,26.1516036124906,26.432826865954603,26.667005757192673,26.86198325654659,27.024300370967964,27.159411113875716],\"y\":[121.35925087510485,98.15038927280241,79.33478944732508,64.0739654289569,51.690724021334326,41.63790858414807,33.473241288784834,26.83906652616526,21.446034540979813,17.05995385428221,13.491192965834227,10.586133677075413,8.220276128493204,6.29267408977674,4.721442010201102,3.4401258988139345,2.394770716577711,1.5415495940648518,0.8448464157260619,0.27570439909151034,-0.18942974226351472,-0.5697228170993577,-0.8807791380550064,-1.1353084048089692,-1.3436673042935732,-1.514298903871358,-1.6540892868465198,-1.7686571488464258,-1.8625890638602716,-1.9396306997097164],\"type\":\"scatter\"},{\"x\":[-150.0,-116.66666666666666,-83.33333333333333,-50.0,-16.666666666666657,16.666666666666686,50.0,83.33333333333334,116.66666666666669,150.0],\"y\":[-150.0,-116.66666666666666,-83.33333333333333,-50.0,-16.666666666666657,16.666666666666686,50.0,83.33333333333334,116.66666666666669,150.0],\"z\":[[5273929.292705172,4279678.28145494,3479174.4520358886,2872417.804448019,2459408.338691329,2240146.0547658214,2214630.9526714943,2382863.032408348,2744842.2939763833,3300568.7373755984],[4331095.5350752035,3349823.944079833,2562299.5349156437,1968522.3075826352,1568492.2620808077,1362209.398410161,1349673.7165706954,1530885.2165624106,1905843.8983853073,2474549.762039384],[3610483.9996674587,2642191.8289269493,1867646.8400176212,1286849.0329394746,899798.407692508,706494.9642767227,706938.7026921188,901129.6229386957,1289067.7250164538,1870753.008925392],[3112094.6864819354,2156781.935996287,1395216.367341821,827397.9805185355,453326.7755264308,273002.7523655072,286425.9110357646,493596.25153720303,894513.7738698225,1489178.4780336225],[2835927.595518634,1893594.2652878477,1145008.1168882428,590169.1503198186,229077.3655825756,61732.76267651357,88135.34160163252,308285.1023579325,722182.0449454137,1329826.169364075],[2781982.7267775554,1852628.8168016304,1117022.0886568867,575162.5423433245,227050.17786094281,72684.99520974231,112066.99438972281,345196.1754008845,772072.5382432269,1392696.08291675],[2950260.0802586977,2033885.590537635,1311258.282647753,782378.1565890519,447245.21236153203,305859.4499651931,358220.86940003507,604329.4706660581,1044185.2537632624,1677788.2186916468],[3340759.655962063,2437364.586495862,1727716.6988608418,1211815.9930570023,889662.4690843438,761256.1269428664,826596.9666325699,1085684.9881534544,1538520.1915055201,2185102.576688766],[3953481.453887652,3063065.804676312,2366397.3372961525,1863476.051747175,1554301.948029378,1438875.026142762,1517195.286087327,1789262.7278630733,2255077.3514700006,2914639.1569081084],[4788425.4740354605,3910989.245078983,3227300.197953685,2737358.332659568,2441163.6491966336,2338716.147564879,2430015.8277643058,2715062.689794914,3193856.733656702,3866397.9593496714]],\"type\":\"contour\"}],                        {\"template\":{\"data\":{\"bar\":[{\"error_x\":{\"color\":\"#2a3f5f\"},\"error_y\":{\"color\":\"#2a3f5f\"},\"marker\":{\"line\":{\"color\":\"#E5ECF6\",\"width\":0.5},\"pattern\":{\"fillmode\":\"overlay\",\"size\":10,\"solidity\":0.2}},\"type\":\"bar\"}],\"barpolar\":[{\"marker\":{\"line\":{\"color\":\"#E5ECF6\",\"width\":0.5},\"pattern\":{\"fillmode\":\"overlay\",\"size\":10,\"solidity\":0.2}},\"type\":\"barpolar\"}],\"carpet\":[{\"aaxis\":{\"endlinecolor\":\"#2a3f5f\",\"gridcolor\":\"white\",\"linecolor\":\"white\",\"minorgridcolor\":\"white\",\"startlinecolor\":\"#2a3f5f\"},\"baxis\":{\"endlinecolor\":\"#2a3f5f\",\"gridcolor\":\"white\",\"linecolor\":\"white\",\"minorgridcolor\":\"white\",\"startlinecolor\":\"#2a3f5f\"},\"type\":\"carpet\"}],\"choropleth\":[{\"colorbar\":{\"outlinewidth\":0,\"ticks\":\"\"},\"type\":\"choropleth\"}],\"contour\":[{\"colorbar\":{\"outlinewidth\":0,\"ticks\":\"\"},\"colorscale\":[[0.0,\"#0d0887\"],[0.1111111111111111,\"#46039f\"],[0.2222222222222222,\"#7201a8\"],[0.3333333333333333,\"#9c179e\"],[0.4444444444444444,\"#bd3786\"],[0.5555555555555556,\"#d8576b\"],[0.6666666666666666,\"#ed7953\"],[0.7777777777777778,\"#fb9f3a\"],[0.8888888888888888,\"#fdca26\"],[1.0,\"#f0f921\"]],\"type\":\"contour\"}],\"contourcarpet\":[{\"colorbar\":{\"outlinewidth\":0,\"ticks\":\"\"},\"type\":\"contourcarpet\"}],\"heatmap\":[{\"colorbar\":{\"outlinewidth\":0,\"ticks\":\"\"},\"colorscale\":[[0.0,\"#0d0887\"],[0.1111111111111111,\"#46039f\"],[0.2222222222222222,\"#7201a8\"],[0.3333333333333333,\"#9c179e\"],[0.4444444444444444,\"#bd3786\"],[0.5555555555555556,\"#d8576b\"],[0.6666666666666666,\"#ed7953\"],[0.7777777777777778,\"#fb9f3a\"],[0.8888888888888888,\"#fdca26\"],[1.0,\"#f0f921\"]],\"type\":\"heatmap\"}],\"heatmapgl\":[{\"colorbar\":{\"outlinewidth\":0,\"ticks\":\"\"},\"colorscale\":[[0.0,\"#0d0887\"],[0.1111111111111111,\"#46039f\"],[0.2222222222222222,\"#7201a8\"],[0.3333333333333333,\"#9c179e\"],[0.4444444444444444,\"#bd3786\"],[0.5555555555555556,\"#d8576b\"],[0.6666666666666666,\"#ed7953\"],[0.7777777777777778,\"#fb9f3a\"],[0.8888888888888888,\"#fdca26\"],[1.0,\"#f0f921\"]],\"type\":\"heatmapgl\"}],\"histogram\":[{\"marker\":{\"pattern\":{\"fillmode\":\"overlay\",\"size\":10,\"solidity\":0.2}},\"type\":\"histogram\"}],\"histogram2d\":[{\"colorbar\":{\"outlinewidth\":0,\"ticks\":\"\"},\"colorscale\":[[0.0,\"#0d0887\"],[0.1111111111111111,\"#46039f\"],[0.2222222222222222,\"#7201a8\"],[0.3333333333333333,\"#9c179e\"],[0.4444444444444444,\"#bd3786\"],[0.5555555555555556,\"#d8576b\"],[0.6666666666666666,\"#ed7953\"],[0.7777777777777778,\"#fb9f3a\"],[0.8888888888888888,\"#fdca26\"],[1.0,\"#f0f921\"]],\"type\":\"histogram2d\"}],\"histogram2dcontour\":[{\"colorbar\":{\"outlinewidth\":0,\"ticks\":\"\"},\"colorscale\":[[0.0,\"#0d0887\"],[0.1111111111111111,\"#46039f\"],[0.2222222222222222,\"#7201a8\"],[0.3333333333333333,\"#9c179e\"],[0.4444444444444444,\"#bd3786\"],[0.5555555555555556,\"#d8576b\"],[0.6666666666666666,\"#ed7953\"],[0.7777777777777778,\"#fb9f3a\"],[0.8888888888888888,\"#fdca26\"],[1.0,\"#f0f921\"]],\"type\":\"histogram2dcontour\"}],\"mesh3d\":[{\"colorbar\":{\"outlinewidth\":0,\"ticks\":\"\"},\"type\":\"mesh3d\"}],\"parcoords\":[{\"line\":{\"colorbar\":{\"outlinewidth\":0,\"ticks\":\"\"}},\"type\":\"parcoords\"}],\"pie\":[{\"automargin\":true,\"type\":\"pie\"}],\"scatter\":[{\"marker\":{\"colorbar\":{\"outlinewidth\":0,\"ticks\":\"\"}},\"type\":\"scatter\"}],\"scatter3d\":[{\"line\":{\"colorbar\":{\"outlinewidth\":0,\"ticks\":\"\"}},\"marker\":{\"colorbar\":{\"outlinewidth\":0,\"ticks\":\"\"}},\"type\":\"scatter3d\"}],\"scattercarpet\":[{\"marker\":{\"colorbar\":{\"outlinewidth\":0,\"ticks\":\"\"}},\"type\":\"scattercarpet\"}],\"scattergeo\":[{\"marker\":{\"colorbar\":{\"outlinewidth\":0,\"ticks\":\"\"}},\"type\":\"scattergeo\"}],\"scattergl\":[{\"marker\":{\"colorbar\":{\"outlinewidth\":0,\"ticks\":\"\"}},\"type\":\"scattergl\"}],\"scattermapbox\":[{\"marker\":{\"colorbar\":{\"outlinewidth\":0,\"ticks\":\"\"}},\"type\":\"scattermapbox\"}],\"scatterpolar\":[{\"marker\":{\"colorbar\":{\"outlinewidth\":0,\"ticks\":\"\"}},\"type\":\"scatterpolar\"}],\"scatterpolargl\":[{\"marker\":{\"colorbar\":{\"outlinewidth\":0,\"ticks\":\"\"}},\"type\":\"scatterpolargl\"}],\"scatterternary\":[{\"marker\":{\"colorbar\":{\"outlinewidth\":0,\"ticks\":\"\"}},\"type\":\"scatterternary\"}],\"surface\":[{\"colorbar\":{\"outlinewidth\":0,\"ticks\":\"\"},\"colorscale\":[[0.0,\"#0d0887\"],[0.1111111111111111,\"#46039f\"],[0.2222222222222222,\"#7201a8\"],[0.3333333333333333,\"#9c179e\"],[0.4444444444444444,\"#bd3786\"],[0.5555555555555556,\"#d8576b\"],[0.6666666666666666,\"#ed7953\"],[0.7777777777777778,\"#fb9f3a\"],[0.8888888888888888,\"#fdca26\"],[1.0,\"#f0f921\"]],\"type\":\"surface\"}],\"table\":[{\"cells\":{\"fill\":{\"color\":\"#EBF0F8\"},\"line\":{\"color\":\"white\"}},\"header\":{\"fill\":{\"color\":\"#C8D4E3\"},\"line\":{\"color\":\"white\"}},\"type\":\"table\"}]},\"layout\":{\"annotationdefaults\":{\"arrowcolor\":\"#2a3f5f\",\"arrowhead\":0,\"arrowwidth\":1},\"autotypenumbers\":\"strict\",\"coloraxis\":{\"colorbar\":{\"outlinewidth\":0,\"ticks\":\"\"}},\"colorscale\":{\"diverging\":[[0,\"#8e0152\"],[0.1,\"#c51b7d\"],[0.2,\"#de77ae\"],[0.3,\"#f1b6da\"],[0.4,\"#fde0ef\"],[0.5,\"#f7f7f7\"],[0.6,\"#e6f5d0\"],[0.7,\"#b8e186\"],[0.8,\"#7fbc41\"],[0.9,\"#4d9221\"],[1,\"#276419\"]],\"sequential\":[[0.0,\"#0d0887\"],[0.1111111111111111,\"#46039f\"],[0.2222222222222222,\"#7201a8\"],[0.3333333333333333,\"#9c179e\"],[0.4444444444444444,\"#bd3786\"],[0.5555555555555556,\"#d8576b\"],[0.6666666666666666,\"#ed7953\"],[0.7777777777777778,\"#fb9f3a\"],[0.8888888888888888,\"#fdca26\"],[1.0,\"#f0f921\"]],\"sequentialminus\":[[0.0,\"#0d0887\"],[0.1111111111111111,\"#46039f\"],[0.2222222222222222,\"#7201a8\"],[0.3333333333333333,\"#9c179e\"],[0.4444444444444444,\"#bd3786\"],[0.5555555555555556,\"#d8576b\"],[0.6666666666666666,\"#ed7953\"],[0.7777777777777778,\"#fb9f3a\"],[0.8888888888888888,\"#fdca26\"],[1.0,\"#f0f921\"]]},\"colorway\":[\"#636efa\",\"#EF553B\",\"#00cc96\",\"#ab63fa\",\"#FFA15A\",\"#19d3f3\",\"#FF6692\",\"#B6E880\",\"#FF97FF\",\"#FECB52\"],\"font\":{\"color\":\"#2a3f5f\"},\"geo\":{\"bgcolor\":\"white\",\"lakecolor\":\"white\",\"landcolor\":\"#E5ECF6\",\"showlakes\":true,\"showland\":true,\"subunitcolor\":\"white\"},\"hoverlabel\":{\"align\":\"left\"},\"hovermode\":\"closest\",\"mapbox\":{\"style\":\"light\"},\"paper_bgcolor\":\"white\",\"plot_bgcolor\":\"#E5ECF6\",\"polar\":{\"angularaxis\":{\"gridcolor\":\"white\",\"linecolor\":\"white\",\"ticks\":\"\"},\"bgcolor\":\"#E5ECF6\",\"radialaxis\":{\"gridcolor\":\"white\",\"linecolor\":\"white\",\"ticks\":\"\"}},\"scene\":{\"xaxis\":{\"backgroundcolor\":\"#E5ECF6\",\"gridcolor\":\"white\",\"gridwidth\":2,\"linecolor\":\"white\",\"showbackground\":true,\"ticks\":\"\",\"zerolinecolor\":\"white\"},\"yaxis\":{\"backgroundcolor\":\"#E5ECF6\",\"gridcolor\":\"white\",\"gridwidth\":2,\"linecolor\":\"white\",\"showbackground\":true,\"ticks\":\"\",\"zerolinecolor\":\"white\"},\"zaxis\":{\"backgroundcolor\":\"#E5ECF6\",\"gridcolor\":\"white\",\"gridwidth\":2,\"linecolor\":\"white\",\"showbackground\":true,\"ticks\":\"\",\"zerolinecolor\":\"white\"}},\"shapedefaults\":{\"line\":{\"color\":\"#2a3f5f\"}},\"ternary\":{\"aaxis\":{\"gridcolor\":\"white\",\"linecolor\":\"white\",\"ticks\":\"\"},\"baxis\":{\"gridcolor\":\"white\",\"linecolor\":\"white\",\"ticks\":\"\"},\"bgcolor\":\"#E5ECF6\",\"caxis\":{\"gridcolor\":\"white\",\"linecolor\":\"white\",\"ticks\":\"\"}},\"title\":{\"x\":0.05},\"xaxis\":{\"automargin\":true,\"gridcolor\":\"white\",\"linecolor\":\"white\",\"ticks\":\"\",\"title\":{\"standoff\":15},\"zerolinecolor\":\"white\",\"zerolinewidth\":2},\"yaxis\":{\"automargin\":true,\"gridcolor\":\"white\",\"linecolor\":\"white\",\"ticks\":\"\",\"title\":{\"standoff\":15},\"zerolinecolor\":\"white\",\"zerolinewidth\":2}}}},                        {\"responsive\": true}                    ).then(function(){\n",
       "                            \n",
       "var gd = document.getElementById('56ceaf3a-f4ad-40af-abe1-d9188ec15c75');\n",
       "var x = new MutationObserver(function (mutations, observer) {{\n",
       "        var display = window.getComputedStyle(gd).display;\n",
       "        if (!display || display === 'none') {{\n",
       "            console.log([gd, 'removed!']);\n",
       "            Plotly.purge(gd);\n",
       "            observer.disconnect();\n",
       "        }}\n",
       "}});\n",
       "\n",
       "// Listen for the removal of the full notebook cells\n",
       "var notebookContainer = gd.closest('#notebook-container');\n",
       "if (notebookContainer) {{\n",
       "    x.observe(notebookContainer, {childList: true});\n",
       "}}\n",
       "\n",
       "// Listen for the clearing of the current output cell\n",
       "var outputEl = gd.closest('.output');\n",
       "if (outputEl) {{\n",
       "    x.observe(outputEl, {childList: true});\n",
       "}}\n",
       "\n",
       "                        })                };                });            </script>        </div>"
      ]
     },
     "metadata": {},
     "output_type": "display_data"
    }
   ],
   "source": [
    "import plotly.graph_objects as go\n",
    "\n",
    "fig = go.Figure(go.Scatter(x=np.array(all_m).ravel(), y=np.array(all_b).ravel(), name='High 2014',\n",
    "                         line=dict(color='#fff', width=4)))\n",
    "\n",
    "fig.add_trace(go.Contour(z=z_arr,x=m_arr,y=b_arr))\n",
    "fig.show()"
   ]
  },
  {
   "cell_type": "code",
   "execution_count": 13,
   "id": "9b45a7c2",
   "metadata": {
    "scrolled": true
   },
   "outputs": [
    {
     "data": {
      "image/png": "[encoded data removed]",
      "text/plain": [
       "<Figure size 432x288 with 2 Axes>"
      ]
     },
     "metadata": {
      "needs_background": "light"
     },
     "output_type": "display_data"
    },
    {
     "data": {
      "text/plain": [
       "<Figure size 1296x288 with 0 Axes>"
      ]
     },
     "metadata": {},
     "output_type": "display_data"
    }
   ],
   "source": [
    "import numpy as np\n",
    "import matplotlib.pyplot as plt\n",
    "\n",
    "\n",
    "fig,ax=plt.subplots(1,1)\n",
    "plt.figure(figsize=(18,4))\n",
    "cp = ax.contourf(m_arr, b_arr, z_arr)\n",
    "ax.plot(np.array(all_m).ravel(),np.array(all_b).ravel(),color='white')\n",
    "fig.colorbar(cp) # Add a colorbar to a plot\n",
    "ax.set_title('Filled Contours Plot')\n",
    "ax.set_xlabel('m')\n",
    "ax.set_ylabel('b')\n",
    "plt.show()"
   ]
  },
  {
   "cell_type": "code",
   "execution_count": 14,
   "id": "9ec34eaa",
   "metadata": {},
   "outputs": [
    {
     "data": {
      "application/javascript": [
       "/* Put everything inside the global mpl namespace */\n",
       "/* global mpl */\n",
       "window.mpl = {};\n",
       "\n",
       "mpl.get_websocket_type = function () {\n",
       "    if (typeof WebSocket !== 'undefined') {\n",
       "        return WebSocket;\n",
       "    } else if (typeof MozWebSocket !== 'undefined') {\n",
       "        return MozWebSocket;\n",
       "    } else {\n",
       "        alert(\n",
       "            'Your browser does not have WebSocket support. ' +\n",
       "                'Please try Chrome, Safari or Firefox ≥ 6. ' +\n",
       "                'Firefox 4 and 5 are also supported but you ' +\n",
       "                'have to enable WebSockets in about:config.'\n",
       "        );\n",
       "    }\n",
       "};\n",
       "\n",
       "mpl.figure = function (figure_id, websocket, ondownload, parent_element) {\n",
       "    this.id = figure_id;\n",
       "\n",
       "    this.ws = websocket;\n",
       "\n",
       "    this.supports_binary = this.ws.binaryType !== undefined;\n",
       "\n",
       "    if (!this.supports_binary) {\n",
       "        var warnings = document.getElementById('mpl-warnings');\n",
       "        if (warnings) {\n",
       "            warnings.style.display = 'block';\n",
       "            warnings.textContent =\n",
       "                'This browser does not support binary websocket messages. ' +\n",
       "                'Performance may be slow.';\n",
       "        }\n",
       "    }\n",
       "\n",
       "    this.imageObj = new Image();\n",
       "\n",
       "    this.context = undefined;\n",
       "    this.message = undefined;\n",
       "    this.canvas = undefined;\n",
       "    this.rubberband_canvas = undefined;\n",
       "    this.rubberband_context = undefined;\n",
       "    this.format_dropdown = undefined;\n",
       "\n",
       "    this.image_mode = 'full';\n",
       "\n",
       "    this.root = document.createElement('div');\n",
       "    this.root.setAttribute('style', 'display: inline-block');\n",
       "    this._root_extra_style(this.root);\n",
       "\n",
       "    parent_element.appendChild(this.root);\n",
       "\n",
       "    this._init_header(this);\n",
       "    this._init_canvas(this);\n",
       "    this._init_toolbar(this);\n",
       "\n",
       "    var fig = this;\n",
       "\n",
       "    this.waiting = false;\n",
       "\n",
       "    this.ws.onopen = function () {\n",
       "        fig.send_message('supports_binary', { value: fig.supports_binary });\n",
       "        fig.send_message('send_image_mode', {});\n",
       "        if (fig.ratio !== 1) {\n",
       "            fig.send_message('set_dpi_ratio', { dpi_ratio: fig.ratio });\n",
       "        }\n",
       "        fig.send_message('refresh', {});\n",
       "    };\n",
       "\n",
       "    this.imageObj.onload = function () {\n",
       "        if (fig.image_mode === 'full') {\n",
       "            // Full images could contain transparency (where diff images\n",
       "            // almost always do), so we need to clear the canvas so that\n",
       "            // there is no ghosting.\n",
       "            fig.context.clearRect(0, 0, fig.canvas.width, fig.canvas.height);\n",
       "        }\n",
       "        fig.context.drawImage(fig.imageObj, 0, 0);\n",
       "    };\n",
       "\n",
       "    this.imageObj.onunload = function () {\n",
       "        fig.ws.close();\n",
       "    };\n",
       "\n",
       "    this.ws.onmessage = this._make_on_message_function(this);\n",
       "\n",
       "    this.ondownload = ondownload;\n",
       "};\n",
       "\n",
       "mpl.figure.prototype._init_header = function () {\n",
       "    var titlebar = document.createElement('div');\n",
       "    titlebar.classList =\n",
       "        'ui-dialog-titlebar ui-widget-header ui-corner-all ui-helper-clearfix';\n",
       "    var titletext = document.createElement('div');\n",
       "    titletext.classList = 'ui-dialog-title';\n",
       "    titletext.setAttribute(\n",
       "        'style',\n",
       "        'width: 100%; text-align: center; padding: 3px;'\n",
       "    );\n",
       "    titlebar.appendChild(titletext);\n",
       "    this.root.appendChild(titlebar);\n",
       "    this.header = titletext;\n",
       "};\n",
       "\n",
       "mpl.figure.prototype._canvas_extra_style = function (_canvas_div) {};\n",
       "\n",
       "mpl.figure.prototype._root_extra_style = function (_canvas_div) {};\n",
       "\n",
       "mpl.figure.prototype._init_canvas = function () {\n",
       "    var fig = this;\n",
       "\n",
       "    var canvas_div = (this.canvas_div = document.createElement('div'));\n",
       "    canvas_div.setAttribute(\n",
       "        'style',\n",
       "        'border: 1px solid #ddd;' +\n",
       "            'box-sizing: content-box;' +\n",
       "            'clear: both;' +\n",
       "            'min-height: 1px;' +\n",
       "            'min-width: 1px;' +\n",
       "            'outline: 0;' +\n",
       "            'overflow: hidden;' +\n",
       "            'position: relative;' +\n",
       "            'resize: both;'\n",
       "    );\n",
       "\n",
       "    function on_keyboard_event_closure(name) {\n",
       "        return function (event) {\n",
       "            return fig.key_event(event, name);\n",
       "        };\n",
       "    }\n",
       "\n",
       "    canvas_div.addEventListener(\n",
       "        'keydown',\n",
       "        on_keyboard_event_closure('key_press')\n",
       "    );\n",
       "    canvas_div.addEventListener(\n",
       "        'keyup',\n",
       "        on_keyboard_event_closure('key_release')\n",
       "    );\n",
       "\n",
       "    this._canvas_extra_style(canvas_div);\n",
       "    this.root.appendChild(canvas_div);\n",
       "\n",
       "    var canvas = (this.canvas = document.createElement('canvas'));\n",
       "    canvas.classList.add('mpl-canvas');\n",
       "    canvas.setAttribute('style', 'box-sizing: content-box;');\n",
       "\n",
       "    this.context = canvas.getContext('2d');\n",
       "\n",
       "    var backingStore =\n",
       "        this.context.backingStorePixelRatio ||\n",
       "        this.context.webkitBackingStorePixelRatio ||\n",
       "        this.context.mozBackingStorePixelRatio ||\n",
       "        this.context.msBackingStorePixelRatio ||\n",
       "        this.context.oBackingStorePixelRatio ||\n",
       "        this.context.backingStorePixelRatio ||\n",
       "        1;\n",
       "\n",
       "    this.ratio = (window.devicePixelRatio || 1) / backingStore;\n",
       "\n",
       "    var rubberband_canvas = (this.rubberband_canvas = document.createElement(\n",
       "        'canvas'\n",
       "    ));\n",
       "    rubberband_canvas.setAttribute(\n",
       "        'style',\n",
       "        'box-sizing: content-box; position: absolute; left: 0; top: 0; z-index: 1;'\n",
       "    );\n",
       "\n",
       "    // Apply a ponyfill if ResizeObserver is not implemented by browser.\n",
       "    if (this.ResizeObserver === undefined) {\n",
       "        if (window.ResizeObserver !== undefined) {\n",
       "            this.ResizeObserver = window.ResizeObserver;\n",
       "        } else {\n",
       "            var obs = _JSXTOOLS_RESIZE_OBSERVER({});\n",
       "            this.ResizeObserver = obs.ResizeObserver;\n",
       "        }\n",
       "    }\n",
       "\n",
       "    this.resizeObserverInstance = new this.ResizeObserver(function (entries) {\n",
       "        var nentries = entries.length;\n",
       "        for (var i = 0; i < nentries; i++) {\n",
       "            var entry = entries[i];\n",
       "            var width, height;\n",
       "            if (entry.contentBoxSize) {\n",
       "                if (entry.contentBoxSize instanceof Array) {\n",
       "                    // Chrome 84 implements new version of spec.\n",
       "                    width = entry.contentBoxSize[0].inlineSize;\n",
       "                    height = entry.contentBoxSize[0].blockSize;\n",
       "                } else {\n",
       "                    // Firefox implements old version of spec.\n",
       "                    width = entry.contentBoxSize.inlineSize;\n",
       "                    height = entry.contentBoxSize.blockSize;\n",
       "                }\n",
       "            } else {\n",
       "                // Chrome <84 implements even older version of spec.\n",
       "                width = entry.contentRect.width;\n",
       "                height = entry.contentRect.height;\n",
       "            }\n",
       "\n",
       "            // Keep the size of the canvas and rubber band canvas in sync with\n",
       "            // the canvas container.\n",
       "            if (entry.devicePixelContentBoxSize) {\n",
       "                // Chrome 84 implements new version of spec.\n",
       "                canvas.setAttribute(\n",
       "                    'width',\n",
       "                    entry.devicePixelContentBoxSize[0].inlineSize\n",
       "                );\n",
       "                canvas.setAttribute(\n",
       "                    'height',\n",
       "                    entry.devicePixelContentBoxSize[0].blockSize\n",
       "                );\n",
       "            } else {\n",
       "                canvas.setAttribute('width', width * fig.ratio);\n",
       "                canvas.setAttribute('height', height * fig.ratio);\n",
       "            }\n",
       "            canvas.setAttribute(\n",
       "                'style',\n",
       "                'width: ' + width + 'px; height: ' + height + 'px;'\n",
       "            );\n",
       "\n",
       "            rubberband_canvas.setAttribute('width', width);\n",
       "            rubberband_canvas.setAttribute('height', height);\n",
       "\n",
       "            // And update the size in Python. We ignore the initial 0/0 size\n",
       "            // that occurs as the element is placed into the DOM, which should\n",
       "            // otherwise not happen due to the minimum size styling.\n",
       "            if (fig.ws.readyState == 1 && width != 0 && height != 0) {\n",
       "                fig.request_resize(width, height);\n",
       "            }\n",
       "        }\n",
       "    });\n",
       "    this.resizeObserverInstance.observe(canvas_div);\n",
       "\n",
       "    function on_mouse_event_closure(name) {\n",
       "        return function (event) {\n",
       "            return fig.mouse_event(event, name);\n",
       "        };\n",
       "    }\n",
       "\n",
       "    rubberband_canvas.addEventListener(\n",
       "        'mousedown',\n",
       "        on_mouse_event_closure('button_press')\n",
       "    );\n",
       "    rubberband_canvas.addEventListener(\n",
       "        'mouseup',\n",
       "        on_mouse_event_closure('button_release')\n",
       "    );\n",
       "    rubberband_canvas.addEventListener(\n",
       "        'dblclick',\n",
       "        on_mouse_event_closure('dblclick')\n",
       "    );\n",
       "    // Throttle sequential mouse events to 1 every 20ms.\n",
       "    rubberband_canvas.addEventListener(\n",
       "        'mousemove',\n",
       "        on_mouse_event_closure('motion_notify')\n",
       "    );\n",
       "\n",
       "    rubberband_canvas.addEventListener(\n",
       "        'mouseenter',\n",
       "        on_mouse_event_closure('figure_enter')\n",
       "    );\n",
       "    rubberband_canvas.addEventListener(\n",
       "        'mouseleave',\n",
       "        on_mouse_event_closure('figure_leave')\n",
       "    );\n",
       "\n",
       "    canvas_div.addEventListener('wheel', function (event) {\n",
       "        if (event.deltaY < 0) {\n",
       "            event.step = 1;\n",
       "        } else {\n",
       "            event.step = -1;\n",
       "        }\n",
       "        on_mouse_event_closure('scroll')(event);\n",
       "    });\n",
       "\n",
       "    canvas_div.appendChild(canvas);\n",
       "    canvas_div.appendChild(rubberband_canvas);\n",
       "\n",
       "    this.rubberband_context = rubberband_canvas.getContext('2d');\n",
       "    this.rubberband_context.strokeStyle = '#000000';\n",
       "\n",
       "    this._resize_canvas = function (width, height, forward) {\n",
       "        if (forward) {\n",
       "            canvas_div.style.width = width + 'px';\n",
       "            canvas_div.style.height = height + 'px';\n",
       "        }\n",
       "    };\n",
       "\n",
       "    // Disable right mouse context menu.\n",
       "    this.rubberband_canvas.addEventListener('contextmenu', function (_e) {\n",
       "        event.preventDefault();\n",
       "        return false;\n",
       "    });\n",
       "\n",
       "    function set_focus() {\n",
       "        canvas.focus();\n",
       "        canvas_div.focus();\n",
       "    }\n",
       "\n",
       "    window.setTimeout(set_focus, 100);\n",
       "};\n",
       "\n",
       "mpl.figure.prototype._init_toolbar = function () {\n",
       "    var fig = this;\n",
       "\n",
       "    var toolbar = document.createElement('div');\n",
       "    toolbar.classList = 'mpl-toolbar';\n",
       "    this.root.appendChild(toolbar);\n",
       "\n",
       "    function on_click_closure(name) {\n",
       "        return function (_event) {\n",
       "            return fig.toolbar_button_onclick(name);\n",
       "        };\n",
       "    }\n",
       "\n",
       "    function on_mouseover_closure(tooltip) {\n",
       "        return function (event) {\n",
       "            if (!event.currentTarget.disabled) {\n",
       "                return fig.toolbar_button_onmouseover(tooltip);\n",
       "            }\n",
       "        };\n",
       "    }\n",
       "\n",
       "    fig.buttons = {};\n",
       "    var buttonGroup = document.createElement('div');\n",
       "    buttonGroup.classList = 'mpl-button-group';\n",
       "    for (var toolbar_ind in mpl.toolbar_items) {\n",
       "        var name = mpl.toolbar_items[toolbar_ind][0];\n",
       "        var tooltip = mpl.toolbar_items[toolbar_ind][1];\n",
       "        var image = mpl.toolbar_items[toolbar_ind][2];\n",
       "        var method_name = mpl.toolbar_items[toolbar_ind][3];\n",
       "\n",
       "        if (!name) {\n",
       "            /* Instead of a spacer, we start a new button group. */\n",
       "            if (buttonGroup.hasChildNodes()) {\n",
       "                toolbar.appendChild(buttonGroup);\n",
       "            }\n",
       "            buttonGroup = document.createElement('div');\n",
       "            buttonGroup.classList = 'mpl-button-group';\n",
       "            continue;\n",
       "        }\n",
       "\n",
       "        var button = (fig.buttons[name] = document.createElement('button'));\n",
       "        button.classList = 'mpl-widget';\n",
       "        button.setAttribute('role', 'button');\n",
       "        button.setAttribute('aria-disabled', 'false');\n",
       "        button.addEventListener('click', on_click_closure(method_name));\n",
       "        button.addEventListener('mouseover', on_mouseover_closure(tooltip));\n",
       "\n",
       "        var icon_img = document.createElement('img');\n",
       "        icon_img.src = '_images/' + image + '.png';\n",
       "        icon_img.srcset = '_images/' + image + '_large.png 2x';\n",
       "        icon_img.alt = tooltip;\n",
       "        button.appendChild(icon_img);\n",
       "\n",
       "        buttonGroup.appendChild(button);\n",
       "    }\n",
       "\n",
       "    if (buttonGroup.hasChildNodes()) {\n",
       "        toolbar.appendChild(buttonGroup);\n",
       "    }\n",
       "\n",
       "    var fmt_picker = document.createElement('select');\n",
       "    fmt_picker.classList = 'mpl-widget';\n",
       "    toolbar.appendChild(fmt_picker);\n",
       "    this.format_dropdown = fmt_picker;\n",
       "\n",
       "    for (var ind in mpl.extensions) {\n",
       "        var fmt = mpl.extensions[ind];\n",
       "        var option = document.createElement('option');\n",
       "        option.selected = fmt === mpl.default_extension;\n",
       "        option.innerHTML = fmt;\n",
       "        fmt_picker.appendChild(option);\n",
       "    }\n",
       "\n",
       "    var status_bar = document.createElement('span');\n",
       "    status_bar.classList = 'mpl-message';\n",
       "    toolbar.appendChild(status_bar);\n",
       "    this.message = status_bar;\n",
       "};\n",
       "\n",
       "mpl.figure.prototype.request_resize = function (x_pixels, y_pixels) {\n",
       "    // Request matplotlib to resize the figure. Matplotlib will then trigger a resize in the client,\n",
       "    // which will in turn request a refresh of the image.\n",
       "    this.send_message('resize', { width: x_pixels, height: y_pixels });\n",
       "};\n",
       "\n",
       "mpl.figure.prototype.send_message = function (type, properties) {\n",
       "    properties['type'] = type;\n",
       "    properties['figure_id'] = this.id;\n",
       "    this.ws.send(JSON.stringify(properties));\n",
       "};\n",
       "\n",
       "mpl.figure.prototype.send_draw_message = function () {\n",
       "    if (!this.waiting) {\n",
       "        this.waiting = true;\n",
       "        this.ws.send(JSON.stringify({ type: 'draw', figure_id: this.id }));\n",
       "    }\n",
       "};\n",
       "\n",
       "mpl.figure.prototype.handle_save = function (fig, _msg) {\n",
       "    var format_dropdown = fig.format_dropdown;\n",
       "    var format = format_dropdown.options[format_dropdown.selectedIndex].value;\n",
       "    fig.ondownload(fig, format);\n",
       "};\n",
       "\n",
       "mpl.figure.prototype.handle_resize = function (fig, msg) {\n",
       "    var size = msg['size'];\n",
       "    if (size[0] !== fig.canvas.width || size[1] !== fig.canvas.height) {\n",
       "        fig._resize_canvas(size[0], size[1], msg['forward']);\n",
       "        fig.send_message('refresh', {});\n",
       "    }\n",
       "};\n",
       "\n",
       "mpl.figure.prototype.handle_rubberband = function (fig, msg) {\n",
       "    var x0 = msg['x0'] / fig.ratio;\n",
       "    var y0 = (fig.canvas.height - msg['y0']) / fig.ratio;\n",
       "    var x1 = msg['x1'] / fig.ratio;\n",
       "    var y1 = (fig.canvas.height - msg['y1']) / fig.ratio;\n",
       "    x0 = Math.floor(x0) + 0.5;\n",
       "    y0 = Math.floor(y0) + 0.5;\n",
       "    x1 = Math.floor(x1) + 0.5;\n",
       "    y1 = Math.floor(y1) + 0.5;\n",
       "    var min_x = Math.min(x0, x1);\n",
       "    var min_y = Math.min(y0, y1);\n",
       "    var width = Math.abs(x1 - x0);\n",
       "    var height = Math.abs(y1 - y0);\n",
       "\n",
       "    fig.rubberband_context.clearRect(\n",
       "        0,\n",
       "        0,\n",
       "        fig.canvas.width / fig.ratio,\n",
       "        fig.canvas.height / fig.ratio\n",
       "    );\n",
       "\n",
       "    fig.rubberband_context.strokeRect(min_x, min_y, width, height);\n",
       "};\n",
       "\n",
       "mpl.figure.prototype.handle_figure_label = function (fig, msg) {\n",
       "    // Updates the figure title.\n",
       "    fig.header.textContent = msg['label'];\n",
       "};\n",
       "\n",
       "mpl.figure.prototype.handle_cursor = function (fig, msg) {\n",
       "    var cursor = msg['cursor'];\n",
       "    switch (cursor) {\n",
       "        case 0:\n",
       "            cursor = 'pointer';\n",
       "            break;\n",
       "        case 1:\n",
       "            cursor = 'default';\n",
       "            break;\n",
       "        case 2:\n",
       "            cursor = 'crosshair';\n",
       "            break;\n",
       "        case 3:\n",
       "            cursor = 'move';\n",
       "            break;\n",
       "    }\n",
       "    fig.rubberband_canvas.style.cursor = cursor;\n",
       "};\n",
       "\n",
       "mpl.figure.prototype.handle_message = function (fig, msg) {\n",
       "    fig.message.textContent = msg['message'];\n",
       "};\n",
       "\n",
       "mpl.figure.prototype.handle_draw = function (fig, _msg) {\n",
       "    // Request the server to send over a new figure.\n",
       "    fig.send_draw_message();\n",
       "};\n",
       "\n",
       "mpl.figure.prototype.handle_image_mode = function (fig, msg) {\n",
       "    fig.image_mode = msg['mode'];\n",
       "};\n",
       "\n",
       "mpl.figure.prototype.handle_history_buttons = function (fig, msg) {\n",
       "    for (var key in msg) {\n",
       "        if (!(key in fig.buttons)) {\n",
       "            continue;\n",
       "        }\n",
       "        fig.buttons[key].disabled = !msg[key];\n",
       "        fig.buttons[key].setAttribute('aria-disabled', !msg[key]);\n",
       "    }\n",
       "};\n",
       "\n",
       "mpl.figure.prototype.handle_navigate_mode = function (fig, msg) {\n",
       "    if (msg['mode'] === 'PAN') {\n",
       "        fig.buttons['Pan'].classList.add('active');\n",
       "        fig.buttons['Zoom'].classList.remove('active');\n",
       "    } else if (msg['mode'] === 'ZOOM') {\n",
       "        fig.buttons['Pan'].classList.remove('active');\n",
       "        fig.buttons['Zoom'].classList.add('active');\n",
       "    } else {\n",
       "        fig.buttons['Pan'].classList.remove('active');\n",
       "        fig.buttons['Zoom'].classList.remove('active');\n",
       "    }\n",
       "};\n",
       "\n",
       "mpl.figure.prototype.updated_canvas_event = function () {\n",
       "    // Called whenever the canvas gets updated.\n",
       "    this.send_message('ack', {});\n",
       "};\n",
       "\n",
       "// A function to construct a web socket function for onmessage handling.\n",
       "// Called in the figure constructor.\n",
       "mpl.figure.prototype._make_on_message_function = function (fig) {\n",
       "    return function socket_on_message(evt) {\n",
       "        if (evt.data instanceof Blob) {\n",
       "            var img = evt.data;\n",
       "            if (img.type !== 'image/png') {\n",
       "                /* FIXME: We get \"Resource interpreted as Image but\n",
       "                 * transferred with MIME type text/plain:\" errors on\n",
       "                 * Chrome.  But how to set the MIME type?  It doesn't seem\n",
       "                 * to be part of the websocket stream */\n",
       "                img.type = 'image/png';\n",
       "            }\n",
       "\n",
       "            /* Free the memory for the previous frames */\n",
       "            if (fig.imageObj.src) {\n",
       "                (window.URL || window.webkitURL).revokeObjectURL(\n",
       "                    fig.imageObj.src\n",
       "                );\n",
       "            }\n",
       "\n",
       "            fig.imageObj.src = (window.URL || window.webkitURL).createObjectURL(\n",
       "                img\n",
       "            );\n",
       "            fig.updated_canvas_event();\n",
       "            fig.waiting = false;\n",
       "            return;\n",
       "        } else if (\n",
       "            typeof evt.data === 'string' &&\n",
       "            evt.data.slice(0, 21) === 'data:image/png;base64'\n",
       "        ) {\n",
       "            fig.imageObj.src = evt.data;\n",
       "            fig.updated_canvas_event();\n",
       "            fig.waiting = false;\n",
       "            return;\n",
       "        }\n",
       "\n",
       "        var msg = JSON.parse(evt.data);\n",
       "        var msg_type = msg['type'];\n",
       "\n",
       "        // Call the  \"handle_{type}\" callback, which takes\n",
       "        // the figure and JSON message as its only arguments.\n",
       "        try {\n",
       "            var callback = fig['handle_' + msg_type];\n",
       "        } catch (e) {\n",
       "            console.log(\n",
       "                \"No handler for the '\" + msg_type + \"' message type: \",\n",
       "                msg\n",
       "            );\n",
       "            return;\n",
       "        }\n",
       "\n",
       "        if (callback) {\n",
       "            try {\n",
       "                // console.log(\"Handling '\" + msg_type + \"' message: \", msg);\n",
       "                callback(fig, msg);\n",
       "            } catch (e) {\n",
       "                console.log(\n",
       "                    \"Exception inside the 'handler_\" + msg_type + \"' callback:\",\n",
       "                    e,\n",
       "                    e.stack,\n",
       "                    msg\n",
       "                );\n",
       "            }\n",
       "        }\n",
       "    };\n",
       "};\n",
       "\n",
       "// from http://stackoverflow.com/questions/1114465/getting-mouse-location-in-canvas\n",
       "mpl.findpos = function (e) {\n",
       "    //this section is from http://www.quirksmode.org/js/events_properties.html\n",
       "    var targ;\n",
       "    if (!e) {\n",
       "        e = window.event;\n",
       "    }\n",
       "    if (e.target) {\n",
       "        targ = e.target;\n",
       "    } else if (e.srcElement) {\n",
       "        targ = e.srcElement;\n",
       "    }\n",
       "    if (targ.nodeType === 3) {\n",
       "        // defeat Safari bug\n",
       "        targ = targ.parentNode;\n",
       "    }\n",
       "\n",
       "    // pageX,Y are the mouse positions relative to the document\n",
       "    var boundingRect = targ.getBoundingClientRect();\n",
       "    var x = e.pageX - (boundingRect.left + document.body.scrollLeft);\n",
       "    var y = e.pageY - (boundingRect.top + document.body.scrollTop);\n",
       "\n",
       "    return { x: x, y: y };\n",
       "};\n",
       "\n",
       "/*\n",
       " * return a copy of an object with only non-object keys\n",
       " * we need this to avoid circular references\n",
       " * http://stackoverflow.com/a/24161582/3208463\n",
       " */\n",
       "function simpleKeys(original) {\n",
       "    return Object.keys(original).reduce(function (obj, key) {\n",
       "        if (typeof original[key] !== 'object') {\n",
       "            obj[key] = original[key];\n",
       "        }\n",
       "        return obj;\n",
       "    }, {});\n",
       "}\n",
       "\n",
       "mpl.figure.prototype.mouse_event = function (event, name) {\n",
       "    var canvas_pos = mpl.findpos(event);\n",
       "\n",
       "    if (name === 'button_press') {\n",
       "        this.canvas.focus();\n",
       "        this.canvas_div.focus();\n",
       "    }\n",
       "\n",
       "    var x = canvas_pos.x * this.ratio;\n",
       "    var y = canvas_pos.y * this.ratio;\n",
       "\n",
       "    this.send_message(name, {\n",
       "        x: x,\n",
       "        y: y,\n",
       "        button: event.button,\n",
       "        step: event.step,\n",
       "        guiEvent: simpleKeys(event),\n",
       "    });\n",
       "\n",
       "    /* This prevents the web browser from automatically changing to\n",
       "     * the text insertion cursor when the button is pressed.  We want\n",
       "     * to control all of the cursor setting manually through the\n",
       "     * 'cursor' event from matplotlib */\n",
       "    event.preventDefault();\n",
       "    return false;\n",
       "};\n",
       "\n",
       "mpl.figure.prototype._key_event_extra = function (_event, _name) {\n",
       "    // Handle any extra behaviour associated with a key event\n",
       "};\n",
       "\n",
       "mpl.figure.prototype.key_event = function (event, name) {\n",
       "    // Prevent repeat events\n",
       "    if (name === 'key_press') {\n",
       "        if (event.key === this._key) {\n",
       "            return;\n",
       "        } else {\n",
       "            this._key = event.key;\n",
       "        }\n",
       "    }\n",
       "    if (name === 'key_release') {\n",
       "        this._key = null;\n",
       "    }\n",
       "\n",
       "    var value = '';\n",
       "    if (event.ctrlKey && event.key !== 'Control') {\n",
       "        value += 'ctrl+';\n",
       "    }\n",
       "    else if (event.altKey && event.key !== 'Alt') {\n",
       "        value += 'alt+';\n",
       "    }\n",
       "    else if (event.shiftKey && event.key !== 'Shift') {\n",
       "        value += 'shift+';\n",
       "    }\n",
       "\n",
       "    value += 'k' + event.key;\n",
       "\n",
       "    this._key_event_extra(event, name);\n",
       "\n",
       "    this.send_message(name, { key: value, guiEvent: simpleKeys(event) });\n",
       "    return false;\n",
       "};\n",
       "\n",
       "mpl.figure.prototype.toolbar_button_onclick = function (name) {\n",
       "    if (name === 'download') {\n",
       "        this.handle_save(this, null);\n",
       "    } else {\n",
       "        this.send_message('toolbar_button', { name: name });\n",
       "    }\n",
       "};\n",
       "\n",
       "mpl.figure.prototype.toolbar_button_onmouseover = function (tooltip) {\n",
       "    this.message.textContent = tooltip;\n",
       "};\n",
       "\n",
       "///////////////// REMAINING CONTENT GENERATED BY embed_js.py /////////////////\n",
       "// prettier-ignore\n",
       "var _JSXTOOLS_RESIZE_OBSERVER=function(A){var t,i=new WeakMap,n=new WeakMap,a=new WeakMap,r=new WeakMap,o=new Set;function s(e){if(!(this instanceof s))throw new TypeError(\"Constructor requires 'new' operator\");i.set(this,e)}function h(){throw new TypeError(\"Function is not a constructor\")}function c(e,t,i,n){e=0 in arguments?Number(arguments[0]):0,t=1 in arguments?Number(arguments[1]):0,i=2 in arguments?Number(arguments[2]):0,n=3 in arguments?Number(arguments[3]):0,this.right=(this.x=this.left=e)+(this.width=i),this.bottom=(this.y=this.top=t)+(this.height=n),Object.freeze(this)}function d(){t=requestAnimationFrame(d);var s=new WeakMap,p=new Set;o.forEach((function(t){r.get(t).forEach((function(i){var r=t instanceof window.SVGElement,o=a.get(t),d=r?0:parseFloat(o.paddingTop),f=r?0:parseFloat(o.paddingRight),l=r?0:parseFloat(o.paddingBottom),u=r?0:parseFloat(o.paddingLeft),g=r?0:parseFloat(o.borderTopWidth),m=r?0:parseFloat(o.borderRightWidth),w=r?0:parseFloat(o.borderBottomWidth),b=u+f,F=d+l,v=(r?0:parseFloat(o.borderLeftWidth))+m,W=g+w,y=r?0:t.offsetHeight-W-t.clientHeight,E=r?0:t.offsetWidth-v-t.clientWidth,R=b+v,z=F+W,M=r?t.width:parseFloat(o.width)-R-E,O=r?t.height:parseFloat(o.height)-z-y;if(n.has(t)){var k=n.get(t);if(k[0]===M&&k[1]===O)return}n.set(t,[M,O]);var S=Object.create(h.prototype);S.target=t,S.contentRect=new c(u,d,M,O),s.has(i)||(s.set(i,[]),p.add(i)),s.get(i).push(S)}))})),p.forEach((function(e){i.get(e).call(e,s.get(e),e)}))}return s.prototype.observe=function(i){if(i instanceof window.Element){r.has(i)||(r.set(i,new Set),o.add(i),a.set(i,window.getComputedStyle(i)));var n=r.get(i);n.has(this)||n.add(this),cancelAnimationFrame(t),t=requestAnimationFrame(d)}},s.prototype.unobserve=function(i){if(i instanceof window.Element&&r.has(i)){var n=r.get(i);n.has(this)&&(n.delete(this),n.size||(r.delete(i),o.delete(i))),n.size||r.delete(i),o.size||cancelAnimationFrame(t)}},A.DOMRectReadOnly=c,A.ResizeObserver=s,A.ResizeObserverEntry=h,A}; // eslint-disable-line\n",
       "mpl.toolbar_items = [[\"Home\", \"Reset original view\", \"fa fa-home icon-home\", \"home\"], [\"Back\", \"Back to previous view\", \"fa fa-arrow-left icon-arrow-left\", \"back\"], [\"Forward\", \"Forward to next view\", \"fa fa-arrow-right icon-arrow-right\", \"forward\"], [\"\", \"\", \"\", \"\"], [\"Pan\", \"Left button pans, Right button zooms\\nx/y fixes axis, CTRL fixes aspect\", \"fa fa-arrows icon-move\", \"pan\"], [\"Zoom\", \"Zoom to rectangle\\nx/y fixes axis, CTRL fixes aspect\", \"fa fa-square-o icon-check-empty\", \"zoom\"], [\"\", \"\", \"\", \"\"], [\"Download\", \"Download plot\", \"fa fa-floppy-o icon-save\", \"download\"]];\n",
       "\n",
       "mpl.extensions = [\"eps\", \"jpeg\", \"pgf\", \"pdf\", \"png\", \"ps\", \"raw\", \"svg\", \"tif\"];\n",
       "\n",
       "mpl.default_extension = \"png\";/* global mpl */\n",
       "\n",
       "var comm_websocket_adapter = function (comm) {\n",
       "    // Create a \"websocket\"-like object which calls the given IPython comm\n",
       "    // object with the appropriate methods. Currently this is a non binary\n",
       "    // socket, so there is still some room for performance tuning.\n",
       "    var ws = {};\n",
       "\n",
       "    ws.binaryType = comm.kernel.ws.binaryType;\n",
       "    ws.readyState = comm.kernel.ws.readyState;\n",
       "    function updateReadyState(_event) {\n",
       "        if (comm.kernel.ws) {\n",
       "            ws.readyState = comm.kernel.ws.readyState;\n",
       "        } else {\n",
       "            ws.readyState = 3; // Closed state.\n",
       "        }\n",
       "    }\n",
       "    comm.kernel.ws.addEventListener('open', updateReadyState);\n",
       "    comm.kernel.ws.addEventListener('close', updateReadyState);\n",
       "    comm.kernel.ws.addEventListener('error', updateReadyState);\n",
       "\n",
       "    ws.close = function () {\n",
       "        comm.close();\n",
       "    };\n",
       "    ws.send = function (m) {\n",
       "        //console.log('sending', m);\n",
       "        comm.send(m);\n",
       "    };\n",
       "    // Register the callback with on_msg.\n",
       "    comm.on_msg(function (msg) {\n",
       "        //console.log('receiving', msg['content']['data'], msg);\n",
       "        var data = msg['content']['data'];\n",
       "        if (data['blob'] !== undefined) {\n",
       "            data = {\n",
       "                data: new Blob(msg['buffers'], { type: data['blob'] }),\n",
       "            };\n",
       "        }\n",
       "        // Pass the mpl event to the overridden (by mpl) onmessage function.\n",
       "        ws.onmessage(data);\n",
       "    });\n",
       "    return ws;\n",
       "};\n",
       "\n",
       "mpl.mpl_figure_comm = function (comm, msg) {\n",
       "    // This is the function which gets called when the mpl process\n",
       "    // starts-up an IPython Comm through the \"matplotlib\" channel.\n",
       "\n",
       "    var id = msg.content.data.id;\n",
       "    // Get hold of the div created by the display call when the Comm\n",
       "    // socket was opened in Python.\n",
       "    var element = document.getElementById(id);\n",
       "    var ws_proxy = comm_websocket_adapter(comm);\n",
       "\n",
       "    function ondownload(figure, _format) {\n",
       "        window.open(figure.canvas.toDataURL());\n",
       "    }\n",
       "\n",
       "    var fig = new mpl.figure(id, ws_proxy, ondownload, element);\n",
       "\n",
       "    // Call onopen now - mpl needs it, as it is assuming we've passed it a real\n",
       "    // web socket which is closed, not our websocket->open comm proxy.\n",
       "    ws_proxy.onopen();\n",
       "\n",
       "    fig.parent_element = element;\n",
       "    fig.cell_info = mpl.find_output_cell(\"<div id='\" + id + \"'></div>\");\n",
       "    if (!fig.cell_info) {\n",
       "        console.error('Failed to find cell for figure', id, fig);\n",
       "        return;\n",
       "    }\n",
       "    fig.cell_info[0].output_area.element.on(\n",
       "        'cleared',\n",
       "        { fig: fig },\n",
       "        fig._remove_fig_handler\n",
       "    );\n",
       "};\n",
       "\n",
       "mpl.figure.prototype.handle_close = function (fig, msg) {\n",
       "    var width = fig.canvas.width / fig.ratio;\n",
       "    fig.cell_info[0].output_area.element.off(\n",
       "        'cleared',\n",
       "        fig._remove_fig_handler\n",
       "    );\n",
       "    fig.resizeObserverInstance.unobserve(fig.canvas_div);\n",
       "\n",
       "    // Update the output cell to use the data from the current canvas.\n",
       "    fig.push_to_output();\n",
       "    var dataURL = fig.canvas.toDataURL();\n",
       "    // Re-enable the keyboard manager in IPython - without this line, in FF,\n",
       "    // the notebook keyboard shortcuts fail.\n",
       "    IPython.keyboard_manager.enable();\n",
       "    fig.parent_element.innerHTML =\n",
       "        '<img src=\"' + dataURL + '\" width=\"' + width + '\">';\n",
       "    fig.close_ws(fig, msg);\n",
       "};\n",
       "\n",
       "mpl.figure.prototype.close_ws = function (fig, msg) {\n",
       "    fig.send_message('closing', msg);\n",
       "    // fig.ws.close()\n",
       "};\n",
       "\n",
       "mpl.figure.prototype.push_to_output = function (_remove_interactive) {\n",
       "    // Turn the data on the canvas into data in the output cell.\n",
       "    var width = this.canvas.width / this.ratio;\n",
       "    var dataURL = this.canvas.toDataURL();\n",
       "    this.cell_info[1]['text/html'] =\n",
       "        '<img src=\"' + dataURL + '\" width=\"' + width + '\">';\n",
       "};\n",
       "\n",
       "mpl.figure.prototype.updated_canvas_event = function () {\n",
       "    // Tell IPython that the notebook contents must change.\n",
       "    IPython.notebook.set_dirty(true);\n",
       "    this.send_message('ack', {});\n",
       "    var fig = this;\n",
       "    // Wait a second, then push the new image to the DOM so\n",
       "    // that it is saved nicely (might be nice to debounce this).\n",
       "    setTimeout(function () {\n",
       "        fig.push_to_output();\n",
       "    }, 1000);\n",
       "};\n",
       "\n",
       "mpl.figure.prototype._init_toolbar = function () {\n",
       "    var fig = this;\n",
       "\n",
       "    var toolbar = document.createElement('div');\n",
       "    toolbar.classList = 'btn-toolbar';\n",
       "    this.root.appendChild(toolbar);\n",
       "\n",
       "    function on_click_closure(name) {\n",
       "        return function (_event) {\n",
       "            return fig.toolbar_button_onclick(name);\n",
       "        };\n",
       "    }\n",
       "\n",
       "    function on_mouseover_closure(tooltip) {\n",
       "        return function (event) {\n",
       "            if (!event.currentTarget.disabled) {\n",
       "                return fig.toolbar_button_onmouseover(tooltip);\n",
       "            }\n",
       "        };\n",
       "    }\n",
       "\n",
       "    fig.buttons = {};\n",
       "    var buttonGroup = document.createElement('div');\n",
       "    buttonGroup.classList = 'btn-group';\n",
       "    var button;\n",
       "    for (var toolbar_ind in mpl.toolbar_items) {\n",
       "        var name = mpl.toolbar_items[toolbar_ind][0];\n",
       "        var tooltip = mpl.toolbar_items[toolbar_ind][1];\n",
       "        var image = mpl.toolbar_items[toolbar_ind][2];\n",
       "        var method_name = mpl.toolbar_items[toolbar_ind][3];\n",
       "\n",
       "        if (!name) {\n",
       "            /* Instead of a spacer, we start a new button group. */\n",
       "            if (buttonGroup.hasChildNodes()) {\n",
       "                toolbar.appendChild(buttonGroup);\n",
       "            }\n",
       "            buttonGroup = document.createElement('div');\n",
       "            buttonGroup.classList = 'btn-group';\n",
       "            continue;\n",
       "        }\n",
       "\n",
       "        button = fig.buttons[name] = document.createElement('button');\n",
       "        button.classList = 'btn btn-default';\n",
       "        button.href = '#';\n",
       "        button.title = name;\n",
       "        button.innerHTML = '<i class=\"fa ' + image + ' fa-lg\"></i>';\n",
       "        button.addEventListener('click', on_click_closure(method_name));\n",
       "        button.addEventListener('mouseover', on_mouseover_closure(tooltip));\n",
       "        buttonGroup.appendChild(button);\n",
       "    }\n",
       "\n",
       "    if (buttonGroup.hasChildNodes()) {\n",
       "        toolbar.appendChild(buttonGroup);\n",
       "    }\n",
       "\n",
       "    // Add the status bar.\n",
       "    var status_bar = document.createElement('span');\n",
       "    status_bar.classList = 'mpl-message pull-right';\n",
       "    toolbar.appendChild(status_bar);\n",
       "    this.message = status_bar;\n",
       "\n",
       "    // Add the close button to the window.\n",
       "    var buttongrp = document.createElement('div');\n",
       "    buttongrp.classList = 'btn-group inline pull-right';\n",
       "    button = document.createElement('button');\n",
       "    button.classList = 'btn btn-mini btn-primary';\n",
       "    button.href = '#';\n",
       "    button.title = 'Stop Interaction';\n",
       "    button.innerHTML = '<i class=\"fa fa-power-off icon-remove icon-large\"></i>';\n",
       "    button.addEventListener('click', function (_evt) {\n",
       "        fig.handle_close(fig, {});\n",
       "    });\n",
       "    button.addEventListener(\n",
       "        'mouseover',\n",
       "        on_mouseover_closure('Stop Interaction')\n",
       "    );\n",
       "    buttongrp.appendChild(button);\n",
       "    var titlebar = this.root.querySelector('.ui-dialog-titlebar');\n",
       "    titlebar.insertBefore(buttongrp, titlebar.firstChild);\n",
       "};\n",
       "\n",
       "mpl.figure.prototype._remove_fig_handler = function (event) {\n",
       "    var fig = event.data.fig;\n",
       "    if (event.target !== this) {\n",
       "        // Ignore bubbled events from children.\n",
       "        return;\n",
       "    }\n",
       "    fig.close_ws(fig, {});\n",
       "};\n",
       "\n",
       "mpl.figure.prototype._root_extra_style = function (el) {\n",
       "    el.style.boxSizing = 'content-box'; // override notebook setting of border-box.\n",
       "};\n",
       "\n",
       "mpl.figure.prototype._canvas_extra_style = function (el) {\n",
       "    // this is important to make the div 'focusable\n",
       "    el.setAttribute('tabindex', 0);\n",
       "    // reach out to IPython and tell the keyboard manager to turn it's self\n",
       "    // off when our div gets focus\n",
       "\n",
       "    // location in version 3\n",
       "    if (IPython.notebook.keyboard_manager) {\n",
       "        IPython.notebook.keyboard_manager.register_events(el);\n",
       "    } else {\n",
       "        // location in version 2\n",
       "        IPython.keyboard_manager.register_events(el);\n",
       "    }\n",
       "};\n",
       "\n",
       "mpl.figure.prototype._key_event_extra = function (event, _name) {\n",
       "    var manager = IPython.notebook.keyboard_manager;\n",
       "    if (!manager) {\n",
       "        manager = IPython.keyboard_manager;\n",
       "    }\n",
       "\n",
       "    // Check for shift+enter\n",
       "    if (event.shiftKey && event.which === 13) {\n",
       "        this.canvas_div.blur();\n",
       "        // select the cell after this one\n",
       "        var index = IPython.notebook.find_cell_index(this.cell_info[0]);\n",
       "        IPython.notebook.select(index + 1);\n",
       "    }\n",
       "};\n",
       "\n",
       "mpl.figure.prototype.handle_save = function (fig, _msg) {\n",
       "    fig.ondownload(fig, null);\n",
       "};\n",
       "\n",
       "mpl.find_output_cell = function (html_output) {\n",
       "    // Return the cell and output element which can be found *uniquely* in the notebook.\n",
       "    // Note - this is a bit hacky, but it is done because the \"notebook_saving.Notebook\"\n",
       "    // IPython event is triggered only after the cells have been serialised, which for\n",
       "    // our purposes (turning an active figure into a static one), is too late.\n",
       "    var cells = IPython.notebook.get_cells();\n",
       "    var ncells = cells.length;\n",
       "    for (var i = 0; i < ncells; i++) {\n",
       "        var cell = cells[i];\n",
       "        if (cell.cell_type === 'code') {\n",
       "            for (var j = 0; j < cell.output_area.outputs.length; j++) {\n",
       "                var data = cell.output_area.outputs[j];\n",
       "                if (data.data) {\n",
       "                    // IPython >= 3 moved mimebundle to data attribute of output\n",
       "                    data = data.data;\n",
       "                }\n",
       "                if (data['text/html'] === html_output) {\n",
       "                    return [cell, data, j];\n",
       "                }\n",
       "            }\n",
       "        }\n",
       "    }\n",
       "};\n",
       "\n",
       "// Register the function which deals with the matplotlib target/channel.\n",
       "// The kernel may be null if the page has been refreshed.\n",
       "if (IPython.notebook.kernel !== null) {\n",
       "    IPython.notebook.kernel.comm_manager.register_target(\n",
       "        'matplotlib',\n",
       "        mpl.mpl_figure_comm\n",
       "    );\n",
       "}\n"
      ],
      "text/plain": [
       "<IPython.core.display.Javascript object>"
      ]
     },
     "metadata": {},
     "output_type": "display_data"
    },
    {
     "data": {
      "text/html": [
       "<img src=\"data:image/png;base64,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\" width=\"900\">"
      ],
      "text/plain": [
       "<IPython.core.display.HTML object>"
      ]
     },
     "metadata": {},
     "output_type": "display_data"
    }
   ],
   "source": [
    "%matplotlib notebook\n",
    "from matplotlib.animation import FuncAnimation\n",
    "import matplotlib.animation as animation\n",
    "\n",
    "# intercept graph\n",
    "num_epochs = list(range(0,30))\n",
    "fig = plt.figure(figsize=(9,5)) \n",
    "axis = plt.axes(xlim =(-150, 150), ylim =(-150, 150)) \n",
    "\n",
    "axis.contourf(m_arr, b_arr, z_arr)\n",
    "\n",
    "line, = axis.plot([], [], lw = 2,color='white') \n",
    "  \n",
    "xdata, ydata = [], [] \n",
    "  \n",
    "# animation function \n",
    "def animate(i): \n",
    "    label = 'epoch {0}'.format(i + 1)\n",
    "    xdata.append(all_m[i]) \n",
    "    ydata.append(all_b[i]) \n",
    "    line.set_data(xdata, ydata) \n",
    "    axis.set_xlabel(label)\n",
    "      \n",
    "    return line, \n",
    "  \n",
    "# calling the animation function     \n",
    "anim = animation.FuncAnimation(fig, animate, frames = 30,repeat=False, interval = 500)\n",
    "\n",
    "#f = r\"animation8.gif\" \n",
    "#writergif = animation.PillowWriter(fps=2) \n",
    "#anim.save(f, writer=writergif)"
   ]
  },
  {
   "cell_type": "code",
   "execution_count": null,
   "id": "b00cfe6c",
   "metadata": {},
   "outputs": [],
   "source": []
  }
 ],
 "metadata": {
  "kernelspec": {
   "display_name": "Python 3 (ipykernel)",
   "language": "python",
   "name": "python3"
  },
  "language_info": {
   "codemirror_mode": {
    "name": "ipython",
    "version": 3
   },
   "file_extension": ".py",
   "mimetype": "text/x-python",
   "name": "python",
   "nbconvert_exporter": "python",
   "pygments_lexer": "ipython3",
   "version": "3.9.7"
  }
 },
 "nbformat": 4,
 "nbformat_minor": 5
}
