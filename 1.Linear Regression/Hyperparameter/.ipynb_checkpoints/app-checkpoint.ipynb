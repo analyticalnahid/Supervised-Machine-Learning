{
 "cells": [
  {
   "cell_type": "code",
   "execution_count": 51,
   "id": "10c5e9a8",
   "metadata": {
    "ExecuteTime": {
     "end_time": "2022-06-03T17:43:09.833893Z",
     "start_time": "2022-06-03T17:43:09.817742Z"
    }
   },
   "outputs": [],
   "source": [
    "import pandas as pd\n",
    "import numpy as np\n",
    "import streamlit as st\n",
    "import pickle"
   ]
  },
  {
   "cell_type": "code",
   "execution_count": 52,
   "id": "2efba2c6",
   "metadata": {
    "ExecuteTime": {
     "end_time": "2022-06-03T17:43:10.060579Z",
     "start_time": "2022-06-03T17:43:10.040947Z"
    }
   },
   "outputs": [],
   "source": [
    "## loading the model\n",
    "pickle_in = open('pipe.pkl', 'rb')\n",
    "regressor = pickle.load(pickle_in)\n",
    "\n",
    "param_lst = ['OverallQual', 'YearBuilt', 'YearRemodAdd', 'BsmtFinSF1','TotalBsmtSF','1stFlrSF','GrLivArea','BsmtFullBath','FullBath','BedroomAbvGr','TotRmsAbvGrd','GarageYrBlt', 'GarageCars', 'GarageArea']"
   ]
  },
  {
   "cell_type": "code",
   "execution_count": 53,
   "id": "6f22dbae",
   "metadata": {
    "ExecuteTime": {
     "end_time": "2022-06-03T17:43:10.275236Z",
     "start_time": "2022-06-03T17:43:10.247308Z"
    }
   },
   "outputs": [],
   "source": [
    "def welcome():\n",
    "    print(\"Welcome all\")\n",
    "    \n",
    "def prediciton(param_lst):\n",
    "    prediciton = regressor.predict([param_lst])\n",
    "    print(prediciton)\n",
    "    return prediciton\n",
    "\n",
    "def nameit(name):\n",
    "    name = st.text_input(name)\n",
    "\n",
    "def main():\n",
    "    st.title(\"House Price Prediction\")\n",
    "    \n",
    "    'YearBuilt' = st.text_input('YearBuilt')\n",
    "    nameit('YearBuilt')\n",
    "    nameit('YearRemodAdd')\n",
    "    nameit('BsmtFinSF1')\n",
    "    nameit('TotalBsmtSF')\n",
    "    nameit('1stFlrSF')\n",
    "    nameit('GrLivArea')\n",
    "    nameit('BsmtFullBath')\n",
    "    nameit('FullBath')\n",
    "    nameit('BedroomAbvGr')\n",
    "    nameit('TotRmsAbvGrd')    \n",
    "    nameit('GarageYrBlt')  \n",
    "    nameit('GarageCars')  \n",
    "    nameit('GarageArea')         \n",
    "        \n",
    "    result = \"\"\n",
    "    if st.button(\"Predict\"):\n",
    "        result = prediciton(param_lst)\n",
    "    st.success('The output is {}'.format(result))\n",
    "\n",
    "if __name__=='__main__':\n",
    "    main()"
   ]
  },
  {
   "cell_type": "code",
   "execution_count": null,
   "id": "9394849d",
   "metadata": {},
   "outputs": [],
   "source": []
  },
  {
   "cell_type": "code",
   "execution_count": null,
   "id": "6a573480",
   "metadata": {},
   "outputs": [],
   "source": []
  }
 ],
 "metadata": {
  "kernelspec": {
   "display_name": "Python 3 (ipykernel)",
   "language": "python",
   "name": "python3"
  },
  "language_info": {
   "codemirror_mode": {
    "name": "ipython",
    "version": 3
   },
   "file_extension": ".py",
   "mimetype": "text/x-python",
   "name": "python",
   "nbconvert_exporter": "python",
   "pygments_lexer": "ipython3",
   "version": "3.8.10"
  },
  "toc": {
   "base_numbering": 1,
   "nav_menu": {},
   "number_sections": true,
   "sideBar": true,
   "skip_h1_title": false,
   "title_cell": "Table of Contents",
   "title_sidebar": "Contents",
   "toc_cell": false,
   "toc_position": {},
   "toc_section_display": true,
   "toc_window_display": false
  }
 },
 "nbformat": 4,
 "nbformat_minor": 5
}
